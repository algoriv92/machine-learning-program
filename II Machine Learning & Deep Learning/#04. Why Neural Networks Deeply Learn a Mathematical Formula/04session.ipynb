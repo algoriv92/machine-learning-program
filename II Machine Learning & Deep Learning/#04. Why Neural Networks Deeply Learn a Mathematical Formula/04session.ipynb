{
 "cells": [
  {
   "cell_type": "markdown",
   "metadata": {},
   "source": [
    "<font size=\"+5\">#04. Why Neural Networks Deeply Learn a Mathematical Formula?</font>"
   ]
  },
  {
   "cell_type": "markdown",
   "metadata": {},
   "source": [
    "- Book + Private Lessons [Here ↗](https://sotastica.com/reservar)\n",
    "- Subscribe to my [Blog ↗](https://blog.pythonassembly.com/)\n",
    "- Let's keep in touch on [LinkedIn ↗](www.linkedin.com/in/jsulopz) 😄"
   ]
  },
  {
   "cell_type": "markdown",
   "metadata": {
    "tags": []
   },
   "source": [
    "# Machine Learning, what does it mean?"
   ]
  },
  {
   "cell_type": "markdown",
   "metadata": {},
   "source": [
    "> - The Machine Learns...\n",
    ">\n",
    "> But, **what does it learn?**"
   ]
  },
  {
   "cell_type": "code",
   "execution_count": 1,
   "metadata": {},
   "outputs": [
    {
     "data": {
      "text/html": [
       "<blockquote class=\"twitter-tweet\" data-lang=\"en\"><p lang=\"en\" dir=\"ltr\">Machine Learning, what does it mean? ⏯<br><br>· The machine learns...<br><br>Ha ha, not funny! 🤨 What does it learn?<br><br>· A mathematical equation. For example: <a href=\"https://t.co/sjtq9F2pq7\">pic.twitter.com/sjtq9F2pq7</a></p>&mdash; Jesús López (@sotastica) <a href=\"https://twitter.com/sotastica/status/1449735653328031745?ref_src=twsrc%5Etfw\">October 17, 2021</a></blockquote> <script async src=\"https://platform.twitter.com/widgets.js\" charset=\"utf-8\"></script>\n"
      ],
      "text/plain": [
       "<IPython.core.display.HTML object>"
      ]
     },
     "metadata": {},
     "output_type": "display_data"
    }
   ],
   "source": [
    "%%HTML\n",
    "<blockquote class=\"twitter-tweet\" data-lang=\"en\"><p lang=\"en\" dir=\"ltr\">Machine Learning, what does it mean? ⏯<br><br>· The machine learns...<br><br>Ha ha, not funny! 🤨 What does it learn?<br><br>· A mathematical equation. For example: <a href=\"https://t.co/sjtq9F2pq7\">pic.twitter.com/sjtq9F2pq7</a></p>&mdash; Jesús López (@sotastica) <a href=\"https://twitter.com/sotastica/status/1449735653328031745?ref_src=twsrc%5Etfw\">October 17, 2021</a></blockquote> <script async src=\"https://platform.twitter.com/widgets.js\" charset=\"utf-8\"></script>"
   ]
  },
  {
   "cell_type": "markdown",
   "metadata": {},
   "source": [
    "# How does the Machine Learn?"
   ]
  },
  {
   "cell_type": "markdown",
   "metadata": {},
   "source": [
    "## In a Linear Regression"
   ]
  },
  {
   "cell_type": "code",
   "execution_count": 3,
   "metadata": {},
   "outputs": [
    {
     "data": {
      "text/html": [
       "<iframe width=\"560\" height=\"315\" src=\"https://www.youtube.com/embed/Ht3rYS-JilE\" title=\"YouTube video player\" frameborder=\"0\" allow=\"accelerometer; autoplay; clipboard-write; encrypted-media; gyroscope; picture-in-picture\" allowfullscreen></iframe>\n"
      ],
      "text/plain": [
       "<IPython.core.display.HTML object>"
      ]
     },
     "metadata": {},
     "output_type": "display_data"
    }
   ],
   "source": [
    "%%HTML\n",
    "<iframe width=\"560\" height=\"315\" src=\"https://www.youtube.com/embed/Ht3rYS-JilE\" title=\"YouTube video player\" frameborder=\"0\" allow=\"accelerometer; autoplay; clipboard-write; encrypted-media; gyroscope; picture-in-picture\" allowfullscreen></iframe>"
   ]
  },
  {
   "cell_type": "markdown",
   "metadata": {},
   "source": [
    "## In a Neural Network"
   ]
  },
  {
   "cell_type": "code",
   "execution_count": 2,
   "metadata": {},
   "outputs": [
    {
     "data": {
      "text/html": [
       "<iframe width=\"560\" height=\"315\" src=\"https://www.youtube.com/embed/IHZwWFHWa-w?start=329\" title=\"YouTube video player\" frameborder=\"0\" allow=\"accelerometer; autoplay; clipboard-write; encrypted-media; gyroscope; picture-in-picture\" allowfullscreen></iframe>\n"
      ],
      "text/plain": [
       "<IPython.core.display.HTML object>"
      ]
     },
     "metadata": {},
     "output_type": "display_data"
    }
   ],
   "source": [
    "%%HTML\n",
    "<iframe width=\"560\" height=\"315\" src=\"https://www.youtube.com/embed/IHZwWFHWa-w?start=329\" title=\"YouTube video player\" frameborder=\"0\" allow=\"accelerometer; autoplay; clipboard-write; encrypted-media; gyroscope; picture-in-picture\" allowfullscreen></iframe>"
   ]
  },
  {
   "cell_type": "markdown",
   "metadata": {},
   "source": [
    "A Practical Example → [Tesla Autopilot](https://www.tesla.com/AI)"
   ]
  },
  {
   "cell_type": "markdown",
   "metadata": {},
   "source": [
    "An Example where It Fails → [Tesla Confuses Moon with Semaphore](https://twitter.com/Carnage4Life/status/1418920100086784000?s=20)"
   ]
  },
  {
   "cell_type": "markdown",
   "metadata": {},
   "source": [
    "# Load the Data"
   ]
  },
  {
   "cell_type": "markdown",
   "metadata": {},
   "source": [
    "> - Simply execute the following lines of code to load the data.\n",
    "> - This dataset contains **statistics about Car Accidents** (columns)\n",
    "> - In each one of **USA States** (rows)"
   ]
  },
  {
   "cell_type": "markdown",
   "metadata": {},
   "source": [
    "https://www.kaggle.com/fivethirtyeight/fivethirtyeight-bad-drivers-dataset/"
   ]
  },
  {
   "cell_type": "code",
   "execution_count": 4,
   "metadata": {},
   "outputs": [
    {
     "data": {
      "text/html": [
       "<div>\n",
       "<style scoped>\n",
       "    .dataframe tbody tr th:only-of-type {\n",
       "        vertical-align: middle;\n",
       "    }\n",
       "\n",
       "    .dataframe tbody tr th {\n",
       "        vertical-align: top;\n",
       "    }\n",
       "\n",
       "    .dataframe thead th {\n",
       "        text-align: right;\n",
       "    }\n",
       "</style>\n",
       "<table border=\"1\" class=\"dataframe\">\n",
       "  <thead>\n",
       "    <tr style=\"text-align: right;\">\n",
       "      <th></th>\n",
       "      <th>total</th>\n",
       "      <th>speeding</th>\n",
       "      <th>alcohol</th>\n",
       "      <th>not_distracted</th>\n",
       "      <th>no_previous</th>\n",
       "      <th>ins_premium</th>\n",
       "      <th>ins_losses</th>\n",
       "    </tr>\n",
       "    <tr>\n",
       "      <th>abbrev</th>\n",
       "      <th></th>\n",
       "      <th></th>\n",
       "      <th></th>\n",
       "      <th></th>\n",
       "      <th></th>\n",
       "      <th></th>\n",
       "      <th></th>\n",
       "    </tr>\n",
       "  </thead>\n",
       "  <tbody>\n",
       "    <tr>\n",
       "      <th>AZ</th>\n",
       "      <td>18.6</td>\n",
       "      <td>6.510</td>\n",
       "      <td>5.208</td>\n",
       "      <td>15.624</td>\n",
       "      <td>17.856</td>\n",
       "      <td>899.47</td>\n",
       "      <td>110.35</td>\n",
       "    </tr>\n",
       "    <tr>\n",
       "      <th>AR</th>\n",
       "      <td>22.4</td>\n",
       "      <td>4.032</td>\n",
       "      <td>5.824</td>\n",
       "      <td>21.056</td>\n",
       "      <td>21.280</td>\n",
       "      <td>827.34</td>\n",
       "      <td>142.39</td>\n",
       "    </tr>\n",
       "    <tr>\n",
       "      <th>HI</th>\n",
       "      <td>17.5</td>\n",
       "      <td>9.450</td>\n",
       "      <td>7.175</td>\n",
       "      <td>14.350</td>\n",
       "      <td>15.225</td>\n",
       "      <td>861.18</td>\n",
       "      <td>120.92</td>\n",
       "    </tr>\n",
       "    <tr>\n",
       "      <th>VT</th>\n",
       "      <td>13.6</td>\n",
       "      <td>4.080</td>\n",
       "      <td>4.080</td>\n",
       "      <td>13.056</td>\n",
       "      <td>12.920</td>\n",
       "      <td>716.20</td>\n",
       "      <td>109.61</td>\n",
       "    </tr>\n",
       "    <tr>\n",
       "      <th>AL</th>\n",
       "      <td>18.8</td>\n",
       "      <td>7.332</td>\n",
       "      <td>5.640</td>\n",
       "      <td>18.048</td>\n",
       "      <td>15.040</td>\n",
       "      <td>784.55</td>\n",
       "      <td>145.08</td>\n",
       "    </tr>\n",
       "  </tbody>\n",
       "</table>\n",
       "</div>"
      ],
      "text/plain": [
       "        total  speeding  alcohol  not_distracted  no_previous  ins_premium  \\\n",
       "abbrev                                                                       \n",
       "AZ       18.6     6.510    5.208          15.624       17.856       899.47   \n",
       "AR       22.4     4.032    5.824          21.056       21.280       827.34   \n",
       "HI       17.5     9.450    7.175          14.350       15.225       861.18   \n",
       "VT       13.6     4.080    4.080          13.056       12.920       716.20   \n",
       "AL       18.8     7.332    5.640          18.048       15.040       784.55   \n",
       "\n",
       "        ins_losses  \n",
       "abbrev              \n",
       "AZ          110.35  \n",
       "AR          142.39  \n",
       "HI          120.92  \n",
       "VT          109.61  \n",
       "AL          145.08  "
      ]
     },
     "execution_count": 4,
     "metadata": {},
     "output_type": "execute_result"
    }
   ],
   "source": [
    "import seaborn as sns\n",
    "\n",
    "df = sns.load_dataset(name='car_crashes', index_col='abbrev')\n",
    "df.sample(5)"
   ]
  },
  {
   "cell_type": "markdown",
   "metadata": {},
   "source": [
    "# Neural Network Concepts in Python"
   ]
  },
  {
   "cell_type": "markdown",
   "metadata": {},
   "source": [
    "## Initializing the `Weights`"
   ]
  },
  {
   "cell_type": "markdown",
   "metadata": {},
   "source": [
    "> - https://keras.io/api/layers/initializers/"
   ]
  },
  {
   "cell_type": "markdown",
   "metadata": {},
   "source": [
    "### How to `kernel_initializer` the weights?"
   ]
  },
  {
   "cell_type": "markdown",
   "metadata": {},
   "source": [
    "$$\n",
    "accidents = speeding \\cdot w_1 + alcohol \\cdot w_2 \\ + ... + \\ ins\\_losses \\cdot w_7\n",
    "$$"
   ]
  },
  {
   "cell_type": "code",
   "execution_count": 5,
   "metadata": {},
   "outputs": [],
   "source": [
    "from tensorflow.keras import Sequential, Input\n",
    "from tensorflow.keras.layers import Dense"
   ]
  },
  {
   "cell_type": "code",
   "execution_count": 6,
   "metadata": {},
   "outputs": [
    {
     "data": {
      "text/plain": [
       "(51, 7)"
      ]
     },
     "execution_count": 6,
     "metadata": {},
     "output_type": "execute_result"
    }
   ],
   "source": [
    "df.shape"
   ]
  },
  {
   "cell_type": "code",
   "execution_count": 7,
   "metadata": {},
   "outputs": [],
   "source": [
    "model = Sequential()\n",
    "model.add(layer=Input(shape=(6,)))\n",
    "model.add(layer=Dense(units=3, kernel_initializer='zeros'))\n",
    "model.add(layer=Dense(units=1))"
   ]
  },
  {
   "cell_type": "markdown",
   "metadata": {},
   "source": [
    "#### Make a Prediction with the Neural Network"
   ]
  },
  {
   "cell_type": "markdown",
   "metadata": {},
   "source": [
    "> - Can we make a prediction for for `Washington DC` accidents\n",
    "> - With the already initialized Mathematical Equation?"
   ]
  },
  {
   "cell_type": "code",
   "execution_count": 8,
   "metadata": {},
   "outputs": [],
   "source": [
    "X = df.drop(columns='total')\n",
    "y = df.total"
   ]
  },
  {
   "cell_type": "code",
   "execution_count": 9,
   "metadata": {},
   "outputs": [],
   "source": [
    "AL = X[:1]"
   ]
  },
  {
   "cell_type": "code",
   "execution_count": 10,
   "metadata": {},
   "outputs": [
    {
     "data": {
      "text/html": [
       "<div>\n",
       "<style scoped>\n",
       "    .dataframe tbody tr th:only-of-type {\n",
       "        vertical-align: middle;\n",
       "    }\n",
       "\n",
       "    .dataframe tbody tr th {\n",
       "        vertical-align: top;\n",
       "    }\n",
       "\n",
       "    .dataframe thead th {\n",
       "        text-align: right;\n",
       "    }\n",
       "</style>\n",
       "<table border=\"1\" class=\"dataframe\">\n",
       "  <thead>\n",
       "    <tr style=\"text-align: right;\">\n",
       "      <th></th>\n",
       "      <th>speeding</th>\n",
       "      <th>alcohol</th>\n",
       "      <th>not_distracted</th>\n",
       "      <th>no_previous</th>\n",
       "      <th>ins_premium</th>\n",
       "      <th>ins_losses</th>\n",
       "    </tr>\n",
       "    <tr>\n",
       "      <th>abbrev</th>\n",
       "      <th></th>\n",
       "      <th></th>\n",
       "      <th></th>\n",
       "      <th></th>\n",
       "      <th></th>\n",
       "      <th></th>\n",
       "    </tr>\n",
       "  </thead>\n",
       "  <tbody>\n",
       "    <tr>\n",
       "      <th>AL</th>\n",
       "      <td>7.332</td>\n",
       "      <td>5.64</td>\n",
       "      <td>18.048</td>\n",
       "      <td>15.04</td>\n",
       "      <td>784.55</td>\n",
       "      <td>145.08</td>\n",
       "    </tr>\n",
       "  </tbody>\n",
       "</table>\n",
       "</div>"
      ],
      "text/plain": [
       "        speeding  alcohol  not_distracted  no_previous  ins_premium  \\\n",
       "abbrev                                                                \n",
       "AL         7.332     5.64          18.048        15.04       784.55   \n",
       "\n",
       "        ins_losses  \n",
       "abbrev              \n",
       "AL          145.08  "
      ]
     },
     "execution_count": 10,
     "metadata": {},
     "output_type": "execute_result"
    }
   ],
   "source": [
    "AL"
   ]
  },
  {
   "cell_type": "code",
   "execution_count": null,
   "metadata": {},
   "outputs": [],
   "source": []
  },
  {
   "cell_type": "markdown",
   "metadata": {},
   "source": [
    "#### Observe the numbers for the `weights`"
   ]
  },
  {
   "cell_type": "code",
   "execution_count": 11,
   "metadata": {},
   "outputs": [
    {
     "data": {
      "text/plain": [
       "[array([[0., 0., 0.],\n",
       "        [0., 0., 0.],\n",
       "        [0., 0., 0.],\n",
       "        [0., 0., 0.],\n",
       "        [0., 0., 0.],\n",
       "        [0., 0., 0.]], dtype=float32),\n",
       " array([0., 0., 0.], dtype=float32),\n",
       " array([[ 0.3908887],\n",
       "        [-0.4647649],\n",
       "        [ 0.3610624]], dtype=float32),\n",
       " array([0.], dtype=float32)]"
      ]
     },
     "execution_count": 11,
     "metadata": {},
     "output_type": "execute_result"
    }
   ],
   "source": [
    "model.get_weights()"
   ]
  },
  {
   "cell_type": "markdown",
   "metadata": {},
   "source": [
    "#### Predictions vs Reality"
   ]
  },
  {
   "cell_type": "markdown",
   "metadata": {},
   "source": [
    "> 1. Calculate the Predicted Accidents and\n",
    "> 2. Compare it with the Real Total Accidents"
   ]
  },
  {
   "cell_type": "code",
   "execution_count": 12,
   "metadata": {},
   "outputs": [],
   "source": [
    "dfsel = df[['total']].copy()"
   ]
  },
  {
   "cell_type": "code",
   "execution_count": 13,
   "metadata": {},
   "outputs": [],
   "source": [
    "dfsel['pred_init_0'] = model.predict(X)"
   ]
  },
  {
   "cell_type": "code",
   "execution_count": 14,
   "metadata": {},
   "outputs": [
    {
     "data": {
      "text/html": [
       "<div>\n",
       "<style scoped>\n",
       "    .dataframe tbody tr th:only-of-type {\n",
       "        vertical-align: middle;\n",
       "    }\n",
       "\n",
       "    .dataframe tbody tr th {\n",
       "        vertical-align: top;\n",
       "    }\n",
       "\n",
       "    .dataframe thead th {\n",
       "        text-align: right;\n",
       "    }\n",
       "</style>\n",
       "<table border=\"1\" class=\"dataframe\">\n",
       "  <thead>\n",
       "    <tr style=\"text-align: right;\">\n",
       "      <th></th>\n",
       "      <th>total</th>\n",
       "      <th>pred_init_0</th>\n",
       "    </tr>\n",
       "    <tr>\n",
       "      <th>abbrev</th>\n",
       "      <th></th>\n",
       "      <th></th>\n",
       "    </tr>\n",
       "  </thead>\n",
       "  <tbody>\n",
       "    <tr>\n",
       "      <th>AL</th>\n",
       "      <td>18.8</td>\n",
       "      <td>0.0</td>\n",
       "    </tr>\n",
       "    <tr>\n",
       "      <th>AK</th>\n",
       "      <td>18.1</td>\n",
       "      <td>0.0</td>\n",
       "    </tr>\n",
       "    <tr>\n",
       "      <th>AZ</th>\n",
       "      <td>18.6</td>\n",
       "      <td>0.0</td>\n",
       "    </tr>\n",
       "    <tr>\n",
       "      <th>AR</th>\n",
       "      <td>22.4</td>\n",
       "      <td>0.0</td>\n",
       "    </tr>\n",
       "    <tr>\n",
       "      <th>CA</th>\n",
       "      <td>12.0</td>\n",
       "      <td>0.0</td>\n",
       "    </tr>\n",
       "  </tbody>\n",
       "</table>\n",
       "</div>"
      ],
      "text/plain": [
       "        total  pred_init_0\n",
       "abbrev                    \n",
       "AL       18.8          0.0\n",
       "AK       18.1          0.0\n",
       "AZ       18.6          0.0\n",
       "AR       22.4          0.0\n",
       "CA       12.0          0.0"
      ]
     },
     "execution_count": 14,
     "metadata": {},
     "output_type": "execute_result"
    }
   ],
   "source": [
    "dfsel.head()"
   ]
  },
  {
   "cell_type": "markdown",
   "metadata": {},
   "source": [
    "#### `fit()` the `model` and compare again"
   ]
  },
  {
   "cell_type": "code",
   "execution_count": 15,
   "metadata": {},
   "outputs": [],
   "source": [
    "model.compile(loss='mse', metrics=['mse'])"
   ]
  },
  {
   "cell_type": "code",
   "execution_count": 16,
   "metadata": {
    "tags": []
   },
   "outputs": [
    {
     "name": "stdout",
     "output_type": "stream",
     "text": [
      "Epoch 1/500\n",
      "2/2 [==============================] - 0s 2ms/step - loss: 223.4234 - mse: 223.4234\n",
      "Epoch 2/500\n",
      "2/2 [==============================] - 0s 3ms/step - loss: 91.6587 - mse: 91.6587\n",
      "Epoch 3/500\n",
      "2/2 [==============================] - 0s 3ms/step - loss: 51.3736 - mse: 51.3736\n",
      "Epoch 4/500\n",
      "2/2 [==============================] - 0s 2ms/step - loss: 35.3931 - mse: 35.3931\n",
      "Epoch 5/500\n",
      "2/2 [==============================] - 0s 3ms/step - loss: 29.7287 - mse: 29.7287\n",
      "Epoch 6/500\n",
      "2/2 [==============================] - 0s 2ms/step - loss: 28.1550 - mse: 28.1550\n",
      "Epoch 7/500\n",
      "2/2 [==============================] - 0s 3ms/step - loss: 27.9700 - mse: 27.9700\n",
      "Epoch 8/500\n",
      "2/2 [==============================] - 0s 2ms/step - loss: 27.6295 - mse: 27.6295\n",
      "Epoch 9/500\n",
      "2/2 [==============================] - 0s 2ms/step - loss: 27.1643 - mse: 27.1643\n",
      "Epoch 10/500\n",
      "2/2 [==============================] - 0s 2ms/step - loss: 26.8238 - mse: 26.8238\n",
      "Epoch 11/500\n",
      "2/2 [==============================] - 0s 2ms/step - loss: 26.5793 - mse: 26.5793\n",
      "Epoch 12/500\n",
      "2/2 [==============================] - 0s 3ms/step - loss: 26.3860 - mse: 26.3860\n",
      "Epoch 13/500\n",
      "2/2 [==============================] - 0s 2ms/step - loss: 26.1750 - mse: 26.1750\n",
      "Epoch 14/500\n",
      "2/2 [==============================] - 0s 2ms/step - loss: 26.0391 - mse: 26.0391\n",
      "Epoch 15/500\n",
      "2/2 [==============================] - 0s 3ms/step - loss: 25.7633 - mse: 25.7633\n",
      "Epoch 16/500\n",
      "2/2 [==============================] - 0s 109ms/step - loss: 26.2183 - mse: 26.2183\n",
      "Epoch 17/500\n",
      "2/2 [==============================] - 0s 2ms/step - loss: 25.7351 - mse: 25.7351\n",
      "Epoch 18/500\n",
      "2/2 [==============================] - 0s 2ms/step - loss: 25.2765 - mse: 25.2765\n",
      "Epoch 19/500\n",
      "2/2 [==============================] - 0s 2ms/step - loss: 24.6950 - mse: 24.6950\n",
      "Epoch 20/500\n",
      "2/2 [==============================] - 0s 2ms/step - loss: 29.3562 - mse: 29.3562\n",
      "Epoch 21/500\n",
      "2/2 [==============================] - 0s 4ms/step - loss: 25.3571 - mse: 25.3571\n",
      "Epoch 22/500\n",
      "2/2 [==============================] - 0s 2ms/step - loss: 24.0434 - mse: 24.0434\n",
      "Epoch 23/500\n",
      "2/2 [==============================] - 0s 3ms/step - loss: 24.0151 - mse: 24.0151\n",
      "Epoch 24/500\n",
      "2/2 [==============================] - 0s 2ms/step - loss: 24.1800 - mse: 24.1800\n",
      "Epoch 25/500\n",
      "2/2 [==============================] - 0s 2ms/step - loss: 24.9312 - mse: 24.9312\n",
      "Epoch 26/500\n",
      "2/2 [==============================] - 0s 3ms/step - loss: 23.5808 - mse: 23.5808\n",
      "Epoch 27/500\n",
      "2/2 [==============================] - 0s 3ms/step - loss: 22.9045 - mse: 22.9045\n",
      "Epoch 28/500\n",
      "2/2 [==============================] - 0s 3ms/step - loss: 22.8207 - mse: 22.8207\n",
      "Epoch 29/500\n",
      "2/2 [==============================] - 0s 3ms/step - loss: 22.1177 - mse: 22.1177\n",
      "Epoch 30/500\n",
      "2/2 [==============================] - 0s 2ms/step - loss: 21.9619 - mse: 21.9619\n",
      "Epoch 31/500\n",
      "2/2 [==============================] - 0s 2ms/step - loss: 21.7318 - mse: 21.7318\n",
      "Epoch 32/500\n",
      "2/2 [==============================] - 0s 3ms/step - loss: 21.1937 - mse: 21.1937\n",
      "Epoch 33/500\n",
      "2/2 [==============================] - 0s 2ms/step - loss: 21.2524 - mse: 21.2524\n",
      "Epoch 34/500\n",
      "2/2 [==============================] - 0s 2ms/step - loss: 23.6922 - mse: 23.6922\n",
      "Epoch 35/500\n",
      "2/2 [==============================] - 0s 3ms/step - loss: 20.4716 - mse: 20.4716\n",
      "Epoch 36/500\n",
      "2/2 [==============================] - 0s 2ms/step - loss: 20.9808 - mse: 20.9808\n",
      "Epoch 37/500\n",
      "2/2 [==============================] - 0s 2ms/step - loss: 19.7745 - mse: 19.7745\n",
      "Epoch 38/500\n",
      "2/2 [==============================] - 0s 3ms/step - loss: 19.4733 - mse: 19.4733\n",
      "Epoch 39/500\n",
      "2/2 [==============================] - 0s 2ms/step - loss: 19.2143 - mse: 19.2143\n",
      "Epoch 40/500\n",
      "2/2 [==============================] - 0s 3ms/step - loss: 19.1718 - mse: 19.1718\n",
      "Epoch 41/500\n",
      "2/2 [==============================] - 0s 1ms/step - loss: 18.6713 - mse: 18.6713\n",
      "Epoch 42/500\n",
      "2/2 [==============================] - 0s 2ms/step - loss: 18.2215 - mse: 18.2215\n",
      "Epoch 43/500\n",
      "2/2 [==============================] - 0s 3ms/step - loss: 18.5966 - mse: 18.5966\n",
      "Epoch 44/500\n",
      "2/2 [==============================] - 0s 2ms/step - loss: 20.9229 - mse: 20.9229\n",
      "Epoch 45/500\n",
      "2/2 [==============================] - 0s 2ms/step - loss: 19.1039 - mse: 19.1039\n",
      "Epoch 46/500\n",
      "2/2 [==============================] - 0s 2ms/step - loss: 18.1648 - mse: 18.1648\n",
      "Epoch 47/500\n",
      "2/2 [==============================] - 0s 2ms/step - loss: 18.7266 - mse: 18.7266\n",
      "Epoch 48/500\n",
      "2/2 [==============================] - 0s 2ms/step - loss: 17.3286 - mse: 17.3286\n",
      "Epoch 49/500\n",
      "2/2 [==============================] - 0s 2ms/step - loss: 18.6078 - mse: 18.6078\n",
      "Epoch 50/500\n",
      "2/2 [==============================] - 0s 2ms/step - loss: 17.2675 - mse: 17.2675\n",
      "Epoch 51/500\n",
      "2/2 [==============================] - 0s 2ms/step - loss: 17.6037 - mse: 17.6037\n",
      "Epoch 52/500\n",
      "2/2 [==============================] - 0s 1ms/step - loss: 16.1746 - mse: 16.1746\n",
      "Epoch 53/500\n",
      "2/2 [==============================] - 0s 3ms/step - loss: 15.7425 - mse: 15.7425\n",
      "Epoch 54/500\n",
      "2/2 [==============================] - 0s 2ms/step - loss: 16.4580 - mse: 16.4580\n",
      "Epoch 55/500\n",
      "2/2 [==============================] - 0s 999us/step - loss: 16.6418 - mse: 16.6418\n",
      "Epoch 56/500\n",
      "2/2 [==============================] - 0s 2ms/step - loss: 15.4239 - mse: 15.4239\n",
      "Epoch 57/500\n",
      "2/2 [==============================] - 0s 2ms/step - loss: 16.7868 - mse: 16.7868\n",
      "Epoch 58/500\n",
      "2/2 [==============================] - 0s 3ms/step - loss: 15.5330 - mse: 15.5330\n",
      "Epoch 59/500\n",
      "2/2 [==============================] - 0s 1ms/step - loss: 18.9599 - mse: 18.9599\n",
      "Epoch 60/500\n",
      "2/2 [==============================] - 0s 2ms/step - loss: 15.7547 - mse: 15.7547\n",
      "Epoch 61/500\n",
      "2/2 [==============================] - 0s 2ms/step - loss: 14.4098 - mse: 14.4098\n",
      "Epoch 62/500\n",
      "2/2 [==============================] - 0s 2ms/step - loss: 14.4406 - mse: 14.4406\n",
      "Epoch 63/500\n",
      "2/2 [==============================] - 0s 2ms/step - loss: 13.9920 - mse: 13.9920\n",
      "Epoch 64/500\n",
      "2/2 [==============================] - 0s 2ms/step - loss: 13.9598 - mse: 13.9598\n",
      "Epoch 65/500\n",
      "2/2 [==============================] - 0s 3ms/step - loss: 13.4235 - mse: 13.4235\n",
      "Epoch 66/500\n",
      "2/2 [==============================] - 0s 1ms/step - loss: 13.4083 - mse: 13.4083\n",
      "Epoch 67/500\n",
      "2/2 [==============================] - 0s 1000us/step - loss: 13.0145 - mse: 13.0145\n",
      "Epoch 68/500\n",
      "2/2 [==============================] - 0s 2ms/step - loss: 12.8375 - mse: 12.8375\n",
      "Epoch 69/500\n",
      "2/2 [==============================] - 0s 2ms/step - loss: 12.8245 - mse: 12.8245\n",
      "Epoch 70/500\n",
      "2/2 [==============================] - 0s 2ms/step - loss: 12.3437 - mse: 12.3437\n",
      "Epoch 71/500\n",
      "2/2 [==============================] - 0s 1ms/step - loss: 15.2134 - mse: 15.2134\n",
      "Epoch 72/500\n",
      "2/2 [==============================] - 0s 999us/step - loss: 13.2144 - mse: 13.2144\n",
      "Epoch 73/500\n",
      "2/2 [==============================] - 0s 2ms/step - loss: 13.4025 - mse: 13.4025\n",
      "Epoch 74/500\n",
      "2/2 [==============================] - 0s 2ms/step - loss: 13.6797 - mse: 13.6797\n",
      "Epoch 75/500\n",
      "2/2 [==============================] - 0s 3ms/step - loss: 12.5345 - mse: 12.5345\n",
      "Epoch 76/500\n",
      "2/2 [==============================] - 0s 3ms/step - loss: 11.5290 - mse: 11.5290\n",
      "Epoch 77/500\n",
      "2/2 [==============================] - 0s 2ms/step - loss: 11.0043 - mse: 11.0043\n",
      "Epoch 78/500\n",
      "2/2 [==============================] - 0s 2ms/step - loss: 11.2045 - mse: 11.2045\n",
      "Epoch 79/500\n",
      "2/2 [==============================] - 0s 2ms/step - loss: 11.5361 - mse: 11.5361\n",
      "Epoch 80/500\n",
      "2/2 [==============================] - 0s 3ms/step - loss: 12.7124 - mse: 12.7124\n",
      "Epoch 81/500\n",
      "2/2 [==============================] - 0s 3ms/step - loss: 10.6347 - mse: 10.6347\n",
      "Epoch 82/500\n",
      "2/2 [==============================] - 0s 2ms/step - loss: 11.8095 - mse: 11.8095\n",
      "Epoch 83/500\n",
      "2/2 [==============================] - 0s 2ms/step - loss: 10.1878 - mse: 10.1878\n",
      "Epoch 84/500\n",
      "2/2 [==============================] - 0s 2ms/step - loss: 10.6760 - mse: 10.6760\n",
      "Epoch 85/500\n",
      "2/2 [==============================] - 0s 2ms/step - loss: 11.1533 - mse: 11.1533\n",
      "Epoch 86/500\n",
      "2/2 [==============================] - 0s 2ms/step - loss: 11.3424 - mse: 11.3424\n",
      "Epoch 87/500\n"
     ]
    },
    {
     "name": "stdout",
     "output_type": "stream",
     "text": [
      "2/2 [==============================] - 0s 2ms/step - loss: 11.3956 - mse: 11.3956\n",
      "Epoch 88/500\n",
      "2/2 [==============================] - 0s 2ms/step - loss: 9.6436 - mse: 9.6436\n",
      "Epoch 89/500\n",
      "2/2 [==============================] - 0s 2ms/step - loss: 9.7172 - mse: 9.7172\n",
      "Epoch 90/500\n",
      "2/2 [==============================] - 0s 2ms/step - loss: 9.6811 - mse: 9.6811\n",
      "Epoch 91/500\n",
      "2/2 [==============================] - 0s 2ms/step - loss: 8.9919 - mse: 8.9919\n",
      "Epoch 92/500\n",
      "2/2 [==============================] - 0s 1ms/step - loss: 8.8449 - mse: 8.8449\n",
      "Epoch 93/500\n",
      "2/2 [==============================] - 0s 2ms/step - loss: 9.2316 - mse: 9.2316\n",
      "Epoch 94/500\n",
      "2/2 [==============================] - 0s 2ms/step - loss: 11.7351 - mse: 11.7351\n",
      "Epoch 95/500\n",
      "2/2 [==============================] - 0s 3ms/step - loss: 11.1685 - mse: 11.1685\n",
      "Epoch 96/500\n",
      "2/2 [==============================] - 0s 2ms/step - loss: 8.4712 - mse: 8.4712\n",
      "Epoch 97/500\n",
      "2/2 [==============================] - 0s 2ms/step - loss: 8.1356 - mse: 8.1356\n",
      "Epoch 98/500\n",
      "2/2 [==============================] - 0s 2ms/step - loss: 8.1014 - mse: 8.1014\n",
      "Epoch 99/500\n",
      "2/2 [==============================] - 0s 2ms/step - loss: 8.0959 - mse: 8.0959\n",
      "Epoch 100/500\n",
      "2/2 [==============================] - 0s 3ms/step - loss: 7.7860 - mse: 7.7860\n",
      "Epoch 101/500\n",
      "2/2 [==============================] - 0s 2ms/step - loss: 8.9860 - mse: 8.9860\n",
      "Epoch 102/500\n",
      "2/2 [==============================] - 0s 1ms/step - loss: 7.8653 - mse: 7.8653\n",
      "Epoch 103/500\n",
      "2/2 [==============================] - 0s 2ms/step - loss: 8.2005 - mse: 8.2005\n",
      "Epoch 104/500\n",
      "2/2 [==============================] - 0s 2ms/step - loss: 8.2157 - mse: 8.2157\n",
      "Epoch 105/500\n",
      "2/2 [==============================] - 0s 1ms/step - loss: 8.6264 - mse: 8.6264\n",
      "Epoch 106/500\n",
      "2/2 [==============================] - 0s 3ms/step - loss: 7.2269 - mse: 7.2269\n",
      "Epoch 107/500\n",
      "2/2 [==============================] - 0s 3ms/step - loss: 9.6025 - mse: 9.6025\n",
      "Epoch 108/500\n",
      "2/2 [==============================] - 0s 2ms/step - loss: 7.1010 - mse: 7.1010\n",
      "Epoch 109/500\n",
      "2/2 [==============================] - 0s 2ms/step - loss: 6.5702 - mse: 6.5702\n",
      "Epoch 110/500\n",
      "2/2 [==============================] - 0s 2ms/step - loss: 6.6400 - mse: 6.6400\n",
      "Epoch 111/500\n",
      "2/2 [==============================] - 0s 2ms/step - loss: 7.0728 - mse: 7.0728\n",
      "Epoch 112/500\n",
      "2/2 [==============================] - 0s 2ms/step - loss: 6.7713 - mse: 6.7713\n",
      "Epoch 113/500\n",
      "2/2 [==============================] - 0s 2ms/step - loss: 7.0134 - mse: 7.0134\n",
      "Epoch 114/500\n",
      "2/2 [==============================] - 0s 3ms/step - loss: 7.7776 - mse: 7.7776\n",
      "Epoch 115/500\n",
      "2/2 [==============================] - 0s 2ms/step - loss: 6.0244 - mse: 6.0244\n",
      "Epoch 116/500\n",
      "2/2 [==============================] - 0s 997us/step - loss: 6.3106 - mse: 6.3106\n",
      "Epoch 117/500\n",
      "2/2 [==============================] - 0s 2ms/step - loss: 5.9690 - mse: 5.9690\n",
      "Epoch 118/500\n",
      "2/2 [==============================] - 0s 2ms/step - loss: 6.0648 - mse: 6.0648\n",
      "Epoch 119/500\n",
      "2/2 [==============================] - 0s 2ms/step - loss: 5.6426 - mse: 5.6426\n",
      "Epoch 120/500\n",
      "2/2 [==============================] - 0s 2ms/step - loss: 6.0739 - mse: 6.0739\n",
      "Epoch 121/500\n",
      "2/2 [==============================] - 0s 2ms/step - loss: 6.0519 - mse: 6.0519\n",
      "Epoch 122/500\n",
      "2/2 [==============================] - 0s 2ms/step - loss: 5.3417 - mse: 5.3417\n",
      "Epoch 123/500\n",
      "2/2 [==============================] - 0s 2ms/step - loss: 5.2155 - mse: 5.2155\n",
      "Epoch 124/500\n",
      "2/2 [==============================] - 0s 2ms/step - loss: 4.9547 - mse: 4.9547\n",
      "Epoch 125/500\n",
      "2/2 [==============================] - 0s 1ms/step - loss: 5.4695 - mse: 5.4695\n",
      "Epoch 126/500\n",
      "2/2 [==============================] - 0s 1ms/step - loss: 11.6691 - mse: 11.6691\n",
      "Epoch 127/500\n",
      "2/2 [==============================] - 0s 999us/step - loss: 5.0494 - mse: 5.0494\n",
      "Epoch 128/500\n",
      "2/2 [==============================] - 0s 2ms/step - loss: 5.3828 - mse: 5.3828\n",
      "Epoch 129/500\n",
      "2/2 [==============================] - 0s 2ms/step - loss: 6.2775 - mse: 6.2775\n",
      "Epoch 130/500\n",
      "2/2 [==============================] - 0s 2ms/step - loss: 4.6542 - mse: 4.6542\n",
      "Epoch 131/500\n",
      "2/2 [==============================] - 0s 2ms/step - loss: 4.8437 - mse: 4.8437\n",
      "Epoch 132/500\n",
      "2/2 [==============================] - 0s 2ms/step - loss: 6.8112 - mse: 6.8112\n",
      "Epoch 133/500\n",
      "2/2 [==============================] - 0s 1ms/step - loss: 4.9599 - mse: 4.9599\n",
      "Epoch 134/500\n",
      "2/2 [==============================] - 0s 3ms/step - loss: 4.6994 - mse: 4.6994\n",
      "Epoch 135/500\n",
      "2/2 [==============================] - 0s 3ms/step - loss: 4.8454 - mse: 4.8454\n",
      "Epoch 136/500\n",
      "2/2 [==============================] - 0s 2ms/step - loss: 4.1434 - mse: 4.1434\n",
      "Epoch 137/500\n",
      "2/2 [==============================] - 0s 3ms/step - loss: 4.1545 - mse: 4.1545\n",
      "Epoch 138/500\n",
      "2/2 [==============================] - 0s 3ms/step - loss: 4.0660 - mse: 4.0660\n",
      "Epoch 139/500\n",
      "2/2 [==============================] - 0s 2ms/step - loss: 5.9059 - mse: 5.9059\n",
      "Epoch 140/500\n",
      "2/2 [==============================] - 0s 3ms/step - loss: 5.9222 - mse: 5.9222\n",
      "Epoch 141/500\n",
      "2/2 [==============================] - 0s 2ms/step - loss: 3.9664 - mse: 3.9664\n",
      "Epoch 142/500\n",
      "2/2 [==============================] - 0s 2ms/step - loss: 3.9249 - mse: 3.9249\n",
      "Epoch 143/500\n",
      "2/2 [==============================] - 0s 2ms/step - loss: 5.0754 - mse: 5.0754\n",
      "Epoch 144/500\n",
      "2/2 [==============================] - 0s 2ms/step - loss: 3.7806 - mse: 3.7806\n",
      "Epoch 145/500\n",
      "2/2 [==============================] - 0s 2ms/step - loss: 4.8368 - mse: 4.8368\n",
      "Epoch 146/500\n",
      "2/2 [==============================] - 0s 2ms/step - loss: 4.8102 - mse: 4.8102\n",
      "Epoch 147/500\n",
      "2/2 [==============================] - 0s 2ms/step - loss: 4.3442 - mse: 4.3442\n",
      "Epoch 148/500\n",
      "2/2 [==============================] - 0s 1ms/step - loss: 4.6867 - mse: 4.6867\n",
      "Epoch 149/500\n",
      "2/2 [==============================] - 0s 2ms/step - loss: 3.6423 - mse: 3.6423\n",
      "Epoch 150/500\n",
      "2/2 [==============================] - 0s 2ms/step - loss: 3.3451 - mse: 3.3451\n",
      "Epoch 151/500\n",
      "2/2 [==============================] - 0s 2ms/step - loss: 3.3389 - mse: 3.3389\n",
      "Epoch 152/500\n",
      "2/2 [==============================] - 0s 999us/step - loss: 3.6780 - mse: 3.6780\n",
      "Epoch 153/500\n",
      "2/2 [==============================] - 0s 2ms/step - loss: 5.3239 - mse: 5.3239\n",
      "Epoch 154/500\n",
      "2/2 [==============================] - 0s 2ms/step - loss: 4.1690 - mse: 4.1690\n",
      "Epoch 155/500\n",
      "2/2 [==============================] - 0s 2ms/step - loss: 3.9175 - mse: 3.9175\n",
      "Epoch 156/500\n",
      "2/2 [==============================] - 0s 1ms/step - loss: 4.6087 - mse: 4.6087\n",
      "Epoch 157/500\n",
      "2/2 [==============================] - 0s 2ms/step - loss: 4.0678 - mse: 4.0678\n",
      "Epoch 158/500\n",
      "2/2 [==============================] - 0s 2ms/step - loss: 3.4329 - mse: 3.4329\n",
      "Epoch 159/500\n",
      "2/2 [==============================] - 0s 2ms/step - loss: 2.9773 - mse: 2.9773\n",
      "Epoch 160/500\n",
      "2/2 [==============================] - 0s 2ms/step - loss: 2.9773 - mse: 2.9773\n",
      "Epoch 161/500\n",
      "2/2 [==============================] - 0s 2ms/step - loss: 3.7099 - mse: 3.7099\n",
      "Epoch 162/500\n",
      "2/2 [==============================] - 0s 7ms/step - loss: 5.0786 - mse: 5.0786\n",
      "Epoch 163/500\n",
      "2/2 [==============================] - 0s 3ms/step - loss: 2.8486 - mse: 2.8486\n",
      "Epoch 164/500\n",
      "2/2 [==============================] - 0s 5ms/step - loss: 2.9568 - mse: 2.9568\n",
      "Epoch 165/500\n",
      "2/2 [==============================] - 0s 2ms/step - loss: 4.9913 - mse: 4.9913\n",
      "Epoch 166/500\n",
      "2/2 [==============================] - 0s 3ms/step - loss: 3.9906 - mse: 3.9906\n",
      "Epoch 167/500\n",
      "2/2 [==============================] - 0s 3ms/step - loss: 3.3610 - mse: 3.3610\n",
      "Epoch 168/500\n",
      "2/2 [==============================] - 0s 5ms/step - loss: 3.3398 - mse: 3.3398\n",
      "Epoch 169/500\n",
      "2/2 [==============================] - 0s 2ms/step - loss: 2.8430 - mse: 2.8430\n",
      "Epoch 170/500\n",
      "2/2 [==============================] - 0s 2ms/step - loss: 2.6514 - mse: 2.6514\n",
      "Epoch 171/500\n",
      "2/2 [==============================] - 0s 3ms/step - loss: 2.6477 - mse: 2.6477\n",
      "Epoch 172/500\n",
      "2/2 [==============================] - 0s 1ms/step - loss: 5.3006 - mse: 5.3006\n",
      "Epoch 173/500\n",
      "2/2 [==============================] - 0s 3ms/step - loss: 4.8270 - mse: 4.8270\n",
      "Epoch 174/500\n"
     ]
    },
    {
     "name": "stdout",
     "output_type": "stream",
     "text": [
      "2/2 [==============================] - 0s 1ms/step - loss: 2.7875 - mse: 2.7875\n",
      "Epoch 175/500\n",
      "2/2 [==============================] - 0s 1ms/step - loss: 2.4888 - mse: 2.4888\n",
      "Epoch 176/500\n",
      "2/2 [==============================] - 0s 2ms/step - loss: 2.4960 - mse: 2.4960\n",
      "Epoch 177/500\n",
      "2/2 [==============================] - 0s 3ms/step - loss: 2.4588 - mse: 2.4588\n",
      "Epoch 178/500\n",
      "2/2 [==============================] - 0s 2ms/step - loss: 3.9128 - mse: 3.9128\n",
      "Epoch 179/500\n",
      "2/2 [==============================] - 0s 2ms/step - loss: 4.1371 - mse: 4.1371\n",
      "Epoch 180/500\n",
      "2/2 [==============================] - 0s 2ms/step - loss: 2.9988 - mse: 2.9988\n",
      "Epoch 181/500\n",
      "2/2 [==============================] - 0s 2ms/step - loss: 2.9463 - mse: 2.9463\n",
      "Epoch 182/500\n",
      "2/2 [==============================] - 0s 2ms/step - loss: 3.5462 - mse: 3.5462\n",
      "Epoch 183/500\n",
      "2/2 [==============================] - 0s 1ms/step - loss: 2.5271 - mse: 2.5271\n",
      "Epoch 184/500\n",
      "2/2 [==============================] - 0s 2ms/step - loss: 2.3396 - mse: 2.3396\n",
      "Epoch 185/500\n",
      "2/2 [==============================] - 0s 994us/step - loss: 2.4287 - mse: 2.4287\n",
      "Epoch 186/500\n",
      "2/2 [==============================] - 0s 997us/step - loss: 3.9709 - mse: 3.9709\n",
      "Epoch 187/500\n",
      "2/2 [==============================] - 0s 1000us/step - loss: 2.4063 - mse: 2.4063\n",
      "Epoch 188/500\n",
      "2/2 [==============================] - 0s 3ms/step - loss: 3.1313 - mse: 3.1313\n",
      "Epoch 189/500\n",
      "2/2 [==============================] - 0s 3ms/step - loss: 2.5718 - mse: 2.5718\n",
      "Epoch 190/500\n",
      "2/2 [==============================] - 0s 2ms/step - loss: 2.1914 - mse: 2.1914\n",
      "Epoch 191/500\n",
      "2/2 [==============================] - 0s 2ms/step - loss: 2.2251 - mse: 2.2251\n",
      "Epoch 192/500\n",
      "2/2 [==============================] - 0s 2ms/step - loss: 2.7024 - mse: 2.7024\n",
      "Epoch 193/500\n",
      "2/2 [==============================] - 0s 2ms/step - loss: 5.5884 - mse: 5.5884\n",
      "Epoch 194/500\n",
      "2/2 [==============================] - 0s 2ms/step - loss: 2.5427 - mse: 2.5427\n",
      "Epoch 195/500\n",
      "2/2 [==============================] - 0s 2ms/step - loss: 2.3928 - mse: 2.3928\n",
      "Epoch 196/500\n",
      "2/2 [==============================] - 0s 2ms/step - loss: 2.3200 - mse: 2.3200\n",
      "Epoch 197/500\n",
      "2/2 [==============================] - 0s 3ms/step - loss: 2.5202 - mse: 2.5202\n",
      "Epoch 198/500\n",
      "2/2 [==============================] - 0s 2ms/step - loss: 2.3259 - mse: 2.3259\n",
      "Epoch 199/500\n",
      "2/2 [==============================] - 0s 3ms/step - loss: 2.0571 - mse: 2.0571\n",
      "Epoch 200/500\n",
      "2/2 [==============================] - 0s 2ms/step - loss: 2.1447 - mse: 2.1447\n",
      "Epoch 201/500\n",
      "2/2 [==============================] - 0s 2ms/step - loss: 5.2146 - mse: 5.2146\n",
      "Epoch 202/500\n",
      "2/2 [==============================] - 0s 2ms/step - loss: 3.2918 - mse: 3.2918\n",
      "Epoch 203/500\n",
      "2/2 [==============================] - 0s 2ms/step - loss: 2.0038 - mse: 2.0038\n",
      "Epoch 204/500\n",
      "2/2 [==============================] - 0s 2ms/step - loss: 2.2299 - mse: 2.2299\n",
      "Epoch 205/500\n",
      "2/2 [==============================] - 0s 999us/step - loss: 2.5531 - mse: 2.5531\n",
      "Epoch 206/500\n",
      "2/2 [==============================] - 0s 2ms/step - loss: 2.0250 - mse: 2.0250\n",
      "Epoch 207/500\n",
      "2/2 [==============================] - 0s 2ms/step - loss: 2.3258 - mse: 2.3258\n",
      "Epoch 208/500\n",
      "2/2 [==============================] - 0s 2ms/step - loss: 5.5564 - mse: 5.5564\n",
      "Epoch 209/500\n",
      "2/2 [==============================] - 0s 1ms/step - loss: 3.5788 - mse: 3.5788\n",
      "Epoch 210/500\n",
      "2/2 [==============================] - 0s 2ms/step - loss: 2.4971 - mse: 2.4971\n",
      "Epoch 211/500\n",
      "2/2 [==============================] - 0s 2ms/step - loss: 2.3405 - mse: 2.3405\n",
      "Epoch 212/500\n",
      "2/2 [==============================] - 0s 1ms/step - loss: 2.1958 - mse: 2.1958\n",
      "Epoch 213/500\n",
      "2/2 [==============================] - 0s 994us/step - loss: 1.9270 - mse: 1.9270\n",
      "Epoch 214/500\n",
      "2/2 [==============================] - 0s 2ms/step - loss: 2.0216 - mse: 2.0216\n",
      "Epoch 215/500\n",
      "2/2 [==============================] - 0s 2ms/step - loss: 2.0523 - mse: 2.0523\n",
      "Epoch 216/500\n",
      "2/2 [==============================] - 0s 1ms/step - loss: 1.8789 - mse: 1.8789\n",
      "Epoch 217/500\n",
      "2/2 [==============================] - 0s 2ms/step - loss: 3.2969 - mse: 3.2969\n",
      "Epoch 218/500\n",
      "2/2 [==============================] - 0s 2ms/step - loss: 7.0159 - mse: 7.0159\n",
      "Epoch 219/500\n",
      "2/2 [==============================] - 0s 2ms/step - loss: 2.4967 - mse: 2.4967\n",
      "Epoch 220/500\n",
      "2/2 [==============================] - 0s 2ms/step - loss: 1.9524 - mse: 1.9524\n",
      "Epoch 221/500\n",
      "2/2 [==============================] - 0s 2ms/step - loss: 2.2467 - mse: 2.2467\n",
      "Epoch 222/500\n",
      "2/2 [==============================] - 0s 2ms/step - loss: 3.9430 - mse: 3.9430\n",
      "Epoch 223/500\n",
      "2/2 [==============================] - 0s 2ms/step - loss: 2.2057 - mse: 2.2057\n",
      "Epoch 224/500\n",
      "2/2 [==============================] - 0s 1ms/step - loss: 1.9473 - mse: 1.9473\n",
      "Epoch 225/500\n",
      "2/2 [==============================] - 0s 2ms/step - loss: 1.9730 - mse: 1.9730\n",
      "Epoch 226/500\n",
      "2/2 [==============================] - 0s 2ms/step - loss: 1.8282 - mse: 1.8282\n",
      "Epoch 227/500\n",
      "2/2 [==============================] - 0s 2ms/step - loss: 1.9232 - mse: 1.9232\n",
      "Epoch 228/500\n",
      "2/2 [==============================] - 0s 1ms/step - loss: 3.1119 - mse: 3.1119\n",
      "Epoch 229/500\n",
      "2/2 [==============================] - 0s 2ms/step - loss: 5.2848 - mse: 5.2848\n",
      "Epoch 230/500\n",
      "2/2 [==============================] - 0s 2ms/step - loss: 2.8143 - mse: 2.8143\n",
      "Epoch 231/500\n",
      "2/2 [==============================] - 0s 998us/step - loss: 1.8140 - mse: 1.8140\n",
      "Epoch 232/500\n",
      "2/2 [==============================] - 0s 2ms/step - loss: 2.4911 - mse: 2.4911\n",
      "Epoch 233/500\n",
      "2/2 [==============================] - 0s 2ms/step - loss: 2.0982 - mse: 2.0982\n",
      "Epoch 234/500\n",
      "2/2 [==============================] - 0s 3ms/step - loss: 1.8076 - mse: 1.8076\n",
      "Epoch 235/500\n",
      "2/2 [==============================] - 0s 2ms/step - loss: 1.8080 - mse: 1.8080\n",
      "Epoch 236/500\n",
      "2/2 [==============================] - 0s 8ms/step - loss: 2.0435 - mse: 2.0435\n",
      "Epoch 237/500\n",
      "2/2 [==============================] - 0s 3ms/step - loss: 2.7649 - mse: 2.7649\n",
      "Epoch 238/500\n",
      "2/2 [==============================] - 0s 5ms/step - loss: 2.4803 - mse: 2.4803\n",
      "Epoch 239/500\n",
      "2/2 [==============================] - 0s 2ms/step - loss: 2.1668 - mse: 2.1668\n",
      "Epoch 240/500\n",
      "2/2 [==============================] - 0s 4ms/step - loss: 2.7614 - mse: 2.7614\n",
      "Epoch 241/500\n",
      "2/2 [==============================] - 0s 2ms/step - loss: 2.3947 - mse: 2.3947\n",
      "Epoch 242/500\n",
      "2/2 [==============================] - 0s 4ms/step - loss: 2.3423 - mse: 2.3423\n",
      "Epoch 243/500\n",
      "2/2 [==============================] - 0s 4ms/step - loss: 2.7689 - mse: 2.7689\n",
      "Epoch 244/500\n",
      "2/2 [==============================] - 0s 2ms/step - loss: 2.3615 - mse: 2.3615\n",
      "Epoch 245/500\n",
      "2/2 [==============================] - 0s 4ms/step - loss: 1.8792 - mse: 1.8792\n",
      "Epoch 246/500\n",
      "2/2 [==============================] - 0s 4ms/step - loss: 2.8834 - mse: 2.8834\n",
      "Epoch 247/500\n",
      "2/2 [==============================] - 0s 2ms/step - loss: 3.7445 - mse: 3.7445\n",
      "Epoch 248/500\n",
      "2/2 [==============================] - 0s 4ms/step - loss: 1.8706 - mse: 1.8706\n",
      "Epoch 249/500\n",
      "2/2 [==============================] - 0s 3ms/step - loss: 1.7923 - mse: 1.7923\n",
      "Epoch 250/500\n",
      "2/2 [==============================] - 0s 3ms/step - loss: 2.1596 - mse: 2.1596\n",
      "Epoch 251/500\n",
      "2/2 [==============================] - 0s 2ms/step - loss: 2.2791 - mse: 2.2791\n",
      "Epoch 252/500\n",
      "2/2 [==============================] - 0s 2ms/step - loss: 2.2234 - mse: 2.2234\n",
      "Epoch 253/500\n",
      "2/2 [==============================] - ETA: 0s - loss: 2.0217 - mse: 2.021 - 0s 5ms/step - loss: 1.7374 - mse: 1.7374\n",
      "Epoch 254/500\n",
      "2/2 [==============================] - 0s 3ms/step - loss: 1.8480 - mse: 1.8480\n",
      "Epoch 255/500\n",
      "2/2 [==============================] - 0s 2ms/step - loss: 2.3611 - mse: 2.3611\n",
      "Epoch 256/500\n",
      "2/2 [==============================] - 0s 2ms/step - loss: 2.9534 - mse: 2.9534\n",
      "Epoch 257/500\n",
      "2/2 [==============================] - 0s 1ms/step - loss: 3.6312 - mse: 3.6312\n",
      "Epoch 258/500\n",
      "2/2 [==============================] - 0s 2ms/step - loss: 1.6949 - mse: 1.6949\n",
      "Epoch 259/500\n",
      "2/2 [==============================] - 0s 999us/step - loss: 1.8441 - mse: 1.8441\n",
      "Epoch 260/500\n"
     ]
    },
    {
     "name": "stdout",
     "output_type": "stream",
     "text": [
      "2/2 [==============================] - 0s 1ms/step - loss: 1.7445 - mse: 1.7445\n",
      "Epoch 261/500\n",
      "2/2 [==============================] - 0s 2ms/step - loss: 1.8351 - mse: 1.8351\n",
      "Epoch 262/500\n",
      "2/2 [==============================] - 0s 2ms/step - loss: 2.2477 - mse: 2.2477\n",
      "Epoch 263/500\n",
      "2/2 [==============================] - 0s 2ms/step - loss: 3.2723 - mse: 3.2723\n",
      "Epoch 264/500\n",
      "2/2 [==============================] - 0s 2ms/step - loss: 2.9680 - mse: 2.9680\n",
      "Epoch 265/500\n",
      "2/2 [==============================] - 0s 1ms/step - loss: 1.6775 - mse: 1.6775\n",
      "Epoch 266/500\n",
      "2/2 [==============================] - 0s 2ms/step - loss: 2.0604 - mse: 2.0604\n",
      "Epoch 267/500\n",
      "2/2 [==============================] - 0s 1ms/step - loss: 3.7500 - mse: 3.7500\n",
      "Epoch 268/500\n",
      "2/2 [==============================] - 0s 2ms/step - loss: 1.8199 - mse: 1.8199\n",
      "Epoch 269/500\n",
      "2/2 [==============================] - 0s 1ms/step - loss: 1.6976 - mse: 1.6976\n",
      "Epoch 270/500\n",
      "2/2 [==============================] - 0s 3ms/step - loss: 2.5582 - mse: 2.5582\n",
      "Epoch 271/500\n",
      "2/2 [==============================] - 0s 2ms/step - loss: 1.8656 - mse: 1.8656\n",
      "Epoch 272/500\n",
      "2/2 [==============================] - 0s 2ms/step - loss: 1.8055 - mse: 1.8055\n",
      "Epoch 273/500\n",
      "2/2 [==============================] - 0s 1ms/step - loss: 4.6775 - mse: 4.6775\n",
      "Epoch 274/500\n",
      "2/2 [==============================] - 0s 2ms/step - loss: 1.7941 - mse: 1.7941\n",
      "Epoch 275/500\n",
      "2/2 [==============================] - 0s 2ms/step - loss: 1.9922 - mse: 1.9922\n",
      "Epoch 276/500\n",
      "2/2 [==============================] - 0s 2ms/step - loss: 1.7924 - mse: 1.7924\n",
      "Epoch 277/500\n",
      "2/2 [==============================] - 0s 980us/step - loss: 1.5997 - mse: 1.5997\n",
      "Epoch 278/500\n",
      "2/2 [==============================] - 0s 2ms/step - loss: 2.0241 - mse: 2.0241\n",
      "Epoch 279/500\n",
      "2/2 [==============================] - 0s 1ms/step - loss: 3.3198 - mse: 3.3198\n",
      "Epoch 280/500\n",
      "2/2 [==============================] - 0s 2ms/step - loss: 4.5745 - mse: 4.5745\n",
      "Epoch 281/500\n",
      "2/2 [==============================] - 0s 1ms/step - loss: 2.7804 - mse: 2.7804\n",
      "Epoch 282/500\n",
      "2/2 [==============================] - 0s 2ms/step - loss: 2.2180 - mse: 2.2180\n",
      "Epoch 283/500\n",
      "2/2 [==============================] - 0s 2ms/step - loss: 2.3229 - mse: 2.3229\n",
      "Epoch 284/500\n",
      "2/2 [==============================] - 0s 2ms/step - loss: 1.8035 - mse: 1.8035\n",
      "Epoch 285/500\n",
      "2/2 [==============================] - 0s 2ms/step - loss: 1.5886 - mse: 1.5886\n",
      "Epoch 286/500\n",
      "2/2 [==============================] - 0s 2ms/step - loss: 1.6846 - mse: 1.6846\n",
      "Epoch 287/500\n",
      "2/2 [==============================] - 0s 2ms/step - loss: 2.2744 - mse: 2.2744\n",
      "Epoch 288/500\n",
      "2/2 [==============================] - 0s 2ms/step - loss: 2.4645 - mse: 2.4645\n",
      "Epoch 289/500\n",
      "2/2 [==============================] - 0s 2ms/step - loss: 2.2820 - mse: 2.2820\n",
      "Epoch 290/500\n",
      "2/2 [==============================] - 0s 1000us/step - loss: 3.3981 - mse: 3.3981\n",
      "Epoch 291/500\n",
      "2/2 [==============================] - 0s 2ms/step - loss: 3.3113 - mse: 3.3113\n",
      "Epoch 292/500\n",
      "2/2 [==============================] - 0s 2ms/step - loss: 1.7462 - mse: 1.7462\n",
      "Epoch 293/500\n",
      "2/2 [==============================] - 0s 1ms/step - loss: 1.7039 - mse: 1.7039\n",
      "Epoch 294/500\n",
      "2/2 [==============================] - 0s 2ms/step - loss: 1.5678 - mse: 1.5678\n",
      "Epoch 295/500\n",
      "2/2 [==============================] - 0s 2ms/step - loss: 1.6896 - mse: 1.6896\n",
      "Epoch 296/500\n",
      "2/2 [==============================] - 0s 2ms/step - loss: 3.7721 - mse: 3.7721\n",
      "Epoch 297/500\n",
      "2/2 [==============================] - 0s 1ms/step - loss: 4.3474 - mse: 4.3474\n",
      "Epoch 298/500\n",
      "2/2 [==============================] - 0s 2ms/step - loss: 2.3979 - mse: 2.3979\n",
      "Epoch 299/500\n",
      "2/2 [==============================] - 0s 6ms/step - loss: 1.6167 - mse: 1.6167\n",
      "Epoch 300/500\n",
      "2/2 [==============================] - 0s 3ms/step - loss: 2.0540 - mse: 2.0540\n",
      "Epoch 301/500\n",
      "2/2 [==============================] - 0s 1ms/step - loss: 2.2229 - mse: 2.2229\n",
      "Epoch 302/500\n",
      "2/2 [==============================] - 0s 2ms/step - loss: 1.6843 - mse: 1.6843\n",
      "Epoch 303/500\n",
      "2/2 [==============================] - 0s 2ms/step - loss: 1.5696 - mse: 1.5696\n",
      "Epoch 304/500\n",
      "2/2 [==============================] - 0s 1ms/step - loss: 1.5896 - mse: 1.5896\n",
      "Epoch 305/500\n",
      "2/2 [==============================] - 0s 2ms/step - loss: 1.5420 - mse: 1.5420\n",
      "Epoch 306/500\n",
      "2/2 [==============================] - 0s 3ms/step - loss: 5.0535 - mse: 5.0535\n",
      "Epoch 307/500\n",
      "2/2 [==============================] - 0s 5ms/step - loss: 4.9933 - mse: 4.9933\n",
      "Epoch 308/500\n",
      "2/2 [==============================] - 0s 4ms/step - loss: 1.8844 - mse: 1.8844\n",
      "Epoch 309/500\n",
      "2/2 [==============================] - 0s 5ms/step - loss: 1.5549 - mse: 1.5549\n",
      "Epoch 310/500\n",
      "2/2 [==============================] - 0s 4ms/step - loss: 1.6086 - mse: 1.6086\n",
      "Epoch 311/500\n",
      "2/2 [==============================] - 0s 3ms/step - loss: 1.5005 - mse: 1.5005\n",
      "Epoch 312/500\n",
      "2/2 [==============================] - 0s 2ms/step - loss: 3.2578 - mse: 3.2578\n",
      "Epoch 313/500\n",
      "2/2 [==============================] - 0s 2ms/step - loss: 3.5686 - mse: 3.5686\n",
      "Epoch 314/500\n",
      "2/2 [==============================] - 0s 4ms/step - loss: 1.7344 - mse: 1.7344\n",
      "Epoch 315/500\n",
      "2/2 [==============================] - 0s 4ms/step - loss: 1.5199 - mse: 1.5199\n",
      "Epoch 316/500\n",
      "2/2 [==============================] - 0s 3ms/step - loss: 1.6346 - mse: 1.6346\n",
      "Epoch 317/500\n",
      "2/2 [==============================] - 0s 2ms/step - loss: 1.5790 - mse: 1.5790\n",
      "Epoch 318/500\n",
      "2/2 [==============================] - 0s 2ms/step - loss: 1.9187 - mse: 1.9187\n",
      "Epoch 319/500\n",
      "2/2 [==============================] - 0s 2ms/step - loss: 1.7901 - mse: 1.7901\n",
      "Epoch 320/500\n",
      "2/2 [==============================] - 0s 2ms/step - loss: 1.8993 - mse: 1.8993\n",
      "Epoch 321/500\n",
      "2/2 [==============================] - 0s 2ms/step - loss: 3.7458 - mse: 3.7458\n",
      "Epoch 322/500\n",
      "2/2 [==============================] - 0s 2ms/step - loss: 2.6234 - mse: 2.6234\n",
      "Epoch 323/500\n",
      "2/2 [==============================] - 0s 4ms/step - loss: 2.1932 - mse: 2.1932\n",
      "Epoch 324/500\n",
      "2/2 [==============================] - 0s 2ms/step - loss: 2.1319 - mse: 2.1319\n",
      "Epoch 325/500\n",
      "2/2 [==============================] - 0s 4ms/step - loss: 2.2834 - mse: 2.2834\n",
      "Epoch 326/500\n",
      "2/2 [==============================] - 0s 3ms/step - loss: 3.0116 - mse: 3.0116\n",
      "Epoch 327/500\n",
      "2/2 [==============================] - 0s 2ms/step - loss: 1.4758 - mse: 1.4758\n",
      "Epoch 328/500\n",
      "2/2 [==============================] - 0s 1ms/step - loss: 1.4709 - mse: 1.4709\n",
      "Epoch 329/500\n",
      "2/2 [==============================] - 0s 5ms/step - loss: 1.7362 - mse: 1.7362\n",
      "Epoch 330/500\n",
      "2/2 [==============================] - 0s 3ms/step - loss: 3.1419 - mse: 3.1419\n",
      "Epoch 331/500\n",
      "2/2 [==============================] - 0s 1ms/step - loss: 3.7034 - mse: 3.7034\n",
      "Epoch 332/500\n",
      "2/2 [==============================] - 0s 2ms/step - loss: 3.4118 - mse: 3.4118\n",
      "Epoch 333/500\n",
      "2/2 [==============================] - 0s 998us/step - loss: 2.2549 - mse: 2.2549\n",
      "Epoch 334/500\n",
      "2/2 [==============================] - 0s 2ms/step - loss: 2.0419 - mse: 2.0419\n",
      "Epoch 335/500\n",
      "2/2 [==============================] - 0s 2ms/step - loss: 2.7949 - mse: 2.7949\n",
      "Epoch 336/500\n",
      "2/2 [==============================] - 0s 2ms/step - loss: 2.4919 - mse: 2.4919\n",
      "Epoch 337/500\n",
      "2/2 [==============================] - 0s 2ms/step - loss: 1.5200 - mse: 1.5200\n",
      "Epoch 338/500\n",
      "2/2 [==============================] - 0s 999us/step - loss: 1.4456 - mse: 1.4456\n",
      "Epoch 339/500\n",
      "2/2 [==============================] - 0s 1ms/step - loss: 1.8163 - mse: 1.8163\n",
      "Epoch 340/500\n",
      "2/2 [==============================] - 0s 2ms/step - loss: 1.5862 - mse: 1.5862\n",
      "Epoch 341/500\n",
      "2/2 [==============================] - 0s 1ms/step - loss: 1.5325 - mse: 1.5325\n",
      "Epoch 342/500\n",
      "2/2 [==============================] - 0s 2ms/step - loss: 1.5778 - mse: 1.5778\n",
      "Epoch 343/500\n",
      "2/2 [==============================] - 0s 2ms/step - loss: 2.3358 - mse: 2.3358\n",
      "Epoch 344/500\n",
      "2/2 [==============================] - 0s 2ms/step - loss: 3.8367 - mse: 3.8367\n",
      "Epoch 345/500\n",
      "2/2 [==============================] - 0s 2ms/step - loss: 1.7346 - mse: 1.7346\n",
      "Epoch 346/500\n",
      "2/2 [==============================] - 0s 2ms/step - loss: 1.6346 - mse: 1.6346\n",
      "Epoch 347/500\n"
     ]
    },
    {
     "name": "stdout",
     "output_type": "stream",
     "text": [
      "2/2 [==============================] - 0s 995us/step - loss: 1.5119 - mse: 1.5119\n",
      "Epoch 348/500\n",
      "2/2 [==============================] - 0s 999us/step - loss: 2.3781 - mse: 2.3781\n",
      "Epoch 349/500\n",
      "2/2 [==============================] - 0s 3ms/step - loss: 4.4317 - mse: 4.4317\n",
      "Epoch 350/500\n",
      "2/2 [==============================] - 0s 2ms/step - loss: 1.7770 - mse: 1.7770\n",
      "Epoch 351/500\n",
      "2/2 [==============================] - 0s 2ms/step - loss: 1.5401 - mse: 1.5401\n",
      "Epoch 352/500\n",
      "2/2 [==============================] - 0s 2ms/step - loss: 1.9224 - mse: 1.9224\n",
      "Epoch 353/500\n",
      "2/2 [==============================] - 0s 2ms/step - loss: 2.1797 - mse: 2.1797\n",
      "Epoch 354/500\n",
      "2/2 [==============================] - 0s 995us/step - loss: 1.5258 - mse: 1.5258\n",
      "Epoch 355/500\n",
      "2/2 [==============================] - 0s 2ms/step - loss: 1.4443 - mse: 1.4443\n",
      "Epoch 356/500\n",
      "2/2 [==============================] - 0s 2ms/step - loss: 2.9112 - mse: 2.9112\n",
      "Epoch 357/500\n",
      "2/2 [==============================] - 0s 1ms/step - loss: 2.5957 - mse: 2.5957\n",
      "Epoch 358/500\n",
      "2/2 [==============================] - 0s 1ms/step - loss: 1.9693 - mse: 1.9693\n",
      "Epoch 359/500\n",
      "2/2 [==============================] - 0s 2ms/step - loss: 2.2215 - mse: 2.2215\n",
      "Epoch 360/500\n",
      "2/2 [==============================] - 0s 2ms/step - loss: 2.2848 - mse: 2.2848\n",
      "Epoch 361/500\n",
      "2/2 [==============================] - 0s 3ms/step - loss: 1.9092 - mse: 1.9092\n",
      "Epoch 362/500\n",
      "2/2 [==============================] - 0s 2ms/step - loss: 3.1170 - mse: 3.1170\n",
      "Epoch 363/500\n",
      "2/2 [==============================] - 0s 2ms/step - loss: 1.5713 - mse: 1.5713\n",
      "Epoch 364/500\n",
      "2/2 [==============================] - 0s 1000us/step - loss: 1.4620 - mse: 1.4620\n",
      "Epoch 365/500\n",
      "2/2 [==============================] - 0s 2ms/step - loss: 1.4258 - mse: 1.4258\n",
      "Epoch 366/500\n",
      "2/2 [==============================] - 0s 2ms/step - loss: 1.8981 - mse: 1.8981\n",
      "Epoch 367/500\n",
      "2/2 [==============================] - 0s 1000us/step - loss: 4.0181 - mse: 4.0181\n",
      "Epoch 368/500\n",
      "2/2 [==============================] - 0s 2ms/step - loss: 2.3828 - mse: 2.3828\n",
      "Epoch 369/500\n",
      "2/2 [==============================] - 0s 2ms/step - loss: 2.2682 - mse: 2.2682\n",
      "Epoch 370/500\n",
      "2/2 [==============================] - 0s 2ms/step - loss: 1.7044 - mse: 1.7044\n",
      "Epoch 371/500\n",
      "2/2 [==============================] - 0s 2ms/step - loss: 1.4497 - mse: 1.4497\n",
      "Epoch 372/500\n",
      "2/2 [==============================] - 0s 2ms/step - loss: 1.3806 - mse: 1.3806\n",
      "Epoch 373/500\n",
      "2/2 [==============================] - 0s 2ms/step - loss: 1.6783 - mse: 1.6783\n",
      "Epoch 374/500\n",
      "2/2 [==============================] - 0s 2ms/step - loss: 2.6670 - mse: 2.6670\n",
      "Epoch 375/500\n",
      "2/2 [==============================] - 0s 2ms/step - loss: 2.9651 - mse: 2.9651\n",
      "Epoch 376/500\n",
      "2/2 [==============================] - 0s 3ms/step - loss: 1.6706 - mse: 1.6706\n",
      "Epoch 377/500\n",
      "2/2 [==============================] - 0s 2ms/step - loss: 1.5672 - mse: 1.5672\n",
      "Epoch 378/500\n",
      "2/2 [==============================] - 0s 3ms/step - loss: 2.1889 - mse: 2.1889\n",
      "Epoch 379/500\n",
      "2/2 [==============================] - 0s 2ms/step - loss: 3.4157 - mse: 3.4157\n",
      "Epoch 380/500\n",
      "2/2 [==============================] - 0s 2ms/step - loss: 1.4886 - mse: 1.4886\n",
      "Epoch 381/500\n",
      "2/2 [==============================] - 0s 2ms/step - loss: 1.4480 - mse: 1.4480\n",
      "Epoch 382/500\n",
      "2/2 [==============================] - 0s 996us/step - loss: 1.3647 - mse: 1.3647\n",
      "Epoch 383/500\n",
      "2/2 [==============================] - 0s 3ms/step - loss: 1.6228 - mse: 1.6228\n",
      "Epoch 384/500\n",
      "2/2 [==============================] - 0s 2ms/step - loss: 1.9581 - mse: 1.9581\n",
      "Epoch 385/500\n",
      "2/2 [==============================] - 0s 2ms/step - loss: 2.3186 - mse: 2.3186\n",
      "Epoch 386/500\n",
      "2/2 [==============================] - 0s 2ms/step - loss: 3.1274 - mse: 3.1274\n",
      "Epoch 387/500\n",
      "2/2 [==============================] - 0s 2ms/step - loss: 2.1686 - mse: 2.1686\n",
      "Epoch 388/500\n",
      "2/2 [==============================] - 0s 3ms/step - loss: 1.7200 - mse: 1.7200\n",
      "Epoch 389/500\n",
      "2/2 [==============================] - 0s 2ms/step - loss: 1.7693 - mse: 1.7693\n",
      "Epoch 390/500\n",
      "2/2 [==============================] - 0s 2ms/step - loss: 2.6948 - mse: 2.6948\n",
      "Epoch 391/500\n",
      "2/2 [==============================] - 0s 3ms/step - loss: 3.8553 - mse: 3.8553\n",
      "Epoch 392/500\n",
      "2/2 [==============================] - 0s 2ms/step - loss: 1.7757 - mse: 1.7757\n",
      "Epoch 393/500\n",
      "2/2 [==============================] - 0s 2ms/step - loss: 1.3813 - mse: 1.3813\n",
      "Epoch 394/500\n",
      "2/2 [==============================] - 0s 2ms/step - loss: 2.0417 - mse: 2.0417\n",
      "Epoch 395/500\n",
      "2/2 [==============================] - 0s 991us/step - loss: 1.4125 - mse: 1.4125\n",
      "Epoch 396/500\n",
      "2/2 [==============================] - 0s 2ms/step - loss: 1.4090 - mse: 1.4090\n",
      "Epoch 397/500\n",
      "2/2 [==============================] - 0s 2ms/step - loss: 2.8510 - mse: 2.8510\n",
      "Epoch 398/500\n",
      "2/2 [==============================] - 0s 2ms/step - loss: 4.0618 - mse: 4.0618\n",
      "Epoch 399/500\n",
      "2/2 [==============================] - 0s 1ms/step - loss: 1.9370 - mse: 1.9370\n",
      "Epoch 400/500\n",
      "2/2 [==============================] - 0s 2ms/step - loss: 1.8728 - mse: 1.8728\n",
      "Epoch 401/500\n",
      "2/2 [==============================] - 0s 2ms/step - loss: 1.6156 - mse: 1.6156\n",
      "Epoch 402/500\n",
      "2/2 [==============================] - 0s 1ms/step - loss: 1.3319 - mse: 1.3319\n",
      "Epoch 403/500\n",
      "2/2 [==============================] - 0s 2ms/step - loss: 1.3703 - mse: 1.3703\n",
      "Epoch 404/500\n",
      "2/2 [==============================] - 0s 2ms/step - loss: 1.4895 - mse: 1.4895\n",
      "Epoch 405/500\n",
      "2/2 [==============================] - 0s 998us/step - loss: 1.5367 - mse: 1.5367\n",
      "Epoch 406/500\n",
      "2/2 [==============================] - 0s 1ms/step - loss: 1.5530 - mse: 1.5530\n",
      "Epoch 407/500\n",
      "2/2 [==============================] - 0s 999us/step - loss: 1.5963 - mse: 1.5963\n",
      "Epoch 408/500\n",
      "2/2 [==============================] - 0s 2ms/step - loss: 2.7380 - mse: 2.7380\n",
      "Epoch 409/500\n",
      "2/2 [==============================] - 0s 2ms/step - loss: 2.8603 - mse: 2.8603\n",
      "Epoch 410/500\n",
      "2/2 [==============================] - 0s 2ms/step - loss: 1.7287 - mse: 1.7287\n",
      "Epoch 411/500\n",
      "2/2 [==============================] - 0s 2ms/step - loss: 2.0753 - mse: 2.0753\n",
      "Epoch 412/500\n",
      "2/2 [==============================] - 0s 1ms/step - loss: 1.8904 - mse: 1.8904\n",
      "Epoch 413/500\n",
      "2/2 [==============================] - 0s 3ms/step - loss: 2.2383 - mse: 2.2383\n",
      "Epoch 414/500\n",
      "2/2 [==============================] - 0s 2ms/step - loss: 1.8406 - mse: 1.8406\n",
      "Epoch 415/500\n",
      "2/2 [==============================] - 0s 2ms/step - loss: 2.8036 - mse: 2.8036\n",
      "Epoch 416/500\n",
      "2/2 [==============================] - 0s 2ms/step - loss: 2.7680 - mse: 2.7680\n",
      "Epoch 417/500\n",
      "2/2 [==============================] - 0s 2ms/step - loss: 3.1204 - mse: 3.1204\n",
      "Epoch 418/500\n",
      "2/2 [==============================] - 0s 2ms/step - loss: 2.1154 - mse: 2.1154\n",
      "Epoch 419/500\n",
      "2/2 [==============================] - 0s 2ms/step - loss: 1.4435 - mse: 1.4435\n",
      "Epoch 420/500\n",
      "2/2 [==============================] - 0s 4ms/step - loss: 1.5784 - mse: 1.5784\n",
      "Epoch 421/500\n",
      "2/2 [==============================] - 0s 2ms/step - loss: 1.3460 - mse: 1.3460\n",
      "Epoch 422/500\n",
      "2/2 [==============================] - 0s 2ms/step - loss: 1.3443 - mse: 1.3443\n",
      "Epoch 423/500\n",
      "2/2 [==============================] - 0s 2ms/step - loss: 1.7537 - mse: 1.7537\n",
      "Epoch 424/500\n",
      "2/2 [==============================] - 0s 2ms/step - loss: 1.6681 - mse: 1.6681\n",
      "Epoch 425/500\n",
      "2/2 [==============================] - 0s 3ms/step - loss: 2.1383 - mse: 2.1383\n",
      "Epoch 426/500\n",
      "2/2 [==============================] - 0s 3ms/step - loss: 3.9010 - mse: 3.9010\n",
      "Epoch 427/500\n",
      "2/2 [==============================] - 0s 2ms/step - loss: 3.0461 - mse: 3.0461\n",
      "Epoch 428/500\n",
      "2/2 [==============================] - 0s 2ms/step - loss: 2.2771 - mse: 2.2771\n",
      "Epoch 429/500\n",
      "2/2 [==============================] - 0s 4ms/step - loss: 1.6376 - mse: 1.6376\n",
      "Epoch 430/500\n",
      "2/2 [==============================] - 0s 1000us/step - loss: 1.3436 - mse: 1.3436\n",
      "Epoch 431/500\n",
      "2/2 [==============================] - 0s 2ms/step - loss: 1.5032 - mse: 1.5032\n",
      "Epoch 432/500\n",
      "2/2 [==============================] - 0s 1ms/step - loss: 1.5791 - mse: 1.5791\n",
      "Epoch 433/500\n",
      "2/2 [==============================] - 0s 2ms/step - loss: 1.4247 - mse: 1.4247\n",
      "Epoch 434/500\n"
     ]
    },
    {
     "name": "stdout",
     "output_type": "stream",
     "text": [
      "2/2 [==============================] - 0s 2ms/step - loss: 1.9322 - mse: 1.9322\n",
      "Epoch 435/500\n",
      "2/2 [==============================] - 0s 4ms/step - loss: 4.0894 - mse: 4.0894\n",
      "Epoch 436/500\n",
      "2/2 [==============================] - 0s 2ms/step - loss: 2.6997 - mse: 2.6997\n",
      "Epoch 437/500\n",
      "2/2 [==============================] - 0s 3ms/step - loss: 1.6102 - mse: 1.6102\n",
      "Epoch 438/500\n",
      "2/2 [==============================] - 0s 3ms/step - loss: 1.3016 - mse: 1.3016\n",
      "Epoch 439/500\n",
      "2/2 [==============================] - 0s 2ms/step - loss: 1.3228 - mse: 1.3228\n",
      "Epoch 440/500\n",
      "2/2 [==============================] - 0s 3ms/step - loss: 1.8058 - mse: 1.8058\n",
      "Epoch 441/500\n",
      "2/2 [==============================] - 0s 2ms/step - loss: 4.1792 - mse: 4.1792\n",
      "Epoch 442/500\n",
      "2/2 [==============================] - 0s 2ms/step - loss: 1.7971 - mse: 1.7971\n",
      "Epoch 443/500\n",
      "2/2 [==============================] - 0s 2ms/step - loss: 1.6327 - mse: 1.6327\n",
      "Epoch 444/500\n",
      "2/2 [==============================] - 0s 2ms/step - loss: 1.8853 - mse: 1.8853\n",
      "Epoch 445/500\n",
      "2/2 [==============================] - 0s 995us/step - loss: 1.6337 - mse: 1.6337\n",
      "Epoch 446/500\n",
      "2/2 [==============================] - 0s 2ms/step - loss: 1.6993 - mse: 1.6993\n",
      "Epoch 447/500\n",
      "2/2 [==============================] - 0s 2ms/step - loss: 1.4844 - mse: 1.4844\n",
      "Epoch 448/500\n",
      "2/2 [==============================] - 0s 2ms/step - loss: 2.4347 - mse: 2.4347\n",
      "Epoch 449/500\n",
      "2/2 [==============================] - 0s 1ms/step - loss: 2.2041 - mse: 2.2041\n",
      "Epoch 450/500\n",
      "2/2 [==============================] - 0s 1000us/step - loss: 2.9254 - mse: 2.9254\n",
      "Epoch 451/500\n",
      "2/2 [==============================] - 0s 2ms/step - loss: 1.6821 - mse: 1.6821\n",
      "Epoch 452/500\n",
      "2/2 [==============================] - 0s 2ms/step - loss: 1.2694 - mse: 1.2694\n",
      "Epoch 453/500\n",
      "2/2 [==============================] - 0s 2ms/step - loss: 1.3423 - mse: 1.3423\n",
      "Epoch 454/500\n",
      "2/2 [==============================] - 0s 2ms/step - loss: 2.7580 - mse: 2.7580\n",
      "Epoch 455/500\n",
      "2/2 [==============================] - 0s 3ms/step - loss: 4.4323 - mse: 4.4323\n",
      "Epoch 456/500\n",
      "2/2 [==============================] - 0s 2ms/step - loss: 1.8479 - mse: 1.8479\n",
      "Epoch 457/500\n",
      "2/2 [==============================] - 0s 999us/step - loss: 1.2694 - mse: 1.2694\n",
      "Epoch 458/500\n",
      "2/2 [==============================] - 0s 2ms/step - loss: 1.3463 - mse: 1.3463\n",
      "Epoch 459/500\n",
      "2/2 [==============================] - 0s 2ms/step - loss: 1.2558 - mse: 1.2558\n",
      "Epoch 460/500\n",
      "2/2 [==============================] - 0s 2ms/step - loss: 1.3699 - mse: 1.3699\n",
      "Epoch 461/500\n",
      "2/2 [==============================] - 0s 995us/step - loss: 1.8969 - mse: 1.8969\n",
      "Epoch 462/500\n",
      "2/2 [==============================] - 0s 2ms/step - loss: 3.4451 - mse: 3.4451\n",
      "Epoch 463/500\n",
      "2/2 [==============================] - 0s 3ms/step - loss: 3.5323 - mse: 3.5323\n",
      "Epoch 464/500\n",
      "2/2 [==============================] - 0s 1ms/step - loss: 1.3341 - mse: 1.3341\n",
      "Epoch 465/500\n",
      "2/2 [==============================] - 0s 2ms/step - loss: 2.4408 - mse: 2.4408\n",
      "Epoch 466/500\n",
      "2/2 [==============================] - 0s 2ms/step - loss: 2.4716 - mse: 2.4716\n",
      "Epoch 467/500\n",
      "2/2 [==============================] - 0s 1ms/step - loss: 2.1739 - mse: 2.1739\n",
      "Epoch 468/500\n",
      "2/2 [==============================] - 0s 1ms/step - loss: 1.4952 - mse: 1.4952\n",
      "Epoch 469/500\n",
      "2/2 [==============================] - 0s 2ms/step - loss: 1.5199 - mse: 1.5199\n",
      "Epoch 470/500\n",
      "2/2 [==============================] - 0s 3ms/step - loss: 2.4993 - mse: 2.4993\n",
      "Epoch 471/500\n",
      "2/2 [==============================] - 0s 2ms/step - loss: 2.5408 - mse: 2.5408\n",
      "Epoch 472/500\n",
      "2/2 [==============================] - 0s 2ms/step - loss: 1.2797 - mse: 1.2797\n",
      "Epoch 473/500\n",
      "2/2 [==============================] - 0s 3ms/step - loss: 1.3013 - mse: 1.3013\n",
      "Epoch 474/500\n",
      "2/2 [==============================] - 0s 2ms/step - loss: 1.3256 - mse: 1.3256\n",
      "Epoch 475/500\n",
      "2/2 [==============================] - 0s 2ms/step - loss: 1.2353 - mse: 1.2353\n",
      "Epoch 476/500\n",
      "2/2 [==============================] - 0s 1ms/step - loss: 1.7440 - mse: 1.7440\n",
      "Epoch 477/500\n",
      "2/2 [==============================] - 0s 2ms/step - loss: 4.9118 - mse: 4.9118\n",
      "Epoch 478/500\n",
      "2/2 [==============================] - 0s 2ms/step - loss: 2.0709 - mse: 2.0709\n",
      "Epoch 479/500\n",
      "2/2 [==============================] - 0s 2ms/step - loss: 1.2364 - mse: 1.2364\n",
      "Epoch 480/500\n",
      "2/2 [==============================] - 0s 2ms/step - loss: 1.5087 - mse: 1.5087\n",
      "Epoch 481/500\n",
      "2/2 [==============================] - 0s 2ms/step - loss: 2.0514 - mse: 2.0514\n",
      "Epoch 482/500\n",
      "2/2 [==============================] - 0s 2ms/step - loss: 1.8633 - mse: 1.8633\n",
      "Epoch 483/500\n",
      "2/2 [==============================] - 0s 2ms/step - loss: 1.3671 - mse: 1.3671\n",
      "Epoch 484/500\n",
      "2/2 [==============================] - 0s 2ms/step - loss: 1.2913 - mse: 1.2913\n",
      "Epoch 485/500\n",
      "2/2 [==============================] - 0s 3ms/step - loss: 1.9888 - mse: 1.9888\n",
      "Epoch 486/500\n",
      "2/2 [==============================] - 0s 2ms/step - loss: 2.1796 - mse: 2.1796\n",
      "Epoch 487/500\n",
      "2/2 [==============================] - 0s 993us/step - loss: 1.9217 - mse: 1.9217\n",
      "Epoch 488/500\n",
      "2/2 [==============================] - 0s 2ms/step - loss: 3.3954 - mse: 3.3954\n",
      "Epoch 489/500\n",
      "2/2 [==============================] - 0s 3ms/step - loss: 2.1427 - mse: 2.1427\n",
      "Epoch 490/500\n",
      "2/2 [==============================] - 0s 1ms/step - loss: 1.4932 - mse: 1.4932\n",
      "Epoch 491/500\n",
      "2/2 [==============================] - 0s 5ms/step - loss: 1.5873 - mse: 1.5873\n",
      "Epoch 492/500\n",
      "2/2 [==============================] - 0s 4ms/step - loss: 1.5899 - mse: 1.5899\n",
      "Epoch 493/500\n",
      "2/2 [==============================] - 0s 2ms/step - loss: 2.9511 - mse: 2.9511\n",
      "Epoch 494/500\n",
      "2/2 [==============================] - 0s 2ms/step - loss: 2.8819 - mse: 2.8819\n",
      "Epoch 495/500\n",
      "2/2 [==============================] - 0s 2ms/step - loss: 1.3117 - mse: 1.3117\n",
      "Epoch 496/500\n",
      "2/2 [==============================] - 0s 2ms/step - loss: 1.3100 - mse: 1.3100\n",
      "Epoch 497/500\n",
      "2/2 [==============================] - 0s 2ms/step - loss: 1.2403 - mse: 1.2403\n",
      "Epoch 498/500\n",
      "2/2 [==============================] - 0s 2ms/step - loss: 1.6543 - mse: 1.6543\n",
      "Epoch 499/500\n",
      "2/2 [==============================] - 0s 2ms/step - loss: 2.5660 - mse: 2.5660\n",
      "Epoch 500/500\n",
      "2/2 [==============================] - 0s 2ms/step - loss: 1.4998 - mse: 1.4998\n"
     ]
    },
    {
     "data": {
      "text/plain": [
       "<keras.callbacks.History at 0x1ddaf8868e0>"
      ]
     },
     "execution_count": 16,
     "metadata": {},
     "output_type": "execute_result"
    }
   ],
   "source": [
    "model.fit(X, y, epochs=500, verbose=1)"
   ]
  },
  {
   "cell_type": "markdown",
   "metadata": {},
   "source": [
    "##### Observe the numbers for the `weights`"
   ]
  },
  {
   "cell_type": "code",
   "execution_count": 17,
   "metadata": {},
   "outputs": [
    {
     "data": {
      "text/plain": [
       "[array([[ 0.14708444, -0.14697371,  0.14714259],\n",
       "        [ 0.2865602 , -0.28641418,  0.28663567],\n",
       "        [ 0.21216944, -0.21204129,  0.21223648],\n",
       "        [ 0.30909804, -0.30895427,  0.30917236],\n",
       "        [-0.0011509 ,  0.00104355, -0.00120423],\n",
       "        [ 0.01192705, -0.01199455,  0.01189425]], dtype=float32),\n",
       " array([ 0.12995625, -0.12994343,  0.12996437], dtype=float32),\n",
       " array([[ 0.49296683],\n",
       "        [-0.56665254],\n",
       "        [ 0.46323678]], dtype=float32),\n",
       " array([0.12995763], dtype=float32)]"
      ]
     },
     "execution_count": 17,
     "metadata": {},
     "output_type": "execute_result"
    }
   ],
   "source": [
    "model.get_weights()"
   ]
  },
  {
   "cell_type": "markdown",
   "metadata": {
    "tags": []
   },
   "source": [
    "##### Predictions vs Reality"
   ]
  },
  {
   "cell_type": "markdown",
   "metadata": {},
   "source": [
    "> 1. Calculate the Predicted Accidents and\n",
    "> 2. Compare it with the Real Total Accidents"
   ]
  },
  {
   "cell_type": "code",
   "execution_count": 18,
   "metadata": {},
   "outputs": [],
   "source": [
    "y_pred = model.predict(X)"
   ]
  },
  {
   "cell_type": "code",
   "execution_count": 19,
   "metadata": {},
   "outputs": [
    {
     "data": {
      "text/html": [
       "<div>\n",
       "<style scoped>\n",
       "    .dataframe tbody tr th:only-of-type {\n",
       "        vertical-align: middle;\n",
       "    }\n",
       "\n",
       "    .dataframe tbody tr th {\n",
       "        vertical-align: top;\n",
       "    }\n",
       "\n",
       "    .dataframe thead th {\n",
       "        text-align: right;\n",
       "    }\n",
       "</style>\n",
       "<table border=\"1\" class=\"dataframe\">\n",
       "  <thead>\n",
       "    <tr style=\"text-align: right;\">\n",
       "      <th></th>\n",
       "      <th>total</th>\n",
       "      <th>pred_zeros_after_fit</th>\n",
       "    </tr>\n",
       "    <tr>\n",
       "      <th>abbrev</th>\n",
       "      <th></th>\n",
       "      <th></th>\n",
       "    </tr>\n",
       "  </thead>\n",
       "  <tbody>\n",
       "    <tr>\n",
       "      <th>AL</th>\n",
       "      <td>18.8</td>\n",
       "      <td>18.632025</td>\n",
       "    </tr>\n",
       "    <tr>\n",
       "      <th>AK</th>\n",
       "      <td>18.1</td>\n",
       "      <td>17.862183</td>\n",
       "    </tr>\n",
       "    <tr>\n",
       "      <th>AZ</th>\n",
       "      <td>18.6</td>\n",
       "      <td>17.972857</td>\n",
       "    </tr>\n",
       "    <tr>\n",
       "      <th>AR</th>\n",
       "      <td>22.4</td>\n",
       "      <td>21.759617</td>\n",
       "    </tr>\n",
       "    <tr>\n",
       "      <th>CA</th>\n",
       "      <td>12.0</td>\n",
       "      <td>12.793476</td>\n",
       "    </tr>\n",
       "  </tbody>\n",
       "</table>\n",
       "</div>"
      ],
      "text/plain": [
       "        total  pred_zeros_after_fit\n",
       "abbrev                             \n",
       "AL       18.8             18.632025\n",
       "AK       18.1             17.862183\n",
       "AZ       18.6             17.972857\n",
       "AR       22.4             21.759617\n",
       "CA       12.0             12.793476"
      ]
     },
     "execution_count": 19,
     "metadata": {},
     "output_type": "execute_result"
    }
   ],
   "source": [
    "dfsel = df[['total']].copy()\n",
    "dfsel['pred_zeros_after_fit'] = y_pred\n",
    "dfsel.head()"
   ]
  },
  {
   "cell_type": "code",
   "execution_count": 14,
   "metadata": {},
   "outputs": [
    {
     "data": {
      "text/plain": [
       "1.19102670622752"
      ]
     },
     "execution_count": 14,
     "metadata": {},
     "output_type": "execute_result"
    }
   ],
   "source": [
    "mse = ((dfsel.total - dfsel.pred_zeros_after_fit)**2).mean()\n",
    "mse"
   ]
  },
  {
   "cell_type": "markdown",
   "metadata": {},
   "source": [
    "### How to `kernel_initializer` the weights to 1?"
   ]
  },
  {
   "cell_type": "code",
   "execution_count": null,
   "metadata": {},
   "outputs": [],
   "source": []
  },
  {
   "cell_type": "code",
   "execution_count": 20,
   "metadata": {},
   "outputs": [
    {
     "data": {
      "text/html": [
       "<div>\n",
       "<style scoped>\n",
       "    .dataframe tbody tr th:only-of-type {\n",
       "        vertical-align: middle;\n",
       "    }\n",
       "\n",
       "    .dataframe tbody tr th {\n",
       "        vertical-align: top;\n",
       "    }\n",
       "\n",
       "    .dataframe thead th {\n",
       "        text-align: right;\n",
       "    }\n",
       "</style>\n",
       "<table border=\"1\" class=\"dataframe\">\n",
       "  <thead>\n",
       "    <tr style=\"text-align: right;\">\n",
       "      <th></th>\n",
       "      <th>total</th>\n",
       "      <th>pred_zeros_after_fit</th>\n",
       "      <th>pred_ones_after_fit</th>\n",
       "    </tr>\n",
       "    <tr>\n",
       "      <th>abbrev</th>\n",
       "      <th></th>\n",
       "      <th></th>\n",
       "      <th></th>\n",
       "    </tr>\n",
       "  </thead>\n",
       "  <tbody>\n",
       "    <tr>\n",
       "      <th>AL</th>\n",
       "      <td>18.8</td>\n",
       "      <td>18.632025</td>\n",
       "      <td>18.632025</td>\n",
       "    </tr>\n",
       "    <tr>\n",
       "      <th>AK</th>\n",
       "      <td>18.1</td>\n",
       "      <td>17.862183</td>\n",
       "      <td>17.862183</td>\n",
       "    </tr>\n",
       "    <tr>\n",
       "      <th>AZ</th>\n",
       "      <td>18.6</td>\n",
       "      <td>17.972857</td>\n",
       "      <td>17.972857</td>\n",
       "    </tr>\n",
       "    <tr>\n",
       "      <th>AR</th>\n",
       "      <td>22.4</td>\n",
       "      <td>21.759617</td>\n",
       "      <td>21.759617</td>\n",
       "    </tr>\n",
       "    <tr>\n",
       "      <th>CA</th>\n",
       "      <td>12.0</td>\n",
       "      <td>12.793476</td>\n",
       "      <td>12.793476</td>\n",
       "    </tr>\n",
       "  </tbody>\n",
       "</table>\n",
       "</div>"
      ],
      "text/plain": [
       "        total  pred_zeros_after_fit  pred_ones_after_fit\n",
       "abbrev                                                  \n",
       "AL       18.8             18.632025            18.632025\n",
       "AK       18.1             17.862183            17.862183\n",
       "AZ       18.6             17.972857            17.972857\n",
       "AR       22.4             21.759617            21.759617\n",
       "CA       12.0             12.793476            12.793476"
      ]
     },
     "execution_count": 20,
     "metadata": {},
     "output_type": "execute_result"
    }
   ],
   "source": [
    "dfsel['pred_ones_after_fit'] = y_pred\n",
    "dfsel.head()"
   ]
  },
  {
   "cell_type": "code",
   "execution_count": 22,
   "metadata": {},
   "outputs": [
    {
     "data": {
      "text/plain": [
       "1.2899765180862215"
      ]
     },
     "execution_count": 22,
     "metadata": {},
     "output_type": "execute_result"
    }
   ],
   "source": [
    "mse = ((dfsel.total - dfsel.pred_ones_after_fit)**2).mean()\n",
    "mse"
   ]
  },
  {
   "cell_type": "markdown",
   "metadata": {},
   "source": [
    "### How to `kernel_initializer` the weights to `glorot_uniform` (default)?"
   ]
  },
  {
   "cell_type": "code",
   "execution_count": null,
   "metadata": {},
   "outputs": [],
   "source": []
  },
  {
   "cell_type": "markdown",
   "metadata": {},
   "source": [
    "## Play with the Activation Function"
   ]
  },
  {
   "cell_type": "markdown",
   "metadata": {},
   "source": [
    "> - https://keras.io/api/layers/activations/"
   ]
  },
  {
   "cell_type": "code",
   "execution_count": null,
   "metadata": {},
   "outputs": [],
   "source": [
    "%%HTML\n",
    "<iframe width=\"560\" height=\"315\" src=\"https://www.youtube.com/embed/IHZwWFHWa-w?start=558\" title=\"YouTube video player\" frameborder=\"0\" allow=\"accelerometer; autoplay; clipboard-write; encrypted-media; gyroscope; picture-in-picture\" allowfullscreen></iframe>"
   ]
  },
  {
   "cell_type": "markdown",
   "metadata": {},
   "source": [
    "### Use `sigmoid` activation in last layer"
   ]
  },
  {
   "cell_type": "code",
   "execution_count": 17,
   "metadata": {},
   "outputs": [],
   "source": [
    "model = Sequential()\n",
    "model.add(layer=Input(shape=(6,)))\n",
    "model.add(layer=Dense(units=3, kernel_initializer='glorot_uniform'))\n",
    "model.add(layer=Dense(units=1, activation='sigmoid'))"
   ]
  },
  {
   "cell_type": "code",
   "execution_count": 18,
   "metadata": {},
   "outputs": [],
   "source": [
    "model.compile(loss='mse', metrics=['mse'])"
   ]
  },
  {
   "cell_type": "markdown",
   "metadata": {},
   "source": [
    "#### `fit()` the Model"
   ]
  },
  {
   "cell_type": "code",
   "execution_count": 19,
   "metadata": {},
   "outputs": [
    {
     "data": {
      "text/plain": [
       "<keras.callbacks.History at 0x28d4a0120d0>"
      ]
     },
     "execution_count": 19,
     "metadata": {},
     "output_type": "execute_result"
    }
   ],
   "source": [
    "model.fit(X, y, epochs=500, verbose=0)"
   ]
  },
  {
   "cell_type": "markdown",
   "metadata": {},
   "source": [
    "#### Predictions vs Reality"
   ]
  },
  {
   "cell_type": "markdown",
   "metadata": {},
   "source": [
    "> 1. Calculate the Predicted Accidents and\n",
    "> 2. Compare it with the Real Total Accidents"
   ]
  },
  {
   "cell_type": "code",
   "execution_count": 20,
   "metadata": {},
   "outputs": [],
   "source": [
    "y_pred = model.predict(X)"
   ]
  },
  {
   "cell_type": "code",
   "execution_count": 21,
   "metadata": {},
   "outputs": [
    {
     "data": {
      "text/html": [
       "<div>\n",
       "<style scoped>\n",
       "    .dataframe tbody tr th:only-of-type {\n",
       "        vertical-align: middle;\n",
       "    }\n",
       "\n",
       "    .dataframe tbody tr th {\n",
       "        vertical-align: top;\n",
       "    }\n",
       "\n",
       "    .dataframe thead th {\n",
       "        text-align: right;\n",
       "    }\n",
       "</style>\n",
       "<table border=\"1\" class=\"dataframe\">\n",
       "  <thead>\n",
       "    <tr style=\"text-align: right;\">\n",
       "      <th></th>\n",
       "      <th>total</th>\n",
       "      <th>pred_zeros_after_fit</th>\n",
       "      <th>pred_ones_after_fit</th>\n",
       "      <th>pred_sigmoid</th>\n",
       "    </tr>\n",
       "    <tr>\n",
       "      <th>abbrev</th>\n",
       "      <th></th>\n",
       "      <th></th>\n",
       "      <th></th>\n",
       "      <th></th>\n",
       "    </tr>\n",
       "  </thead>\n",
       "  <tbody>\n",
       "    <tr>\n",
       "      <th>AL</th>\n",
       "      <td>18.8</td>\n",
       "      <td>18.841764</td>\n",
       "      <td>18.841764</td>\n",
       "      <td>1.0</td>\n",
       "    </tr>\n",
       "    <tr>\n",
       "      <th>AK</th>\n",
       "      <td>18.1</td>\n",
       "      <td>18.193848</td>\n",
       "      <td>18.193848</td>\n",
       "      <td>1.0</td>\n",
       "    </tr>\n",
       "    <tr>\n",
       "      <th>AZ</th>\n",
       "      <td>18.6</td>\n",
       "      <td>18.252439</td>\n",
       "      <td>18.252439</td>\n",
       "      <td>1.0</td>\n",
       "    </tr>\n",
       "    <tr>\n",
       "      <th>AR</th>\n",
       "      <td>22.4</td>\n",
       "      <td>22.013790</td>\n",
       "      <td>22.013790</td>\n",
       "      <td>1.0</td>\n",
       "    </tr>\n",
       "    <tr>\n",
       "      <th>CA</th>\n",
       "      <td>12.0</td>\n",
       "      <td>13.098405</td>\n",
       "      <td>13.098405</td>\n",
       "      <td>1.0</td>\n",
       "    </tr>\n",
       "  </tbody>\n",
       "</table>\n",
       "</div>"
      ],
      "text/plain": [
       "        total  pred_zeros_after_fit  pred_ones_after_fit  pred_sigmoid\n",
       "abbrev                                                                \n",
       "AL       18.8             18.841764            18.841764           1.0\n",
       "AK       18.1             18.193848            18.193848           1.0\n",
       "AZ       18.6             18.252439            18.252439           1.0\n",
       "AR       22.4             22.013790            22.013790           1.0\n",
       "CA       12.0             13.098405            13.098405           1.0"
      ]
     },
     "execution_count": 21,
     "metadata": {},
     "output_type": "execute_result"
    }
   ],
   "source": [
    "dfsel['pred_sigmoid'] = y_pred\n",
    "dfsel.head()"
   ]
  },
  {
   "cell_type": "code",
   "execution_count": 22,
   "metadata": {},
   "outputs": [
    {
     "data": {
      "text/plain": [
       "235.40764705882347"
      ]
     },
     "execution_count": 22,
     "metadata": {},
     "output_type": "execute_result"
    }
   ],
   "source": [
    "mse = ((dfsel.total - dfsel.pred_sigmoid)**2).mean()\n",
    "mse"
   ]
  },
  {
   "cell_type": "markdown",
   "metadata": {},
   "source": [
    "#### Observe the numbers for the `weights`\n",
    "\n",
    "> - Have they changed?"
   ]
  },
  {
   "cell_type": "code",
   "execution_count": null,
   "metadata": {},
   "outputs": [],
   "source": [
    "model.get_weights()"
   ]
  },
  {
   "cell_type": "markdown",
   "metadata": {},
   "source": [
    "### Use `linear` activation in last layer"
   ]
  },
  {
   "cell_type": "code",
   "execution_count": null,
   "metadata": {},
   "outputs": [],
   "source": []
  },
  {
   "cell_type": "markdown",
   "metadata": {},
   "source": [
    "### Use `tanh` activation in last layer"
   ]
  },
  {
   "cell_type": "code",
   "execution_count": null,
   "metadata": {},
   "outputs": [],
   "source": []
  },
  {
   "cell_type": "markdown",
   "metadata": {},
   "source": [
    "### Use `relu` activation in last layer"
   ]
  },
  {
   "cell_type": "code",
   "execution_count": null,
   "metadata": {},
   "outputs": [],
   "source": []
  },
  {
   "cell_type": "markdown",
   "metadata": {},
   "source": [
    "### How are the predictions changing? Why?"
   ]
  },
  {
   "cell_type": "code",
   "execution_count": null,
   "metadata": {},
   "outputs": [],
   "source": []
  },
  {
   "cell_type": "markdown",
   "metadata": {},
   "source": [
    "## Optimizer"
   ]
  },
  {
   "cell_type": "markdown",
   "metadata": {},
   "source": [
    "> - https://keras.io/api/optimizers/#available-optimizers"
   ]
  },
  {
   "cell_type": "markdown",
   "metadata": {},
   "source": [
    "Optimizers comparison in GIF → https://mlfromscratch.com/optimizers-explained/#adam"
   ]
  },
  {
   "cell_type": "markdown",
   "metadata": {},
   "source": [
    "Tesla's Neural Network Models is composed of 48 models trainned in 70.000 hours of GPU → https://tesla.com/ai"
   ]
  },
  {
   "cell_type": "markdown",
   "metadata": {},
   "source": [
    "1 Year with a 8 GPU Computer → https://twitter.com/thirdrowtesla/status/1252723358342377472"
   ]
  },
  {
   "cell_type": "markdown",
   "metadata": {},
   "source": [
    "### Use Gradient Descent `SGD`"
   ]
  },
  {
   "cell_type": "code",
   "execution_count": null,
   "metadata": {},
   "outputs": [],
   "source": [
    "model = Sequential()\n",
    "model.add(layer=Input(shape=(6,)))\n",
    "model.add(layer=Dense(units=3, kernel_initializer='glorot_uniform'))\n",
    "model.add(layer=Dense(units=1, activation='sigmoid'))"
   ]
  },
  {
   "cell_type": "markdown",
   "metadata": {},
   "source": [
    "#### `compile()` the model"
   ]
  },
  {
   "cell_type": "code",
   "execution_count": null,
   "metadata": {},
   "outputs": [],
   "source": [
    "model.compile(optimizer='sgd', loss='mse', metrics=['mse'])"
   ]
  },
  {
   "cell_type": "markdown",
   "metadata": {},
   "source": [
    "#### `fit()` the Model"
   ]
  },
  {
   "cell_type": "code",
   "execution_count": null,
   "metadata": {},
   "outputs": [],
   "source": [
    "history = model.fit(X, y, epochs=500, verbose=0)"
   ]
  },
  {
   "cell_type": "markdown",
   "metadata": {},
   "source": [
    "#### Predictions vs Reality"
   ]
  },
  {
   "cell_type": "markdown",
   "metadata": {},
   "source": [
    "> 1. Calculate the Predicted Accidents and\n",
    "> 2. Compare it with the Real Total Accidents"
   ]
  },
  {
   "cell_type": "code",
   "execution_count": null,
   "metadata": {},
   "outputs": [],
   "source": [
    "y_pred = model.predict(X)"
   ]
  },
  {
   "cell_type": "code",
   "execution_count": null,
   "metadata": {},
   "outputs": [],
   "source": [
    "dfsel['pred_gsd'] = y_pred\n",
    "dfsel.head()"
   ]
  },
  {
   "cell_type": "code",
   "execution_count": null,
   "metadata": {},
   "outputs": [],
   "source": [
    "mse = ((dfsel.total - dfsel.pred_sgd)**2).mean()\n",
    "mse"
   ]
  },
  {
   "cell_type": "markdown",
   "metadata": {},
   "source": [
    "#### Observe the numbers for the `weights`\n",
    "\n",
    "> - Have they changed?"
   ]
  },
  {
   "cell_type": "code",
   "execution_count": null,
   "metadata": {},
   "outputs": [],
   "source": [
    "model.get_weights()"
   ]
  },
  {
   "cell_type": "markdown",
   "metadata": {},
   "source": [
    "\n",
    "#### View History"
   ]
  },
  {
   "cell_type": "code",
   "execution_count": null,
   "metadata": {},
   "outputs": [],
   "source": [
    "import matplotlib.pyplot as plt"
   ]
  },
  {
   "cell_type": "code",
   "execution_count": null,
   "metadata": {},
   "outputs": [],
   "source": [
    "plt.plot(history.history['loss'])\n",
    "plt.plot(history.history['val_loss'])\n",
    "plt.title('model loss')\n",
    "plt.ylabel('loss')\n",
    "plt.xlabel('epoch')\n",
    "plt.legend(['train', 'val'], loc='upper left')\n",
    "plt.show()"
   ]
  },
  {
   "cell_type": "markdown",
   "metadata": {},
   "source": [
    "### Use `ADAM`"
   ]
  },
  {
   "cell_type": "code",
   "execution_count": null,
   "metadata": {},
   "outputs": [],
   "source": []
  },
  {
   "cell_type": "markdown",
   "metadata": {},
   "source": [
    "### Use `RMSPROP`"
   ]
  },
  {
   "cell_type": "code",
   "execution_count": null,
   "metadata": {},
   "outputs": [],
   "source": []
  },
  {
   "cell_type": "markdown",
   "metadata": {},
   "source": [
    "### Does it take different times to get the best accuracy? Why?"
   ]
  },
  {
   "cell_type": "code",
   "execution_count": null,
   "metadata": {},
   "outputs": [],
   "source": []
  },
  {
   "cell_type": "markdown",
   "metadata": {},
   "source": [
    "## Loss Functions"
   ]
  },
  {
   "cell_type": "markdown",
   "metadata": {},
   "source": [
    "> - https://keras.io/api/losses/"
   ]
  },
  {
   "cell_type": "markdown",
   "metadata": {},
   "source": [
    "### `binary_crossentropy`"
   ]
  },
  {
   "cell_type": "code",
   "execution_count": null,
   "metadata": {},
   "outputs": [],
   "source": []
  },
  {
   "cell_type": "markdown",
   "metadata": {},
   "source": [
    "### `sparse_categorical_crossentropy`"
   ]
  },
  {
   "cell_type": "code",
   "execution_count": null,
   "metadata": {},
   "outputs": [],
   "source": []
  },
  {
   "cell_type": "markdown",
   "metadata": {},
   "source": [
    "### `mean_absolute_error`"
   ]
  },
  {
   "cell_type": "code",
   "execution_count": null,
   "metadata": {},
   "outputs": [],
   "source": []
  },
  {
   "cell_type": "markdown",
   "metadata": {},
   "source": [
    "### `mean_squared_error`"
   ]
  },
  {
   "cell_type": "code",
   "execution_count": null,
   "metadata": {},
   "outputs": [],
   "source": []
  },
  {
   "cell_type": "markdown",
   "metadata": {},
   "source": [
    "## In the end, what should be a feasible configuration of the Neural Network for this data?"
   ]
  },
  {
   "cell_type": "code",
   "execution_count": null,
   "metadata": {},
   "outputs": [],
   "source": []
  },
  {
   "cell_type": "markdown",
   "metadata": {},
   "source": [
    "# Common Errors"
   ]
  },
  {
   "cell_type": "markdown",
   "metadata": {},
   "source": [
    "## The `kernel_initializer` Matters"
   ]
  },
  {
   "cell_type": "code",
   "execution_count": null,
   "metadata": {},
   "outputs": [],
   "source": []
  },
  {
   "cell_type": "markdown",
   "metadata": {},
   "source": [
    "## The `activation` Function Matters"
   ]
  },
  {
   "cell_type": "code",
   "execution_count": null,
   "metadata": {},
   "outputs": [],
   "source": []
  },
  {
   "cell_type": "markdown",
   "metadata": {},
   "source": [
    "## The `optimizer` Matters"
   ]
  },
  {
   "cell_type": "code",
   "execution_count": null,
   "metadata": {},
   "outputs": [],
   "source": []
  },
  {
   "cell_type": "markdown",
   "metadata": {},
   "source": [
    "## The Number of `epochs` Matters"
   ]
  },
  {
   "cell_type": "code",
   "execution_count": null,
   "metadata": {},
   "outputs": [],
   "source": []
  },
  {
   "cell_type": "markdown",
   "metadata": {},
   "source": [
    "## The `loss` Function Matters"
   ]
  },
  {
   "cell_type": "code",
   "execution_count": null,
   "metadata": {},
   "outputs": [],
   "source": []
  },
  {
   "cell_type": "markdown",
   "metadata": {},
   "source": [
    "## The Number of `epochs` Matters"
   ]
  },
  {
   "cell_type": "code",
   "execution_count": null,
   "metadata": {},
   "outputs": [],
   "source": []
  },
  {
   "cell_type": "markdown",
   "metadata": {},
   "source": [
    "# Neural Network's importance to find **Non-Linear Patterns** in the Data\n",
    "\n",
    "> - The number of Neurons & Hidden Layers"
   ]
  },
  {
   "cell_type": "markdown",
   "metadata": {},
   "source": [
    "https://towardsdatascience.com/beginners-ask-how-many-hidden-layers-neurons-to-use-in-artificial-neural-networks-51466afa0d3e"
   ]
  },
  {
   "cell_type": "markdown",
   "metadata": {},
   "source": [
    "https://playground.tensorflow.org/#activation=tanh&batchSize=10&dataset=circle&regDataset=reg-plane&learningRate=0.03&regularizationRate=0&noise=0&networkShape=4,2&seed=0.87287&showTestData=false&discretize=false&percTrainData=50&x=true&y=true&xTimesY=false&xSquared=false&ySquared=false&cosX=false&sinX=false&cosY=false&sinY=false&collectStats=false&problem=classification&initZero=false&hideText=false"
   ]
  },
  {
   "cell_type": "code",
   "execution_count": null,
   "metadata": {},
   "outputs": [],
   "source": []
  },
  {
   "cell_type": "markdown",
   "metadata": {},
   "source": [
    "## Summary\n",
    "\n",
    "- Mathematical Formula\n",
    "- Weights / Kernel Initializer\n",
    "- Loss Function\n",
    "- Activation Function\n",
    "- Optimizers"
   ]
  },
  {
   "cell_type": "markdown",
   "metadata": {},
   "source": [
    "## What cannot you change arbitrarily of a Neural Network?\n",
    "\n",
    "- Input Neurons\n",
    "- Output Neurons\n",
    "- Loss Functions\n",
    "- Activation Functions"
   ]
  }
 ],
 "metadata": {
  "authors": [
   {
    "name": "Jesús López @sotastica"
   }
  ],
  "interpreter": {
   "hash": "a2b8701b642343483c5f5e717bcb0768c6b951acf38d76a6fc8ea01492bda71d"
  },
  "kernelspec": {
   "display_name": "Python 3 (ipykernel)",
   "language": "python",
   "name": "python3"
  },
  "language_info": {
   "codemirror_mode": {
    "name": "ipython",
    "version": 3
   },
   "file_extension": ".py",
   "mimetype": "text/x-python",
   "name": "python",
   "nbconvert_exporter": "python",
   "pygments_lexer": "ipython3",
   "version": "3.9.7"
  },
  "toc-autonumbering": true
 },
 "nbformat": 4,
 "nbformat_minor": 4
}
