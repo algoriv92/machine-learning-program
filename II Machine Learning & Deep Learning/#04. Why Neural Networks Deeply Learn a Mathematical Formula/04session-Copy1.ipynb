{
 "cells": [
  {
   "cell_type": "code",
   "execution_count": 9,
   "metadata": {},
   "outputs": [],
   "source": [
    "a = 4"
   ]
  },
  {
   "cell_type": "code",
   "execution_count": 10,
   "metadata": {},
   "outputs": [],
   "source": [
    "b = 8"
   ]
  },
  {
   "cell_type": "markdown",
   "metadata": {},
   "source": [
    "<font size=\"+5\">#04. Why Neural Networks Deeply Learn a Mathematical Formula?</font>"
   ]
  },
  {
   "cell_type": "markdown",
   "metadata": {},
   "source": [
    "- Book + Private Lessons [Here ↗](https://sotastica.com/reservar)\n",
    "- Subscribe to my [Blog ↗](https://blog.pythonassembly.com/)\n",
    "- Let's keep in touch on [LinkedIn ↗](www.linkedin.com/in/jsulopz) 😄"
   ]
  },
  {
   "cell_type": "markdown",
   "metadata": {
    "tags": []
   },
   "source": [
    "# Machine Learning, what does it mean?"
   ]
  },
  {
   "cell_type": "markdown",
   "metadata": {},
   "source": [
    "> - The Machine Learns...\n",
    ">\n",
    "> But, **what does it learn?**"
   ]
  },
  {
   "cell_type": "code",
   "execution_count": 1,
   "metadata": {},
   "outputs": [
    {
     "data": {
      "text/html": [
       "<blockquote class=\"twitter-tweet\" data-lang=\"en\"><p lang=\"en\" dir=\"ltr\">Machine Learning, what does it mean? ⏯<br><br>· The machine learns...<br><br>Ha ha, not funny! 🤨 What does it learn?<br><br>· A mathematical equation. For example: <a href=\"https://t.co/sjtq9F2pq7\">pic.twitter.com/sjtq9F2pq7</a></p>&mdash; Jesús López (@sotastica) <a href=\"https://twitter.com/sotastica/status/1449735653328031745?ref_src=twsrc%5Etfw\">October 17, 2021</a></blockquote> <script async src=\"https://platform.twitter.com/widgets.js\" charset=\"utf-8\"></script>\n"
      ],
      "text/plain": [
       "<IPython.core.display.HTML object>"
      ]
     },
     "metadata": {},
     "output_type": "display_data"
    }
   ],
   "source": [
    "%%HTML\n",
    "<blockquote class=\"twitter-tweet\" data-lang=\"en\"><p lang=\"en\" dir=\"ltr\">Machine Learning, what does it mean? ⏯<br><br>· The machine learns...<br><br>Ha ha, not funny! 🤨 What does it learn?<br><br>· A mathematical equation. For example: <a href=\"https://t.co/sjtq9F2pq7\">pic.twitter.com/sjtq9F2pq7</a></p>&mdash; Jesús López (@sotastica) <a href=\"https://twitter.com/sotastica/status/1449735653328031745?ref_src=twsrc%5Etfw\">October 17, 2021</a></blockquote> <script async src=\"https://platform.twitter.com/widgets.js\" charset=\"utf-8\"></script>"
   ]
  },
  {
   "cell_type": "markdown",
   "metadata": {},
   "source": [
    "# How does the Machine Learn?"
   ]
  },
  {
   "cell_type": "markdown",
   "metadata": {},
   "source": [
    "## In a Linear Regression"
   ]
  },
  {
   "cell_type": "code",
   "execution_count": 2,
   "metadata": {},
   "outputs": [
    {
     "data": {
      "text/html": [
       "<iframe width=\"560\" height=\"315\" src=\"https://www.youtube.com/embed/Ht3rYS-JilE\" title=\"YouTube video player\" frameborder=\"0\" allow=\"accelerometer; autoplay; clipboard-write; encrypted-media; gyroscope; picture-in-picture\" allowfullscreen></iframe>\n"
      ],
      "text/plain": [
       "<IPython.core.display.HTML object>"
      ]
     },
     "metadata": {},
     "output_type": "display_data"
    }
   ],
   "source": [
    "%%HTML\n",
    "<iframe width=\"560\" height=\"315\" src=\"https://www.youtube.com/embed/Ht3rYS-JilE\" title=\"YouTube video player\" frameborder=\"0\" allow=\"accelerometer; autoplay; clipboard-write; encrypted-media; gyroscope; picture-in-picture\" allowfullscreen></iframe>"
   ]
  },
  {
   "cell_type": "markdown",
   "metadata": {},
   "source": [
    "## In a Neural Network"
   ]
  },
  {
   "cell_type": "code",
   "execution_count": 3,
   "metadata": {},
   "outputs": [
    {
     "data": {
      "text/html": [
       "<iframe width=\"560\" height=\"315\" src=\"https://www.youtube.com/embed/IHZwWFHWa-w?start=329\" title=\"YouTube video player\" frameborder=\"0\" allow=\"accelerometer; autoplay; clipboard-write; encrypted-media; gyroscope; picture-in-picture\" allowfullscreen></iframe>\n"
      ],
      "text/plain": [
       "<IPython.core.display.HTML object>"
      ]
     },
     "metadata": {},
     "output_type": "display_data"
    }
   ],
   "source": [
    "%%HTML\n",
    "<iframe width=\"560\" height=\"315\" src=\"https://www.youtube.com/embed/IHZwWFHWa-w?start=329\" title=\"YouTube video player\" frameborder=\"0\" allow=\"accelerometer; autoplay; clipboard-write; encrypted-media; gyroscope; picture-in-picture\" allowfullscreen></iframe>"
   ]
  },
  {
   "cell_type": "markdown",
   "metadata": {},
   "source": [
    "A Practical Example → [Tesla Autopilot](https://www.tesla.com/AI)"
   ]
  },
  {
   "cell_type": "markdown",
   "metadata": {},
   "source": [
    "An Example where It Fails → [Tesla Confuses Moon with Semaphore](https://twitter.com/Carnage4Life/status/1418920100086784000?s=20)"
   ]
  },
  {
   "cell_type": "markdown",
   "metadata": {},
   "source": [
    "# Load the Data"
   ]
  },
  {
   "cell_type": "markdown",
   "metadata": {},
   "source": [
    "> - Simply execute the following lines of code to load the data.\n",
    "> - This dataset contains **statistics about Car Accidents** (columns)\n",
    "> - In each one of **USA States** (rows)"
   ]
  },
  {
   "cell_type": "markdown",
   "metadata": {},
   "source": [
    "https://www.kaggle.com/fivethirtyeight/fivethirtyeight-bad-drivers-dataset/"
   ]
  },
  {
   "cell_type": "code",
   "execution_count": 23,
   "metadata": {},
   "outputs": [
    {
     "data": {
      "text/html": [
       "<div>\n",
       "<style scoped>\n",
       "    .dataframe tbody tr th:only-of-type {\n",
       "        vertical-align: middle;\n",
       "    }\n",
       "\n",
       "    .dataframe tbody tr th {\n",
       "        vertical-align: top;\n",
       "    }\n",
       "\n",
       "    .dataframe thead th {\n",
       "        text-align: right;\n",
       "    }\n",
       "</style>\n",
       "<table border=\"1\" class=\"dataframe\">\n",
       "  <thead>\n",
       "    <tr style=\"text-align: right;\">\n",
       "      <th></th>\n",
       "      <th>total</th>\n",
       "      <th>speeding</th>\n",
       "      <th>alcohol</th>\n",
       "      <th>not_distracted</th>\n",
       "      <th>no_previous</th>\n",
       "      <th>ins_premium</th>\n",
       "      <th>ins_losses</th>\n",
       "    </tr>\n",
       "    <tr>\n",
       "      <th>abbrev</th>\n",
       "      <th></th>\n",
       "      <th></th>\n",
       "      <th></th>\n",
       "      <th></th>\n",
       "      <th></th>\n",
       "      <th></th>\n",
       "      <th></th>\n",
       "    </tr>\n",
       "  </thead>\n",
       "  <tbody>\n",
       "    <tr>\n",
       "      <th>MN</th>\n",
       "      <td>9.6</td>\n",
       "      <td>2.208</td>\n",
       "      <td>2.784</td>\n",
       "      <td>8.448</td>\n",
       "      <td>8.448</td>\n",
       "      <td>777.18</td>\n",
       "      <td>133.35</td>\n",
       "    </tr>\n",
       "    <tr>\n",
       "      <th>IL</th>\n",
       "      <td>12.8</td>\n",
       "      <td>4.608</td>\n",
       "      <td>4.352</td>\n",
       "      <td>12.032</td>\n",
       "      <td>12.288</td>\n",
       "      <td>803.11</td>\n",
       "      <td>139.15</td>\n",
       "    </tr>\n",
       "    <tr>\n",
       "      <th>MA</th>\n",
       "      <td>8.2</td>\n",
       "      <td>1.886</td>\n",
       "      <td>2.870</td>\n",
       "      <td>7.134</td>\n",
       "      <td>6.560</td>\n",
       "      <td>1011.14</td>\n",
       "      <td>135.63</td>\n",
       "    </tr>\n",
       "    <tr>\n",
       "      <th>KS</th>\n",
       "      <td>17.8</td>\n",
       "      <td>4.806</td>\n",
       "      <td>4.272</td>\n",
       "      <td>13.706</td>\n",
       "      <td>15.130</td>\n",
       "      <td>780.45</td>\n",
       "      <td>133.80</td>\n",
       "    </tr>\n",
       "    <tr>\n",
       "      <th>CA</th>\n",
       "      <td>12.0</td>\n",
       "      <td>4.200</td>\n",
       "      <td>3.360</td>\n",
       "      <td>10.920</td>\n",
       "      <td>10.680</td>\n",
       "      <td>878.41</td>\n",
       "      <td>165.63</td>\n",
       "    </tr>\n",
       "  </tbody>\n",
       "</table>\n",
       "</div>"
      ],
      "text/plain": [
       "        total  speeding  alcohol  not_distracted  no_previous  ins_premium  \\\n",
       "abbrev                                                                       \n",
       "MN        9.6     2.208    2.784           8.448        8.448       777.18   \n",
       "IL       12.8     4.608    4.352          12.032       12.288       803.11   \n",
       "MA        8.2     1.886    2.870           7.134        6.560      1011.14   \n",
       "KS       17.8     4.806    4.272          13.706       15.130       780.45   \n",
       "CA       12.0     4.200    3.360          10.920       10.680       878.41   \n",
       "\n",
       "        ins_losses  \n",
       "abbrev              \n",
       "MN          133.35  \n",
       "IL          139.15  \n",
       "MA          135.63  \n",
       "KS          133.80  \n",
       "CA          165.63  "
      ]
     },
     "execution_count": 23,
     "metadata": {},
     "output_type": "execute_result"
    }
   ],
   "source": [
    "import seaborn as sns\n",
    "\n",
    "df = sns.load_dataset(name='car_crashes', index_col='abbrev')\n",
    "df.sample(5)"
   ]
  },
  {
   "cell_type": "code",
   "execution_count": 24,
   "metadata": {},
   "outputs": [
    {
     "data": {
      "text/plain": [
       "(51, 7)"
      ]
     },
     "execution_count": 24,
     "metadata": {},
     "output_type": "execute_result"
    }
   ],
   "source": [
    "df.shape"
   ]
  },
  {
   "cell_type": "markdown",
   "metadata": {},
   "source": [
    "# Neural Network Concepts in Python"
   ]
  },
  {
   "cell_type": "markdown",
   "metadata": {},
   "source": [
    "## Initializing the `Weights`"
   ]
  },
  {
   "cell_type": "markdown",
   "metadata": {},
   "source": [
    "> - https://keras.io/api/layers/initializers/"
   ]
  },
  {
   "cell_type": "markdown",
   "metadata": {},
   "source": [
    "### How to `kernel_initializer` the weights?"
   ]
  },
  {
   "cell_type": "markdown",
   "metadata": {},
   "source": [
    "$$\n",
    "accidents = speeding \\cdot w_1 + alcohol \\cdot w_2 \\ + ... + \\ ins\\_losses \\cdot w_7\n",
    "$$"
   ]
  },
  {
   "cell_type": "code",
   "execution_count": 5,
   "metadata": {},
   "outputs": [
    {
     "ename": "NameError",
     "evalue": "name 'fit' is not defined",
     "output_type": "error",
     "traceback": [
      "\u001b[0;31m---------------------------------------------------------------------------\u001b[0m",
      "\u001b[0;31mNameError\u001b[0m                                 Traceback (most recent call last)",
      "\u001b[0;32m/var/folders/24/tg28vxls25l9mjvqrnh0plc80000gn/T/ipykernel_38098/3324602025.py\u001b[0m in \u001b[0;36m<module>\u001b[0;34m\u001b[0m\n\u001b[0;32m----> 1\u001b[0;31m \u001b[0mfit\u001b[0m\u001b[0;34m(\u001b[0m\u001b[0;34m)\u001b[0m\u001b[0;34m\u001b[0m\u001b[0;34m\u001b[0m\u001b[0m\n\u001b[0m",
      "\u001b[0;31mNameError\u001b[0m: name 'fit' is not defined"
     ]
    }
   ],
   "source": [
    "fit()"
   ]
  },
  {
   "cell_type": "code",
   "execution_count": 8,
   "metadata": {},
   "outputs": [
    {
     "ename": "NameError",
     "evalue": "name 'algo' is not defined",
     "output_type": "error",
     "traceback": [
      "\u001b[0;31m---------------------------------------------------------------------------\u001b[0m",
      "\u001b[0;31mNameError\u001b[0m                                 Traceback (most recent call last)",
      "\u001b[0;32m/var/folders/24/tg28vxls25l9mjvqrnh0plc80000gn/T/ipykernel_38098/22777151.py\u001b[0m in \u001b[0;36m<module>\u001b[0;34m\u001b[0m\n\u001b[0;32m----> 1\u001b[0;31m \u001b[0malgo\u001b[0m\u001b[0;34m.\u001b[0m\u001b[0mfit\u001b[0m\u001b[0;34m(\u001b[0m\u001b[0;34m)\u001b[0m\u001b[0;34m\u001b[0m\u001b[0;34m\u001b[0m\u001b[0m\n\u001b[0m",
      "\u001b[0;31mNameError\u001b[0m: name 'algo' is not defined"
     ]
    }
   ],
   "source": [
    "algo.fit()"
   ]
  },
  {
   "cell_type": "markdown",
   "metadata": {},
   "source": [
    "`algo = ?` | `algo.fit()`"
   ]
  },
  {
   "cell_type": "code",
   "execution_count": null,
   "metadata": {},
   "outputs": [],
   "source": [
    "algo = "
   ]
  },
  {
   "cell_type": "code",
   "execution_count": 14,
   "metadata": {},
   "outputs": [],
   "source": [
    "from keras.models import Sequential"
   ]
  },
  {
   "cell_type": "code",
   "execution_count": 17,
   "metadata": {},
   "outputs": [
    {
     "name": "stdout",
     "output_type": "stream",
     "text": [
      "Metal device set to: Apple M1\n"
     ]
    },
    {
     "name": "stderr",
     "output_type": "stream",
     "text": [
      "2022-01-06 09:28:34.589015: I tensorflow/core/common_runtime/pluggable_device/pluggable_device_factory.cc:305] Could not identify NUMA node of platform GPU ID 0, defaulting to 0. Your kernel may not have been built with NUMA support.\n",
      "2022-01-06 09:28:34.589292: I tensorflow/core/common_runtime/pluggable_device/pluggable_device_factory.cc:271] Created TensorFlow device (/job:localhost/replica:0/task:0/device:GPU:0 with 0 MB memory) -> physical PluggableDevice (device: 0, name: METAL, pci bus id: <undefined>)\n"
     ]
    }
   ],
   "source": [
    "model = Sequential()"
   ]
  },
  {
   "cell_type": "code",
   "execution_count": 18,
   "metadata": {},
   "outputs": [
    {
     "ename": "NameError",
     "evalue": "name 'Dense' is not defined",
     "output_type": "error",
     "traceback": [
      "\u001b[0;31m---------------------------------------------------------------------------\u001b[0m",
      "\u001b[0;31mNameError\u001b[0m                                 Traceback (most recent call last)",
      "\u001b[0;32m/var/folders/24/tg28vxls25l9mjvqrnh0plc80000gn/T/ipykernel_38098/21407332.py\u001b[0m in \u001b[0;36m<module>\u001b[0;34m\u001b[0m\n\u001b[0;32m----> 1\u001b[0;31m \u001b[0mDense\u001b[0m\u001b[0;34m\u001b[0m\u001b[0;34m\u001b[0m\u001b[0m\n\u001b[0m",
      "\u001b[0;31mNameError\u001b[0m: name 'Dense' is not defined"
     ]
    }
   ],
   "source": [
    "Dense"
   ]
  },
  {
   "cell_type": "code",
   "execution_count": 25,
   "metadata": {},
   "outputs": [],
   "source": [
    "from keras.layers import Dense, Input"
   ]
  },
  {
   "cell_type": "code",
   "execution_count": null,
   "metadata": {},
   "outputs": [],
   "source": [
    "model = Sequential()\n",
    "model.add(layer=Input(shape=(6,)))\n",
    "model.add(layer=Dense(3))\n",
    "model.add(layer=Dense(1, ))"
   ]
  },
  {
   "cell_type": "code",
   "execution_count": 26,
   "metadata": {},
   "outputs": [
    {
     "data": {
      "text/plain": [
       "keras.layers.core.Dense"
      ]
     },
     "execution_count": 26,
     "metadata": {},
     "output_type": "execute_result"
    }
   ],
   "source": [
    "Dense"
   ]
  },
  {
   "cell_type": "code",
   "execution_count": 34,
   "metadata": {},
   "outputs": [],
   "source": [
    "model = Sequential()\n",
    "model.add(layer=Dense(units=3, input_dim=6, kernel_initializer='zeros'))\n",
    "model.add(layer=Dense(units=1))"
   ]
  },
  {
   "cell_type": "markdown",
   "metadata": {},
   "source": [
    "#### Make a Prediction with the Neural Network"
   ]
  },
  {
   "cell_type": "markdown",
   "metadata": {},
   "source": [
    "> - Can we make a prediction for for `Washington DC` accidents\n",
    "> - With the already initialized Mathematical Equation?"
   ]
  },
  {
   "cell_type": "code",
   "execution_count": 35,
   "metadata": {},
   "outputs": [],
   "source": [
    "X = df.drop(columns='total')\n",
    "y = df.total"
   ]
  },
  {
   "cell_type": "code",
   "execution_count": 36,
   "metadata": {},
   "outputs": [],
   "source": [
    "AL = X[:1]"
   ]
  },
  {
   "cell_type": "code",
   "execution_count": 37,
   "metadata": {},
   "outputs": [
    {
     "data": {
      "text/html": [
       "<div>\n",
       "<style scoped>\n",
       "    .dataframe tbody tr th:only-of-type {\n",
       "        vertical-align: middle;\n",
       "    }\n",
       "\n",
       "    .dataframe tbody tr th {\n",
       "        vertical-align: top;\n",
       "    }\n",
       "\n",
       "    .dataframe thead th {\n",
       "        text-align: right;\n",
       "    }\n",
       "</style>\n",
       "<table border=\"1\" class=\"dataframe\">\n",
       "  <thead>\n",
       "    <tr style=\"text-align: right;\">\n",
       "      <th></th>\n",
       "      <th>speeding</th>\n",
       "      <th>alcohol</th>\n",
       "      <th>not_distracted</th>\n",
       "      <th>no_previous</th>\n",
       "      <th>ins_premium</th>\n",
       "      <th>ins_losses</th>\n",
       "    </tr>\n",
       "    <tr>\n",
       "      <th>abbrev</th>\n",
       "      <th></th>\n",
       "      <th></th>\n",
       "      <th></th>\n",
       "      <th></th>\n",
       "      <th></th>\n",
       "      <th></th>\n",
       "    </tr>\n",
       "  </thead>\n",
       "  <tbody>\n",
       "    <tr>\n",
       "      <th>AL</th>\n",
       "      <td>7.332</td>\n",
       "      <td>5.64</td>\n",
       "      <td>18.048</td>\n",
       "      <td>15.04</td>\n",
       "      <td>784.55</td>\n",
       "      <td>145.08</td>\n",
       "    </tr>\n",
       "  </tbody>\n",
       "</table>\n",
       "</div>"
      ],
      "text/plain": [
       "        speeding  alcohol  not_distracted  no_previous  ins_premium  \\\n",
       "abbrev                                                                \n",
       "AL         7.332     5.64          18.048        15.04       784.55   \n",
       "\n",
       "        ins_losses  \n",
       "abbrev              \n",
       "AL          145.08  "
      ]
     },
     "execution_count": 37,
     "metadata": {},
     "output_type": "execute_result"
    }
   ],
   "source": [
    "AL"
   ]
  },
  {
   "cell_type": "code",
   "execution_count": 38,
   "metadata": {},
   "outputs": [
    {
     "name": "stderr",
     "output_type": "stream",
     "text": [
      "2022-01-06 09:57:35.780228: I tensorflow/core/grappler/optimizers/custom_graph_optimizer_registry.cc:112] Plugin optimizer for device_type GPU is enabled.\n"
     ]
    },
    {
     "data": {
      "text/plain": [
       "array([[0.]], dtype=float32)"
      ]
     },
     "execution_count": 38,
     "metadata": {},
     "output_type": "execute_result"
    }
   ],
   "source": [
    "model.predict(x=AL)"
   ]
  },
  {
   "cell_type": "code",
   "execution_count": 39,
   "metadata": {},
   "outputs": [
    {
     "data": {
      "text/html": [
       "<div>\n",
       "<style scoped>\n",
       "    .dataframe tbody tr th:only-of-type {\n",
       "        vertical-align: middle;\n",
       "    }\n",
       "\n",
       "    .dataframe tbody tr th {\n",
       "        vertical-align: top;\n",
       "    }\n",
       "\n",
       "    .dataframe thead th {\n",
       "        text-align: right;\n",
       "    }\n",
       "</style>\n",
       "<table border=\"1\" class=\"dataframe\">\n",
       "  <thead>\n",
       "    <tr style=\"text-align: right;\">\n",
       "      <th></th>\n",
       "      <th>total</th>\n",
       "      <th>speeding</th>\n",
       "      <th>alcohol</th>\n",
       "      <th>not_distracted</th>\n",
       "      <th>no_previous</th>\n",
       "      <th>ins_premium</th>\n",
       "      <th>ins_losses</th>\n",
       "    </tr>\n",
       "    <tr>\n",
       "      <th>abbrev</th>\n",
       "      <th></th>\n",
       "      <th></th>\n",
       "      <th></th>\n",
       "      <th></th>\n",
       "      <th></th>\n",
       "      <th></th>\n",
       "      <th></th>\n",
       "    </tr>\n",
       "  </thead>\n",
       "  <tbody>\n",
       "    <tr>\n",
       "      <th>AL</th>\n",
       "      <td>18.8</td>\n",
       "      <td>7.332</td>\n",
       "      <td>5.64</td>\n",
       "      <td>18.048</td>\n",
       "      <td>15.04</td>\n",
       "      <td>784.55</td>\n",
       "      <td>145.08</td>\n",
       "    </tr>\n",
       "  </tbody>\n",
       "</table>\n",
       "</div>"
      ],
      "text/plain": [
       "        total  speeding  alcohol  not_distracted  no_previous  ins_premium  \\\n",
       "abbrev                                                                       \n",
       "AL       18.8     7.332     5.64          18.048        15.04       784.55   \n",
       "\n",
       "        ins_losses  \n",
       "abbrev              \n",
       "AL          145.08  "
      ]
     },
     "execution_count": 39,
     "metadata": {},
     "output_type": "execute_result"
    }
   ],
   "source": [
    "df[:1]"
   ]
  },
  {
   "cell_type": "markdown",
   "metadata": {},
   "source": [
    "#### Observe the numbers for the `weights`"
   ]
  },
  {
   "cell_type": "code",
   "execution_count": 40,
   "metadata": {},
   "outputs": [
    {
     "data": {
      "text/plain": [
       "[array([[0., 0., 0.],\n",
       "        [0., 0., 0.],\n",
       "        [0., 0., 0.],\n",
       "        [0., 0., 0.],\n",
       "        [0., 0., 0.],\n",
       "        [0., 0., 0.]], dtype=float32),\n",
       " array([0., 0., 0.], dtype=float32),\n",
       " array([[ 0.13440204],\n",
       "        [ 0.3892213 ],\n",
       "        [-0.645908  ]], dtype=float32),\n",
       " array([0.], dtype=float32)]"
      ]
     },
     "execution_count": 40,
     "metadata": {},
     "output_type": "execute_result"
    }
   ],
   "source": [
    "model.get_weights()"
   ]
  },
  {
   "cell_type": "markdown",
   "metadata": {},
   "source": [
    "#### Predictions vs Reality"
   ]
  },
  {
   "cell_type": "markdown",
   "metadata": {},
   "source": [
    "> 1. Calculate the Predicted Accidents and\n",
    "> 2. Compare it with the Real Total Accidents"
   ]
  },
  {
   "cell_type": "code",
   "execution_count": null,
   "metadata": {},
   "outputs": [],
   "source": []
  },
  {
   "cell_type": "markdown",
   "metadata": {},
   "source": [
    "#### `fit()` the `model` and compare again"
   ]
  },
  {
   "cell_type": "code",
   "execution_count": 42,
   "metadata": {},
   "outputs": [],
   "source": [
    "model.compile(loss='mse', metrics=['mse'])"
   ]
  },
  {
   "cell_type": "code",
   "execution_count": 43,
   "metadata": {},
   "outputs": [
    {
     "name": "stdout",
     "output_type": "stream",
     "text": [
      "Epoch 1/500\n",
      "2/2 - 0s - loss: 222.7761 - mse: 222.7761\n",
      "Epoch 2/500\n",
      "2/2 - 0s - loss: 93.2213 - mse: 93.2213\n",
      "Epoch 3/500\n",
      "2/2 - 0s - loss: 52.9440 - mse: 52.9440\n",
      "Epoch 4/500\n",
      "2/2 - 0s - loss: 37.1020 - mse: 37.1020\n",
      "Epoch 5/500\n",
      "2/2 - 0s - loss: 30.7588 - mse: 30.7588\n",
      "Epoch 6/500\n",
      "2/2 - 0s - loss: 29.0020 - mse: 29.0020\n",
      "Epoch 7/500\n",
      "2/2 - 0s - loss: 28.2831 - mse: 28.2831\n",
      "Epoch 8/500\n",
      "2/2 - 0s - loss: 27.4843 - mse: 27.4843\n"
     ]
    },
    {
     "name": "stderr",
     "output_type": "stream",
     "text": [
      "2022-01-06 10:03:22.351338: I tensorflow/core/grappler/optimizers/custom_graph_optimizer_registry.cc:112] Plugin optimizer for device_type GPU is enabled.\n"
     ]
    },
    {
     "name": "stdout",
     "output_type": "stream",
     "text": [
      "Epoch 9/500\n",
      "2/2 - 0s - loss: 27.0332 - mse: 27.0332\n",
      "Epoch 10/500\n",
      "2/2 - 0s - loss: 26.8303 - mse: 26.8303\n",
      "Epoch 11/500\n",
      "2/2 - 0s - loss: 27.0910 - mse: 27.0910\n",
      "Epoch 12/500\n",
      "2/2 - 0s - loss: 26.6957 - mse: 26.6957\n",
      "Epoch 13/500\n",
      "2/2 - 0s - loss: 26.4539 - mse: 26.4539\n",
      "Epoch 14/500\n",
      "2/2 - 0s - loss: 26.1589 - mse: 26.1589\n",
      "Epoch 15/500\n",
      "2/2 - 0s - loss: 25.8832 - mse: 25.8832\n",
      "Epoch 16/500\n",
      "2/2 - 0s - loss: 25.9123 - mse: 25.9123\n",
      "Epoch 17/500\n",
      "2/2 - 0s - loss: 25.9592 - mse: 25.9592\n",
      "Epoch 18/500\n",
      "2/2 - 0s - loss: 26.7020 - mse: 26.7020\n",
      "Epoch 19/500\n",
      "2/2 - 0s - loss: 25.8275 - mse: 25.8275\n",
      "Epoch 20/500\n",
      "2/2 - 0s - loss: 24.7741 - mse: 24.7741\n",
      "Epoch 21/500\n",
      "2/2 - 0s - loss: 24.9872 - mse: 24.9872\n",
      "Epoch 22/500\n",
      "2/2 - 0s - loss: 24.8492 - mse: 24.8492\n",
      "Epoch 23/500\n",
      "2/2 - 0s - loss: 23.9078 - mse: 23.9078\n",
      "Epoch 24/500\n",
      "2/2 - 0s - loss: 24.1131 - mse: 24.1131\n",
      "Epoch 25/500\n",
      "2/2 - 0s - loss: 26.7698 - mse: 26.7698\n",
      "Epoch 26/500\n",
      "2/2 - 0s - loss: 24.0691 - mse: 24.0691\n",
      "Epoch 27/500\n",
      "2/2 - 0s - loss: 23.2625 - mse: 23.2625\n",
      "Epoch 28/500\n",
      "2/2 - 0s - loss: 24.1825 - mse: 24.1825\n",
      "Epoch 29/500\n",
      "2/2 - 0s - loss: 23.3085 - mse: 23.3085\n",
      "Epoch 30/500\n",
      "2/2 - 0s - loss: 22.3871 - mse: 22.3871\n",
      "Epoch 31/500\n",
      "2/2 - 0s - loss: 22.1700 - mse: 22.1700\n",
      "Epoch 32/500\n",
      "2/2 - 0s - loss: 21.5644 - mse: 21.5644\n",
      "Epoch 33/500\n",
      "2/2 - 0s - loss: 21.4979 - mse: 21.4979\n",
      "Epoch 34/500\n",
      "2/2 - 0s - loss: 21.8217 - mse: 21.8217\n",
      "Epoch 35/500\n",
      "2/2 - 0s - loss: 23.4312 - mse: 23.4312\n",
      "Epoch 36/500\n",
      "2/2 - 0s - loss: 22.0476 - mse: 22.0476\n",
      "Epoch 37/500\n",
      "2/2 - 0s - loss: 20.2329 - mse: 20.2329\n",
      "Epoch 38/500\n",
      "2/2 - 0s - loss: 20.4762 - mse: 20.4762\n",
      "Epoch 39/500\n",
      "2/2 - 0s - loss: 20.4359 - mse: 20.4359\n",
      "Epoch 40/500\n",
      "2/2 - 0s - loss: 19.5948 - mse: 19.5948\n",
      "Epoch 41/500\n",
      "2/2 - 0s - loss: 19.5251 - mse: 19.5251\n",
      "Epoch 42/500\n",
      "2/2 - 0s - loss: 19.4378 - mse: 19.4378\n",
      "Epoch 43/500\n",
      "2/2 - 0s - loss: 18.6767 - mse: 18.6767\n",
      "Epoch 44/500\n",
      "2/2 - 0s - loss: 20.0820 - mse: 20.0820\n",
      "Epoch 45/500\n",
      "2/2 - 0s - loss: 19.4713 - mse: 19.4713\n",
      "Epoch 46/500\n",
      "2/2 - 0s - loss: 17.9832 - mse: 17.9832\n",
      "Epoch 47/500\n",
      "2/2 - 0s - loss: 18.1254 - mse: 18.1254\n",
      "Epoch 48/500\n",
      "2/2 - 0s - loss: 17.4699 - mse: 17.4699\n",
      "Epoch 49/500\n",
      "2/2 - 0s - loss: 17.3335 - mse: 17.3335\n",
      "Epoch 50/500\n",
      "2/2 - 0s - loss: 17.5593 - mse: 17.5593\n",
      "Epoch 51/500\n",
      "2/2 - 0s - loss: 16.8436 - mse: 16.8436\n",
      "Epoch 52/500\n",
      "2/2 - 0s - loss: 16.3571 - mse: 16.3571\n",
      "Epoch 53/500\n",
      "2/2 - 0s - loss: 21.9490 - mse: 21.9490\n",
      "Epoch 54/500\n",
      "2/2 - 0s - loss: 16.9083 - mse: 16.9083\n",
      "Epoch 55/500\n",
      "2/2 - 0s - loss: 15.9710 - mse: 15.9710\n",
      "Epoch 56/500\n",
      "2/2 - 0s - loss: 15.5613 - mse: 15.5613\n",
      "Epoch 57/500\n",
      "2/2 - 0s - loss: 15.5893 - mse: 15.5893\n",
      "Epoch 58/500\n",
      "2/2 - 0s - loss: 15.1499 - mse: 15.1499\n",
      "Epoch 59/500\n",
      "2/2 - 0s - loss: 14.8698 - mse: 14.8698\n",
      "Epoch 60/500\n",
      "2/2 - 0s - loss: 14.7910 - mse: 14.7910\n",
      "Epoch 61/500\n",
      "2/2 - 0s - loss: 16.4141 - mse: 16.4141\n",
      "Epoch 62/500\n",
      "2/2 - 0s - loss: 16.8570 - mse: 16.8570\n",
      "Epoch 63/500\n",
      "2/2 - 0s - loss: 14.0232 - mse: 14.0232\n",
      "Epoch 64/500\n",
      "2/2 - 0s - loss: 13.6862 - mse: 13.6862\n",
      "Epoch 65/500\n",
      "2/2 - 0s - loss: 13.5347 - mse: 13.5347\n",
      "Epoch 66/500\n",
      "2/2 - 0s - loss: 13.9548 - mse: 13.9548\n",
      "Epoch 67/500\n",
      "2/2 - 0s - loss: 16.1486 - mse: 16.1486\n",
      "Epoch 68/500\n",
      "2/2 - 0s - loss: 13.6981 - mse: 13.6981\n",
      "Epoch 69/500\n",
      "2/2 - 0s - loss: 12.8088 - mse: 12.8088\n",
      "Epoch 70/500\n",
      "2/2 - 0s - loss: 13.1956 - mse: 13.1956\n",
      "Epoch 71/500\n",
      "2/2 - 0s - loss: 12.2983 - mse: 12.2983\n",
      "Epoch 72/500\n",
      "2/2 - 0s - loss: 12.1200 - mse: 12.1200\n",
      "Epoch 73/500\n",
      "2/2 - 0s - loss: 12.3292 - mse: 12.3292\n",
      "Epoch 74/500\n",
      "2/2 - 0s - loss: 13.5179 - mse: 13.5179\n",
      "Epoch 75/500\n",
      "2/2 - 0s - loss: 12.7410 - mse: 12.7410\n",
      "Epoch 76/500\n",
      "2/2 - 0s - loss: 11.4167 - mse: 11.4167\n",
      "Epoch 77/500\n",
      "2/2 - 0s - loss: 11.1840 - mse: 11.1840\n",
      "Epoch 78/500\n",
      "2/2 - 0s - loss: 11.2869 - mse: 11.2869\n",
      "Epoch 79/500\n",
      "2/2 - 0s - loss: 10.7502 - mse: 10.7502\n",
      "Epoch 80/500\n",
      "2/2 - 0s - loss: 11.2006 - mse: 11.2006\n",
      "Epoch 81/500\n",
      "2/2 - 0s - loss: 11.4156 - mse: 11.4156\n",
      "Epoch 82/500\n",
      "2/2 - 0s - loss: 10.2408 - mse: 10.2408\n",
      "Epoch 83/500\n",
      "2/2 - 0s - loss: 11.7316 - mse: 11.7316\n",
      "Epoch 84/500\n",
      "2/2 - 0s - loss: 10.1670 - mse: 10.1670\n",
      "Epoch 85/500\n",
      "2/2 - 0s - loss: 10.5181 - mse: 10.5181\n",
      "Epoch 86/500\n",
      "2/2 - 0s - loss: 10.1342 - mse: 10.1342\n",
      "Epoch 87/500\n",
      "2/2 - 0s - loss: 9.4884 - mse: 9.4884\n",
      "Epoch 88/500\n",
      "2/2 - 0s - loss: 9.9367 - mse: 9.9367\n",
      "Epoch 89/500\n",
      "2/2 - 0s - loss: 9.6178 - mse: 9.6178\n",
      "Epoch 90/500\n",
      "2/2 - 0s - loss: 8.8449 - mse: 8.8449\n",
      "Epoch 91/500\n",
      "2/2 - 0s - loss: 9.8264 - mse: 9.8264\n",
      "Epoch 92/500\n",
      "2/2 - 0s - loss: 10.6083 - mse: 10.6083\n",
      "Epoch 93/500\n",
      "2/2 - 0s - loss: 8.4493 - mse: 8.4493\n",
      "Epoch 94/500\n",
      "2/2 - 0s - loss: 8.5235 - mse: 8.5235\n",
      "Epoch 95/500\n",
      "2/2 - 0s - loss: 8.1503 - mse: 8.1503\n",
      "Epoch 96/500\n",
      "2/2 - 0s - loss: 8.1870 - mse: 8.1870\n",
      "Epoch 97/500\n",
      "2/2 - 0s - loss: 8.7121 - mse: 8.7121\n",
      "Epoch 98/500\n",
      "2/2 - 0s - loss: 10.0632 - mse: 10.0632\n",
      "Epoch 99/500\n",
      "2/2 - 0s - loss: 7.6775 - mse: 7.6775\n",
      "Epoch 100/500\n",
      "2/2 - 0s - loss: 8.4798 - mse: 8.4798\n",
      "Epoch 101/500\n",
      "2/2 - 0s - loss: 10.3607 - mse: 10.3607\n",
      "Epoch 102/500\n",
      "2/2 - 0s - loss: 8.2308 - mse: 8.2308\n",
      "Epoch 103/500\n",
      "2/2 - 0s - loss: 8.2611 - mse: 8.2611\n",
      "Epoch 104/500\n",
      "2/2 - 0s - loss: 7.3173 - mse: 7.3173\n",
      "Epoch 105/500\n",
      "2/2 - 0s - loss: 7.1542 - mse: 7.1542\n",
      "Epoch 106/500\n",
      "2/2 - 0s - loss: 7.1544 - mse: 7.1544\n",
      "Epoch 107/500\n",
      "2/2 - 0s - loss: 6.8825 - mse: 6.8825\n",
      "Epoch 108/500\n",
      "2/2 - 0s - loss: 6.8225 - mse: 6.8225\n",
      "Epoch 109/500\n",
      "2/2 - 0s - loss: 6.3844 - mse: 6.3844\n",
      "Epoch 110/500\n",
      "2/2 - 0s - loss: 7.2883 - mse: 7.2883\n",
      "Epoch 111/500\n",
      "2/2 - 0s - loss: 7.9689 - mse: 7.9689\n",
      "Epoch 112/500\n",
      "2/2 - 0s - loss: 7.8302 - mse: 7.8302\n",
      "Epoch 113/500\n",
      "2/2 - 0s - loss: 6.6849 - mse: 6.6849\n",
      "Epoch 114/500\n",
      "2/2 - 0s - loss: 5.9061 - mse: 5.9061\n",
      "Epoch 115/500\n",
      "2/2 - 0s - loss: 6.8101 - mse: 6.8101\n",
      "Epoch 116/500\n",
      "2/2 - 0s - loss: 5.7848 - mse: 5.7848\n",
      "Epoch 117/500\n",
      "2/2 - 0s - loss: 6.2863 - mse: 6.2863\n",
      "Epoch 118/500\n",
      "2/2 - 0s - loss: 5.5534 - mse: 5.5534\n",
      "Epoch 119/500\n",
      "2/2 - 0s - loss: 6.5837 - mse: 6.5837\n",
      "Epoch 120/500\n",
      "2/2 - 0s - loss: 6.3975 - mse: 6.3975\n",
      "Epoch 121/500\n",
      "2/2 - 0s - loss: 5.2893 - mse: 5.2893\n",
      "Epoch 122/500\n",
      "2/2 - 0s - loss: 5.1630 - mse: 5.1630\n",
      "Epoch 123/500\n",
      "2/2 - 0s - loss: 5.2474 - mse: 5.2474\n",
      "Epoch 124/500\n",
      "2/2 - 0s - loss: 7.0166 - mse: 7.0166\n",
      "Epoch 125/500\n",
      "2/2 - 0s - loss: 6.1788 - mse: 6.1788\n",
      "Epoch 126/500\n",
      "2/2 - 0s - loss: 4.8640 - mse: 4.8640\n",
      "Epoch 127/500\n",
      "2/2 - 0s - loss: 4.7698 - mse: 4.7698\n",
      "Epoch 128/500\n",
      "2/2 - 0s - loss: 7.4195 - mse: 7.4195\n",
      "Epoch 129/500\n",
      "2/2 - 0s - loss: 5.2195 - mse: 5.2195\n",
      "Epoch 130/500\n",
      "2/2 - 0s - loss: 4.3620 - mse: 4.3620\n",
      "Epoch 131/500\n",
      "2/2 - 0s - loss: 4.7837 - mse: 4.7837\n",
      "Epoch 132/500\n",
      "2/2 - 0s - loss: 4.5211 - mse: 4.5211\n",
      "Epoch 133/500\n",
      "2/2 - 0s - loss: 4.3410 - mse: 4.3410\n",
      "Epoch 134/500\n",
      "2/2 - 0s - loss: 4.0525 - mse: 4.0525\n",
      "Epoch 135/500\n",
      "2/2 - 0s - loss: 4.9074 - mse: 4.9074\n",
      "Epoch 136/500\n",
      "2/2 - 0s - loss: 5.3598 - mse: 5.3598\n",
      "Epoch 137/500\n",
      "2/2 - 0s - loss: 4.6035 - mse: 4.6035\n",
      "Epoch 138/500\n",
      "2/2 - 0s - loss: 3.9493 - mse: 3.9493\n",
      "Epoch 139/500\n",
      "2/2 - 0s - loss: 4.2269 - mse: 4.2269\n",
      "Epoch 140/500\n",
      "2/2 - 0s - loss: 4.0904 - mse: 4.0904\n",
      "Epoch 141/500\n",
      "2/2 - 0s - loss: 5.1536 - mse: 5.1536\n",
      "Epoch 142/500\n",
      "2/2 - 0s - loss: 3.9985 - mse: 3.9985\n",
      "Epoch 143/500\n",
      "2/2 - 0s - loss: 3.5272 - mse: 3.5272\n",
      "Epoch 144/500\n",
      "2/2 - 0s - loss: 4.8510 - mse: 4.8510\n",
      "Epoch 145/500\n",
      "2/2 - 0s - loss: 4.6384 - mse: 4.6384\n",
      "Epoch 146/500\n",
      "2/2 - 0s - loss: 3.5837 - mse: 3.5837\n",
      "Epoch 147/500\n",
      "2/2 - 0s - loss: 4.4249 - mse: 4.4249\n",
      "Epoch 148/500\n",
      "2/2 - 0s - loss: 4.3744 - mse: 4.3744\n",
      "Epoch 149/500\n",
      "2/2 - 0s - loss: 3.4624 - mse: 3.4624\n",
      "Epoch 150/500\n",
      "2/2 - 0s - loss: 4.2671 - mse: 4.2671\n",
      "Epoch 151/500\n",
      "2/2 - 0s - loss: 3.4415 - mse: 3.4415\n",
      "Epoch 152/500\n",
      "2/2 - 0s - loss: 3.5610 - mse: 3.5610\n",
      "Epoch 153/500\n",
      "2/2 - 0s - loss: 4.1556 - mse: 4.1556\n",
      "Epoch 154/500\n",
      "2/2 - 0s - loss: 3.9856 - mse: 3.9856\n",
      "Epoch 155/500\n",
      "2/2 - 0s - loss: 3.5120 - mse: 3.5120\n",
      "Epoch 156/500\n",
      "2/2 - 0s - loss: 3.0025 - mse: 3.0025\n",
      "Epoch 157/500\n",
      "2/2 - 0s - loss: 3.0402 - mse: 3.0402\n",
      "Epoch 158/500\n",
      "2/2 - 0s - loss: 3.9188 - mse: 3.9188\n",
      "Epoch 159/500\n",
      "2/2 - 0s - loss: 5.3381 - mse: 5.3381\n",
      "Epoch 160/500\n",
      "2/2 - 0s - loss: 2.8905 - mse: 2.8905\n",
      "Epoch 161/500\n",
      "2/2 - 0s - loss: 2.7804 - mse: 2.7804\n",
      "Epoch 162/500\n",
      "2/2 - 0s - loss: 2.9893 - mse: 2.9893\n",
      "Epoch 163/500\n",
      "2/2 - 0s - loss: 4.4490 - mse: 4.4490\n",
      "Epoch 164/500\n",
      "2/2 - 0s - loss: 5.4831 - mse: 5.4831\n",
      "Epoch 165/500\n",
      "2/2 - 0s - loss: 3.8016 - mse: 3.8016\n",
      "Epoch 166/500\n",
      "2/2 - 0s - loss: 3.2006 - mse: 3.2006\n",
      "Epoch 167/500\n",
      "2/2 - 0s - loss: 3.2243 - mse: 3.2243\n",
      "Epoch 168/500\n",
      "2/2 - 0s - loss: 3.1576 - mse: 3.1576\n",
      "Epoch 169/500\n",
      "2/2 - 0s - loss: 2.9969 - mse: 2.9969\n",
      "Epoch 170/500\n",
      "2/2 - 0s - loss: 2.9315 - mse: 2.9315\n",
      "Epoch 171/500\n",
      "2/2 - 0s - loss: 3.0199 - mse: 3.0199\n",
      "Epoch 172/500\n",
      "2/2 - 0s - loss: 3.2206 - mse: 3.2206\n",
      "Epoch 173/500\n",
      "2/2 - 0s - loss: 2.9526 - mse: 2.9526\n",
      "Epoch 174/500\n",
      "2/2 - 0s - loss: 2.9846 - mse: 2.9846\n",
      "Epoch 175/500\n",
      "2/2 - 0s - loss: 2.4217 - mse: 2.4217\n",
      "Epoch 176/500\n",
      "2/2 - 0s - loss: 3.4983 - mse: 3.4983\n",
      "Epoch 177/500\n",
      "2/2 - 0s - loss: 5.1898 - mse: 5.1898\n",
      "Epoch 178/500\n",
      "2/2 - 0s - loss: 2.5464 - mse: 2.5464\n",
      "Epoch 179/500\n",
      "2/2 - 0s - loss: 2.6629 - mse: 2.6629\n",
      "Epoch 180/500\n",
      "2/2 - 0s - loss: 2.6482 - mse: 2.6482\n",
      "Epoch 181/500\n",
      "2/2 - 0s - loss: 2.7491 - mse: 2.7491\n",
      "Epoch 182/500\n",
      "2/2 - 0s - loss: 2.6063 - mse: 2.6063\n",
      "Epoch 183/500\n",
      "2/2 - 0s - loss: 2.2318 - mse: 2.2318\n",
      "Epoch 184/500\n",
      "2/2 - 0s - loss: 4.3015 - mse: 4.3015\n",
      "Epoch 185/500\n",
      "2/2 - 0s - loss: 3.3086 - mse: 3.3086\n",
      "Epoch 186/500\n",
      "2/2 - 0s - loss: 2.3460 - mse: 2.3460\n",
      "Epoch 187/500\n",
      "2/2 - 0s - loss: 2.1883 - mse: 2.1883\n",
      "Epoch 188/500\n",
      "2/2 - 0s - loss: 2.4235 - mse: 2.4235\n",
      "Epoch 189/500\n",
      "2/2 - 0s - loss: 3.7142 - mse: 3.7142\n",
      "Epoch 190/500\n",
      "2/2 - 0s - loss: 4.1086 - mse: 4.1086\n",
      "Epoch 191/500\n",
      "2/2 - 0s - loss: 2.7766 - mse: 2.7766\n",
      "Epoch 192/500\n",
      "2/2 - 0s - loss: 2.3721 - mse: 2.3721\n",
      "Epoch 193/500\n",
      "2/2 - 0s - loss: 2.1407 - mse: 2.1407\n",
      "Epoch 194/500\n",
      "2/2 - 0s - loss: 2.1441 - mse: 2.1441\n",
      "Epoch 195/500\n",
      "2/2 - 0s - loss: 2.3422 - mse: 2.3422\n",
      "Epoch 196/500\n",
      "2/2 - 0s - loss: 3.0912 - mse: 3.0912\n",
      "Epoch 197/500\n",
      "2/2 - 0s - loss: 2.1562 - mse: 2.1562\n",
      "Epoch 198/500\n",
      "2/2 - 0s - loss: 2.1236 - mse: 2.1236\n",
      "Epoch 199/500\n",
      "2/2 - 0s - loss: 2.6009 - mse: 2.6009\n",
      "Epoch 200/500\n",
      "2/2 - 0s - loss: 2.2004 - mse: 2.2004\n",
      "Epoch 201/500\n",
      "2/2 - 0s - loss: 2.9449 - mse: 2.9449\n",
      "Epoch 202/500\n",
      "2/2 - 0s - loss: 4.7769 - mse: 4.7769\n",
      "Epoch 203/500\n",
      "2/2 - 0s - loss: 2.9870 - mse: 2.9870\n",
      "Epoch 204/500\n",
      "2/2 - 0s - loss: 2.0323 - mse: 2.0323\n",
      "Epoch 205/500\n",
      "2/2 - 0s - loss: 2.6183 - mse: 2.6183\n",
      "Epoch 206/500\n",
      "2/2 - 0s - loss: 2.0055 - mse: 2.0055\n",
      "Epoch 207/500\n",
      "2/2 - 0s - loss: 2.6907 - mse: 2.6907\n",
      "Epoch 208/500\n",
      "2/2 - 0s - loss: 3.6743 - mse: 3.6743\n",
      "Epoch 209/500\n",
      "2/2 - 0s - loss: 2.7335 - mse: 2.7335\n",
      "Epoch 210/500\n",
      "2/2 - 0s - loss: 1.9270 - mse: 1.9270\n",
      "Epoch 211/500\n",
      "2/2 - 0s - loss: 2.2608 - mse: 2.2608\n",
      "Epoch 212/500\n",
      "2/2 - 0s - loss: 3.1712 - mse: 3.1712\n",
      "Epoch 213/500\n",
      "2/2 - 0s - loss: 2.5155 - mse: 2.5155\n",
      "Epoch 214/500\n",
      "2/2 - 0s - loss: 2.0025 - mse: 2.0025\n",
      "Epoch 215/500\n",
      "2/2 - 0s - loss: 2.1511 - mse: 2.1511\n",
      "Epoch 216/500\n",
      "2/2 - 0s - loss: 2.0488 - mse: 2.0488\n",
      "Epoch 217/500\n",
      "2/2 - 0s - loss: 2.0394 - mse: 2.0394\n",
      "Epoch 218/500\n",
      "2/2 - 0s - loss: 1.8677 - mse: 1.8677\n",
      "Epoch 219/500\n",
      "2/2 - 0s - loss: 2.6548 - mse: 2.6548\n",
      "Epoch 220/500\n",
      "2/2 - 0s - loss: 4.3068 - mse: 4.3068\n",
      "Epoch 221/500\n",
      "2/2 - 0s - loss: 2.0615 - mse: 2.0615\n",
      "Epoch 222/500\n",
      "2/2 - 0s - loss: 1.8118 - mse: 1.8118\n",
      "Epoch 223/500\n",
      "2/2 - 0s - loss: 1.8570 - mse: 1.8570\n",
      "Epoch 224/500\n",
      "2/2 - 0s - loss: 2.7652 - mse: 2.7652\n",
      "Epoch 225/500\n",
      "2/2 - 0s - loss: 3.7180 - mse: 3.7180\n",
      "Epoch 226/500\n",
      "2/2 - 0s - loss: 2.8748 - mse: 2.8748\n",
      "Epoch 227/500\n",
      "2/2 - 0s - loss: 3.4320 - mse: 3.4320\n",
      "Epoch 228/500\n",
      "2/2 - 0s - loss: 2.5803 - mse: 2.5803\n",
      "Epoch 229/500\n",
      "2/2 - 0s - loss: 2.2122 - mse: 2.2122\n",
      "Epoch 230/500\n",
      "2/2 - 0s - loss: 2.3369 - mse: 2.3369\n",
      "Epoch 231/500\n",
      "2/2 - 0s - loss: 2.0191 - mse: 2.0191\n",
      "Epoch 232/500\n",
      "2/2 - 0s - loss: 2.4514 - mse: 2.4514\n",
      "Epoch 233/500\n",
      "2/2 - 0s - loss: 1.7500 - mse: 1.7500\n",
      "Epoch 234/500\n",
      "2/2 - 0s - loss: 3.6127 - mse: 3.6127\n",
      "Epoch 235/500\n",
      "2/2 - 0s - loss: 2.0262 - mse: 2.0262\n",
      "Epoch 236/500\n",
      "2/2 - 0s - loss: 2.6529 - mse: 2.6529\n",
      "Epoch 237/500\n",
      "2/2 - 0s - loss: 1.7394 - mse: 1.7394\n",
      "Epoch 238/500\n",
      "2/2 - 0s - loss: 2.2728 - mse: 2.2728\n",
      "Epoch 239/500\n",
      "2/2 - 0s - loss: 4.4450 - mse: 4.4450\n",
      "Epoch 240/500\n",
      "2/2 - 0s - loss: 3.9973 - mse: 3.9973\n",
      "Epoch 241/500\n",
      "2/2 - 0s - loss: 2.6413 - mse: 2.6413\n",
      "Epoch 242/500\n",
      "2/2 - 0s - loss: 1.8577 - mse: 1.8577\n",
      "Epoch 243/500\n",
      "2/2 - 0s - loss: 1.8041 - mse: 1.8041\n",
      "Epoch 244/500\n",
      "2/2 - 0s - loss: 1.7070 - mse: 1.7070\n",
      "Epoch 245/500\n",
      "2/2 - 0s - loss: 1.7410 - mse: 1.7410\n",
      "Epoch 246/500\n",
      "2/2 - 0s - loss: 1.6994 - mse: 1.6994\n",
      "Epoch 247/500\n",
      "2/2 - 0s - loss: 1.6921 - mse: 1.6921\n",
      "Epoch 248/500\n",
      "2/2 - 0s - loss: 1.6821 - mse: 1.6821\n",
      "Epoch 249/500\n",
      "2/2 - 0s - loss: 1.6667 - mse: 1.6667\n",
      "Epoch 250/500\n",
      "2/2 - 0s - loss: 2.1930 - mse: 2.1930\n",
      "Epoch 251/500\n",
      "2/2 - 0s - loss: 5.1500 - mse: 5.1500\n",
      "Epoch 252/500\n",
      "2/2 - 0s - loss: 2.4873 - mse: 2.4873\n",
      "Epoch 253/500\n",
      "2/2 - 0s - loss: 1.8165 - mse: 1.8165\n",
      "Epoch 254/500\n",
      "2/2 - 0s - loss: 1.6596 - mse: 1.6596\n",
      "Epoch 255/500\n",
      "2/2 - 0s - loss: 1.8228 - mse: 1.8228\n",
      "Epoch 256/500\n",
      "2/2 - 0s - loss: 3.3056 - mse: 3.3056\n",
      "Epoch 257/500\n",
      "2/2 - 0s - loss: 4.1887 - mse: 4.1887\n",
      "Epoch 258/500\n",
      "2/2 - 0s - loss: 2.1785 - mse: 2.1785\n",
      "Epoch 259/500\n",
      "2/2 - 0s - loss: 1.8497 - mse: 1.8497\n",
      "Epoch 260/500\n",
      "2/2 - 0s - loss: 2.4097 - mse: 2.4097\n",
      "Epoch 261/500\n",
      "2/2 - 0s - loss: 2.7806 - mse: 2.7806\n",
      "Epoch 262/500\n",
      "2/2 - 0s - loss: 2.8932 - mse: 2.8932\n",
      "Epoch 263/500\n",
      "2/2 - 0s - loss: 3.8969 - mse: 3.8969\n",
      "Epoch 264/500\n",
      "2/2 - 0s - loss: 2.9920 - mse: 2.9920\n",
      "Epoch 265/500\n",
      "2/2 - 0s - loss: 2.2136 - mse: 2.2136\n",
      "Epoch 266/500\n",
      "2/2 - 0s - loss: 1.7738 - mse: 1.7738\n",
      "Epoch 267/500\n",
      "2/2 - 0s - loss: 1.6151 - mse: 1.6151\n",
      "Epoch 268/500\n",
      "2/2 - 0s - loss: 1.8086 - mse: 1.8086\n",
      "Epoch 269/500\n",
      "2/2 - 0s - loss: 2.2085 - mse: 2.2085\n",
      "Epoch 270/500\n",
      "2/2 - 0s - loss: 2.0632 - mse: 2.0632\n",
      "Epoch 271/500\n",
      "2/2 - 0s - loss: 2.1892 - mse: 2.1892\n",
      "Epoch 272/500\n",
      "2/2 - 0s - loss: 2.8847 - mse: 2.8847\n",
      "Epoch 273/500\n",
      "2/2 - 0s - loss: 1.9216 - mse: 1.9216\n",
      "Epoch 274/500\n",
      "2/2 - 0s - loss: 1.5937 - mse: 1.5937\n",
      "Epoch 275/500\n",
      "2/2 - 0s - loss: 1.7110 - mse: 1.7110\n",
      "Epoch 276/500\n",
      "2/2 - 0s - loss: 3.4070 - mse: 3.4070\n",
      "Epoch 277/500\n",
      "2/2 - 0s - loss: 3.6141 - mse: 3.6141\n",
      "Epoch 278/500\n",
      "2/2 - 0s - loss: 2.0063 - mse: 2.0063\n",
      "Epoch 279/500\n",
      "2/2 - 0s - loss: 1.5809 - mse: 1.5809\n",
      "Epoch 280/500\n",
      "2/2 - 0s - loss: 1.6435 - mse: 1.6435\n",
      "Epoch 281/500\n",
      "2/2 - 0s - loss: 3.1039 - mse: 3.1039\n",
      "Epoch 282/500\n",
      "2/2 - 0s - loss: 4.4364 - mse: 4.4364\n",
      "Epoch 283/500\n",
      "2/2 - 0s - loss: 2.3570 - mse: 2.3570\n",
      "Epoch 284/500\n",
      "2/2 - 0s - loss: 2.8096 - mse: 2.8096\n",
      "Epoch 285/500\n",
      "2/2 - 0s - loss: 2.0810 - mse: 2.0810\n",
      "Epoch 286/500\n",
      "2/2 - 0s - loss: 1.6782 - mse: 1.6782\n",
      "Epoch 287/500\n",
      "2/2 - 0s - loss: 2.0020 - mse: 2.0020\n",
      "Epoch 288/500\n",
      "2/2 - 0s - loss: 1.5654 - mse: 1.5654\n",
      "Epoch 289/500\n",
      "2/2 - 0s - loss: 1.6019 - mse: 1.6019\n",
      "Epoch 290/500\n",
      "2/2 - 0s - loss: 1.6294 - mse: 1.6294\n",
      "Epoch 291/500\n",
      "2/2 - 0s - loss: 2.0577 - mse: 2.0577\n",
      "Epoch 292/500\n",
      "2/2 - 0s - loss: 5.4470 - mse: 5.4470\n",
      "Epoch 293/500\n",
      "2/2 - 0s - loss: 3.4890 - mse: 3.4890\n",
      "Epoch 294/500\n",
      "2/2 - 0s - loss: 1.6518 - mse: 1.6518\n",
      "Epoch 295/500\n",
      "2/2 - 0s - loss: 1.5609 - mse: 1.5609\n",
      "Epoch 296/500\n",
      "2/2 - 0s - loss: 1.5908 - mse: 1.5908\n",
      "Epoch 297/500\n",
      "2/2 - 0s - loss: 1.8575 - mse: 1.8575\n",
      "Epoch 298/500\n",
      "2/2 - 0s - loss: 2.3165 - mse: 2.3165\n",
      "Epoch 299/500\n",
      "2/2 - 0s - loss: 1.7670 - mse: 1.7670\n",
      "Epoch 300/500\n",
      "2/2 - 0s - loss: 2.4207 - mse: 2.4207\n",
      "Epoch 301/500\n",
      "2/2 - 0s - loss: 3.0851 - mse: 3.0851\n",
      "Epoch 302/500\n",
      "2/2 - 0s - loss: 2.4587 - mse: 2.4587\n",
      "Epoch 303/500\n",
      "2/2 - 0s - loss: 1.9430 - mse: 1.9430\n",
      "Epoch 304/500\n",
      "2/2 - 0s - loss: 1.6078 - mse: 1.6078\n",
      "Epoch 305/500\n",
      "2/2 - 0s - loss: 1.5712 - mse: 1.5712\n",
      "Epoch 306/500\n",
      "2/2 - 0s - loss: 2.5497 - mse: 2.5497\n",
      "Epoch 307/500\n",
      "2/2 - 0s - loss: 3.0376 - mse: 3.0376\n",
      "Epoch 308/500\n",
      "2/2 - 0s - loss: 1.8197 - mse: 1.8197\n",
      "Epoch 309/500\n",
      "2/2 - 0s - loss: 1.5969 - mse: 1.5969\n",
      "Epoch 310/500\n",
      "2/2 - 0s - loss: 2.2071 - mse: 2.2071\n",
      "Epoch 311/500\n",
      "2/2 - 0s - loss: 4.3188 - mse: 4.3188\n",
      "Epoch 312/500\n",
      "2/2 - 0s - loss: 2.2122 - mse: 2.2122\n",
      "Epoch 313/500\n",
      "2/2 - 0s - loss: 1.6643 - mse: 1.6643\n",
      "Epoch 314/500\n",
      "2/2 - 0s - loss: 1.7521 - mse: 1.7521\n",
      "Epoch 315/500\n",
      "2/2 - 0s - loss: 1.8391 - mse: 1.8391\n",
      "Epoch 316/500\n",
      "2/2 - 0s - loss: 2.0199 - mse: 2.0199\n",
      "Epoch 317/500\n",
      "2/2 - 0s - loss: 3.3005 - mse: 3.3005\n",
      "Epoch 318/500\n",
      "2/2 - 0s - loss: 3.3488 - mse: 3.3488\n",
      "Epoch 319/500\n",
      "2/2 - 0s - loss: 1.5236 - mse: 1.5236\n",
      "Epoch 320/500\n",
      "2/2 - 0s - loss: 1.6127 - mse: 1.6127\n",
      "Epoch 321/500\n",
      "2/2 - 0s - loss: 1.7493 - mse: 1.7493\n",
      "Epoch 322/500\n",
      "2/2 - 0s - loss: 2.1829 - mse: 2.1829\n",
      "Epoch 323/500\n",
      "2/2 - 0s - loss: 2.5690 - mse: 2.5690\n",
      "Epoch 324/500\n",
      "2/2 - 0s - loss: 1.5361 - mse: 1.5361\n",
      "Epoch 325/500\n",
      "2/2 - 0s - loss: 2.2782 - mse: 2.2782\n",
      "Epoch 326/500\n",
      "2/2 - 0s - loss: 3.4192 - mse: 3.4192\n",
      "Epoch 327/500\n",
      "2/2 - 0s - loss: 1.9038 - mse: 1.9038\n",
      "Epoch 328/500\n",
      "2/2 - 0s - loss: 1.4809 - mse: 1.4809\n",
      "Epoch 329/500\n",
      "2/2 - 0s - loss: 1.5364 - mse: 1.5364\n",
      "Epoch 330/500\n",
      "2/2 - 0s - loss: 1.4529 - mse: 1.4529\n",
      "Epoch 331/500\n",
      "2/2 - 0s - loss: 1.4866 - mse: 1.4866\n",
      "Epoch 332/500\n",
      "2/2 - 0s - loss: 1.5451 - mse: 1.5451\n",
      "Epoch 333/500\n",
      "2/2 - 0s - loss: 2.3290 - mse: 2.3290\n",
      "Epoch 334/500\n",
      "2/2 - 0s - loss: 3.2640 - mse: 3.2640\n",
      "Epoch 335/500\n",
      "2/2 - 0s - loss: 2.4220 - mse: 2.4220\n",
      "Epoch 336/500\n",
      "2/2 - 0s - loss: 2.0618 - mse: 2.0618\n",
      "Epoch 337/500\n",
      "2/2 - 0s - loss: 1.6201 - mse: 1.6201\n",
      "Epoch 338/500\n",
      "2/2 - 0s - loss: 1.6412 - mse: 1.6412\n",
      "Epoch 339/500\n",
      "2/2 - 0s - loss: 3.2734 - mse: 3.2734\n",
      "Epoch 340/500\n",
      "2/2 - 0s - loss: 1.4456 - mse: 1.4456\n",
      "Epoch 341/500\n",
      "2/2 - 0s - loss: 2.1681 - mse: 2.1681\n",
      "Epoch 342/500\n",
      "2/2 - 0s - loss: 2.8174 - mse: 2.8174\n",
      "Epoch 343/500\n",
      "2/2 - 0s - loss: 2.8658 - mse: 2.8658\n",
      "Epoch 344/500\n",
      "2/2 - 0s - loss: 1.9640 - mse: 1.9640\n",
      "Epoch 345/500\n",
      "2/2 - 0s - loss: 1.4361 - mse: 1.4361\n",
      "Epoch 346/500\n",
      "2/2 - 0s - loss: 1.5323 - mse: 1.5323\n",
      "Epoch 347/500\n",
      "2/2 - 0s - loss: 2.8489 - mse: 2.8489\n",
      "Epoch 348/500\n",
      "2/2 - 0s - loss: 2.0523 - mse: 2.0523\n",
      "Epoch 349/500\n",
      "2/2 - 0s - loss: 1.4835 - mse: 1.4835\n",
      "Epoch 350/500\n",
      "2/2 - 0s - loss: 1.4174 - mse: 1.4174\n",
      "Epoch 351/500\n",
      "2/2 - 0s - loss: 1.4423 - mse: 1.4423\n",
      "Epoch 352/500\n",
      "2/2 - 0s - loss: 1.6083 - mse: 1.6083\n",
      "Epoch 353/500\n",
      "2/2 - 0s - loss: 3.1981 - mse: 3.1981\n",
      "Epoch 354/500\n",
      "2/2 - 0s - loss: 3.7283 - mse: 3.7283\n",
      "Epoch 355/500\n",
      "2/2 - 0s - loss: 2.2684 - mse: 2.2684\n",
      "Epoch 356/500\n",
      "2/2 - 0s - loss: 1.4677 - mse: 1.4677\n",
      "Epoch 357/500\n",
      "2/2 - 0s - loss: 1.6614 - mse: 1.6614\n",
      "Epoch 358/500\n",
      "2/2 - 0s - loss: 2.7599 - mse: 2.7599\n",
      "Epoch 359/500\n",
      "2/2 - 0s - loss: 2.1673 - mse: 2.1673\n",
      "Epoch 360/500\n",
      "2/2 - 0s - loss: 2.7076 - mse: 2.7076\n",
      "Epoch 361/500\n",
      "2/2 - 0s - loss: 2.8578 - mse: 2.8578\n",
      "Epoch 362/500\n",
      "2/2 - 0s - loss: 1.8902 - mse: 1.8902\n",
      "Epoch 363/500\n",
      "2/2 - 0s - loss: 1.5781 - mse: 1.5781\n",
      "Epoch 364/500\n",
      "2/2 - 0s - loss: 2.5803 - mse: 2.5803\n",
      "Epoch 365/500\n",
      "2/2 - 0s - loss: 3.4570 - mse: 3.4570\n",
      "Epoch 366/500\n",
      "2/2 - 0s - loss: 2.5299 - mse: 2.5299\n",
      "Epoch 367/500\n",
      "2/2 - 0s - loss: 1.8205 - mse: 1.8205\n",
      "Epoch 368/500\n",
      "2/2 - 0s - loss: 1.7814 - mse: 1.7814\n",
      "Epoch 369/500\n",
      "2/2 - 0s - loss: 1.8390 - mse: 1.8390\n",
      "Epoch 370/500\n",
      "2/2 - 0s - loss: 2.2629 - mse: 2.2629\n",
      "Epoch 371/500\n",
      "2/2 - 0s - loss: 1.9600 - mse: 1.9600\n",
      "Epoch 372/500\n",
      "2/2 - 0s - loss: 1.7057 - mse: 1.7057\n",
      "Epoch 373/500\n",
      "2/2 - 0s - loss: 1.5173 - mse: 1.5173\n",
      "Epoch 374/500\n",
      "2/2 - 0s - loss: 1.4759 - mse: 1.4759\n",
      "Epoch 375/500\n",
      "2/2 - 0s - loss: 2.1937 - mse: 2.1937\n",
      "Epoch 376/500\n",
      "2/2 - 0s - loss: 2.6870 - mse: 2.6870\n",
      "Epoch 377/500\n",
      "2/2 - 0s - loss: 1.3733 - mse: 1.3733\n",
      "Epoch 378/500\n",
      "2/2 - 0s - loss: 1.4034 - mse: 1.4034\n",
      "Epoch 379/500\n",
      "2/2 - 0s - loss: 1.4139 - mse: 1.4139\n",
      "Epoch 380/500\n",
      "2/2 - 0s - loss: 1.9314 - mse: 1.9314\n",
      "Epoch 381/500\n",
      "2/2 - 0s - loss: 4.3636 - mse: 4.3636\n",
      "Epoch 382/500\n",
      "2/2 - 0s - loss: 2.3722 - mse: 2.3722\n",
      "Epoch 383/500\n",
      "2/2 - 0s - loss: 2.3767 - mse: 2.3767\n",
      "Epoch 384/500\n",
      "2/2 - 0s - loss: 1.6074 - mse: 1.6074\n",
      "Epoch 385/500\n",
      "2/2 - 0s - loss: 2.1645 - mse: 2.1645\n",
      "Epoch 386/500\n",
      "2/2 - 0s - loss: 2.2708 - mse: 2.2708\n",
      "Epoch 387/500\n",
      "2/2 - 0s - loss: 1.4762 - mse: 1.4762\n",
      "Epoch 388/500\n",
      "2/2 - 0s - loss: 1.4758 - mse: 1.4758\n",
      "Epoch 389/500\n",
      "2/2 - 0s - loss: 1.6405 - mse: 1.6405\n",
      "Epoch 390/500\n",
      "2/2 - 0s - loss: 2.2880 - mse: 2.2880\n",
      "Epoch 391/500\n",
      "2/2 - 0s - loss: 4.0030 - mse: 4.0030\n",
      "Epoch 392/500\n",
      "2/2 - 0s - loss: 1.8179 - mse: 1.8179\n",
      "Epoch 393/500\n",
      "2/2 - 0s - loss: 1.4745 - mse: 1.4745\n",
      "Epoch 394/500\n",
      "2/2 - 0s - loss: 1.8719 - mse: 1.8719\n",
      "Epoch 395/500\n",
      "2/2 - 0s - loss: 1.3810 - mse: 1.3810\n",
      "Epoch 396/500\n",
      "2/2 - 0s - loss: 1.5866 - mse: 1.5866\n",
      "Epoch 397/500\n",
      "2/2 - 0s - loss: 1.7748 - mse: 1.7748\n",
      "Epoch 398/500\n",
      "2/2 - 0s - loss: 1.4438 - mse: 1.4438\n",
      "Epoch 399/500\n",
      "2/2 - 0s - loss: 1.3838 - mse: 1.3838\n",
      "Epoch 400/500\n",
      "2/2 - 0s - loss: 2.2507 - mse: 2.2507\n",
      "Epoch 401/500\n",
      "2/2 - 0s - loss: 4.2567 - mse: 4.2567\n",
      "Epoch 402/500\n",
      "2/2 - 0s - loss: 1.6831 - mse: 1.6831\n",
      "Epoch 403/500\n",
      "2/2 - 0s - loss: 1.4047 - mse: 1.4047\n",
      "Epoch 404/500\n",
      "2/2 - 0s - loss: 2.5349 - mse: 2.5349\n",
      "Epoch 405/500\n",
      "2/2 - 0s - loss: 1.9768 - mse: 1.9768\n",
      "Epoch 406/500\n",
      "2/2 - 0s - loss: 1.6548 - mse: 1.6548\n",
      "Epoch 407/500\n",
      "2/2 - 0s - loss: 1.5139 - mse: 1.5139\n",
      "Epoch 408/500\n",
      "2/2 - 0s - loss: 1.4872 - mse: 1.4872\n",
      "Epoch 409/500\n",
      "2/2 - 0s - loss: 1.7120 - mse: 1.7120\n",
      "Epoch 410/500\n",
      "2/2 - 0s - loss: 3.8770 - mse: 3.8770\n",
      "Epoch 411/500\n",
      "2/2 - 0s - loss: 3.5471 - mse: 3.5471\n",
      "Epoch 412/500\n",
      "2/2 - 0s - loss: 1.4119 - mse: 1.4119\n",
      "Epoch 413/500\n",
      "2/2 - 0s - loss: 1.8320 - mse: 1.8320\n",
      "Epoch 414/500\n",
      "2/2 - 0s - loss: 1.7716 - mse: 1.7716\n",
      "Epoch 415/500\n",
      "2/2 - 0s - loss: 1.3225 - mse: 1.3225\n",
      "Epoch 416/500\n",
      "2/2 - 0s - loss: 1.4918 - mse: 1.4918\n",
      "Epoch 417/500\n",
      "2/2 - 0s - loss: 1.9759 - mse: 1.9759\n",
      "Epoch 418/500\n",
      "2/2 - 0s - loss: 1.8100 - mse: 1.8100\n",
      "Epoch 419/500\n",
      "2/2 - 0s - loss: 1.3533 - mse: 1.3533\n",
      "Epoch 420/500\n",
      "2/2 - 0s - loss: 1.5322 - mse: 1.5322\n",
      "Epoch 421/500\n",
      "2/2 - 0s - loss: 2.9323 - mse: 2.9323\n",
      "Epoch 422/500\n",
      "2/2 - 0s - loss: 3.2689 - mse: 3.2689\n",
      "Epoch 423/500\n",
      "2/2 - 0s - loss: 3.1904 - mse: 3.1904\n",
      "Epoch 424/500\n",
      "2/2 - 0s - loss: 1.8714 - mse: 1.8714\n",
      "Epoch 425/500\n",
      "2/2 - 0s - loss: 1.8669 - mse: 1.8669\n",
      "Epoch 426/500\n",
      "2/2 - 0s - loss: 1.8668 - mse: 1.8668\n",
      "Epoch 427/500\n",
      "2/2 - 0s - loss: 2.0565 - mse: 2.0565\n",
      "Epoch 428/500\n",
      "2/2 - 0s - loss: 2.4444 - mse: 2.4444\n",
      "Epoch 429/500\n",
      "2/2 - 0s - loss: 3.8698 - mse: 3.8698\n",
      "Epoch 430/500\n",
      "2/2 - 0s - loss: 1.9083 - mse: 1.9083\n",
      "Epoch 431/500\n",
      "2/2 - 0s - loss: 1.3809 - mse: 1.3809\n",
      "Epoch 432/500\n",
      "2/2 - 0s - loss: 1.6854 - mse: 1.6854\n",
      "Epoch 433/500\n",
      "2/2 - 0s - loss: 1.3314 - mse: 1.3314\n",
      "Epoch 434/500\n",
      "2/2 - 0s - loss: 1.7508 - mse: 1.7508\n",
      "Epoch 435/500\n",
      "2/2 - 0s - loss: 1.2956 - mse: 1.2956\n",
      "Epoch 436/500\n",
      "2/2 - 0s - loss: 1.6914 - mse: 1.6914\n",
      "Epoch 437/500\n",
      "2/2 - 0s - loss: 3.5051 - mse: 3.5051\n",
      "Epoch 438/500\n",
      "2/2 - 0s - loss: 1.9453 - mse: 1.9453\n",
      "Epoch 439/500\n",
      "2/2 - 0s - loss: 1.3371 - mse: 1.3371\n",
      "Epoch 440/500\n",
      "2/2 - 0s - loss: 1.3250 - mse: 1.3250\n",
      "Epoch 441/500\n",
      "2/2 - 0s - loss: 1.2787 - mse: 1.2787\n",
      "Epoch 442/500\n",
      "2/2 - 0s - loss: 1.3188 - mse: 1.3188\n",
      "Epoch 443/500\n",
      "2/2 - 0s - loss: 1.4888 - mse: 1.4888\n",
      "Epoch 444/500\n",
      "2/2 - 0s - loss: 2.9269 - mse: 2.9269\n",
      "Epoch 445/500\n",
      "2/2 - 0s - loss: 2.9542 - mse: 2.9542\n",
      "Epoch 446/500\n",
      "2/2 - 0s - loss: 2.9894 - mse: 2.9894\n",
      "Epoch 447/500\n",
      "2/2 - 0s - loss: 1.4386 - mse: 1.4386\n",
      "Epoch 448/500\n",
      "2/2 - 0s - loss: 1.2782 - mse: 1.2782\n",
      "Epoch 449/500\n",
      "2/2 - 0s - loss: 1.2740 - mse: 1.2740\n",
      "Epoch 450/500\n",
      "2/2 - 0s - loss: 2.0145 - mse: 2.0145\n",
      "Epoch 451/500\n",
      "2/2 - 0s - loss: 2.0134 - mse: 2.0134\n",
      "Epoch 452/500\n",
      "2/2 - 0s - loss: 2.1324 - mse: 2.1324\n",
      "Epoch 453/500\n",
      "2/2 - 0s - loss: 1.7974 - mse: 1.7974\n",
      "Epoch 454/500\n",
      "2/2 - 0s - loss: 1.3277 - mse: 1.3277\n",
      "Epoch 455/500\n",
      "2/2 - 0s - loss: 3.6835 - mse: 3.6835\n",
      "Epoch 456/500\n",
      "2/2 - 0s - loss: 2.8579 - mse: 2.8579\n",
      "Epoch 457/500\n",
      "2/2 - 0s - loss: 1.2876 - mse: 1.2876\n",
      "Epoch 458/500\n",
      "2/2 - 0s - loss: 1.2611 - mse: 1.2611\n",
      "Epoch 459/500\n",
      "2/2 - 0s - loss: 1.2589 - mse: 1.2589\n",
      "Epoch 460/500\n",
      "2/2 - 0s - loss: 3.2791 - mse: 3.2791\n",
      "Epoch 461/500\n",
      "2/2 - 0s - loss: 2.9462 - mse: 2.9462\n",
      "Epoch 462/500\n",
      "2/2 - 0s - loss: 1.3107 - mse: 1.3107\n",
      "Epoch 463/500\n",
      "2/2 - 0s - loss: 1.2733 - mse: 1.2733\n",
      "Epoch 464/500\n",
      "2/2 - 0s - loss: 1.2803 - mse: 1.2803\n",
      "Epoch 465/500\n",
      "2/2 - 0s - loss: 1.2955 - mse: 1.2955\n",
      "Epoch 466/500\n",
      "2/2 - 0s - loss: 1.2444 - mse: 1.2444\n",
      "Epoch 467/500\n",
      "2/2 - 0s - loss: 1.2491 - mse: 1.2491\n",
      "Epoch 468/500\n",
      "2/2 - 0s - loss: 1.6539 - mse: 1.6539\n",
      "Epoch 469/500\n",
      "2/2 - 0s - loss: 5.4521 - mse: 5.4521\n",
      "Epoch 470/500\n",
      "2/2 - 0s - loss: 1.2927 - mse: 1.2927\n",
      "Epoch 471/500\n",
      "2/2 - 0s - loss: 1.4821 - mse: 1.4821\n",
      "Epoch 472/500\n",
      "2/2 - 0s - loss: 1.3442 - mse: 1.3442\n",
      "Epoch 473/500\n",
      "2/2 - 0s - loss: 2.0089 - mse: 2.0089\n",
      "Epoch 474/500\n",
      "2/2 - 0s - loss: 3.5968 - mse: 3.5968\n",
      "Epoch 475/500\n",
      "2/2 - 0s - loss: 1.7476 - mse: 1.7476\n",
      "Epoch 476/500\n",
      "2/2 - 0s - loss: 1.2767 - mse: 1.2767\n",
      "Epoch 477/500\n",
      "2/2 - 0s - loss: 1.2604 - mse: 1.2604\n",
      "Epoch 478/500\n",
      "2/2 - 0s - loss: 1.6081 - mse: 1.6081\n",
      "Epoch 479/500\n",
      "2/2 - 0s - loss: 2.5080 - mse: 2.5080\n",
      "Epoch 480/500\n",
      "2/2 - 0s - loss: 2.3013 - mse: 2.3013\n",
      "Epoch 481/500\n",
      "2/2 - 0s - loss: 1.5792 - mse: 1.5792\n",
      "Epoch 482/500\n",
      "2/2 - 0s - loss: 1.2281 - mse: 1.2281\n",
      "Epoch 483/500\n",
      "2/2 - 0s - loss: 1.4278 - mse: 1.4278\n",
      "Epoch 484/500\n",
      "2/2 - 0s - loss: 1.5902 - mse: 1.5902\n",
      "Epoch 485/500\n",
      "2/2 - 0s - loss: 1.2012 - mse: 1.2012\n",
      "Epoch 486/500\n",
      "2/2 - 0s - loss: 1.3797 - mse: 1.3797\n",
      "Epoch 487/500\n",
      "2/2 - 0s - loss: 2.1690 - mse: 2.1690\n",
      "Epoch 488/500\n",
      "2/2 - 0s - loss: 2.6328 - mse: 2.6328\n",
      "Epoch 489/500\n",
      "2/2 - 0s - loss: 1.2191 - mse: 1.2191\n",
      "Epoch 490/500\n",
      "2/2 - 0s - loss: 1.4258 - mse: 1.4258\n",
      "Epoch 491/500\n",
      "2/2 - 0s - loss: 2.5756 - mse: 2.5756\n",
      "Epoch 492/500\n",
      "2/2 - 0s - loss: 3.8859 - mse: 3.8859\n",
      "Epoch 493/500\n",
      "2/2 - 0s - loss: 2.4327 - mse: 2.4327\n",
      "Epoch 494/500\n",
      "2/2 - 0s - loss: 1.6529 - mse: 1.6529\n",
      "Epoch 495/500\n",
      "2/2 - 0s - loss: 1.4519 - mse: 1.4519\n",
      "Epoch 496/500\n",
      "2/2 - 0s - loss: 1.2529 - mse: 1.2529\n",
      "Epoch 497/500\n",
      "2/2 - 0s - loss: 1.4874 - mse: 1.4874\n",
      "Epoch 498/500\n",
      "2/2 - 0s - loss: 1.8867 - mse: 1.8867\n",
      "Epoch 499/500\n",
      "2/2 - 0s - loss: 4.3094 - mse: 4.3094\n",
      "Epoch 500/500\n",
      "2/2 - 0s - loss: 2.4183 - mse: 2.4183\n"
     ]
    },
    {
     "data": {
      "text/plain": [
       "<keras.callbacks.History at 0x17dff6b80>"
      ]
     },
     "execution_count": 43,
     "metadata": {},
     "output_type": "execute_result"
    }
   ],
   "source": [
    "model.fit(X, y, epochs=500, verbose=2)"
   ]
  },
  {
   "cell_type": "markdown",
   "metadata": {},
   "source": [
    "##### Observe the numbers for the `weights`"
   ]
  },
  {
   "cell_type": "code",
   "execution_count": 44,
   "metadata": {},
   "outputs": [
    {
     "data": {
      "text/plain": [
       "[array([[ 0.15157871,  0.15006189, -0.14974315],\n",
       "        [ 0.29294756,  0.29112825, -0.2907222 ],\n",
       "        [ 0.21797644,  0.21632607, -0.21596937],\n",
       "        [ 0.31826466,  0.31647795, -0.3160798 ],\n",
       "        [-0.00179686, -0.00092771,  0.00065475],\n",
       "        [ 0.01179831,  0.01225254, -0.01242991]], dtype=float32),\n",
       " array([ 0.13434592,  0.13393463, -0.13389426], dtype=float32),\n",
       " array([[ 0.24216445],\n",
       "        [ 0.49543723],\n",
       "        [-0.75170743]], dtype=float32),\n",
       " array([0.13389555], dtype=float32)]"
      ]
     },
     "execution_count": 44,
     "metadata": {},
     "output_type": "execute_result"
    }
   ],
   "source": [
    "model.get_weights()"
   ]
  },
  {
   "cell_type": "markdown",
   "metadata": {
    "tags": []
   },
   "source": [
    "##### Predictions vs Reality"
   ]
  },
  {
   "cell_type": "markdown",
   "metadata": {},
   "source": [
    "> 1. Calculate the Predicted Accidents and\n",
    "> 2. Compare it with the Real Total Accidents"
   ]
  },
  {
   "cell_type": "code",
   "execution_count": 47,
   "metadata": {},
   "outputs": [],
   "source": [
    "y_pred = model.predict(X)"
   ]
  },
  {
   "cell_type": "code",
   "execution_count": 48,
   "metadata": {},
   "outputs": [
    {
     "data": {
      "text/html": [
       "<div>\n",
       "<style scoped>\n",
       "    .dataframe tbody tr th:only-of-type {\n",
       "        vertical-align: middle;\n",
       "    }\n",
       "\n",
       "    .dataframe tbody tr th {\n",
       "        vertical-align: top;\n",
       "    }\n",
       "\n",
       "    .dataframe thead th {\n",
       "        text-align: right;\n",
       "    }\n",
       "</style>\n",
       "<table border=\"1\" class=\"dataframe\">\n",
       "  <thead>\n",
       "    <tr style=\"text-align: right;\">\n",
       "      <th></th>\n",
       "      <th>total</th>\n",
       "      <th>pred_zeros_after_fit</th>\n",
       "    </tr>\n",
       "    <tr>\n",
       "      <th>abbrev</th>\n",
       "      <th></th>\n",
       "      <th></th>\n",
       "    </tr>\n",
       "  </thead>\n",
       "  <tbody>\n",
       "    <tr>\n",
       "      <th>AL</th>\n",
       "      <td>18.8</td>\n",
       "      <td>18.889677</td>\n",
       "    </tr>\n",
       "    <tr>\n",
       "      <th>AK</th>\n",
       "      <td>18.1</td>\n",
       "      <td>18.213333</td>\n",
       "    </tr>\n",
       "    <tr>\n",
       "      <th>AZ</th>\n",
       "      <td>18.6</td>\n",
       "      <td>18.270931</td>\n",
       "    </tr>\n",
       "    <tr>\n",
       "      <th>AR</th>\n",
       "      <td>22.4</td>\n",
       "      <td>22.034506</td>\n",
       "    </tr>\n",
       "    <tr>\n",
       "      <th>CA</th>\n",
       "      <td>12.0</td>\n",
       "      <td>13.092728</td>\n",
       "    </tr>\n",
       "  </tbody>\n",
       "</table>\n",
       "</div>"
      ],
      "text/plain": [
       "        total  pred_zeros_after_fit\n",
       "abbrev                             \n",
       "AL       18.8             18.889677\n",
       "AK       18.1             18.213333\n",
       "AZ       18.6             18.270931\n",
       "AR       22.4             22.034506\n",
       "CA       12.0             13.092728"
      ]
     },
     "execution_count": 48,
     "metadata": {},
     "output_type": "execute_result"
    }
   ],
   "source": [
    "dfsel = df[['total']].copy()\n",
    "dfsel['pred_zeros_after_fit'] = y_pred\n",
    "dfsel.head()"
   ]
  },
  {
   "cell_type": "code",
   "execution_count": null,
   "metadata": {},
   "outputs": [],
   "source": []
  },
  {
   "cell_type": "markdown",
   "metadata": {},
   "source": [
    "### How to `kernel_initializer` the weights to 1?"
   ]
  },
  {
   "cell_type": "code",
   "execution_count": 49,
   "metadata": {},
   "outputs": [],
   "source": [
    "model = Sequential()\n",
    "model.add(layer=Dense(units=12, input_dim=8, kernel_initializer='zeros'))\n",
    "model.add(layer=Dense(units=1))"
   ]
  },
  {
   "cell_type": "markdown",
   "metadata": {},
   "source": [
    "#### Make a Prediction with the Neural Network"
   ]
  },
  {
   "cell_type": "markdown",
   "metadata": {},
   "source": [
    "> - Can we make a prediction for for `Washington DC` accidents\n",
    "> - With the already initialized Mathematical Equation?"
   ]
  },
  {
   "cell_type": "code",
   "execution_count": 50,
   "metadata": {},
   "outputs": [],
   "source": [
    "X = df.drop(columns='total')\n",
    "y = df.total"
   ]
  },
  {
   "cell_type": "code",
   "execution_count": 51,
   "metadata": {},
   "outputs": [],
   "source": [
    "AL = X[:1]"
   ]
  },
  {
   "cell_type": "code",
   "execution_count": 52,
   "metadata": {},
   "outputs": [
    {
     "data": {
      "text/html": [
       "<div>\n",
       "<style scoped>\n",
       "    .dataframe tbody tr th:only-of-type {\n",
       "        vertical-align: middle;\n",
       "    }\n",
       "\n",
       "    .dataframe tbody tr th {\n",
       "        vertical-align: top;\n",
       "    }\n",
       "\n",
       "    .dataframe thead th {\n",
       "        text-align: right;\n",
       "    }\n",
       "</style>\n",
       "<table border=\"1\" class=\"dataframe\">\n",
       "  <thead>\n",
       "    <tr style=\"text-align: right;\">\n",
       "      <th></th>\n",
       "      <th>speeding</th>\n",
       "      <th>alcohol</th>\n",
       "      <th>not_distracted</th>\n",
       "      <th>no_previous</th>\n",
       "      <th>ins_premium</th>\n",
       "      <th>ins_losses</th>\n",
       "    </tr>\n",
       "    <tr>\n",
       "      <th>abbrev</th>\n",
       "      <th></th>\n",
       "      <th></th>\n",
       "      <th></th>\n",
       "      <th></th>\n",
       "      <th></th>\n",
       "      <th></th>\n",
       "    </tr>\n",
       "  </thead>\n",
       "  <tbody>\n",
       "    <tr>\n",
       "      <th>AL</th>\n",
       "      <td>7.332</td>\n",
       "      <td>5.64</td>\n",
       "      <td>18.048</td>\n",
       "      <td>15.04</td>\n",
       "      <td>784.55</td>\n",
       "      <td>145.08</td>\n",
       "    </tr>\n",
       "  </tbody>\n",
       "</table>\n",
       "</div>"
      ],
      "text/plain": [
       "        speeding  alcohol  not_distracted  no_previous  ins_premium  \\\n",
       "abbrev                                                                \n",
       "AL         7.332     5.64          18.048        15.04       784.55   \n",
       "\n",
       "        ins_losses  \n",
       "abbrev              \n",
       "AL          145.08  "
      ]
     },
     "execution_count": 52,
     "metadata": {},
     "output_type": "execute_result"
    }
   ],
   "source": [
    "AL"
   ]
  },
  {
   "cell_type": "code",
   "execution_count": 53,
   "metadata": {},
   "outputs": [
    {
     "ename": "ValueError",
     "evalue": "in user code:\n\n    /Users/sota/miniforge3/envs/dl/lib/python3.9/site-packages/keras/engine/training.py:1586 predict_function  *\n        return step_function(self, iterator)\n    /Users/sota/miniforge3/envs/dl/lib/python3.9/site-packages/keras/engine/training.py:1576 step_function  **\n        outputs = model.distribute_strategy.run(run_step, args=(data,))\n    /Users/sota/miniforge3/envs/dl/lib/python3.9/site-packages/tensorflow/python/distribute/distribute_lib.py:1286 run\n        return self._extended.call_for_each_replica(fn, args=args, kwargs=kwargs)\n    /Users/sota/miniforge3/envs/dl/lib/python3.9/site-packages/tensorflow/python/distribute/distribute_lib.py:2849 call_for_each_replica\n        return self._call_for_each_replica(fn, args, kwargs)\n    /Users/sota/miniforge3/envs/dl/lib/python3.9/site-packages/tensorflow/python/distribute/distribute_lib.py:3632 _call_for_each_replica\n        return fn(*args, **kwargs)\n    /Users/sota/miniforge3/envs/dl/lib/python3.9/site-packages/keras/engine/training.py:1569 run_step  **\n        outputs = model.predict_step(data)\n    /Users/sota/miniforge3/envs/dl/lib/python3.9/site-packages/keras/engine/training.py:1537 predict_step\n        return self(x, training=False)\n    /Users/sota/miniforge3/envs/dl/lib/python3.9/site-packages/keras/engine/base_layer.py:1020 __call__\n        input_spec.assert_input_compatibility(self.input_spec, inputs, self.name)\n    /Users/sota/miniforge3/envs/dl/lib/python3.9/site-packages/keras/engine/input_spec.py:250 assert_input_compatibility\n        raise ValueError(\n\n    ValueError: Input 0 of layer sequential_3 is incompatible with the layer: expected axis -1 of input shape to have value 8 but received input with shape (None, 6)\n",
     "output_type": "error",
     "traceback": [
      "\u001b[0;31m---------------------------------------------------------------------------\u001b[0m",
      "\u001b[0;31mValueError\u001b[0m                                Traceback (most recent call last)",
      "\u001b[0;32m/var/folders/24/tg28vxls25l9mjvqrnh0plc80000gn/T/ipykernel_38098/3015801051.py\u001b[0m in \u001b[0;36m<module>\u001b[0;34m\u001b[0m\n\u001b[0;32m----> 1\u001b[0;31m \u001b[0mmodel\u001b[0m\u001b[0;34m.\u001b[0m\u001b[0mpredict\u001b[0m\u001b[0;34m(\u001b[0m\u001b[0mx\u001b[0m\u001b[0;34m=\u001b[0m\u001b[0mAL\u001b[0m\u001b[0;34m)\u001b[0m\u001b[0;34m\u001b[0m\u001b[0;34m\u001b[0m\u001b[0m\n\u001b[0m",
      "\u001b[0;32m~/miniforge3/envs/dl/lib/python3.9/site-packages/keras/engine/training.py\u001b[0m in \u001b[0;36mpredict\u001b[0;34m(self, x, batch_size, verbose, steps, callbacks, max_queue_size, workers, use_multiprocessing)\u001b[0m\n\u001b[1;32m   1749\u001b[0m           \u001b[0;32mfor\u001b[0m \u001b[0mstep\u001b[0m \u001b[0;32min\u001b[0m \u001b[0mdata_handler\u001b[0m\u001b[0;34m.\u001b[0m\u001b[0msteps\u001b[0m\u001b[0;34m(\u001b[0m\u001b[0;34m)\u001b[0m\u001b[0;34m:\u001b[0m\u001b[0;34m\u001b[0m\u001b[0;34m\u001b[0m\u001b[0m\n\u001b[1;32m   1750\u001b[0m             \u001b[0mcallbacks\u001b[0m\u001b[0;34m.\u001b[0m\u001b[0mon_predict_batch_begin\u001b[0m\u001b[0;34m(\u001b[0m\u001b[0mstep\u001b[0m\u001b[0;34m)\u001b[0m\u001b[0;34m\u001b[0m\u001b[0;34m\u001b[0m\u001b[0m\n\u001b[0;32m-> 1751\u001b[0;31m             \u001b[0mtmp_batch_outputs\u001b[0m \u001b[0;34m=\u001b[0m \u001b[0mself\u001b[0m\u001b[0;34m.\u001b[0m\u001b[0mpredict_function\u001b[0m\u001b[0;34m(\u001b[0m\u001b[0miterator\u001b[0m\u001b[0;34m)\u001b[0m\u001b[0;34m\u001b[0m\u001b[0;34m\u001b[0m\u001b[0m\n\u001b[0m\u001b[1;32m   1752\u001b[0m             \u001b[0;32mif\u001b[0m \u001b[0mdata_handler\u001b[0m\u001b[0;34m.\u001b[0m\u001b[0mshould_sync\u001b[0m\u001b[0;34m:\u001b[0m\u001b[0;34m\u001b[0m\u001b[0;34m\u001b[0m\u001b[0m\n\u001b[1;32m   1753\u001b[0m               \u001b[0mcontext\u001b[0m\u001b[0;34m.\u001b[0m\u001b[0masync_wait\u001b[0m\u001b[0;34m(\u001b[0m\u001b[0;34m)\u001b[0m\u001b[0;34m\u001b[0m\u001b[0;34m\u001b[0m\u001b[0m\n",
      "\u001b[0;32m~/miniforge3/envs/dl/lib/python3.9/site-packages/tensorflow/python/eager/def_function.py\u001b[0m in \u001b[0;36m__call__\u001b[0;34m(self, *args, **kwds)\u001b[0m\n\u001b[1;32m    883\u001b[0m \u001b[0;34m\u001b[0m\u001b[0m\n\u001b[1;32m    884\u001b[0m       \u001b[0;32mwith\u001b[0m \u001b[0mOptionalXlaContext\u001b[0m\u001b[0;34m(\u001b[0m\u001b[0mself\u001b[0m\u001b[0;34m.\u001b[0m\u001b[0m_jit_compile\u001b[0m\u001b[0;34m)\u001b[0m\u001b[0;34m:\u001b[0m\u001b[0;34m\u001b[0m\u001b[0;34m\u001b[0m\u001b[0m\n\u001b[0;32m--> 885\u001b[0;31m         \u001b[0mresult\u001b[0m \u001b[0;34m=\u001b[0m \u001b[0mself\u001b[0m\u001b[0;34m.\u001b[0m\u001b[0m_call\u001b[0m\u001b[0;34m(\u001b[0m\u001b[0;34m*\u001b[0m\u001b[0margs\u001b[0m\u001b[0;34m,\u001b[0m \u001b[0;34m**\u001b[0m\u001b[0mkwds\u001b[0m\u001b[0;34m)\u001b[0m\u001b[0;34m\u001b[0m\u001b[0;34m\u001b[0m\u001b[0m\n\u001b[0m\u001b[1;32m    886\u001b[0m \u001b[0;34m\u001b[0m\u001b[0m\n\u001b[1;32m    887\u001b[0m       \u001b[0mnew_tracing_count\u001b[0m \u001b[0;34m=\u001b[0m \u001b[0mself\u001b[0m\u001b[0;34m.\u001b[0m\u001b[0mexperimental_get_tracing_count\u001b[0m\u001b[0;34m(\u001b[0m\u001b[0;34m)\u001b[0m\u001b[0;34m\u001b[0m\u001b[0;34m\u001b[0m\u001b[0m\n",
      "\u001b[0;32m~/miniforge3/envs/dl/lib/python3.9/site-packages/tensorflow/python/eager/def_function.py\u001b[0m in \u001b[0;36m_call\u001b[0;34m(self, *args, **kwds)\u001b[0m\n\u001b[1;32m    931\u001b[0m       \u001b[0;31m# This is the first call of __call__, so we have to initialize.\u001b[0m\u001b[0;34m\u001b[0m\u001b[0;34m\u001b[0m\u001b[0m\n\u001b[1;32m    932\u001b[0m       \u001b[0minitializers\u001b[0m \u001b[0;34m=\u001b[0m \u001b[0;34m[\u001b[0m\u001b[0;34m]\u001b[0m\u001b[0;34m\u001b[0m\u001b[0;34m\u001b[0m\u001b[0m\n\u001b[0;32m--> 933\u001b[0;31m       \u001b[0mself\u001b[0m\u001b[0;34m.\u001b[0m\u001b[0m_initialize\u001b[0m\u001b[0;34m(\u001b[0m\u001b[0margs\u001b[0m\u001b[0;34m,\u001b[0m \u001b[0mkwds\u001b[0m\u001b[0;34m,\u001b[0m \u001b[0madd_initializers_to\u001b[0m\u001b[0;34m=\u001b[0m\u001b[0minitializers\u001b[0m\u001b[0;34m)\u001b[0m\u001b[0;34m\u001b[0m\u001b[0;34m\u001b[0m\u001b[0m\n\u001b[0m\u001b[1;32m    934\u001b[0m     \u001b[0;32mfinally\u001b[0m\u001b[0;34m:\u001b[0m\u001b[0;34m\u001b[0m\u001b[0;34m\u001b[0m\u001b[0m\n\u001b[1;32m    935\u001b[0m       \u001b[0;31m# At this point we know that the initialization is complete (or less\u001b[0m\u001b[0;34m\u001b[0m\u001b[0;34m\u001b[0m\u001b[0m\n",
      "\u001b[0;32m~/miniforge3/envs/dl/lib/python3.9/site-packages/tensorflow/python/eager/def_function.py\u001b[0m in \u001b[0;36m_initialize\u001b[0;34m(self, args, kwds, add_initializers_to)\u001b[0m\n\u001b[1;32m    757\u001b[0m     \u001b[0mself\u001b[0m\u001b[0;34m.\u001b[0m\u001b[0m_graph_deleter\u001b[0m \u001b[0;34m=\u001b[0m \u001b[0mFunctionDeleter\u001b[0m\u001b[0;34m(\u001b[0m\u001b[0mself\u001b[0m\u001b[0;34m.\u001b[0m\u001b[0m_lifted_initializer_graph\u001b[0m\u001b[0;34m)\u001b[0m\u001b[0;34m\u001b[0m\u001b[0;34m\u001b[0m\u001b[0m\n\u001b[1;32m    758\u001b[0m     self._concrete_stateful_fn = (\n\u001b[0;32m--> 759\u001b[0;31m         self._stateful_fn._get_concrete_function_internal_garbage_collected(  # pylint: disable=protected-access\n\u001b[0m\u001b[1;32m    760\u001b[0m             *args, **kwds))\n\u001b[1;32m    761\u001b[0m \u001b[0;34m\u001b[0m\u001b[0m\n",
      "\u001b[0;32m~/miniforge3/envs/dl/lib/python3.9/site-packages/tensorflow/python/eager/function.py\u001b[0m in \u001b[0;36m_get_concrete_function_internal_garbage_collected\u001b[0;34m(self, *args, **kwargs)\u001b[0m\n\u001b[1;32m   3064\u001b[0m       \u001b[0margs\u001b[0m\u001b[0;34m,\u001b[0m \u001b[0mkwargs\u001b[0m \u001b[0;34m=\u001b[0m \u001b[0;32mNone\u001b[0m\u001b[0;34m,\u001b[0m \u001b[0;32mNone\u001b[0m\u001b[0;34m\u001b[0m\u001b[0;34m\u001b[0m\u001b[0m\n\u001b[1;32m   3065\u001b[0m     \u001b[0;32mwith\u001b[0m \u001b[0mself\u001b[0m\u001b[0;34m.\u001b[0m\u001b[0m_lock\u001b[0m\u001b[0;34m:\u001b[0m\u001b[0;34m\u001b[0m\u001b[0;34m\u001b[0m\u001b[0m\n\u001b[0;32m-> 3066\u001b[0;31m       \u001b[0mgraph_function\u001b[0m\u001b[0;34m,\u001b[0m \u001b[0m_\u001b[0m \u001b[0;34m=\u001b[0m \u001b[0mself\u001b[0m\u001b[0;34m.\u001b[0m\u001b[0m_maybe_define_function\u001b[0m\u001b[0;34m(\u001b[0m\u001b[0margs\u001b[0m\u001b[0;34m,\u001b[0m \u001b[0mkwargs\u001b[0m\u001b[0;34m)\u001b[0m\u001b[0;34m\u001b[0m\u001b[0;34m\u001b[0m\u001b[0m\n\u001b[0m\u001b[1;32m   3067\u001b[0m     \u001b[0;32mreturn\u001b[0m \u001b[0mgraph_function\u001b[0m\u001b[0;34m\u001b[0m\u001b[0;34m\u001b[0m\u001b[0m\n\u001b[1;32m   3068\u001b[0m \u001b[0;34m\u001b[0m\u001b[0m\n",
      "\u001b[0;32m~/miniforge3/envs/dl/lib/python3.9/site-packages/tensorflow/python/eager/function.py\u001b[0m in \u001b[0;36m_maybe_define_function\u001b[0;34m(self, args, kwargs)\u001b[0m\n\u001b[1;32m   3461\u001b[0m \u001b[0;34m\u001b[0m\u001b[0m\n\u001b[1;32m   3462\u001b[0m           \u001b[0mself\u001b[0m\u001b[0;34m.\u001b[0m\u001b[0m_function_cache\u001b[0m\u001b[0;34m.\u001b[0m\u001b[0mmissed\u001b[0m\u001b[0;34m.\u001b[0m\u001b[0madd\u001b[0m\u001b[0;34m(\u001b[0m\u001b[0mcall_context_key\u001b[0m\u001b[0;34m)\u001b[0m\u001b[0;34m\u001b[0m\u001b[0;34m\u001b[0m\u001b[0m\n\u001b[0;32m-> 3463\u001b[0;31m           \u001b[0mgraph_function\u001b[0m \u001b[0;34m=\u001b[0m \u001b[0mself\u001b[0m\u001b[0;34m.\u001b[0m\u001b[0m_create_graph_function\u001b[0m\u001b[0;34m(\u001b[0m\u001b[0margs\u001b[0m\u001b[0;34m,\u001b[0m \u001b[0mkwargs\u001b[0m\u001b[0;34m)\u001b[0m\u001b[0;34m\u001b[0m\u001b[0;34m\u001b[0m\u001b[0m\n\u001b[0m\u001b[1;32m   3464\u001b[0m           \u001b[0mself\u001b[0m\u001b[0;34m.\u001b[0m\u001b[0m_function_cache\u001b[0m\u001b[0;34m.\u001b[0m\u001b[0mprimary\u001b[0m\u001b[0;34m[\u001b[0m\u001b[0mcache_key\u001b[0m\u001b[0;34m]\u001b[0m \u001b[0;34m=\u001b[0m \u001b[0mgraph_function\u001b[0m\u001b[0;34m\u001b[0m\u001b[0;34m\u001b[0m\u001b[0m\n\u001b[1;32m   3465\u001b[0m \u001b[0;34m\u001b[0m\u001b[0m\n",
      "\u001b[0;32m~/miniforge3/envs/dl/lib/python3.9/site-packages/tensorflow/python/eager/function.py\u001b[0m in \u001b[0;36m_create_graph_function\u001b[0;34m(self, args, kwargs, override_flat_arg_shapes)\u001b[0m\n\u001b[1;32m   3296\u001b[0m     \u001b[0marg_names\u001b[0m \u001b[0;34m=\u001b[0m \u001b[0mbase_arg_names\u001b[0m \u001b[0;34m+\u001b[0m \u001b[0mmissing_arg_names\u001b[0m\u001b[0;34m\u001b[0m\u001b[0;34m\u001b[0m\u001b[0m\n\u001b[1;32m   3297\u001b[0m     graph_function = ConcreteFunction(\n\u001b[0;32m-> 3298\u001b[0;31m         func_graph_module.func_graph_from_py_func(\n\u001b[0m\u001b[1;32m   3299\u001b[0m             \u001b[0mself\u001b[0m\u001b[0;34m.\u001b[0m\u001b[0m_name\u001b[0m\u001b[0;34m,\u001b[0m\u001b[0;34m\u001b[0m\u001b[0;34m\u001b[0m\u001b[0m\n\u001b[1;32m   3300\u001b[0m             \u001b[0mself\u001b[0m\u001b[0;34m.\u001b[0m\u001b[0m_python_function\u001b[0m\u001b[0;34m,\u001b[0m\u001b[0;34m\u001b[0m\u001b[0;34m\u001b[0m\u001b[0m\n",
      "\u001b[0;32m~/miniforge3/envs/dl/lib/python3.9/site-packages/tensorflow/python/framework/func_graph.py\u001b[0m in \u001b[0;36mfunc_graph_from_py_func\u001b[0;34m(name, python_func, args, kwargs, signature, func_graph, autograph, autograph_options, add_control_dependencies, arg_names, op_return_value, collections, capture_by_value, override_flat_arg_shapes, acd_record_initial_resource_uses)\u001b[0m\n\u001b[1;32m   1005\u001b[0m         \u001b[0m_\u001b[0m\u001b[0;34m,\u001b[0m \u001b[0moriginal_func\u001b[0m \u001b[0;34m=\u001b[0m \u001b[0mtf_decorator\u001b[0m\u001b[0;34m.\u001b[0m\u001b[0munwrap\u001b[0m\u001b[0;34m(\u001b[0m\u001b[0mpython_func\u001b[0m\u001b[0;34m)\u001b[0m\u001b[0;34m\u001b[0m\u001b[0;34m\u001b[0m\u001b[0m\n\u001b[1;32m   1006\u001b[0m \u001b[0;34m\u001b[0m\u001b[0m\n\u001b[0;32m-> 1007\u001b[0;31m       \u001b[0mfunc_outputs\u001b[0m \u001b[0;34m=\u001b[0m \u001b[0mpython_func\u001b[0m\u001b[0;34m(\u001b[0m\u001b[0;34m*\u001b[0m\u001b[0mfunc_args\u001b[0m\u001b[0;34m,\u001b[0m \u001b[0;34m**\u001b[0m\u001b[0mfunc_kwargs\u001b[0m\u001b[0;34m)\u001b[0m\u001b[0;34m\u001b[0m\u001b[0;34m\u001b[0m\u001b[0m\n\u001b[0m\u001b[1;32m   1008\u001b[0m \u001b[0;34m\u001b[0m\u001b[0m\n\u001b[1;32m   1009\u001b[0m       \u001b[0;31m# invariant: `func_outputs` contains only Tensors, CompositeTensors,\u001b[0m\u001b[0;34m\u001b[0m\u001b[0;34m\u001b[0m\u001b[0m\n",
      "\u001b[0;32m~/miniforge3/envs/dl/lib/python3.9/site-packages/tensorflow/python/eager/def_function.py\u001b[0m in \u001b[0;36mwrapped_fn\u001b[0;34m(*args, **kwds)\u001b[0m\n\u001b[1;32m    666\u001b[0m         \u001b[0;31m# the function a weak reference to itself to avoid a reference cycle.\u001b[0m\u001b[0;34m\u001b[0m\u001b[0;34m\u001b[0m\u001b[0m\n\u001b[1;32m    667\u001b[0m         \u001b[0;32mwith\u001b[0m \u001b[0mOptionalXlaContext\u001b[0m\u001b[0;34m(\u001b[0m\u001b[0mcompile_with_xla\u001b[0m\u001b[0;34m)\u001b[0m\u001b[0;34m:\u001b[0m\u001b[0;34m\u001b[0m\u001b[0;34m\u001b[0m\u001b[0m\n\u001b[0;32m--> 668\u001b[0;31m           \u001b[0mout\u001b[0m \u001b[0;34m=\u001b[0m \u001b[0mweak_wrapped_fn\u001b[0m\u001b[0;34m(\u001b[0m\u001b[0;34m)\u001b[0m\u001b[0;34m.\u001b[0m\u001b[0m__wrapped__\u001b[0m\u001b[0;34m(\u001b[0m\u001b[0;34m*\u001b[0m\u001b[0margs\u001b[0m\u001b[0;34m,\u001b[0m \u001b[0;34m**\u001b[0m\u001b[0mkwds\u001b[0m\u001b[0;34m)\u001b[0m\u001b[0;34m\u001b[0m\u001b[0;34m\u001b[0m\u001b[0m\n\u001b[0m\u001b[1;32m    669\u001b[0m         \u001b[0;32mreturn\u001b[0m \u001b[0mout\u001b[0m\u001b[0;34m\u001b[0m\u001b[0;34m\u001b[0m\u001b[0m\n\u001b[1;32m    670\u001b[0m \u001b[0;34m\u001b[0m\u001b[0m\n",
      "\u001b[0;32m~/miniforge3/envs/dl/lib/python3.9/site-packages/tensorflow/python/framework/func_graph.py\u001b[0m in \u001b[0;36mwrapper\u001b[0;34m(*args, **kwargs)\u001b[0m\n\u001b[1;32m    992\u001b[0m           \u001b[0;32mexcept\u001b[0m \u001b[0mException\u001b[0m \u001b[0;32mas\u001b[0m \u001b[0me\u001b[0m\u001b[0;34m:\u001b[0m  \u001b[0;31m# pylint:disable=broad-except\u001b[0m\u001b[0;34m\u001b[0m\u001b[0;34m\u001b[0m\u001b[0m\n\u001b[1;32m    993\u001b[0m             \u001b[0;32mif\u001b[0m \u001b[0mhasattr\u001b[0m\u001b[0;34m(\u001b[0m\u001b[0me\u001b[0m\u001b[0;34m,\u001b[0m \u001b[0;34m\"ag_error_metadata\"\u001b[0m\u001b[0;34m)\u001b[0m\u001b[0;34m:\u001b[0m\u001b[0;34m\u001b[0m\u001b[0;34m\u001b[0m\u001b[0m\n\u001b[0;32m--> 994\u001b[0;31m               \u001b[0;32mraise\u001b[0m \u001b[0me\u001b[0m\u001b[0;34m.\u001b[0m\u001b[0mag_error_metadata\u001b[0m\u001b[0;34m.\u001b[0m\u001b[0mto_exception\u001b[0m\u001b[0;34m(\u001b[0m\u001b[0me\u001b[0m\u001b[0;34m)\u001b[0m\u001b[0;34m\u001b[0m\u001b[0;34m\u001b[0m\u001b[0m\n\u001b[0m\u001b[1;32m    995\u001b[0m             \u001b[0;32melse\u001b[0m\u001b[0;34m:\u001b[0m\u001b[0;34m\u001b[0m\u001b[0;34m\u001b[0m\u001b[0m\n\u001b[1;32m    996\u001b[0m               \u001b[0;32mraise\u001b[0m\u001b[0;34m\u001b[0m\u001b[0;34m\u001b[0m\u001b[0m\n",
      "\u001b[0;31mValueError\u001b[0m: in user code:\n\n    /Users/sota/miniforge3/envs/dl/lib/python3.9/site-packages/keras/engine/training.py:1586 predict_function  *\n        return step_function(self, iterator)\n    /Users/sota/miniforge3/envs/dl/lib/python3.9/site-packages/keras/engine/training.py:1576 step_function  **\n        outputs = model.distribute_strategy.run(run_step, args=(data,))\n    /Users/sota/miniforge3/envs/dl/lib/python3.9/site-packages/tensorflow/python/distribute/distribute_lib.py:1286 run\n        return self._extended.call_for_each_replica(fn, args=args, kwargs=kwargs)\n    /Users/sota/miniforge3/envs/dl/lib/python3.9/site-packages/tensorflow/python/distribute/distribute_lib.py:2849 call_for_each_replica\n        return self._call_for_each_replica(fn, args, kwargs)\n    /Users/sota/miniforge3/envs/dl/lib/python3.9/site-packages/tensorflow/python/distribute/distribute_lib.py:3632 _call_for_each_replica\n        return fn(*args, **kwargs)\n    /Users/sota/miniforge3/envs/dl/lib/python3.9/site-packages/keras/engine/training.py:1569 run_step  **\n        outputs = model.predict_step(data)\n    /Users/sota/miniforge3/envs/dl/lib/python3.9/site-packages/keras/engine/training.py:1537 predict_step\n        return self(x, training=False)\n    /Users/sota/miniforge3/envs/dl/lib/python3.9/site-packages/keras/engine/base_layer.py:1020 __call__\n        input_spec.assert_input_compatibility(self.input_spec, inputs, self.name)\n    /Users/sota/miniforge3/envs/dl/lib/python3.9/site-packages/keras/engine/input_spec.py:250 assert_input_compatibility\n        raise ValueError(\n\n    ValueError: Input 0 of layer sequential_3 is incompatible with the layer: expected axis -1 of input shape to have value 8 but received input with shape (None, 6)\n"
     ]
    }
   ],
   "source": [
    "model.predict(x=AL)"
   ]
  },
  {
   "cell_type": "code",
   "execution_count": 54,
   "metadata": {},
   "outputs": [
    {
     "data": {
      "text/html": [
       "<div>\n",
       "<style scoped>\n",
       "    .dataframe tbody tr th:only-of-type {\n",
       "        vertical-align: middle;\n",
       "    }\n",
       "\n",
       "    .dataframe tbody tr th {\n",
       "        vertical-align: top;\n",
       "    }\n",
       "\n",
       "    .dataframe thead th {\n",
       "        text-align: right;\n",
       "    }\n",
       "</style>\n",
       "<table border=\"1\" class=\"dataframe\">\n",
       "  <thead>\n",
       "    <tr style=\"text-align: right;\">\n",
       "      <th></th>\n",
       "      <th>total</th>\n",
       "      <th>speeding</th>\n",
       "      <th>alcohol</th>\n",
       "      <th>not_distracted</th>\n",
       "      <th>no_previous</th>\n",
       "      <th>ins_premium</th>\n",
       "      <th>ins_losses</th>\n",
       "    </tr>\n",
       "    <tr>\n",
       "      <th>abbrev</th>\n",
       "      <th></th>\n",
       "      <th></th>\n",
       "      <th></th>\n",
       "      <th></th>\n",
       "      <th></th>\n",
       "      <th></th>\n",
       "      <th></th>\n",
       "    </tr>\n",
       "  </thead>\n",
       "  <tbody>\n",
       "    <tr>\n",
       "      <th>AL</th>\n",
       "      <td>18.8</td>\n",
       "      <td>7.332</td>\n",
       "      <td>5.64</td>\n",
       "      <td>18.048</td>\n",
       "      <td>15.04</td>\n",
       "      <td>784.55</td>\n",
       "      <td>145.08</td>\n",
       "    </tr>\n",
       "  </tbody>\n",
       "</table>\n",
       "</div>"
      ],
      "text/plain": [
       "        total  speeding  alcohol  not_distracted  no_previous  ins_premium  \\\n",
       "abbrev                                                                       \n",
       "AL       18.8     7.332     5.64          18.048        15.04       784.55   \n",
       "\n",
       "        ins_losses  \n",
       "abbrev              \n",
       "AL          145.08  "
      ]
     },
     "execution_count": 54,
     "metadata": {},
     "output_type": "execute_result"
    }
   ],
   "source": [
    "df[:1]"
   ]
  },
  {
   "cell_type": "markdown",
   "metadata": {},
   "source": [
    "#### Observe the numbers for the `weights`"
   ]
  },
  {
   "cell_type": "code",
   "execution_count": 40,
   "metadata": {},
   "outputs": [
    {
     "data": {
      "text/plain": [
       "[array([[0., 0., 0.],\n",
       "        [0., 0., 0.],\n",
       "        [0., 0., 0.],\n",
       "        [0., 0., 0.],\n",
       "        [0., 0., 0.],\n",
       "        [0., 0., 0.]], dtype=float32),\n",
       " array([0., 0., 0.], dtype=float32),\n",
       " array([[ 0.13440204],\n",
       "        [ 0.3892213 ],\n",
       "        [-0.645908  ]], dtype=float32),\n",
       " array([0.], dtype=float32)]"
      ]
     },
     "execution_count": 40,
     "metadata": {},
     "output_type": "execute_result"
    }
   ],
   "source": [
    "model.get_weights()"
   ]
  },
  {
   "cell_type": "markdown",
   "metadata": {},
   "source": [
    "#### Predictions vs Reality"
   ]
  },
  {
   "cell_type": "markdown",
   "metadata": {},
   "source": [
    "> 1. Calculate the Predicted Accidents and\n",
    "> 2. Compare it with the Real Total Accidents"
   ]
  },
  {
   "cell_type": "code",
   "execution_count": null,
   "metadata": {},
   "outputs": [],
   "source": []
  },
  {
   "cell_type": "markdown",
   "metadata": {},
   "source": [
    "#### `fit()` the `model` and compare again"
   ]
  },
  {
   "cell_type": "code",
   "execution_count": 42,
   "metadata": {},
   "outputs": [],
   "source": [
    "model.compile(loss='mse', metrics=['mse'])"
   ]
  },
  {
   "cell_type": "code",
   "execution_count": 43,
   "metadata": {},
   "outputs": [
    {
     "name": "stdout",
     "output_type": "stream",
     "text": [
      "Epoch 1/500\n",
      "2/2 - 0s - loss: 222.7761 - mse: 222.7761\n",
      "Epoch 2/500\n",
      "2/2 - 0s - loss: 93.2213 - mse: 93.2213\n",
      "Epoch 3/500\n",
      "2/2 - 0s - loss: 52.9440 - mse: 52.9440\n",
      "Epoch 4/500\n",
      "2/2 - 0s - loss: 37.1020 - mse: 37.1020\n",
      "Epoch 5/500\n",
      "2/2 - 0s - loss: 30.7588 - mse: 30.7588\n",
      "Epoch 6/500\n",
      "2/2 - 0s - loss: 29.0020 - mse: 29.0020\n",
      "Epoch 7/500\n",
      "2/2 - 0s - loss: 28.2831 - mse: 28.2831\n",
      "Epoch 8/500\n",
      "2/2 - 0s - loss: 27.4843 - mse: 27.4843\n"
     ]
    },
    {
     "name": "stderr",
     "output_type": "stream",
     "text": [
      "2022-01-06 10:03:22.351338: I tensorflow/core/grappler/optimizers/custom_graph_optimizer_registry.cc:112] Plugin optimizer for device_type GPU is enabled.\n"
     ]
    },
    {
     "name": "stdout",
     "output_type": "stream",
     "text": [
      "Epoch 9/500\n",
      "2/2 - 0s - loss: 27.0332 - mse: 27.0332\n",
      "Epoch 10/500\n",
      "2/2 - 0s - loss: 26.8303 - mse: 26.8303\n",
      "Epoch 11/500\n",
      "2/2 - 0s - loss: 27.0910 - mse: 27.0910\n",
      "Epoch 12/500\n",
      "2/2 - 0s - loss: 26.6957 - mse: 26.6957\n",
      "Epoch 13/500\n",
      "2/2 - 0s - loss: 26.4539 - mse: 26.4539\n",
      "Epoch 14/500\n",
      "2/2 - 0s - loss: 26.1589 - mse: 26.1589\n",
      "Epoch 15/500\n",
      "2/2 - 0s - loss: 25.8832 - mse: 25.8832\n",
      "Epoch 16/500\n",
      "2/2 - 0s - loss: 25.9123 - mse: 25.9123\n",
      "Epoch 17/500\n",
      "2/2 - 0s - loss: 25.9592 - mse: 25.9592\n",
      "Epoch 18/500\n",
      "2/2 - 0s - loss: 26.7020 - mse: 26.7020\n",
      "Epoch 19/500\n",
      "2/2 - 0s - loss: 25.8275 - mse: 25.8275\n",
      "Epoch 20/500\n",
      "2/2 - 0s - loss: 24.7741 - mse: 24.7741\n",
      "Epoch 21/500\n",
      "2/2 - 0s - loss: 24.9872 - mse: 24.9872\n",
      "Epoch 22/500\n",
      "2/2 - 0s - loss: 24.8492 - mse: 24.8492\n",
      "Epoch 23/500\n",
      "2/2 - 0s - loss: 23.9078 - mse: 23.9078\n",
      "Epoch 24/500\n",
      "2/2 - 0s - loss: 24.1131 - mse: 24.1131\n",
      "Epoch 25/500\n",
      "2/2 - 0s - loss: 26.7698 - mse: 26.7698\n",
      "Epoch 26/500\n",
      "2/2 - 0s - loss: 24.0691 - mse: 24.0691\n",
      "Epoch 27/500\n",
      "2/2 - 0s - loss: 23.2625 - mse: 23.2625\n",
      "Epoch 28/500\n",
      "2/2 - 0s - loss: 24.1825 - mse: 24.1825\n",
      "Epoch 29/500\n",
      "2/2 - 0s - loss: 23.3085 - mse: 23.3085\n",
      "Epoch 30/500\n",
      "2/2 - 0s - loss: 22.3871 - mse: 22.3871\n",
      "Epoch 31/500\n",
      "2/2 - 0s - loss: 22.1700 - mse: 22.1700\n",
      "Epoch 32/500\n",
      "2/2 - 0s - loss: 21.5644 - mse: 21.5644\n",
      "Epoch 33/500\n",
      "2/2 - 0s - loss: 21.4979 - mse: 21.4979\n",
      "Epoch 34/500\n",
      "2/2 - 0s - loss: 21.8217 - mse: 21.8217\n",
      "Epoch 35/500\n",
      "2/2 - 0s - loss: 23.4312 - mse: 23.4312\n",
      "Epoch 36/500\n",
      "2/2 - 0s - loss: 22.0476 - mse: 22.0476\n",
      "Epoch 37/500\n",
      "2/2 - 0s - loss: 20.2329 - mse: 20.2329\n",
      "Epoch 38/500\n",
      "2/2 - 0s - loss: 20.4762 - mse: 20.4762\n",
      "Epoch 39/500\n",
      "2/2 - 0s - loss: 20.4359 - mse: 20.4359\n",
      "Epoch 40/500\n",
      "2/2 - 0s - loss: 19.5948 - mse: 19.5948\n",
      "Epoch 41/500\n",
      "2/2 - 0s - loss: 19.5251 - mse: 19.5251\n",
      "Epoch 42/500\n",
      "2/2 - 0s - loss: 19.4378 - mse: 19.4378\n",
      "Epoch 43/500\n",
      "2/2 - 0s - loss: 18.6767 - mse: 18.6767\n",
      "Epoch 44/500\n",
      "2/2 - 0s - loss: 20.0820 - mse: 20.0820\n",
      "Epoch 45/500\n",
      "2/2 - 0s - loss: 19.4713 - mse: 19.4713\n",
      "Epoch 46/500\n",
      "2/2 - 0s - loss: 17.9832 - mse: 17.9832\n",
      "Epoch 47/500\n",
      "2/2 - 0s - loss: 18.1254 - mse: 18.1254\n",
      "Epoch 48/500\n",
      "2/2 - 0s - loss: 17.4699 - mse: 17.4699\n",
      "Epoch 49/500\n",
      "2/2 - 0s - loss: 17.3335 - mse: 17.3335\n",
      "Epoch 50/500\n",
      "2/2 - 0s - loss: 17.5593 - mse: 17.5593\n",
      "Epoch 51/500\n",
      "2/2 - 0s - loss: 16.8436 - mse: 16.8436\n",
      "Epoch 52/500\n",
      "2/2 - 0s - loss: 16.3571 - mse: 16.3571\n",
      "Epoch 53/500\n",
      "2/2 - 0s - loss: 21.9490 - mse: 21.9490\n",
      "Epoch 54/500\n",
      "2/2 - 0s - loss: 16.9083 - mse: 16.9083\n",
      "Epoch 55/500\n",
      "2/2 - 0s - loss: 15.9710 - mse: 15.9710\n",
      "Epoch 56/500\n",
      "2/2 - 0s - loss: 15.5613 - mse: 15.5613\n",
      "Epoch 57/500\n",
      "2/2 - 0s - loss: 15.5893 - mse: 15.5893\n",
      "Epoch 58/500\n",
      "2/2 - 0s - loss: 15.1499 - mse: 15.1499\n",
      "Epoch 59/500\n",
      "2/2 - 0s - loss: 14.8698 - mse: 14.8698\n",
      "Epoch 60/500\n",
      "2/2 - 0s - loss: 14.7910 - mse: 14.7910\n",
      "Epoch 61/500\n",
      "2/2 - 0s - loss: 16.4141 - mse: 16.4141\n",
      "Epoch 62/500\n",
      "2/2 - 0s - loss: 16.8570 - mse: 16.8570\n",
      "Epoch 63/500\n",
      "2/2 - 0s - loss: 14.0232 - mse: 14.0232\n",
      "Epoch 64/500\n",
      "2/2 - 0s - loss: 13.6862 - mse: 13.6862\n",
      "Epoch 65/500\n",
      "2/2 - 0s - loss: 13.5347 - mse: 13.5347\n",
      "Epoch 66/500\n",
      "2/2 - 0s - loss: 13.9548 - mse: 13.9548\n",
      "Epoch 67/500\n",
      "2/2 - 0s - loss: 16.1486 - mse: 16.1486\n",
      "Epoch 68/500\n",
      "2/2 - 0s - loss: 13.6981 - mse: 13.6981\n",
      "Epoch 69/500\n",
      "2/2 - 0s - loss: 12.8088 - mse: 12.8088\n",
      "Epoch 70/500\n",
      "2/2 - 0s - loss: 13.1956 - mse: 13.1956\n",
      "Epoch 71/500\n",
      "2/2 - 0s - loss: 12.2983 - mse: 12.2983\n",
      "Epoch 72/500\n",
      "2/2 - 0s - loss: 12.1200 - mse: 12.1200\n",
      "Epoch 73/500\n",
      "2/2 - 0s - loss: 12.3292 - mse: 12.3292\n",
      "Epoch 74/500\n",
      "2/2 - 0s - loss: 13.5179 - mse: 13.5179\n",
      "Epoch 75/500\n",
      "2/2 - 0s - loss: 12.7410 - mse: 12.7410\n",
      "Epoch 76/500\n",
      "2/2 - 0s - loss: 11.4167 - mse: 11.4167\n",
      "Epoch 77/500\n",
      "2/2 - 0s - loss: 11.1840 - mse: 11.1840\n",
      "Epoch 78/500\n",
      "2/2 - 0s - loss: 11.2869 - mse: 11.2869\n",
      "Epoch 79/500\n",
      "2/2 - 0s - loss: 10.7502 - mse: 10.7502\n",
      "Epoch 80/500\n",
      "2/2 - 0s - loss: 11.2006 - mse: 11.2006\n",
      "Epoch 81/500\n",
      "2/2 - 0s - loss: 11.4156 - mse: 11.4156\n",
      "Epoch 82/500\n",
      "2/2 - 0s - loss: 10.2408 - mse: 10.2408\n",
      "Epoch 83/500\n",
      "2/2 - 0s - loss: 11.7316 - mse: 11.7316\n",
      "Epoch 84/500\n",
      "2/2 - 0s - loss: 10.1670 - mse: 10.1670\n",
      "Epoch 85/500\n",
      "2/2 - 0s - loss: 10.5181 - mse: 10.5181\n",
      "Epoch 86/500\n",
      "2/2 - 0s - loss: 10.1342 - mse: 10.1342\n",
      "Epoch 87/500\n",
      "2/2 - 0s - loss: 9.4884 - mse: 9.4884\n",
      "Epoch 88/500\n",
      "2/2 - 0s - loss: 9.9367 - mse: 9.9367\n",
      "Epoch 89/500\n",
      "2/2 - 0s - loss: 9.6178 - mse: 9.6178\n",
      "Epoch 90/500\n",
      "2/2 - 0s - loss: 8.8449 - mse: 8.8449\n",
      "Epoch 91/500\n",
      "2/2 - 0s - loss: 9.8264 - mse: 9.8264\n",
      "Epoch 92/500\n",
      "2/2 - 0s - loss: 10.6083 - mse: 10.6083\n",
      "Epoch 93/500\n",
      "2/2 - 0s - loss: 8.4493 - mse: 8.4493\n",
      "Epoch 94/500\n",
      "2/2 - 0s - loss: 8.5235 - mse: 8.5235\n",
      "Epoch 95/500\n",
      "2/2 - 0s - loss: 8.1503 - mse: 8.1503\n",
      "Epoch 96/500\n",
      "2/2 - 0s - loss: 8.1870 - mse: 8.1870\n",
      "Epoch 97/500\n",
      "2/2 - 0s - loss: 8.7121 - mse: 8.7121\n",
      "Epoch 98/500\n",
      "2/2 - 0s - loss: 10.0632 - mse: 10.0632\n",
      "Epoch 99/500\n",
      "2/2 - 0s - loss: 7.6775 - mse: 7.6775\n",
      "Epoch 100/500\n",
      "2/2 - 0s - loss: 8.4798 - mse: 8.4798\n",
      "Epoch 101/500\n",
      "2/2 - 0s - loss: 10.3607 - mse: 10.3607\n",
      "Epoch 102/500\n",
      "2/2 - 0s - loss: 8.2308 - mse: 8.2308\n",
      "Epoch 103/500\n",
      "2/2 - 0s - loss: 8.2611 - mse: 8.2611\n",
      "Epoch 104/500\n",
      "2/2 - 0s - loss: 7.3173 - mse: 7.3173\n",
      "Epoch 105/500\n",
      "2/2 - 0s - loss: 7.1542 - mse: 7.1542\n",
      "Epoch 106/500\n",
      "2/2 - 0s - loss: 7.1544 - mse: 7.1544\n",
      "Epoch 107/500\n",
      "2/2 - 0s - loss: 6.8825 - mse: 6.8825\n",
      "Epoch 108/500\n",
      "2/2 - 0s - loss: 6.8225 - mse: 6.8225\n",
      "Epoch 109/500\n",
      "2/2 - 0s - loss: 6.3844 - mse: 6.3844\n",
      "Epoch 110/500\n",
      "2/2 - 0s - loss: 7.2883 - mse: 7.2883\n",
      "Epoch 111/500\n",
      "2/2 - 0s - loss: 7.9689 - mse: 7.9689\n",
      "Epoch 112/500\n",
      "2/2 - 0s - loss: 7.8302 - mse: 7.8302\n",
      "Epoch 113/500\n",
      "2/2 - 0s - loss: 6.6849 - mse: 6.6849\n",
      "Epoch 114/500\n",
      "2/2 - 0s - loss: 5.9061 - mse: 5.9061\n",
      "Epoch 115/500\n",
      "2/2 - 0s - loss: 6.8101 - mse: 6.8101\n",
      "Epoch 116/500\n",
      "2/2 - 0s - loss: 5.7848 - mse: 5.7848\n",
      "Epoch 117/500\n",
      "2/2 - 0s - loss: 6.2863 - mse: 6.2863\n",
      "Epoch 118/500\n",
      "2/2 - 0s - loss: 5.5534 - mse: 5.5534\n",
      "Epoch 119/500\n",
      "2/2 - 0s - loss: 6.5837 - mse: 6.5837\n",
      "Epoch 120/500\n",
      "2/2 - 0s - loss: 6.3975 - mse: 6.3975\n",
      "Epoch 121/500\n",
      "2/2 - 0s - loss: 5.2893 - mse: 5.2893\n",
      "Epoch 122/500\n",
      "2/2 - 0s - loss: 5.1630 - mse: 5.1630\n",
      "Epoch 123/500\n",
      "2/2 - 0s - loss: 5.2474 - mse: 5.2474\n",
      "Epoch 124/500\n",
      "2/2 - 0s - loss: 7.0166 - mse: 7.0166\n",
      "Epoch 125/500\n",
      "2/2 - 0s - loss: 6.1788 - mse: 6.1788\n",
      "Epoch 126/500\n",
      "2/2 - 0s - loss: 4.8640 - mse: 4.8640\n",
      "Epoch 127/500\n",
      "2/2 - 0s - loss: 4.7698 - mse: 4.7698\n",
      "Epoch 128/500\n",
      "2/2 - 0s - loss: 7.4195 - mse: 7.4195\n",
      "Epoch 129/500\n",
      "2/2 - 0s - loss: 5.2195 - mse: 5.2195\n",
      "Epoch 130/500\n",
      "2/2 - 0s - loss: 4.3620 - mse: 4.3620\n",
      "Epoch 131/500\n",
      "2/2 - 0s - loss: 4.7837 - mse: 4.7837\n",
      "Epoch 132/500\n",
      "2/2 - 0s - loss: 4.5211 - mse: 4.5211\n",
      "Epoch 133/500\n",
      "2/2 - 0s - loss: 4.3410 - mse: 4.3410\n",
      "Epoch 134/500\n",
      "2/2 - 0s - loss: 4.0525 - mse: 4.0525\n",
      "Epoch 135/500\n",
      "2/2 - 0s - loss: 4.9074 - mse: 4.9074\n",
      "Epoch 136/500\n",
      "2/2 - 0s - loss: 5.3598 - mse: 5.3598\n",
      "Epoch 137/500\n",
      "2/2 - 0s - loss: 4.6035 - mse: 4.6035\n",
      "Epoch 138/500\n",
      "2/2 - 0s - loss: 3.9493 - mse: 3.9493\n",
      "Epoch 139/500\n",
      "2/2 - 0s - loss: 4.2269 - mse: 4.2269\n",
      "Epoch 140/500\n",
      "2/2 - 0s - loss: 4.0904 - mse: 4.0904\n",
      "Epoch 141/500\n",
      "2/2 - 0s - loss: 5.1536 - mse: 5.1536\n",
      "Epoch 142/500\n",
      "2/2 - 0s - loss: 3.9985 - mse: 3.9985\n",
      "Epoch 143/500\n",
      "2/2 - 0s - loss: 3.5272 - mse: 3.5272\n",
      "Epoch 144/500\n",
      "2/2 - 0s - loss: 4.8510 - mse: 4.8510\n",
      "Epoch 145/500\n",
      "2/2 - 0s - loss: 4.6384 - mse: 4.6384\n",
      "Epoch 146/500\n",
      "2/2 - 0s - loss: 3.5837 - mse: 3.5837\n",
      "Epoch 147/500\n",
      "2/2 - 0s - loss: 4.4249 - mse: 4.4249\n",
      "Epoch 148/500\n",
      "2/2 - 0s - loss: 4.3744 - mse: 4.3744\n",
      "Epoch 149/500\n",
      "2/2 - 0s - loss: 3.4624 - mse: 3.4624\n",
      "Epoch 150/500\n",
      "2/2 - 0s - loss: 4.2671 - mse: 4.2671\n",
      "Epoch 151/500\n",
      "2/2 - 0s - loss: 3.4415 - mse: 3.4415\n",
      "Epoch 152/500\n",
      "2/2 - 0s - loss: 3.5610 - mse: 3.5610\n",
      "Epoch 153/500\n",
      "2/2 - 0s - loss: 4.1556 - mse: 4.1556\n",
      "Epoch 154/500\n",
      "2/2 - 0s - loss: 3.9856 - mse: 3.9856\n",
      "Epoch 155/500\n",
      "2/2 - 0s - loss: 3.5120 - mse: 3.5120\n",
      "Epoch 156/500\n",
      "2/2 - 0s - loss: 3.0025 - mse: 3.0025\n",
      "Epoch 157/500\n",
      "2/2 - 0s - loss: 3.0402 - mse: 3.0402\n",
      "Epoch 158/500\n",
      "2/2 - 0s - loss: 3.9188 - mse: 3.9188\n",
      "Epoch 159/500\n",
      "2/2 - 0s - loss: 5.3381 - mse: 5.3381\n",
      "Epoch 160/500\n",
      "2/2 - 0s - loss: 2.8905 - mse: 2.8905\n",
      "Epoch 161/500\n",
      "2/2 - 0s - loss: 2.7804 - mse: 2.7804\n",
      "Epoch 162/500\n",
      "2/2 - 0s - loss: 2.9893 - mse: 2.9893\n",
      "Epoch 163/500\n",
      "2/2 - 0s - loss: 4.4490 - mse: 4.4490\n",
      "Epoch 164/500\n",
      "2/2 - 0s - loss: 5.4831 - mse: 5.4831\n",
      "Epoch 165/500\n",
      "2/2 - 0s - loss: 3.8016 - mse: 3.8016\n",
      "Epoch 166/500\n",
      "2/2 - 0s - loss: 3.2006 - mse: 3.2006\n",
      "Epoch 167/500\n",
      "2/2 - 0s - loss: 3.2243 - mse: 3.2243\n",
      "Epoch 168/500\n",
      "2/2 - 0s - loss: 3.1576 - mse: 3.1576\n",
      "Epoch 169/500\n",
      "2/2 - 0s - loss: 2.9969 - mse: 2.9969\n",
      "Epoch 170/500\n",
      "2/2 - 0s - loss: 2.9315 - mse: 2.9315\n",
      "Epoch 171/500\n",
      "2/2 - 0s - loss: 3.0199 - mse: 3.0199\n",
      "Epoch 172/500\n",
      "2/2 - 0s - loss: 3.2206 - mse: 3.2206\n",
      "Epoch 173/500\n",
      "2/2 - 0s - loss: 2.9526 - mse: 2.9526\n",
      "Epoch 174/500\n",
      "2/2 - 0s - loss: 2.9846 - mse: 2.9846\n",
      "Epoch 175/500\n",
      "2/2 - 0s - loss: 2.4217 - mse: 2.4217\n",
      "Epoch 176/500\n",
      "2/2 - 0s - loss: 3.4983 - mse: 3.4983\n",
      "Epoch 177/500\n",
      "2/2 - 0s - loss: 5.1898 - mse: 5.1898\n",
      "Epoch 178/500\n",
      "2/2 - 0s - loss: 2.5464 - mse: 2.5464\n",
      "Epoch 179/500\n",
      "2/2 - 0s - loss: 2.6629 - mse: 2.6629\n",
      "Epoch 180/500\n",
      "2/2 - 0s - loss: 2.6482 - mse: 2.6482\n",
      "Epoch 181/500\n",
      "2/2 - 0s - loss: 2.7491 - mse: 2.7491\n",
      "Epoch 182/500\n",
      "2/2 - 0s - loss: 2.6063 - mse: 2.6063\n",
      "Epoch 183/500\n",
      "2/2 - 0s - loss: 2.2318 - mse: 2.2318\n",
      "Epoch 184/500\n",
      "2/2 - 0s - loss: 4.3015 - mse: 4.3015\n",
      "Epoch 185/500\n",
      "2/2 - 0s - loss: 3.3086 - mse: 3.3086\n",
      "Epoch 186/500\n",
      "2/2 - 0s - loss: 2.3460 - mse: 2.3460\n",
      "Epoch 187/500\n",
      "2/2 - 0s - loss: 2.1883 - mse: 2.1883\n",
      "Epoch 188/500\n",
      "2/2 - 0s - loss: 2.4235 - mse: 2.4235\n",
      "Epoch 189/500\n",
      "2/2 - 0s - loss: 3.7142 - mse: 3.7142\n",
      "Epoch 190/500\n",
      "2/2 - 0s - loss: 4.1086 - mse: 4.1086\n",
      "Epoch 191/500\n",
      "2/2 - 0s - loss: 2.7766 - mse: 2.7766\n",
      "Epoch 192/500\n",
      "2/2 - 0s - loss: 2.3721 - mse: 2.3721\n",
      "Epoch 193/500\n",
      "2/2 - 0s - loss: 2.1407 - mse: 2.1407\n",
      "Epoch 194/500\n",
      "2/2 - 0s - loss: 2.1441 - mse: 2.1441\n",
      "Epoch 195/500\n",
      "2/2 - 0s - loss: 2.3422 - mse: 2.3422\n",
      "Epoch 196/500\n",
      "2/2 - 0s - loss: 3.0912 - mse: 3.0912\n",
      "Epoch 197/500\n",
      "2/2 - 0s - loss: 2.1562 - mse: 2.1562\n",
      "Epoch 198/500\n",
      "2/2 - 0s - loss: 2.1236 - mse: 2.1236\n",
      "Epoch 199/500\n",
      "2/2 - 0s - loss: 2.6009 - mse: 2.6009\n",
      "Epoch 200/500\n",
      "2/2 - 0s - loss: 2.2004 - mse: 2.2004\n",
      "Epoch 201/500\n",
      "2/2 - 0s - loss: 2.9449 - mse: 2.9449\n",
      "Epoch 202/500\n",
      "2/2 - 0s - loss: 4.7769 - mse: 4.7769\n",
      "Epoch 203/500\n",
      "2/2 - 0s - loss: 2.9870 - mse: 2.9870\n",
      "Epoch 204/500\n",
      "2/2 - 0s - loss: 2.0323 - mse: 2.0323\n",
      "Epoch 205/500\n",
      "2/2 - 0s - loss: 2.6183 - mse: 2.6183\n",
      "Epoch 206/500\n",
      "2/2 - 0s - loss: 2.0055 - mse: 2.0055\n",
      "Epoch 207/500\n",
      "2/2 - 0s - loss: 2.6907 - mse: 2.6907\n",
      "Epoch 208/500\n",
      "2/2 - 0s - loss: 3.6743 - mse: 3.6743\n",
      "Epoch 209/500\n",
      "2/2 - 0s - loss: 2.7335 - mse: 2.7335\n",
      "Epoch 210/500\n",
      "2/2 - 0s - loss: 1.9270 - mse: 1.9270\n",
      "Epoch 211/500\n",
      "2/2 - 0s - loss: 2.2608 - mse: 2.2608\n",
      "Epoch 212/500\n",
      "2/2 - 0s - loss: 3.1712 - mse: 3.1712\n",
      "Epoch 213/500\n",
      "2/2 - 0s - loss: 2.5155 - mse: 2.5155\n",
      "Epoch 214/500\n",
      "2/2 - 0s - loss: 2.0025 - mse: 2.0025\n",
      "Epoch 215/500\n",
      "2/2 - 0s - loss: 2.1511 - mse: 2.1511\n",
      "Epoch 216/500\n",
      "2/2 - 0s - loss: 2.0488 - mse: 2.0488\n",
      "Epoch 217/500\n",
      "2/2 - 0s - loss: 2.0394 - mse: 2.0394\n",
      "Epoch 218/500\n",
      "2/2 - 0s - loss: 1.8677 - mse: 1.8677\n",
      "Epoch 219/500\n",
      "2/2 - 0s - loss: 2.6548 - mse: 2.6548\n",
      "Epoch 220/500\n",
      "2/2 - 0s - loss: 4.3068 - mse: 4.3068\n",
      "Epoch 221/500\n",
      "2/2 - 0s - loss: 2.0615 - mse: 2.0615\n",
      "Epoch 222/500\n",
      "2/2 - 0s - loss: 1.8118 - mse: 1.8118\n",
      "Epoch 223/500\n",
      "2/2 - 0s - loss: 1.8570 - mse: 1.8570\n",
      "Epoch 224/500\n",
      "2/2 - 0s - loss: 2.7652 - mse: 2.7652\n",
      "Epoch 225/500\n",
      "2/2 - 0s - loss: 3.7180 - mse: 3.7180\n",
      "Epoch 226/500\n",
      "2/2 - 0s - loss: 2.8748 - mse: 2.8748\n",
      "Epoch 227/500\n",
      "2/2 - 0s - loss: 3.4320 - mse: 3.4320\n",
      "Epoch 228/500\n",
      "2/2 - 0s - loss: 2.5803 - mse: 2.5803\n",
      "Epoch 229/500\n",
      "2/2 - 0s - loss: 2.2122 - mse: 2.2122\n",
      "Epoch 230/500\n",
      "2/2 - 0s - loss: 2.3369 - mse: 2.3369\n",
      "Epoch 231/500\n",
      "2/2 - 0s - loss: 2.0191 - mse: 2.0191\n",
      "Epoch 232/500\n",
      "2/2 - 0s - loss: 2.4514 - mse: 2.4514\n",
      "Epoch 233/500\n",
      "2/2 - 0s - loss: 1.7500 - mse: 1.7500\n",
      "Epoch 234/500\n",
      "2/2 - 0s - loss: 3.6127 - mse: 3.6127\n",
      "Epoch 235/500\n",
      "2/2 - 0s - loss: 2.0262 - mse: 2.0262\n",
      "Epoch 236/500\n",
      "2/2 - 0s - loss: 2.6529 - mse: 2.6529\n",
      "Epoch 237/500\n",
      "2/2 - 0s - loss: 1.7394 - mse: 1.7394\n",
      "Epoch 238/500\n",
      "2/2 - 0s - loss: 2.2728 - mse: 2.2728\n",
      "Epoch 239/500\n",
      "2/2 - 0s - loss: 4.4450 - mse: 4.4450\n",
      "Epoch 240/500\n",
      "2/2 - 0s - loss: 3.9973 - mse: 3.9973\n",
      "Epoch 241/500\n",
      "2/2 - 0s - loss: 2.6413 - mse: 2.6413\n",
      "Epoch 242/500\n",
      "2/2 - 0s - loss: 1.8577 - mse: 1.8577\n",
      "Epoch 243/500\n",
      "2/2 - 0s - loss: 1.8041 - mse: 1.8041\n",
      "Epoch 244/500\n",
      "2/2 - 0s - loss: 1.7070 - mse: 1.7070\n",
      "Epoch 245/500\n",
      "2/2 - 0s - loss: 1.7410 - mse: 1.7410\n",
      "Epoch 246/500\n",
      "2/2 - 0s - loss: 1.6994 - mse: 1.6994\n",
      "Epoch 247/500\n",
      "2/2 - 0s - loss: 1.6921 - mse: 1.6921\n",
      "Epoch 248/500\n",
      "2/2 - 0s - loss: 1.6821 - mse: 1.6821\n",
      "Epoch 249/500\n",
      "2/2 - 0s - loss: 1.6667 - mse: 1.6667\n",
      "Epoch 250/500\n",
      "2/2 - 0s - loss: 2.1930 - mse: 2.1930\n",
      "Epoch 251/500\n",
      "2/2 - 0s - loss: 5.1500 - mse: 5.1500\n",
      "Epoch 252/500\n",
      "2/2 - 0s - loss: 2.4873 - mse: 2.4873\n",
      "Epoch 253/500\n",
      "2/2 - 0s - loss: 1.8165 - mse: 1.8165\n",
      "Epoch 254/500\n",
      "2/2 - 0s - loss: 1.6596 - mse: 1.6596\n",
      "Epoch 255/500\n",
      "2/2 - 0s - loss: 1.8228 - mse: 1.8228\n",
      "Epoch 256/500\n",
      "2/2 - 0s - loss: 3.3056 - mse: 3.3056\n",
      "Epoch 257/500\n",
      "2/2 - 0s - loss: 4.1887 - mse: 4.1887\n",
      "Epoch 258/500\n",
      "2/2 - 0s - loss: 2.1785 - mse: 2.1785\n",
      "Epoch 259/500\n",
      "2/2 - 0s - loss: 1.8497 - mse: 1.8497\n",
      "Epoch 260/500\n",
      "2/2 - 0s - loss: 2.4097 - mse: 2.4097\n",
      "Epoch 261/500\n",
      "2/2 - 0s - loss: 2.7806 - mse: 2.7806\n",
      "Epoch 262/500\n",
      "2/2 - 0s - loss: 2.8932 - mse: 2.8932\n",
      "Epoch 263/500\n",
      "2/2 - 0s - loss: 3.8969 - mse: 3.8969\n",
      "Epoch 264/500\n",
      "2/2 - 0s - loss: 2.9920 - mse: 2.9920\n",
      "Epoch 265/500\n",
      "2/2 - 0s - loss: 2.2136 - mse: 2.2136\n",
      "Epoch 266/500\n",
      "2/2 - 0s - loss: 1.7738 - mse: 1.7738\n",
      "Epoch 267/500\n",
      "2/2 - 0s - loss: 1.6151 - mse: 1.6151\n",
      "Epoch 268/500\n",
      "2/2 - 0s - loss: 1.8086 - mse: 1.8086\n",
      "Epoch 269/500\n",
      "2/2 - 0s - loss: 2.2085 - mse: 2.2085\n",
      "Epoch 270/500\n",
      "2/2 - 0s - loss: 2.0632 - mse: 2.0632\n",
      "Epoch 271/500\n",
      "2/2 - 0s - loss: 2.1892 - mse: 2.1892\n",
      "Epoch 272/500\n",
      "2/2 - 0s - loss: 2.8847 - mse: 2.8847\n",
      "Epoch 273/500\n",
      "2/2 - 0s - loss: 1.9216 - mse: 1.9216\n",
      "Epoch 274/500\n",
      "2/2 - 0s - loss: 1.5937 - mse: 1.5937\n",
      "Epoch 275/500\n",
      "2/2 - 0s - loss: 1.7110 - mse: 1.7110\n",
      "Epoch 276/500\n",
      "2/2 - 0s - loss: 3.4070 - mse: 3.4070\n",
      "Epoch 277/500\n",
      "2/2 - 0s - loss: 3.6141 - mse: 3.6141\n",
      "Epoch 278/500\n",
      "2/2 - 0s - loss: 2.0063 - mse: 2.0063\n",
      "Epoch 279/500\n",
      "2/2 - 0s - loss: 1.5809 - mse: 1.5809\n",
      "Epoch 280/500\n",
      "2/2 - 0s - loss: 1.6435 - mse: 1.6435\n",
      "Epoch 281/500\n",
      "2/2 - 0s - loss: 3.1039 - mse: 3.1039\n",
      "Epoch 282/500\n",
      "2/2 - 0s - loss: 4.4364 - mse: 4.4364\n",
      "Epoch 283/500\n",
      "2/2 - 0s - loss: 2.3570 - mse: 2.3570\n",
      "Epoch 284/500\n",
      "2/2 - 0s - loss: 2.8096 - mse: 2.8096\n",
      "Epoch 285/500\n",
      "2/2 - 0s - loss: 2.0810 - mse: 2.0810\n",
      "Epoch 286/500\n",
      "2/2 - 0s - loss: 1.6782 - mse: 1.6782\n",
      "Epoch 287/500\n",
      "2/2 - 0s - loss: 2.0020 - mse: 2.0020\n",
      "Epoch 288/500\n",
      "2/2 - 0s - loss: 1.5654 - mse: 1.5654\n",
      "Epoch 289/500\n",
      "2/2 - 0s - loss: 1.6019 - mse: 1.6019\n",
      "Epoch 290/500\n",
      "2/2 - 0s - loss: 1.6294 - mse: 1.6294\n",
      "Epoch 291/500\n",
      "2/2 - 0s - loss: 2.0577 - mse: 2.0577\n",
      "Epoch 292/500\n",
      "2/2 - 0s - loss: 5.4470 - mse: 5.4470\n",
      "Epoch 293/500\n",
      "2/2 - 0s - loss: 3.4890 - mse: 3.4890\n",
      "Epoch 294/500\n",
      "2/2 - 0s - loss: 1.6518 - mse: 1.6518\n",
      "Epoch 295/500\n",
      "2/2 - 0s - loss: 1.5609 - mse: 1.5609\n",
      "Epoch 296/500\n",
      "2/2 - 0s - loss: 1.5908 - mse: 1.5908\n",
      "Epoch 297/500\n",
      "2/2 - 0s - loss: 1.8575 - mse: 1.8575\n",
      "Epoch 298/500\n",
      "2/2 - 0s - loss: 2.3165 - mse: 2.3165\n",
      "Epoch 299/500\n",
      "2/2 - 0s - loss: 1.7670 - mse: 1.7670\n",
      "Epoch 300/500\n",
      "2/2 - 0s - loss: 2.4207 - mse: 2.4207\n",
      "Epoch 301/500\n",
      "2/2 - 0s - loss: 3.0851 - mse: 3.0851\n",
      "Epoch 302/500\n",
      "2/2 - 0s - loss: 2.4587 - mse: 2.4587\n",
      "Epoch 303/500\n",
      "2/2 - 0s - loss: 1.9430 - mse: 1.9430\n",
      "Epoch 304/500\n",
      "2/2 - 0s - loss: 1.6078 - mse: 1.6078\n",
      "Epoch 305/500\n",
      "2/2 - 0s - loss: 1.5712 - mse: 1.5712\n",
      "Epoch 306/500\n",
      "2/2 - 0s - loss: 2.5497 - mse: 2.5497\n",
      "Epoch 307/500\n",
      "2/2 - 0s - loss: 3.0376 - mse: 3.0376\n",
      "Epoch 308/500\n",
      "2/2 - 0s - loss: 1.8197 - mse: 1.8197\n",
      "Epoch 309/500\n",
      "2/2 - 0s - loss: 1.5969 - mse: 1.5969\n",
      "Epoch 310/500\n",
      "2/2 - 0s - loss: 2.2071 - mse: 2.2071\n",
      "Epoch 311/500\n",
      "2/2 - 0s - loss: 4.3188 - mse: 4.3188\n",
      "Epoch 312/500\n",
      "2/2 - 0s - loss: 2.2122 - mse: 2.2122\n",
      "Epoch 313/500\n",
      "2/2 - 0s - loss: 1.6643 - mse: 1.6643\n",
      "Epoch 314/500\n",
      "2/2 - 0s - loss: 1.7521 - mse: 1.7521\n",
      "Epoch 315/500\n",
      "2/2 - 0s - loss: 1.8391 - mse: 1.8391\n",
      "Epoch 316/500\n",
      "2/2 - 0s - loss: 2.0199 - mse: 2.0199\n",
      "Epoch 317/500\n",
      "2/2 - 0s - loss: 3.3005 - mse: 3.3005\n",
      "Epoch 318/500\n",
      "2/2 - 0s - loss: 3.3488 - mse: 3.3488\n",
      "Epoch 319/500\n",
      "2/2 - 0s - loss: 1.5236 - mse: 1.5236\n",
      "Epoch 320/500\n",
      "2/2 - 0s - loss: 1.6127 - mse: 1.6127\n",
      "Epoch 321/500\n",
      "2/2 - 0s - loss: 1.7493 - mse: 1.7493\n",
      "Epoch 322/500\n",
      "2/2 - 0s - loss: 2.1829 - mse: 2.1829\n",
      "Epoch 323/500\n",
      "2/2 - 0s - loss: 2.5690 - mse: 2.5690\n",
      "Epoch 324/500\n",
      "2/2 - 0s - loss: 1.5361 - mse: 1.5361\n",
      "Epoch 325/500\n",
      "2/2 - 0s - loss: 2.2782 - mse: 2.2782\n",
      "Epoch 326/500\n",
      "2/2 - 0s - loss: 3.4192 - mse: 3.4192\n",
      "Epoch 327/500\n",
      "2/2 - 0s - loss: 1.9038 - mse: 1.9038\n",
      "Epoch 328/500\n",
      "2/2 - 0s - loss: 1.4809 - mse: 1.4809\n",
      "Epoch 329/500\n",
      "2/2 - 0s - loss: 1.5364 - mse: 1.5364\n",
      "Epoch 330/500\n",
      "2/2 - 0s - loss: 1.4529 - mse: 1.4529\n",
      "Epoch 331/500\n",
      "2/2 - 0s - loss: 1.4866 - mse: 1.4866\n",
      "Epoch 332/500\n",
      "2/2 - 0s - loss: 1.5451 - mse: 1.5451\n",
      "Epoch 333/500\n",
      "2/2 - 0s - loss: 2.3290 - mse: 2.3290\n",
      "Epoch 334/500\n",
      "2/2 - 0s - loss: 3.2640 - mse: 3.2640\n",
      "Epoch 335/500\n",
      "2/2 - 0s - loss: 2.4220 - mse: 2.4220\n",
      "Epoch 336/500\n",
      "2/2 - 0s - loss: 2.0618 - mse: 2.0618\n",
      "Epoch 337/500\n",
      "2/2 - 0s - loss: 1.6201 - mse: 1.6201\n",
      "Epoch 338/500\n",
      "2/2 - 0s - loss: 1.6412 - mse: 1.6412\n",
      "Epoch 339/500\n",
      "2/2 - 0s - loss: 3.2734 - mse: 3.2734\n",
      "Epoch 340/500\n",
      "2/2 - 0s - loss: 1.4456 - mse: 1.4456\n",
      "Epoch 341/500\n",
      "2/2 - 0s - loss: 2.1681 - mse: 2.1681\n",
      "Epoch 342/500\n",
      "2/2 - 0s - loss: 2.8174 - mse: 2.8174\n",
      "Epoch 343/500\n",
      "2/2 - 0s - loss: 2.8658 - mse: 2.8658\n",
      "Epoch 344/500\n",
      "2/2 - 0s - loss: 1.9640 - mse: 1.9640\n",
      "Epoch 345/500\n",
      "2/2 - 0s - loss: 1.4361 - mse: 1.4361\n",
      "Epoch 346/500\n",
      "2/2 - 0s - loss: 1.5323 - mse: 1.5323\n",
      "Epoch 347/500\n",
      "2/2 - 0s - loss: 2.8489 - mse: 2.8489\n",
      "Epoch 348/500\n",
      "2/2 - 0s - loss: 2.0523 - mse: 2.0523\n",
      "Epoch 349/500\n",
      "2/2 - 0s - loss: 1.4835 - mse: 1.4835\n",
      "Epoch 350/500\n",
      "2/2 - 0s - loss: 1.4174 - mse: 1.4174\n",
      "Epoch 351/500\n",
      "2/2 - 0s - loss: 1.4423 - mse: 1.4423\n",
      "Epoch 352/500\n",
      "2/2 - 0s - loss: 1.6083 - mse: 1.6083\n",
      "Epoch 353/500\n",
      "2/2 - 0s - loss: 3.1981 - mse: 3.1981\n",
      "Epoch 354/500\n",
      "2/2 - 0s - loss: 3.7283 - mse: 3.7283\n",
      "Epoch 355/500\n",
      "2/2 - 0s - loss: 2.2684 - mse: 2.2684\n",
      "Epoch 356/500\n",
      "2/2 - 0s - loss: 1.4677 - mse: 1.4677\n",
      "Epoch 357/500\n",
      "2/2 - 0s - loss: 1.6614 - mse: 1.6614\n",
      "Epoch 358/500\n",
      "2/2 - 0s - loss: 2.7599 - mse: 2.7599\n",
      "Epoch 359/500\n",
      "2/2 - 0s - loss: 2.1673 - mse: 2.1673\n",
      "Epoch 360/500\n",
      "2/2 - 0s - loss: 2.7076 - mse: 2.7076\n",
      "Epoch 361/500\n",
      "2/2 - 0s - loss: 2.8578 - mse: 2.8578\n",
      "Epoch 362/500\n",
      "2/2 - 0s - loss: 1.8902 - mse: 1.8902\n",
      "Epoch 363/500\n",
      "2/2 - 0s - loss: 1.5781 - mse: 1.5781\n",
      "Epoch 364/500\n",
      "2/2 - 0s - loss: 2.5803 - mse: 2.5803\n",
      "Epoch 365/500\n",
      "2/2 - 0s - loss: 3.4570 - mse: 3.4570\n",
      "Epoch 366/500\n",
      "2/2 - 0s - loss: 2.5299 - mse: 2.5299\n",
      "Epoch 367/500\n",
      "2/2 - 0s - loss: 1.8205 - mse: 1.8205\n",
      "Epoch 368/500\n",
      "2/2 - 0s - loss: 1.7814 - mse: 1.7814\n",
      "Epoch 369/500\n",
      "2/2 - 0s - loss: 1.8390 - mse: 1.8390\n",
      "Epoch 370/500\n",
      "2/2 - 0s - loss: 2.2629 - mse: 2.2629\n",
      "Epoch 371/500\n",
      "2/2 - 0s - loss: 1.9600 - mse: 1.9600\n",
      "Epoch 372/500\n",
      "2/2 - 0s - loss: 1.7057 - mse: 1.7057\n",
      "Epoch 373/500\n",
      "2/2 - 0s - loss: 1.5173 - mse: 1.5173\n",
      "Epoch 374/500\n",
      "2/2 - 0s - loss: 1.4759 - mse: 1.4759\n",
      "Epoch 375/500\n",
      "2/2 - 0s - loss: 2.1937 - mse: 2.1937\n",
      "Epoch 376/500\n",
      "2/2 - 0s - loss: 2.6870 - mse: 2.6870\n",
      "Epoch 377/500\n",
      "2/2 - 0s - loss: 1.3733 - mse: 1.3733\n",
      "Epoch 378/500\n",
      "2/2 - 0s - loss: 1.4034 - mse: 1.4034\n",
      "Epoch 379/500\n",
      "2/2 - 0s - loss: 1.4139 - mse: 1.4139\n",
      "Epoch 380/500\n",
      "2/2 - 0s - loss: 1.9314 - mse: 1.9314\n",
      "Epoch 381/500\n",
      "2/2 - 0s - loss: 4.3636 - mse: 4.3636\n",
      "Epoch 382/500\n",
      "2/2 - 0s - loss: 2.3722 - mse: 2.3722\n",
      "Epoch 383/500\n",
      "2/2 - 0s - loss: 2.3767 - mse: 2.3767\n",
      "Epoch 384/500\n",
      "2/2 - 0s - loss: 1.6074 - mse: 1.6074\n",
      "Epoch 385/500\n",
      "2/2 - 0s - loss: 2.1645 - mse: 2.1645\n",
      "Epoch 386/500\n",
      "2/2 - 0s - loss: 2.2708 - mse: 2.2708\n",
      "Epoch 387/500\n",
      "2/2 - 0s - loss: 1.4762 - mse: 1.4762\n",
      "Epoch 388/500\n",
      "2/2 - 0s - loss: 1.4758 - mse: 1.4758\n",
      "Epoch 389/500\n",
      "2/2 - 0s - loss: 1.6405 - mse: 1.6405\n",
      "Epoch 390/500\n",
      "2/2 - 0s - loss: 2.2880 - mse: 2.2880\n",
      "Epoch 391/500\n",
      "2/2 - 0s - loss: 4.0030 - mse: 4.0030\n",
      "Epoch 392/500\n",
      "2/2 - 0s - loss: 1.8179 - mse: 1.8179\n",
      "Epoch 393/500\n",
      "2/2 - 0s - loss: 1.4745 - mse: 1.4745\n",
      "Epoch 394/500\n",
      "2/2 - 0s - loss: 1.8719 - mse: 1.8719\n",
      "Epoch 395/500\n",
      "2/2 - 0s - loss: 1.3810 - mse: 1.3810\n",
      "Epoch 396/500\n",
      "2/2 - 0s - loss: 1.5866 - mse: 1.5866\n",
      "Epoch 397/500\n",
      "2/2 - 0s - loss: 1.7748 - mse: 1.7748\n",
      "Epoch 398/500\n",
      "2/2 - 0s - loss: 1.4438 - mse: 1.4438\n",
      "Epoch 399/500\n",
      "2/2 - 0s - loss: 1.3838 - mse: 1.3838\n",
      "Epoch 400/500\n",
      "2/2 - 0s - loss: 2.2507 - mse: 2.2507\n",
      "Epoch 401/500\n",
      "2/2 - 0s - loss: 4.2567 - mse: 4.2567\n",
      "Epoch 402/500\n",
      "2/2 - 0s - loss: 1.6831 - mse: 1.6831\n",
      "Epoch 403/500\n",
      "2/2 - 0s - loss: 1.4047 - mse: 1.4047\n",
      "Epoch 404/500\n",
      "2/2 - 0s - loss: 2.5349 - mse: 2.5349\n",
      "Epoch 405/500\n",
      "2/2 - 0s - loss: 1.9768 - mse: 1.9768\n",
      "Epoch 406/500\n",
      "2/2 - 0s - loss: 1.6548 - mse: 1.6548\n",
      "Epoch 407/500\n",
      "2/2 - 0s - loss: 1.5139 - mse: 1.5139\n",
      "Epoch 408/500\n",
      "2/2 - 0s - loss: 1.4872 - mse: 1.4872\n",
      "Epoch 409/500\n",
      "2/2 - 0s - loss: 1.7120 - mse: 1.7120\n",
      "Epoch 410/500\n",
      "2/2 - 0s - loss: 3.8770 - mse: 3.8770\n",
      "Epoch 411/500\n",
      "2/2 - 0s - loss: 3.5471 - mse: 3.5471\n",
      "Epoch 412/500\n",
      "2/2 - 0s - loss: 1.4119 - mse: 1.4119\n",
      "Epoch 413/500\n",
      "2/2 - 0s - loss: 1.8320 - mse: 1.8320\n",
      "Epoch 414/500\n",
      "2/2 - 0s - loss: 1.7716 - mse: 1.7716\n",
      "Epoch 415/500\n",
      "2/2 - 0s - loss: 1.3225 - mse: 1.3225\n",
      "Epoch 416/500\n",
      "2/2 - 0s - loss: 1.4918 - mse: 1.4918\n",
      "Epoch 417/500\n",
      "2/2 - 0s - loss: 1.9759 - mse: 1.9759\n",
      "Epoch 418/500\n",
      "2/2 - 0s - loss: 1.8100 - mse: 1.8100\n",
      "Epoch 419/500\n",
      "2/2 - 0s - loss: 1.3533 - mse: 1.3533\n",
      "Epoch 420/500\n",
      "2/2 - 0s - loss: 1.5322 - mse: 1.5322\n",
      "Epoch 421/500\n",
      "2/2 - 0s - loss: 2.9323 - mse: 2.9323\n",
      "Epoch 422/500\n",
      "2/2 - 0s - loss: 3.2689 - mse: 3.2689\n",
      "Epoch 423/500\n",
      "2/2 - 0s - loss: 3.1904 - mse: 3.1904\n",
      "Epoch 424/500\n",
      "2/2 - 0s - loss: 1.8714 - mse: 1.8714\n",
      "Epoch 425/500\n",
      "2/2 - 0s - loss: 1.8669 - mse: 1.8669\n",
      "Epoch 426/500\n",
      "2/2 - 0s - loss: 1.8668 - mse: 1.8668\n",
      "Epoch 427/500\n",
      "2/2 - 0s - loss: 2.0565 - mse: 2.0565\n",
      "Epoch 428/500\n",
      "2/2 - 0s - loss: 2.4444 - mse: 2.4444\n",
      "Epoch 429/500\n",
      "2/2 - 0s - loss: 3.8698 - mse: 3.8698\n",
      "Epoch 430/500\n",
      "2/2 - 0s - loss: 1.9083 - mse: 1.9083\n",
      "Epoch 431/500\n",
      "2/2 - 0s - loss: 1.3809 - mse: 1.3809\n",
      "Epoch 432/500\n",
      "2/2 - 0s - loss: 1.6854 - mse: 1.6854\n",
      "Epoch 433/500\n",
      "2/2 - 0s - loss: 1.3314 - mse: 1.3314\n",
      "Epoch 434/500\n",
      "2/2 - 0s - loss: 1.7508 - mse: 1.7508\n",
      "Epoch 435/500\n",
      "2/2 - 0s - loss: 1.2956 - mse: 1.2956\n",
      "Epoch 436/500\n",
      "2/2 - 0s - loss: 1.6914 - mse: 1.6914\n",
      "Epoch 437/500\n",
      "2/2 - 0s - loss: 3.5051 - mse: 3.5051\n",
      "Epoch 438/500\n",
      "2/2 - 0s - loss: 1.9453 - mse: 1.9453\n",
      "Epoch 439/500\n",
      "2/2 - 0s - loss: 1.3371 - mse: 1.3371\n",
      "Epoch 440/500\n",
      "2/2 - 0s - loss: 1.3250 - mse: 1.3250\n",
      "Epoch 441/500\n",
      "2/2 - 0s - loss: 1.2787 - mse: 1.2787\n",
      "Epoch 442/500\n",
      "2/2 - 0s - loss: 1.3188 - mse: 1.3188\n",
      "Epoch 443/500\n",
      "2/2 - 0s - loss: 1.4888 - mse: 1.4888\n",
      "Epoch 444/500\n",
      "2/2 - 0s - loss: 2.9269 - mse: 2.9269\n",
      "Epoch 445/500\n",
      "2/2 - 0s - loss: 2.9542 - mse: 2.9542\n",
      "Epoch 446/500\n",
      "2/2 - 0s - loss: 2.9894 - mse: 2.9894\n",
      "Epoch 447/500\n",
      "2/2 - 0s - loss: 1.4386 - mse: 1.4386\n",
      "Epoch 448/500\n",
      "2/2 - 0s - loss: 1.2782 - mse: 1.2782\n",
      "Epoch 449/500\n",
      "2/2 - 0s - loss: 1.2740 - mse: 1.2740\n",
      "Epoch 450/500\n",
      "2/2 - 0s - loss: 2.0145 - mse: 2.0145\n",
      "Epoch 451/500\n",
      "2/2 - 0s - loss: 2.0134 - mse: 2.0134\n",
      "Epoch 452/500\n",
      "2/2 - 0s - loss: 2.1324 - mse: 2.1324\n",
      "Epoch 453/500\n",
      "2/2 - 0s - loss: 1.7974 - mse: 1.7974\n",
      "Epoch 454/500\n",
      "2/2 - 0s - loss: 1.3277 - mse: 1.3277\n",
      "Epoch 455/500\n",
      "2/2 - 0s - loss: 3.6835 - mse: 3.6835\n",
      "Epoch 456/500\n",
      "2/2 - 0s - loss: 2.8579 - mse: 2.8579\n",
      "Epoch 457/500\n",
      "2/2 - 0s - loss: 1.2876 - mse: 1.2876\n",
      "Epoch 458/500\n",
      "2/2 - 0s - loss: 1.2611 - mse: 1.2611\n",
      "Epoch 459/500\n",
      "2/2 - 0s - loss: 1.2589 - mse: 1.2589\n",
      "Epoch 460/500\n",
      "2/2 - 0s - loss: 3.2791 - mse: 3.2791\n",
      "Epoch 461/500\n",
      "2/2 - 0s - loss: 2.9462 - mse: 2.9462\n",
      "Epoch 462/500\n",
      "2/2 - 0s - loss: 1.3107 - mse: 1.3107\n",
      "Epoch 463/500\n",
      "2/2 - 0s - loss: 1.2733 - mse: 1.2733\n",
      "Epoch 464/500\n",
      "2/2 - 0s - loss: 1.2803 - mse: 1.2803\n",
      "Epoch 465/500\n",
      "2/2 - 0s - loss: 1.2955 - mse: 1.2955\n",
      "Epoch 466/500\n",
      "2/2 - 0s - loss: 1.2444 - mse: 1.2444\n",
      "Epoch 467/500\n",
      "2/2 - 0s - loss: 1.2491 - mse: 1.2491\n",
      "Epoch 468/500\n",
      "2/2 - 0s - loss: 1.6539 - mse: 1.6539\n",
      "Epoch 469/500\n",
      "2/2 - 0s - loss: 5.4521 - mse: 5.4521\n",
      "Epoch 470/500\n",
      "2/2 - 0s - loss: 1.2927 - mse: 1.2927\n",
      "Epoch 471/500\n",
      "2/2 - 0s - loss: 1.4821 - mse: 1.4821\n",
      "Epoch 472/500\n",
      "2/2 - 0s - loss: 1.3442 - mse: 1.3442\n",
      "Epoch 473/500\n",
      "2/2 - 0s - loss: 2.0089 - mse: 2.0089\n",
      "Epoch 474/500\n",
      "2/2 - 0s - loss: 3.5968 - mse: 3.5968\n",
      "Epoch 475/500\n",
      "2/2 - 0s - loss: 1.7476 - mse: 1.7476\n",
      "Epoch 476/500\n",
      "2/2 - 0s - loss: 1.2767 - mse: 1.2767\n",
      "Epoch 477/500\n",
      "2/2 - 0s - loss: 1.2604 - mse: 1.2604\n",
      "Epoch 478/500\n",
      "2/2 - 0s - loss: 1.6081 - mse: 1.6081\n",
      "Epoch 479/500\n",
      "2/2 - 0s - loss: 2.5080 - mse: 2.5080\n",
      "Epoch 480/500\n",
      "2/2 - 0s - loss: 2.3013 - mse: 2.3013\n",
      "Epoch 481/500\n",
      "2/2 - 0s - loss: 1.5792 - mse: 1.5792\n",
      "Epoch 482/500\n",
      "2/2 - 0s - loss: 1.2281 - mse: 1.2281\n",
      "Epoch 483/500\n",
      "2/2 - 0s - loss: 1.4278 - mse: 1.4278\n",
      "Epoch 484/500\n",
      "2/2 - 0s - loss: 1.5902 - mse: 1.5902\n",
      "Epoch 485/500\n",
      "2/2 - 0s - loss: 1.2012 - mse: 1.2012\n",
      "Epoch 486/500\n",
      "2/2 - 0s - loss: 1.3797 - mse: 1.3797\n",
      "Epoch 487/500\n",
      "2/2 - 0s - loss: 2.1690 - mse: 2.1690\n",
      "Epoch 488/500\n",
      "2/2 - 0s - loss: 2.6328 - mse: 2.6328\n",
      "Epoch 489/500\n",
      "2/2 - 0s - loss: 1.2191 - mse: 1.2191\n",
      "Epoch 490/500\n",
      "2/2 - 0s - loss: 1.4258 - mse: 1.4258\n",
      "Epoch 491/500\n",
      "2/2 - 0s - loss: 2.5756 - mse: 2.5756\n",
      "Epoch 492/500\n",
      "2/2 - 0s - loss: 3.8859 - mse: 3.8859\n",
      "Epoch 493/500\n",
      "2/2 - 0s - loss: 2.4327 - mse: 2.4327\n",
      "Epoch 494/500\n",
      "2/2 - 0s - loss: 1.6529 - mse: 1.6529\n",
      "Epoch 495/500\n",
      "2/2 - 0s - loss: 1.4519 - mse: 1.4519\n",
      "Epoch 496/500\n",
      "2/2 - 0s - loss: 1.2529 - mse: 1.2529\n",
      "Epoch 497/500\n",
      "2/2 - 0s - loss: 1.4874 - mse: 1.4874\n",
      "Epoch 498/500\n",
      "2/2 - 0s - loss: 1.8867 - mse: 1.8867\n",
      "Epoch 499/500\n",
      "2/2 - 0s - loss: 4.3094 - mse: 4.3094\n",
      "Epoch 500/500\n",
      "2/2 - 0s - loss: 2.4183 - mse: 2.4183\n"
     ]
    },
    {
     "data": {
      "text/plain": [
       "<keras.callbacks.History at 0x17dff6b80>"
      ]
     },
     "execution_count": 43,
     "metadata": {},
     "output_type": "execute_result"
    }
   ],
   "source": [
    "model.fit(X, y, epochs=500, verbose=2)"
   ]
  },
  {
   "cell_type": "markdown",
   "metadata": {},
   "source": [
    "##### Observe the numbers for the `weights`"
   ]
  },
  {
   "cell_type": "code",
   "execution_count": 44,
   "metadata": {},
   "outputs": [
    {
     "data": {
      "text/plain": [
       "[array([[ 0.15157871,  0.15006189, -0.14974315],\n",
       "        [ 0.29294756,  0.29112825, -0.2907222 ],\n",
       "        [ 0.21797644,  0.21632607, -0.21596937],\n",
       "        [ 0.31826466,  0.31647795, -0.3160798 ],\n",
       "        [-0.00179686, -0.00092771,  0.00065475],\n",
       "        [ 0.01179831,  0.01225254, -0.01242991]], dtype=float32),\n",
       " array([ 0.13434592,  0.13393463, -0.13389426], dtype=float32),\n",
       " array([[ 0.24216445],\n",
       "        [ 0.49543723],\n",
       "        [-0.75170743]], dtype=float32),\n",
       " array([0.13389555], dtype=float32)]"
      ]
     },
     "execution_count": 44,
     "metadata": {},
     "output_type": "execute_result"
    }
   ],
   "source": [
    "model.get_weights()"
   ]
  },
  {
   "cell_type": "markdown",
   "metadata": {
    "tags": []
   },
   "source": [
    "##### Predictions vs Reality"
   ]
  },
  {
   "cell_type": "markdown",
   "metadata": {},
   "source": [
    "> 1. Calculate the Predicted Accidents and\n",
    "> 2. Compare it with the Real Total Accidents"
   ]
  },
  {
   "cell_type": "code",
   "execution_count": 47,
   "metadata": {},
   "outputs": [],
   "source": [
    "y_pred = model.predict(X)"
   ]
  },
  {
   "cell_type": "code",
   "execution_count": 48,
   "metadata": {},
   "outputs": [
    {
     "data": {
      "text/html": [
       "<div>\n",
       "<style scoped>\n",
       "    .dataframe tbody tr th:only-of-type {\n",
       "        vertical-align: middle;\n",
       "    }\n",
       "\n",
       "    .dataframe tbody tr th {\n",
       "        vertical-align: top;\n",
       "    }\n",
       "\n",
       "    .dataframe thead th {\n",
       "        text-align: right;\n",
       "    }\n",
       "</style>\n",
       "<table border=\"1\" class=\"dataframe\">\n",
       "  <thead>\n",
       "    <tr style=\"text-align: right;\">\n",
       "      <th></th>\n",
       "      <th>total</th>\n",
       "      <th>pred_zeros_after_fit</th>\n",
       "    </tr>\n",
       "    <tr>\n",
       "      <th>abbrev</th>\n",
       "      <th></th>\n",
       "      <th></th>\n",
       "    </tr>\n",
       "  </thead>\n",
       "  <tbody>\n",
       "    <tr>\n",
       "      <th>AL</th>\n",
       "      <td>18.8</td>\n",
       "      <td>18.889677</td>\n",
       "    </tr>\n",
       "    <tr>\n",
       "      <th>AK</th>\n",
       "      <td>18.1</td>\n",
       "      <td>18.213333</td>\n",
       "    </tr>\n",
       "    <tr>\n",
       "      <th>AZ</th>\n",
       "      <td>18.6</td>\n",
       "      <td>18.270931</td>\n",
       "    </tr>\n",
       "    <tr>\n",
       "      <th>AR</th>\n",
       "      <td>22.4</td>\n",
       "      <td>22.034506</td>\n",
       "    </tr>\n",
       "    <tr>\n",
       "      <th>CA</th>\n",
       "      <td>12.0</td>\n",
       "      <td>13.092728</td>\n",
       "    </tr>\n",
       "  </tbody>\n",
       "</table>\n",
       "</div>"
      ],
      "text/plain": [
       "        total  pred_zeros_after_fit\n",
       "abbrev                             \n",
       "AL       18.8             18.889677\n",
       "AK       18.1             18.213333\n",
       "AZ       18.6             18.270931\n",
       "AR       22.4             22.034506\n",
       "CA       12.0             13.092728"
      ]
     },
     "execution_count": 48,
     "metadata": {},
     "output_type": "execute_result"
    }
   ],
   "source": [
    "dfsel = df[['total']].copy()\n",
    "dfsel['pred_zeros_after_fit'] = y_pred\n",
    "dfsel.head()"
   ]
  },
  {
   "cell_type": "code",
   "execution_count": null,
   "metadata": {},
   "outputs": [],
   "source": []
  },
  {
   "cell_type": "markdown",
   "metadata": {},
   "source": [
    "### How to `kernel_initializer` the weights to `glorot_uniform` (default)?"
   ]
  },
  {
   "cell_type": "code",
   "execution_count": null,
   "metadata": {},
   "outputs": [],
   "source": []
  },
  {
   "cell_type": "markdown",
   "metadata": {},
   "source": [
    "## Play with the Activation Function"
   ]
  },
  {
   "cell_type": "markdown",
   "metadata": {},
   "source": [
    "> - https://keras.io/api/layers/activations/"
   ]
  },
  {
   "cell_type": "code",
   "execution_count": null,
   "metadata": {},
   "outputs": [],
   "source": [
    "%%HTML\n",
    "<iframe width=\"560\" height=\"315\" src=\"https://www.youtube.com/embed/IHZwWFHWa-w?start=558\" title=\"YouTube video player\" frameborder=\"0\" allow=\"accelerometer; autoplay; clipboard-write; encrypted-media; gyroscope; picture-in-picture\" allowfullscreen></iframe>"
   ]
  },
  {
   "cell_type": "markdown",
   "metadata": {
    "tags": []
   },
   "source": [
    "### Use `sigmoid` activation in last layer"
   ]
  },
  {
   "cell_type": "code",
   "execution_count": 17,
   "metadata": {},
   "outputs": [],
   "source": [
    "model = Sequential()\n",
    "model.add(layer=Input(shape=(6,)))\n",
    "model.add(layer=Dense(units=3, kernel_initializer='glorot_uniform'))\n",
    "model.add(layer=Dense(units=1, activation='sigmoid'))"
   ]
  },
  {
   "cell_type": "code",
   "execution_count": 18,
   "metadata": {},
   "outputs": [],
   "source": [
    "model.compile(loss='mse', metrics=['mse'])"
   ]
  },
  {
   "cell_type": "markdown",
   "metadata": {},
   "source": [
    "#### `fit()` the Model"
   ]
  },
  {
   "cell_type": "code",
   "execution_count": 19,
   "metadata": {},
   "outputs": [
    {
     "data": {
      "text/plain": [
       "<keras.callbacks.History at 0x28d4a0120d0>"
      ]
     },
     "execution_count": 19,
     "metadata": {},
     "output_type": "execute_result"
    }
   ],
   "source": [
    "model.fit(X, y, epochs=500, verbose=0)"
   ]
  },
  {
   "cell_type": "markdown",
   "metadata": {},
   "source": [
    "#### Predictions vs Reality"
   ]
  },
  {
   "cell_type": "markdown",
   "metadata": {},
   "source": [
    "> 1. Calculate the Predicted Accidents and\n",
    "> 2. Compare it with the Real Total Accidents"
   ]
  },
  {
   "cell_type": "code",
   "execution_count": 20,
   "metadata": {},
   "outputs": [],
   "source": [
    "y_pred = model.predict(X)"
   ]
  },
  {
   "cell_type": "code",
   "execution_count": 21,
   "metadata": {},
   "outputs": [
    {
     "data": {
      "text/html": [
       "<div>\n",
       "<style scoped>\n",
       "    .dataframe tbody tr th:only-of-type {\n",
       "        vertical-align: middle;\n",
       "    }\n",
       "\n",
       "    .dataframe tbody tr th {\n",
       "        vertical-align: top;\n",
       "    }\n",
       "\n",
       "    .dataframe thead th {\n",
       "        text-align: right;\n",
       "    }\n",
       "</style>\n",
       "<table border=\"1\" class=\"dataframe\">\n",
       "  <thead>\n",
       "    <tr style=\"text-align: right;\">\n",
       "      <th></th>\n",
       "      <th>total</th>\n",
       "      <th>pred_zeros_after_fit</th>\n",
       "      <th>pred_ones_after_fit</th>\n",
       "      <th>pred_sigmoid</th>\n",
       "    </tr>\n",
       "    <tr>\n",
       "      <th>abbrev</th>\n",
       "      <th></th>\n",
       "      <th></th>\n",
       "      <th></th>\n",
       "      <th></th>\n",
       "    </tr>\n",
       "  </thead>\n",
       "  <tbody>\n",
       "    <tr>\n",
       "      <th>AL</th>\n",
       "      <td>18.8</td>\n",
       "      <td>18.841764</td>\n",
       "      <td>18.841764</td>\n",
       "      <td>1.0</td>\n",
       "    </tr>\n",
       "    <tr>\n",
       "      <th>AK</th>\n",
       "      <td>18.1</td>\n",
       "      <td>18.193848</td>\n",
       "      <td>18.193848</td>\n",
       "      <td>1.0</td>\n",
       "    </tr>\n",
       "    <tr>\n",
       "      <th>AZ</th>\n",
       "      <td>18.6</td>\n",
       "      <td>18.252439</td>\n",
       "      <td>18.252439</td>\n",
       "      <td>1.0</td>\n",
       "    </tr>\n",
       "    <tr>\n",
       "      <th>AR</th>\n",
       "      <td>22.4</td>\n",
       "      <td>22.013790</td>\n",
       "      <td>22.013790</td>\n",
       "      <td>1.0</td>\n",
       "    </tr>\n",
       "    <tr>\n",
       "      <th>CA</th>\n",
       "      <td>12.0</td>\n",
       "      <td>13.098405</td>\n",
       "      <td>13.098405</td>\n",
       "      <td>1.0</td>\n",
       "    </tr>\n",
       "  </tbody>\n",
       "</table>\n",
       "</div>"
      ],
      "text/plain": [
       "        total  pred_zeros_after_fit  pred_ones_after_fit  pred_sigmoid\n",
       "abbrev                                                                \n",
       "AL       18.8             18.841764            18.841764           1.0\n",
       "AK       18.1             18.193848            18.193848           1.0\n",
       "AZ       18.6             18.252439            18.252439           1.0\n",
       "AR       22.4             22.013790            22.013790           1.0\n",
       "CA       12.0             13.098405            13.098405           1.0"
      ]
     },
     "execution_count": 21,
     "metadata": {},
     "output_type": "execute_result"
    }
   ],
   "source": [
    "dfsel['pred_sigmoid'] = y_pred\n",
    "dfsel.head()"
   ]
  },
  {
   "cell_type": "code",
   "execution_count": 22,
   "metadata": {},
   "outputs": [
    {
     "data": {
      "text/plain": [
       "235.40764705882347"
      ]
     },
     "execution_count": 22,
     "metadata": {},
     "output_type": "execute_result"
    }
   ],
   "source": [
    "mse = ((dfsel.total - dfsel.pred_sigmoid)**2).mean()\n",
    "mse"
   ]
  },
  {
   "cell_type": "markdown",
   "metadata": {},
   "source": [
    "#### Observe the numbers for the `weights`\n",
    "\n",
    "> - Have they changed?"
   ]
  },
  {
   "cell_type": "code",
   "execution_count": null,
   "metadata": {},
   "outputs": [],
   "source": [
    "model.get_weights()"
   ]
  },
  {
   "cell_type": "markdown",
   "metadata": {},
   "source": [
    "### Use `linear` activation in last layer"
   ]
  },
  {
   "cell_type": "code",
   "execution_count": null,
   "metadata": {},
   "outputs": [],
   "source": []
  },
  {
   "cell_type": "markdown",
   "metadata": {},
   "source": [
    "### Use `tanh` activation in last layer"
   ]
  },
  {
   "cell_type": "code",
   "execution_count": null,
   "metadata": {},
   "outputs": [],
   "source": []
  },
  {
   "cell_type": "markdown",
   "metadata": {},
   "source": [
    "### Use `relu` activation in last layer"
   ]
  },
  {
   "cell_type": "code",
   "execution_count": null,
   "metadata": {},
   "outputs": [],
   "source": []
  },
  {
   "cell_type": "markdown",
   "metadata": {},
   "source": [
    "### How are the predictions changing? Why?"
   ]
  },
  {
   "cell_type": "code",
   "execution_count": null,
   "metadata": {},
   "outputs": [],
   "source": []
  },
  {
   "cell_type": "markdown",
   "metadata": {},
   "source": [
    "## Optimizer"
   ]
  },
  {
   "cell_type": "markdown",
   "metadata": {},
   "source": [
    "> - https://keras.io/api/optimizers/#available-optimizers"
   ]
  },
  {
   "cell_type": "markdown",
   "metadata": {},
   "source": [
    "Optimizers comparison in GIF → https://mlfromscratch.com/optimizers-explained/#adam"
   ]
  },
  {
   "cell_type": "markdown",
   "metadata": {},
   "source": [
    "Tesla's Neural Network Models is composed of 48 models trainned in 70.000 hours of GPU → https://tesla.com/ai"
   ]
  },
  {
   "cell_type": "markdown",
   "metadata": {},
   "source": [
    "1 Year with a 8 GPU Computer → https://twitter.com/thirdrowtesla/status/1252723358342377472"
   ]
  },
  {
   "cell_type": "markdown",
   "metadata": {},
   "source": [
    "### Use Gradient Descent `SGD`"
   ]
  },
  {
   "cell_type": "code",
   "execution_count": null,
   "metadata": {},
   "outputs": [],
   "source": [
    "model = Sequential()\n",
    "model.add(layer=Input(shape=(6,)))\n",
    "model.add(layer=Dense(units=3, kernel_initializer='glorot_uniform'))\n",
    "model.add(layer=Dense(units=1, activation='sigmoid'))"
   ]
  },
  {
   "cell_type": "markdown",
   "metadata": {},
   "source": [
    "#### `compile()` the model"
   ]
  },
  {
   "cell_type": "code",
   "execution_count": null,
   "metadata": {},
   "outputs": [],
   "source": [
    "model.compile(optimizer='sgd', loss='mse', metrics=['mse'])"
   ]
  },
  {
   "cell_type": "markdown",
   "metadata": {},
   "source": [
    "#### `fit()` the Model"
   ]
  },
  {
   "cell_type": "code",
   "execution_count": null,
   "metadata": {},
   "outputs": [],
   "source": [
    "history = model.fit(X, y, epochs=500, verbose=0)"
   ]
  },
  {
   "cell_type": "markdown",
   "metadata": {},
   "source": [
    "#### Predictions vs Reality"
   ]
  },
  {
   "cell_type": "markdown",
   "metadata": {},
   "source": [
    "> 1. Calculate the Predicted Accidents and\n",
    "> 2. Compare it with the Real Total Accidents"
   ]
  },
  {
   "cell_type": "code",
   "execution_count": null,
   "metadata": {},
   "outputs": [],
   "source": [
    "y_pred = model.predict(X)"
   ]
  },
  {
   "cell_type": "code",
   "execution_count": null,
   "metadata": {},
   "outputs": [],
   "source": [
    "dfsel['pred_gsd'] = y_pred\n",
    "dfsel.head()"
   ]
  },
  {
   "cell_type": "code",
   "execution_count": null,
   "metadata": {},
   "outputs": [],
   "source": [
    "mse = ((dfsel.total - dfsel.pred_sgd)**2).mean()\n",
    "mse"
   ]
  },
  {
   "cell_type": "markdown",
   "metadata": {},
   "source": [
    "#### Observe the numbers for the `weights`\n",
    "\n",
    "> - Have they changed?"
   ]
  },
  {
   "cell_type": "code",
   "execution_count": null,
   "metadata": {},
   "outputs": [],
   "source": [
    "model.get_weights()"
   ]
  },
  {
   "cell_type": "markdown",
   "metadata": {},
   "source": [
    "\n",
    "#### View History"
   ]
  },
  {
   "cell_type": "code",
   "execution_count": null,
   "metadata": {},
   "outputs": [],
   "source": [
    "import matplotlib.pyplot as plt"
   ]
  },
  {
   "cell_type": "code",
   "execution_count": null,
   "metadata": {},
   "outputs": [],
   "source": [
    "plt.plot(history.history['loss'])\n",
    "plt.plot(history.history['val_loss'])\n",
    "plt.title('model loss')\n",
    "plt.ylabel('loss')\n",
    "plt.xlabel('epoch')\n",
    "plt.legend(['train', 'val'], loc='upper left')\n",
    "plt.show()"
   ]
  },
  {
   "cell_type": "markdown",
   "metadata": {},
   "source": [
    "### Use `ADAM`"
   ]
  },
  {
   "cell_type": "code",
   "execution_count": null,
   "metadata": {},
   "outputs": [],
   "source": []
  },
  {
   "cell_type": "markdown",
   "metadata": {},
   "source": [
    "### Use `RMSPROP`"
   ]
  },
  {
   "cell_type": "code",
   "execution_count": null,
   "metadata": {},
   "outputs": [],
   "source": []
  },
  {
   "cell_type": "markdown",
   "metadata": {},
   "source": [
    "### Does it take different times to get the best accuracy? Why?"
   ]
  },
  {
   "cell_type": "code",
   "execution_count": null,
   "metadata": {},
   "outputs": [],
   "source": []
  },
  {
   "cell_type": "markdown",
   "metadata": {},
   "source": [
    "## Loss Functions"
   ]
  },
  {
   "cell_type": "markdown",
   "metadata": {},
   "source": [
    "> - https://keras.io/api/losses/"
   ]
  },
  {
   "cell_type": "markdown",
   "metadata": {},
   "source": [
    "### `binary_crossentropy`"
   ]
  },
  {
   "cell_type": "code",
   "execution_count": null,
   "metadata": {},
   "outputs": [],
   "source": []
  },
  {
   "cell_type": "markdown",
   "metadata": {},
   "source": [
    "### `sparse_categorical_crossentropy`"
   ]
  },
  {
   "cell_type": "code",
   "execution_count": null,
   "metadata": {},
   "outputs": [],
   "source": []
  },
  {
   "cell_type": "markdown",
   "metadata": {},
   "source": [
    "### `mean_absolute_error`"
   ]
  },
  {
   "cell_type": "code",
   "execution_count": null,
   "metadata": {},
   "outputs": [],
   "source": []
  },
  {
   "cell_type": "markdown",
   "metadata": {},
   "source": [
    "### `mean_squared_error`"
   ]
  },
  {
   "cell_type": "code",
   "execution_count": null,
   "metadata": {},
   "outputs": [],
   "source": []
  },
  {
   "cell_type": "markdown",
   "metadata": {},
   "source": [
    "## In the end, what should be a feasible configuration of the Neural Network for this data?"
   ]
  },
  {
   "cell_type": "code",
   "execution_count": null,
   "metadata": {},
   "outputs": [],
   "source": []
  },
  {
   "cell_type": "markdown",
   "metadata": {},
   "source": [
    "# Common Errors"
   ]
  },
  {
   "cell_type": "markdown",
   "metadata": {},
   "source": [
    "## The `kernel_initializer` Matters"
   ]
  },
  {
   "cell_type": "code",
   "execution_count": null,
   "metadata": {},
   "outputs": [],
   "source": []
  },
  {
   "cell_type": "markdown",
   "metadata": {},
   "source": [
    "## The `activation` Function Matters"
   ]
  },
  {
   "cell_type": "code",
   "execution_count": null,
   "metadata": {},
   "outputs": [],
   "source": []
  },
  {
   "cell_type": "markdown",
   "metadata": {},
   "source": [
    "## The `optimizer` Matters"
   ]
  },
  {
   "cell_type": "code",
   "execution_count": null,
   "metadata": {},
   "outputs": [],
   "source": []
  },
  {
   "cell_type": "markdown",
   "metadata": {},
   "source": [
    "## The Number of `epochs` Matters"
   ]
  },
  {
   "cell_type": "code",
   "execution_count": null,
   "metadata": {},
   "outputs": [],
   "source": []
  },
  {
   "cell_type": "markdown",
   "metadata": {},
   "source": [
    "## The `loss` Function Matters"
   ]
  },
  {
   "cell_type": "code",
   "execution_count": null,
   "metadata": {},
   "outputs": [],
   "source": []
  },
  {
   "cell_type": "markdown",
   "metadata": {},
   "source": [
    "## The Number of `epochs` Matters"
   ]
  },
  {
   "cell_type": "code",
   "execution_count": null,
   "metadata": {},
   "outputs": [],
   "source": []
  },
  {
   "cell_type": "markdown",
   "metadata": {},
   "source": [
    "# Neural Network's importance to find **Non-Linear Patterns** in the Data\n",
    "\n",
    "> - The number of Neurons & Hidden Layers"
   ]
  },
  {
   "cell_type": "markdown",
   "metadata": {},
   "source": [
    "https://towardsdatascience.com/beginners-ask-how-many-hidden-layers-neurons-to-use-in-artificial-neural-networks-51466afa0d3e"
   ]
  },
  {
   "cell_type": "markdown",
   "metadata": {},
   "source": [
    "https://playground.tensorflow.org/#activation=tanh&batchSize=10&dataset=circle&regDataset=reg-plane&learningRate=0.03&regularizationRate=0&noise=0&networkShape=4,2&seed=0.87287&showTestData=false&discretize=false&percTrainData=50&x=true&y=true&xTimesY=false&xSquared=false&ySquared=false&cosX=false&sinX=false&cosY=false&sinY=false&collectStats=false&problem=classification&initZero=false&hideText=false"
   ]
  },
  {
   "cell_type": "code",
   "execution_count": null,
   "metadata": {},
   "outputs": [],
   "source": []
  },
  {
   "cell_type": "markdown",
   "metadata": {},
   "source": [
    "## Summary\n",
    "\n",
    "- Mathematical Formula\n",
    "- Weights / Kernel Initializer\n",
    "- Loss Function\n",
    "- Activation Function\n",
    "- Optimizers"
   ]
  },
  {
   "cell_type": "markdown",
   "metadata": {},
   "source": [
    "## What cannot you change arbitrarily of a Neural Network?\n",
    "\n",
    "- Input Neurons\n",
    "- Output Neurons\n",
    "- Loss Functions\n",
    "- Activation Functions"
   ]
  }
 ],
 "metadata": {
  "authors": [
   {
    "name": "Jesús López @sotastica"
   }
  ],
  "interpreter": {
   "hash": "a2b8701b642343483c5f5e717bcb0768c6b951acf38d76a6fc8ea01492bda71d"
  },
  "kernelspec": {
   "display_name": "DeepLearning Python",
   "language": "python",
   "name": "dl"
  },
  "language_info": {
   "codemirror_mode": {
    "name": "ipython",
    "version": 3
   },
   "file_extension": ".py",
   "mimetype": "text/x-python",
   "name": "python",
   "nbconvert_exporter": "python",
   "pygments_lexer": "ipython3",
   "version": "3.9.7"
  },
  "toc-autonumbering": true
 },
 "nbformat": 4,
 "nbformat_minor": 4
}
