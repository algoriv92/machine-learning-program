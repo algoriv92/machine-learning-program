{
 "cells": [
  {
   "cell_type": "markdown",
   "metadata": {},
   "source": [
    "<font size=\"+5\">#04. Why Neural Networks Deeply Learn a Mathematical Formula?</font>"
   ]
  },
  {
   "cell_type": "markdown",
   "metadata": {},
   "source": [
    "- Book + Private Lessons [Here ↗](https://sotastica.com/reservar)\n",
    "- Subscribe to my [Blog ↗](https://blog.pythonassembly.com/)\n",
    "- Let's keep in touch on [LinkedIn ↗](www.linkedin.com/in/jsulopz) 😄"
   ]
  },
  {
   "cell_type": "markdown",
   "metadata": {
    "tags": []
   },
   "source": [
    "# Machine Learning, what does it mean?"
   ]
  },
  {
   "cell_type": "markdown",
   "metadata": {},
   "source": [
    "> - The Machine Learns...\n",
    ">\n",
    "> But, **what does it learn?**"
   ]
  },
  {
   "cell_type": "code",
   "execution_count": 1,
   "metadata": {},
   "outputs": [
    {
     "data": {
      "text/html": [
       "<blockquote class=\"twitter-tweet\" data-lang=\"en\"><p lang=\"en\" dir=\"ltr\">Machine Learning, what does it mean? ⏯<br><br>· The machine learns...<br><br>Ha ha, not funny! 🤨 What does it learn?<br><br>· A mathematical equation. For example: <a href=\"https://t.co/sjtq9F2pq7\">pic.twitter.com/sjtq9F2pq7</a></p>&mdash; Jesús López (@sotastica) <a href=\"https://twitter.com/sotastica/status/1449735653328031745?ref_src=twsrc%5Etfw\">October 17, 2021</a></blockquote> <script async src=\"https://platform.twitter.com/widgets.js\" charset=\"utf-8\"></script>\n"
      ],
      "text/plain": [
       "<IPython.core.display.HTML object>"
      ]
     },
     "metadata": {},
     "output_type": "display_data"
    }
   ],
   "source": [
    "%%HTML\n",
    "<blockquote class=\"twitter-tweet\" data-lang=\"en\"><p lang=\"en\" dir=\"ltr\">Machine Learning, what does it mean? ⏯<br><br>· The machine learns...<br><br>Ha ha, not funny! 🤨 What does it learn?<br><br>· A mathematical equation. For example: <a href=\"https://t.co/sjtq9F2pq7\">pic.twitter.com/sjtq9F2pq7</a></p>&mdash; Jesús López (@sotastica) <a href=\"https://twitter.com/sotastica/status/1449735653328031745?ref_src=twsrc%5Etfw\">October 17, 2021</a></blockquote> <script async src=\"https://platform.twitter.com/widgets.js\" charset=\"utf-8\"></script>"
   ]
  },
  {
   "cell_type": "markdown",
   "metadata": {},
   "source": [
    "# How does the Machine Learn?"
   ]
  },
  {
   "cell_type": "markdown",
   "metadata": {},
   "source": [
    "## In a Linear Regression"
   ]
  },
  {
   "cell_type": "code",
   "execution_count": 2,
   "metadata": {},
   "outputs": [
    {
     "data": {
      "text/html": [
       "<iframe width=\"560\" height=\"315\" src=\"https://www.youtube.com/embed/Ht3rYS-JilE\" title=\"YouTube video player\" frameborder=\"0\" allow=\"accelerometer; autoplay; clipboard-write; encrypted-media; gyroscope; picture-in-picture\" allowfullscreen></iframe>\n"
      ],
      "text/plain": [
       "<IPython.core.display.HTML object>"
      ]
     },
     "metadata": {},
     "output_type": "display_data"
    }
   ],
   "source": [
    "%%HTML\n",
    "<iframe width=\"560\" height=\"315\" src=\"https://www.youtube.com/embed/Ht3rYS-JilE\" title=\"YouTube video player\" frameborder=\"0\" allow=\"accelerometer; autoplay; clipboard-write; encrypted-media; gyroscope; picture-in-picture\" allowfullscreen></iframe>"
   ]
  },
  {
   "cell_type": "markdown",
   "metadata": {},
   "source": [
    "## In a Neural Network"
   ]
  },
  {
   "cell_type": "code",
   "execution_count": 3,
   "metadata": {},
   "outputs": [
    {
     "data": {
      "text/html": [
       "<iframe width=\"560\" height=\"315\" src=\"https://www.youtube.com/embed/IHZwWFHWa-w?start=329\" title=\"YouTube video player\" frameborder=\"0\" allow=\"accelerometer; autoplay; clipboard-write; encrypted-media; gyroscope; picture-in-picture\" allowfullscreen></iframe>\n"
      ],
      "text/plain": [
       "<IPython.core.display.HTML object>"
      ]
     },
     "metadata": {},
     "output_type": "display_data"
    }
   ],
   "source": [
    "%%HTML\n",
    "<iframe width=\"560\" height=\"315\" src=\"https://www.youtube.com/embed/IHZwWFHWa-w?start=329\" title=\"YouTube video player\" frameborder=\"0\" allow=\"accelerometer; autoplay; clipboard-write; encrypted-media; gyroscope; picture-in-picture\" allowfullscreen></iframe>"
   ]
  },
  {
   "cell_type": "markdown",
   "metadata": {},
   "source": [
    "A Practical Example → [Tesla Autopilot](https://www.tesla.com/AI)"
   ]
  },
  {
   "cell_type": "markdown",
   "metadata": {},
   "source": [
    "An Example where It Fails → [Tesla Confuses Moon with Semaphore](https://twitter.com/Carnage4Life/status/1418920100086784000?s=20)"
   ]
  },
  {
   "cell_type": "markdown",
   "metadata": {},
   "source": [
    "# Load the Data"
   ]
  },
  {
   "cell_type": "markdown",
   "metadata": {},
   "source": [
    "> - Simply execute the following lines of code to load the data.\n",
    "> - This dataset contains **statistics about Car Accidents** (columns)\n",
    "> - In each one of **USA States** (rows)"
   ]
  },
  {
   "cell_type": "markdown",
   "metadata": {},
   "source": [
    "https://www.kaggle.com/fivethirtyeight/fivethirtyeight-bad-drivers-dataset/"
   ]
  },
  {
   "cell_type": "code",
   "execution_count": 4,
   "metadata": {},
   "outputs": [
    {
     "data": {
      "text/html": [
       "<div>\n",
       "<style scoped>\n",
       "    .dataframe tbody tr th:only-of-type {\n",
       "        vertical-align: middle;\n",
       "    }\n",
       "\n",
       "    .dataframe tbody tr th {\n",
       "        vertical-align: top;\n",
       "    }\n",
       "\n",
       "    .dataframe thead th {\n",
       "        text-align: right;\n",
       "    }\n",
       "</style>\n",
       "<table border=\"1\" class=\"dataframe\">\n",
       "  <thead>\n",
       "    <tr style=\"text-align: right;\">\n",
       "      <th></th>\n",
       "      <th>total</th>\n",
       "      <th>speeding</th>\n",
       "      <th>alcohol</th>\n",
       "      <th>not_distracted</th>\n",
       "      <th>no_previous</th>\n",
       "      <th>ins_premium</th>\n",
       "      <th>ins_losses</th>\n",
       "    </tr>\n",
       "    <tr>\n",
       "      <th>abbrev</th>\n",
       "      <th></th>\n",
       "      <th></th>\n",
       "      <th></th>\n",
       "      <th></th>\n",
       "      <th></th>\n",
       "      <th></th>\n",
       "      <th></th>\n",
       "    </tr>\n",
       "  </thead>\n",
       "  <tbody>\n",
       "    <tr>\n",
       "      <th>ME</th>\n",
       "      <td>15.1</td>\n",
       "      <td>5.738</td>\n",
       "      <td>4.530</td>\n",
       "      <td>13.137</td>\n",
       "      <td>12.684</td>\n",
       "      <td>661.88</td>\n",
       "      <td>96.57</td>\n",
       "    </tr>\n",
       "    <tr>\n",
       "      <th>AZ</th>\n",
       "      <td>18.6</td>\n",
       "      <td>6.510</td>\n",
       "      <td>5.208</td>\n",
       "      <td>15.624</td>\n",
       "      <td>17.856</td>\n",
       "      <td>899.47</td>\n",
       "      <td>110.35</td>\n",
       "    </tr>\n",
       "    <tr>\n",
       "      <th>PA</th>\n",
       "      <td>18.2</td>\n",
       "      <td>9.100</td>\n",
       "      <td>5.642</td>\n",
       "      <td>17.472</td>\n",
       "      <td>16.016</td>\n",
       "      <td>905.99</td>\n",
       "      <td>153.86</td>\n",
       "    </tr>\n",
       "    <tr>\n",
       "      <th>MS</th>\n",
       "      <td>17.6</td>\n",
       "      <td>2.640</td>\n",
       "      <td>5.456</td>\n",
       "      <td>1.760</td>\n",
       "      <td>17.600</td>\n",
       "      <td>896.07</td>\n",
       "      <td>155.77</td>\n",
       "    </tr>\n",
       "    <tr>\n",
       "      <th>MD</th>\n",
       "      <td>12.5</td>\n",
       "      <td>4.250</td>\n",
       "      <td>4.000</td>\n",
       "      <td>8.875</td>\n",
       "      <td>12.375</td>\n",
       "      <td>1048.78</td>\n",
       "      <td>192.70</td>\n",
       "    </tr>\n",
       "  </tbody>\n",
       "</table>\n",
       "</div>"
      ],
      "text/plain": [
       "        total  speeding  alcohol  not_distracted  no_previous  ins_premium  \\\n",
       "abbrev                                                                       \n",
       "ME       15.1     5.738    4.530          13.137       12.684       661.88   \n",
       "AZ       18.6     6.510    5.208          15.624       17.856       899.47   \n",
       "PA       18.2     9.100    5.642          17.472       16.016       905.99   \n",
       "MS       17.6     2.640    5.456           1.760       17.600       896.07   \n",
       "MD       12.5     4.250    4.000           8.875       12.375      1048.78   \n",
       "\n",
       "        ins_losses  \n",
       "abbrev              \n",
       "ME           96.57  \n",
       "AZ          110.35  \n",
       "PA          153.86  \n",
       "MS          155.77  \n",
       "MD          192.70  "
      ]
     },
     "execution_count": 4,
     "metadata": {},
     "output_type": "execute_result"
    }
   ],
   "source": [
    "import seaborn as sns\n",
    "\n",
    "df = sns.load_dataset(name='car_crashes', index_col='abbrev')\n",
    "df.sample(5)"
   ]
  },
  {
   "cell_type": "markdown",
   "metadata": {},
   "source": [
    "# Neural Network Concepts in Python"
   ]
  },
  {
   "cell_type": "markdown",
   "metadata": {},
   "source": [
    "## Initializing the `Weights`"
   ]
  },
  {
   "cell_type": "markdown",
   "metadata": {},
   "source": [
    "> - https://keras.io/api/layers/initializers/"
   ]
  },
  {
   "cell_type": "markdown",
   "metadata": {},
   "source": [
    "### How to `kernel_initializer` the weights?"
   ]
  },
  {
   "cell_type": "markdown",
   "metadata": {},
   "source": [
    "$$\n",
    "accidents = speeding \\cdot w_1 + alcohol \\cdot w_2 \\ + ... + \\ ins\\_losses \\cdot w_7\n",
    "$$"
   ]
  },
  {
   "cell_type": "code",
   "execution_count": 5,
   "metadata": {},
   "outputs": [],
   "source": [
    "from tensorflow.keras import Sequential, Input\n",
    "from tensorflow.keras.layers import Dense"
   ]
  },
  {
   "cell_type": "code",
   "execution_count": 6,
   "metadata": {},
   "outputs": [
    {
     "data": {
      "text/plain": [
       "(51, 7)"
      ]
     },
     "execution_count": 6,
     "metadata": {},
     "output_type": "execute_result"
    }
   ],
   "source": [
    "df.shape"
   ]
  },
  {
   "cell_type": "code",
   "execution_count": 7,
   "metadata": {},
   "outputs": [
    {
     "name": "stdout",
     "output_type": "stream",
     "text": [
      "Metal device set to: Apple M1\n"
     ]
    },
    {
     "name": "stderr",
     "output_type": "stream",
     "text": [
      "2022-01-06 08:40:17.701123: I tensorflow/core/common_runtime/pluggable_device/pluggable_device_factory.cc:305] Could not identify NUMA node of platform GPU ID 0, defaulting to 0. Your kernel may not have been built with NUMA support.\n",
      "2022-01-06 08:40:17.701345: I tensorflow/core/common_runtime/pluggable_device/pluggable_device_factory.cc:271] Created TensorFlow device (/job:localhost/replica:0/task:0/device:GPU:0 with 0 MB memory) -> physical PluggableDevice (device: 0, name: METAL, pci bus id: <undefined>)\n"
     ]
    }
   ],
   "source": [
    "model = Sequential()\n",
    "model.add(layer=Input(shape=(6,)))\n",
    "model.add(layer=Dense(units=3, kernel_initializer='zeros'))\n",
    "model.add(layer=Dense(units=1))"
   ]
  },
  {
   "cell_type": "markdown",
   "metadata": {},
   "source": [
    "#### Make a Prediction with the Neural Network"
   ]
  },
  {
   "cell_type": "markdown",
   "metadata": {},
   "source": [
    "> - Can we make a prediction for for `Washington DC` accidents\n",
    "> - With the already initialized Mathematical Equation?"
   ]
  },
  {
   "cell_type": "code",
   "execution_count": 8,
   "metadata": {},
   "outputs": [],
   "source": [
    "X = df.drop(columns='total')\n",
    "y = df.total"
   ]
  },
  {
   "cell_type": "code",
   "execution_count": 11,
   "metadata": {},
   "outputs": [],
   "source": [
    "AL = X[:1]"
   ]
  },
  {
   "cell_type": "code",
   "execution_count": 12,
   "metadata": {},
   "outputs": [
    {
     "data": {
      "text/html": [
       "<div>\n",
       "<style scoped>\n",
       "    .dataframe tbody tr th:only-of-type {\n",
       "        vertical-align: middle;\n",
       "    }\n",
       "\n",
       "    .dataframe tbody tr th {\n",
       "        vertical-align: top;\n",
       "    }\n",
       "\n",
       "    .dataframe thead th {\n",
       "        text-align: right;\n",
       "    }\n",
       "</style>\n",
       "<table border=\"1\" class=\"dataframe\">\n",
       "  <thead>\n",
       "    <tr style=\"text-align: right;\">\n",
       "      <th></th>\n",
       "      <th>speeding</th>\n",
       "      <th>alcohol</th>\n",
       "      <th>not_distracted</th>\n",
       "      <th>no_previous</th>\n",
       "      <th>ins_premium</th>\n",
       "      <th>ins_losses</th>\n",
       "    </tr>\n",
       "    <tr>\n",
       "      <th>abbrev</th>\n",
       "      <th></th>\n",
       "      <th></th>\n",
       "      <th></th>\n",
       "      <th></th>\n",
       "      <th></th>\n",
       "      <th></th>\n",
       "    </tr>\n",
       "  </thead>\n",
       "  <tbody>\n",
       "    <tr>\n",
       "      <th>AL</th>\n",
       "      <td>7.332</td>\n",
       "      <td>5.64</td>\n",
       "      <td>18.048</td>\n",
       "      <td>15.04</td>\n",
       "      <td>784.55</td>\n",
       "      <td>145.08</td>\n",
       "    </tr>\n",
       "  </tbody>\n",
       "</table>\n",
       "</div>"
      ],
      "text/plain": [
       "        speeding  alcohol  not_distracted  no_previous  ins_premium  \\\n",
       "abbrev                                                                \n",
       "AL         7.332     5.64          18.048        15.04       784.55   \n",
       "\n",
       "        ins_losses  \n",
       "abbrev              \n",
       "AL          145.08  "
      ]
     },
     "execution_count": 12,
     "metadata": {},
     "output_type": "execute_result"
    }
   ],
   "source": [
    "AL"
   ]
  },
  {
   "cell_type": "code",
   "execution_count": null,
   "metadata": {},
   "outputs": [],
   "source": []
  },
  {
   "cell_type": "markdown",
   "metadata": {},
   "source": [
    "#### Observe the numbers for the `weights`"
   ]
  },
  {
   "cell_type": "code",
   "execution_count": 13,
   "metadata": {},
   "outputs": [
    {
     "data": {
      "text/plain": [
       "[array([[0., 0., 0.],\n",
       "        [0., 0., 0.],\n",
       "        [0., 0., 0.],\n",
       "        [0., 0., 0.],\n",
       "        [0., 0., 0.],\n",
       "        [0., 0., 0.]], dtype=float32),\n",
       " array([0., 0., 0.], dtype=float32),\n",
       " array([[ 1.1558026],\n",
       "        [-0.7682638],\n",
       "        [-0.460683 ]], dtype=float32),\n",
       " array([0.], dtype=float32)]"
      ]
     },
     "execution_count": 13,
     "metadata": {},
     "output_type": "execute_result"
    }
   ],
   "source": [
    "model.get_weights()"
   ]
  },
  {
   "cell_type": "markdown",
   "metadata": {},
   "source": [
    "#### Predictions vs Reality"
   ]
  },
  {
   "cell_type": "markdown",
   "metadata": {},
   "source": [
    "> 1. Calculate the Predicted Accidents and\n",
    "> 2. Compare it with the Real Total Accidents"
   ]
  },
  {
   "cell_type": "code",
   "execution_count": 14,
   "metadata": {},
   "outputs": [
    {
     "name": "stderr",
     "output_type": "stream",
     "text": [
      "2022-01-05 09:59:02.342564: I tensorflow/compiler/mlir/mlir_graph_optimization_pass.cc:185] None of the MLIR Optimization Passes are enabled (registered 2)\n",
      "2022-01-05 09:59:02.343180: W tensorflow/core/platform/profile_utils/cpu_utils.cc:128] Failed to get CPU frequency: 0 Hz\n",
      "2022-01-05 09:59:02.375183: I tensorflow/core/grappler/optimizers/custom_graph_optimizer_registry.cc:112] Plugin optimizer for device_type GPU is enabled.\n"
     ]
    },
    {
     "data": {
      "text/plain": [
       "array([[0.]], dtype=float32)"
      ]
     },
     "execution_count": 14,
     "metadata": {},
     "output_type": "execute_result"
    }
   ],
   "source": [
    "model.predict(x=AL)"
   ]
  },
  {
   "cell_type": "markdown",
   "metadata": {},
   "source": [
    "#### `fit()` the `model` and compare again"
   ]
  },
  {
   "cell_type": "code",
   "execution_count": 15,
   "metadata": {},
   "outputs": [],
   "source": [
    "model.compile(loss='mse', metrics=['mse'])"
   ]
  },
  {
   "cell_type": "code",
   "execution_count": 16,
   "metadata": {
    "tags": []
   },
   "outputs": [
    {
     "name": "stdout",
     "output_type": "stream",
     "text": [
      "Epoch 1/500\n"
     ]
    },
    {
     "name": "stderr",
     "output_type": "stream",
     "text": [
      "2022-01-05 09:59:07.431985: I tensorflow/core/grappler/optimizers/custom_graph_optimizer_registry.cc:112] Plugin optimizer for device_type GPU is enabled.\n"
     ]
    },
    {
     "name": "stdout",
     "output_type": "stream",
     "text": [
      "2/2 [==============================] - 1s 44ms/step - loss: 202.0565 - mse: 202.0565\n",
      "Epoch 2/500\n",
      "2/2 [==============================] - 0s 6ms/step - loss: 38.6462 - mse: 38.6462\n",
      "Epoch 3/500\n",
      "2/2 [==============================] - 0s 7ms/step - loss: 27.8341 - mse: 27.8341\n",
      "Epoch 4/500\n",
      "2/2 [==============================] - 0s 5ms/step - loss: 27.3151 - mse: 27.3151\n",
      "Epoch 5/500\n",
      "2/2 [==============================] - 0s 5ms/step - loss: 26.9183 - mse: 26.9183\n",
      "Epoch 6/500\n",
      "2/2 [==============================] - 0s 6ms/step - loss: 27.0786 - mse: 27.0786\n",
      "Epoch 7/500\n",
      "2/2 [==============================] - 0s 11ms/step - loss: 26.8685 - mse: 26.8685\n",
      "Epoch 8/500\n",
      "2/2 [==============================] - 0s 5ms/step - loss: 26.0806 - mse: 26.0806\n",
      "Epoch 9/500\n",
      "2/2 [==============================] - 0s 5ms/step - loss: 25.7231 - mse: 25.7231\n",
      "Epoch 10/500\n",
      "2/2 [==============================] - 0s 9ms/step - loss: 25.8269 - mse: 25.8269\n",
      "Epoch 11/500\n",
      "2/2 [==============================] - 0s 5ms/step - loss: 26.8244 - mse: 26.8244\n",
      "Epoch 12/500\n",
      "2/2 [==============================] - 0s 6ms/step - loss: 30.4383 - mse: 30.4383\n",
      "Epoch 13/500\n",
      "2/2 [==============================] - 0s 5ms/step - loss: 25.4373 - mse: 25.4373\n",
      "Epoch 14/500\n",
      "2/2 [==============================] - 0s 6ms/step - loss: 26.0317 - mse: 26.0317\n",
      "Epoch 15/500\n",
      "2/2 [==============================] - 0s 6ms/step - loss: 28.3144 - mse: 28.3144\n",
      "Epoch 16/500\n",
      "2/2 [==============================] - 0s 7ms/step - loss: 24.5845 - mse: 24.5845\n",
      "Epoch 17/500\n",
      "2/2 [==============================] - 0s 6ms/step - loss: 24.5771 - mse: 24.5771\n",
      "Epoch 18/500\n",
      "2/2 [==============================] - 0s 6ms/step - loss: 24.8350 - mse: 24.8350\n",
      "Epoch 19/500\n",
      "2/2 [==============================] - 0s 9ms/step - loss: 27.0013 - mse: 27.0013\n",
      "Epoch 20/500\n",
      "2/2 [==============================] - 0s 6ms/step - loss: 22.9997 - mse: 22.9997\n",
      "Epoch 21/500\n",
      "2/2 [==============================] - 0s 6ms/step - loss: 25.3511 - mse: 25.3511\n",
      "Epoch 22/500\n",
      "2/2 [==============================] - 0s 7ms/step - loss: 22.1442 - mse: 22.1442\n",
      "Epoch 23/500\n",
      "2/2 [==============================] - 0s 6ms/step - loss: 22.9797 - mse: 22.9797\n",
      "Epoch 24/500\n",
      "2/2 [==============================] - 0s 7ms/step - loss: 21.0055 - mse: 21.0055\n",
      "Epoch 25/500\n",
      "2/2 [==============================] - 0s 6ms/step - loss: 19.8924 - mse: 19.8924\n",
      "Epoch 26/500\n",
      "2/2 [==============================] - 0s 6ms/step - loss: 18.9060 - mse: 18.9060\n",
      "Epoch 27/500\n",
      "2/2 [==============================] - 0s 5ms/step - loss: 18.7514 - mse: 18.7514\n",
      "Epoch 28/500\n",
      "2/2 [==============================] - 0s 5ms/step - loss: 20.9395 - mse: 20.9395\n",
      "Epoch 29/500\n",
      "2/2 [==============================] - 0s 6ms/step - loss: 19.3113 - mse: 19.3113\n",
      "Epoch 30/500\n",
      "2/2 [==============================] - 0s 5ms/step - loss: 17.8005 - mse: 17.8005\n",
      "Epoch 31/500\n",
      "2/2 [==============================] - 0s 6ms/step - loss: 23.5530 - mse: 23.5530\n",
      "Epoch 32/500\n",
      "2/2 [==============================] - 0s 5ms/step - loss: 17.9123 - mse: 17.9123\n",
      "Epoch 33/500\n",
      "2/2 [==============================] - 0s 6ms/step - loss: 17.1258 - mse: 17.1258\n",
      "Epoch 34/500\n",
      "2/2 [==============================] - 0s 6ms/step - loss: 16.1119 - mse: 16.1119\n",
      "Epoch 35/500\n",
      "2/2 [==============================] - 0s 6ms/step - loss: 19.8699 - mse: 19.8699\n",
      "Epoch 36/500\n",
      "2/2 [==============================] - 0s 6ms/step - loss: 16.8400 - mse: 16.8400\n",
      "Epoch 37/500\n",
      "2/2 [==============================] - 0s 6ms/step - loss: 14.9550 - mse: 14.9550\n",
      "Epoch 38/500\n",
      "2/2 [==============================] - 0s 6ms/step - loss: 21.4930 - mse: 21.4930\n",
      "Epoch 39/500\n",
      "2/2 [==============================] - 0s 6ms/step - loss: 21.4364 - mse: 21.4364\n",
      "Epoch 40/500\n",
      "2/2 [==============================] - 0s 6ms/step - loss: 14.4400 - mse: 14.4400\n",
      "Epoch 41/500\n",
      "2/2 [==============================] - 0s 5ms/step - loss: 13.7760 - mse: 13.7760\n",
      "Epoch 42/500\n",
      "2/2 [==============================] - 0s 6ms/step - loss: 14.7523 - mse: 14.7523\n",
      "Epoch 43/500\n",
      "2/2 [==============================] - 0s 6ms/step - loss: 13.8911 - mse: 13.8911\n",
      "Epoch 44/500\n",
      "2/2 [==============================] - 0s 6ms/step - loss: 13.0903 - mse: 13.0903\n",
      "Epoch 45/500\n",
      "2/2 [==============================] - 0s 5ms/step - loss: 12.9235 - mse: 12.9235\n",
      "Epoch 46/500\n",
      "2/2 [==============================] - 0s 5ms/step - loss: 12.9803 - mse: 12.9803\n",
      "Epoch 47/500\n",
      "2/2 [==============================] - 0s 6ms/step - loss: 26.7770 - mse: 26.7770\n",
      "Epoch 48/500\n",
      "2/2 [==============================] - 0s 6ms/step - loss: 15.9111 - mse: 15.9111\n",
      "Epoch 49/500\n",
      "2/2 [==============================] - 0s 6ms/step - loss: 12.3871 - mse: 12.3871\n",
      "Epoch 50/500\n",
      "2/2 [==============================] - 0s 5ms/step - loss: 11.9356 - mse: 11.9356\n",
      "Epoch 51/500\n",
      "2/2 [==============================] - 0s 9ms/step - loss: 12.2407 - mse: 12.2407\n",
      "Epoch 52/500\n",
      "2/2 [==============================] - 0s 5ms/step - loss: 11.5465 - mse: 11.5465\n",
      "Epoch 53/500\n",
      "2/2 [==============================] - 0s 6ms/step - loss: 17.7291 - mse: 17.7291\n",
      "Epoch 54/500\n",
      "2/2 [==============================] - 0s 5ms/step - loss: 11.8677 - mse: 11.8677\n",
      "Epoch 55/500\n",
      "2/2 [==============================] - 0s 7ms/step - loss: 12.0690 - mse: 12.0690\n",
      "Epoch 56/500\n",
      "2/2 [==============================] - 0s 7ms/step - loss: 12.9555 - mse: 12.9555\n",
      "Epoch 57/500\n",
      "2/2 [==============================] - 0s 7ms/step - loss: 11.7531 - mse: 11.7531\n",
      "Epoch 58/500\n",
      "2/2 [==============================] - 0s 5ms/step - loss: 9.8882 - mse: 9.8882\n",
      "Epoch 59/500\n",
      "2/2 [==============================] - 0s 8ms/step - loss: 13.3636 - mse: 13.3636\n",
      "Epoch 60/500\n",
      "2/2 [==============================] - 0s 8ms/step - loss: 10.7523 - mse: 10.7523\n",
      "Epoch 61/500\n",
      "2/2 [==============================] - 0s 7ms/step - loss: 8.9670 - mse: 8.9670\n",
      "Epoch 62/500\n",
      "2/2 [==============================] - 0s 6ms/step - loss: 12.6405 - mse: 12.6405\n",
      "Epoch 63/500\n",
      "2/2 [==============================] - 0s 6ms/step - loss: 16.3325 - mse: 16.3325\n",
      "Epoch 64/500\n",
      "2/2 [==============================] - 0s 6ms/step - loss: 8.7196 - mse: 8.7196\n",
      "Epoch 65/500\n",
      "2/2 [==============================] - 0s 6ms/step - loss: 8.8866 - mse: 8.8866\n",
      "Epoch 66/500\n",
      "2/2 [==============================] - 0s 5ms/step - loss: 11.8257 - mse: 11.8257\n",
      "Epoch 67/500\n",
      "2/2 [==============================] - 0s 6ms/step - loss: 11.0373 - mse: 11.0373\n",
      "Epoch 68/500\n",
      "2/2 [==============================] - 0s 5ms/step - loss: 9.1630 - mse: 9.1630\n",
      "Epoch 69/500\n",
      "2/2 [==============================] - 0s 7ms/step - loss: 8.3275 - mse: 8.3275\n",
      "Epoch 70/500\n",
      "2/2 [==============================] - 0s 5ms/step - loss: 7.3677 - mse: 7.3677\n",
      "Epoch 71/500\n",
      "2/2 [==============================] - 0s 6ms/step - loss: 9.2134 - mse: 9.2134\n",
      "Epoch 72/500\n",
      "2/2 [==============================] - 0s 9ms/step - loss: 12.2127 - mse: 12.2127\n",
      "Epoch 73/500\n",
      "2/2 [==============================] - 0s 8ms/step - loss: 7.7093 - mse: 7.7093\n",
      "Epoch 74/500\n",
      "2/2 [==============================] - 0s 9ms/step - loss: 8.2626 - mse: 8.2626\n",
      "Epoch 75/500\n",
      "2/2 [==============================] - 0s 8ms/step - loss: 15.6768 - mse: 15.6768\n",
      "Epoch 76/500\n",
      "2/2 [==============================] - 0s 5ms/step - loss: 8.9586 - mse: 8.9586\n",
      "Epoch 77/500\n",
      "2/2 [==============================] - 0s 5ms/step - loss: 6.5251 - mse: 6.5251\n",
      "Epoch 78/500\n",
      "2/2 [==============================] - 0s 6ms/step - loss: 6.4154 - mse: 6.4154\n",
      "Epoch 79/500\n",
      "2/2 [==============================] - 0s 7ms/step - loss: 6.0949 - mse: 6.0949\n",
      "Epoch 80/500\n",
      "2/2 [==============================] - 0s 8ms/step - loss: 6.3782 - mse: 6.3782\n",
      "Epoch 81/500\n",
      "2/2 [==============================] - 0s 6ms/step - loss: 5.9475 - mse: 5.9475\n",
      "Epoch 82/500\n",
      "2/2 [==============================] - 0s 5ms/step - loss: 6.1187 - mse: 6.1187\n",
      "Epoch 83/500\n",
      "2/2 [==============================] - 0s 6ms/step - loss: 7.1920 - mse: 7.1920\n",
      "Epoch 84/500\n",
      "2/2 [==============================] - 0s 5ms/step - loss: 8.1973 - mse: 8.1973\n",
      "Epoch 85/500\n",
      "2/2 [==============================] - 0s 8ms/step - loss: 5.3321 - mse: 5.3321\n",
      "Epoch 86/500\n",
      "2/2 [==============================] - 0s 5ms/step - loss: 6.9084 - mse: 6.9084\n",
      "Epoch 87/500\n",
      "2/2 [==============================] - 0s 6ms/step - loss: 9.8137 - mse: 9.8137\n",
      "Epoch 88/500\n",
      "2/2 [==============================] - 0s 6ms/step - loss: 10.6499 - mse: 10.6499\n",
      "Epoch 89/500\n",
      "2/2 [==============================] - 0s 6ms/step - loss: 8.0626 - mse: 8.0626\n",
      "Epoch 90/500\n",
      "2/2 [==============================] - 0s 5ms/step - loss: 7.5238 - mse: 7.5238\n",
      "Epoch 91/500\n",
      "2/2 [==============================] - 0s 5ms/step - loss: 5.0735 - mse: 5.0735\n",
      "Epoch 92/500\n",
      "2/2 [==============================] - 0s 7ms/step - loss: 5.6411 - mse: 5.6411\n",
      "Epoch 93/500\n",
      "2/2 [==============================] - 0s 6ms/step - loss: 6.8281 - mse: 6.8281\n",
      "Epoch 94/500\n",
      "2/2 [==============================] - 0s 5ms/step - loss: 4.5429 - mse: 4.5429\n",
      "Epoch 95/500\n",
      "2/2 [==============================] - 0s 10ms/step - loss: 4.9290 - mse: 4.9290\n",
      "Epoch 96/500\n",
      "2/2 [==============================] - 0s 7ms/step - loss: 8.0870 - mse: 8.0870\n",
      "Epoch 97/500\n",
      "2/2 [==============================] - 0s 7ms/step - loss: 7.8030 - mse: 7.8030\n",
      "Epoch 98/500\n",
      "2/2 [==============================] - 0s 6ms/step - loss: 4.6247 - mse: 4.6247\n",
      "Epoch 99/500\n",
      "2/2 [==============================] - 0s 8ms/step - loss: 5.4912 - mse: 5.4912\n",
      "Epoch 100/500\n",
      "2/2 [==============================] - 0s 5ms/step - loss: 7.6576 - mse: 7.6576\n",
      "Epoch 101/500\n",
      "2/2 [==============================] - 0s 6ms/step - loss: 6.5935 - mse: 6.5935\n",
      "Epoch 102/500\n",
      "2/2 [==============================] - 0s 6ms/step - loss: 4.2104 - mse: 4.2104\n",
      "Epoch 103/500\n",
      "2/2 [==============================] - 0s 6ms/step - loss: 4.2961 - mse: 4.2961\n",
      "Epoch 104/500\n",
      "2/2 [==============================] - 0s 6ms/step - loss: 5.8834 - mse: 5.8834\n",
      "Epoch 105/500\n",
      "2/2 [==============================] - 0s 6ms/step - loss: 6.1685 - mse: 6.1685\n",
      "Epoch 106/500\n",
      "2/2 [==============================] - 0s 7ms/step - loss: 4.9615 - mse: 4.9615\n",
      "Epoch 107/500\n",
      "2/2 [==============================] - 0s 5ms/step - loss: 6.3158 - mse: 6.3158\n",
      "Epoch 108/500\n",
      "2/2 [==============================] - 0s 25ms/step - loss: 5.7217 - mse: 5.7217\n",
      "Epoch 109/500\n",
      "2/2 [==============================] - 0s 7ms/step - loss: 4.3581 - mse: 4.3581\n",
      "Epoch 110/500\n",
      "2/2 [==============================] - 0s 7ms/step - loss: 4.0521 - mse: 4.0521\n",
      "Epoch 111/500\n",
      "2/2 [==============================] - 0s 6ms/step - loss: 4.5089 - mse: 4.5089\n",
      "Epoch 112/500\n",
      "2/2 [==============================] - 0s 7ms/step - loss: 4.5119 - mse: 4.5119\n",
      "Epoch 113/500\n",
      "2/2 [==============================] - 0s 11ms/step - loss: 3.1830 - mse: 3.1830\n",
      "Epoch 114/500\n",
      "2/2 [==============================] - 0s 9ms/step - loss: 10.0814 - mse: 10.0814\n",
      "Epoch 115/500\n",
      "2/2 [==============================] - 0s 7ms/step - loss: 7.7230 - mse: 7.7230\n",
      "Epoch 116/500\n",
      "2/2 [==============================] - 0s 7ms/step - loss: 4.9141 - mse: 4.9141\n",
      "Epoch 117/500\n",
      "2/2 [==============================] - 0s 6ms/step - loss: 6.5115 - mse: 6.5115\n",
      "Epoch 118/500\n",
      "2/2 [==============================] - 0s 6ms/step - loss: 3.3660 - mse: 3.3660\n",
      "Epoch 119/500\n",
      "2/2 [==============================] - 0s 5ms/step - loss: 4.1471 - mse: 4.1471\n",
      "Epoch 120/500\n",
      "2/2 [==============================] - 0s 5ms/step - loss: 5.3970 - mse: 5.3970\n",
      "Epoch 121/500\n",
      "2/2 [==============================] - 0s 7ms/step - loss: 4.1197 - mse: 4.1197\n",
      "Epoch 122/500\n",
      "2/2 [==============================] - 0s 6ms/step - loss: 5.5818 - mse: 5.5818\n",
      "Epoch 123/500\n",
      "2/2 [==============================] - 0s 7ms/step - loss: 6.5183 - mse: 6.5183\n",
      "Epoch 124/500\n",
      "2/2 [==============================] - 0s 7ms/step - loss: 5.3510 - mse: 5.3510\n",
      "Epoch 125/500\n",
      "2/2 [==============================] - 0s 7ms/step - loss: 5.3734 - mse: 5.3734\n",
      "Epoch 126/500\n",
      "2/2 [==============================] - 0s 6ms/step - loss: 3.6142 - mse: 3.6142\n",
      "Epoch 127/500\n",
      "2/2 [==============================] - 0s 6ms/step - loss: 3.3488 - mse: 3.3488\n",
      "Epoch 128/500\n",
      "2/2 [==============================] - 0s 6ms/step - loss: 4.1799 - mse: 4.1799\n",
      "Epoch 129/500\n",
      "2/2 [==============================] - 0s 6ms/step - loss: 6.3049 - mse: 6.3049\n",
      "Epoch 130/500\n",
      "2/2 [==============================] - 0s 5ms/step - loss: 6.9696 - mse: 6.9696\n",
      "Epoch 131/500\n",
      "2/2 [==============================] - 0s 7ms/step - loss: 2.8043 - mse: 2.8043\n",
      "Epoch 132/500\n",
      "2/2 [==============================] - 0s 5ms/step - loss: 2.5836 - mse: 2.5836\n",
      "Epoch 133/500\n",
      "2/2 [==============================] - 0s 8ms/step - loss: 3.0452 - mse: 3.0452\n",
      "Epoch 134/500\n",
      "2/2 [==============================] - 0s 7ms/step - loss: 4.5772 - mse: 4.5772\n",
      "Epoch 135/500\n",
      "2/2 [==============================] - 0s 6ms/step - loss: 8.3838 - mse: 8.3838\n",
      "Epoch 136/500\n",
      "2/2 [==============================] - 0s 7ms/step - loss: 5.2514 - mse: 5.2514\n",
      "Epoch 137/500\n",
      "2/2 [==============================] - 0s 7ms/step - loss: 3.4043 - mse: 3.4043\n",
      "Epoch 138/500\n",
      "2/2 [==============================] - 0s 8ms/step - loss: 3.2503 - mse: 3.2503\n",
      "Epoch 139/500\n",
      "2/2 [==============================] - 0s 5ms/step - loss: 2.5057 - mse: 2.5057\n",
      "Epoch 140/500\n",
      "2/2 [==============================] - 0s 5ms/step - loss: 3.7190 - mse: 3.7190\n",
      "Epoch 141/500\n",
      "2/2 [==============================] - 0s 6ms/step - loss: 3.2751 - mse: 3.2751\n",
      "Epoch 142/500\n",
      "2/2 [==============================] - 0s 6ms/step - loss: 2.9020 - mse: 2.9020\n",
      "Epoch 143/500\n",
      "2/2 [==============================] - 0s 6ms/step - loss: 4.7631 - mse: 4.7631\n",
      "Epoch 144/500\n",
      "2/2 [==============================] - 0s 5ms/step - loss: 6.2338 - mse: 6.2338\n",
      "Epoch 145/500\n",
      "2/2 [==============================] - 0s 5ms/step - loss: 9.2734 - mse: 9.2734\n",
      "Epoch 146/500\n",
      "2/2 [==============================] - 0s 7ms/step - loss: 3.2802 - mse: 3.2802\n",
      "Epoch 147/500\n",
      "2/2 [==============================] - 0s 6ms/step - loss: 2.4711 - mse: 2.4711\n",
      "Epoch 148/500\n",
      "2/2 [==============================] - 0s 9ms/step - loss: 2.7138 - mse: 2.7138\n",
      "Epoch 149/500\n",
      "2/2 [==============================] - 0s 5ms/step - loss: 5.3786 - mse: 5.3786\n",
      "Epoch 150/500\n",
      "2/2 [==============================] - 0s 6ms/step - loss: 2.5502 - mse: 2.5502\n",
      "Epoch 151/500\n",
      "2/2 [==============================] - 0s 5ms/step - loss: 4.0772 - mse: 4.0772\n",
      "Epoch 152/500\n",
      "2/2 [==============================] - 0s 6ms/step - loss: 11.5682 - mse: 11.5682\n",
      "Epoch 153/500\n",
      "2/2 [==============================] - 0s 6ms/step - loss: 5.6373 - mse: 5.6373\n",
      "Epoch 154/500\n",
      "2/2 [==============================] - 0s 7ms/step - loss: 2.4487 - mse: 2.4487\n",
      "Epoch 155/500\n",
      "2/2 [==============================] - 0s 6ms/step - loss: 2.1297 - mse: 2.1297\n",
      "Epoch 156/500\n",
      "2/2 [==============================] - 0s 5ms/step - loss: 2.0989 - mse: 2.0989\n",
      "Epoch 157/500\n",
      "2/2 [==============================] - 0s 6ms/step - loss: 3.0008 - mse: 3.0008\n",
      "Epoch 158/500\n",
      "2/2 [==============================] - 0s 5ms/step - loss: 3.6854 - mse: 3.6854\n",
      "Epoch 159/500\n",
      "2/2 [==============================] - 0s 6ms/step - loss: 5.5549 - mse: 5.5549\n",
      "Epoch 160/500\n",
      "2/2 [==============================] - 0s 6ms/step - loss: 8.4718 - mse: 8.4718\n",
      "Epoch 161/500\n",
      "2/2 [==============================] - 0s 7ms/step - loss: 3.2577 - mse: 3.2577\n",
      "Epoch 162/500\n",
      "2/2 [==============================] - 0s 5ms/step - loss: 2.5953 - mse: 2.5953\n",
      "Epoch 163/500\n",
      "2/2 [==============================] - 0s 11ms/step - loss: 2.4902 - mse: 2.4902\n",
      "Epoch 164/500\n",
      "2/2 [==============================] - 0s 6ms/step - loss: 2.3842 - mse: 2.3842\n",
      "Epoch 165/500\n",
      "2/2 [==============================] - 0s 6ms/step - loss: 2.0234 - mse: 2.0234\n",
      "Epoch 166/500\n",
      "2/2 [==============================] - 0s 5ms/step - loss: 2.1741 - mse: 2.1741\n",
      "Epoch 167/500\n",
      "2/2 [==============================] - 0s 8ms/step - loss: 5.0631 - mse: 5.0631\n",
      "Epoch 168/500\n",
      "2/2 [==============================] - 0s 7ms/step - loss: 9.8260 - mse: 9.8260\n",
      "Epoch 169/500\n",
      "2/2 [==============================] - 0s 12ms/step - loss: 2.7881 - mse: 2.7881\n",
      "Epoch 170/500\n",
      "2/2 [==============================] - 0s 7ms/step - loss: 1.9217 - mse: 1.9217\n",
      "Epoch 171/500\n",
      "2/2 [==============================] - 0s 12ms/step - loss: 1.9184 - mse: 1.9184\n",
      "Epoch 172/500\n",
      "2/2 [==============================] - 0s 6ms/step - loss: 1.9748 - mse: 1.9748\n",
      "Epoch 173/500\n",
      "2/2 [==============================] - 0s 7ms/step - loss: 1.8845 - mse: 1.8845\n",
      "Epoch 174/500\n",
      "2/2 [==============================] - 0s 11ms/step - loss: 5.9010 - mse: 5.9010\n",
      "Epoch 175/500\n",
      "2/2 [==============================] - 0s 6ms/step - loss: 12.7015 - mse: 12.7015\n",
      "Epoch 176/500\n",
      "2/2 [==============================] - 0s 9ms/step - loss: 5.0946 - mse: 5.0946\n",
      "Epoch 177/500\n",
      "2/2 [==============================] - 0s 6ms/step - loss: 2.4207 - mse: 2.4207\n",
      "Epoch 178/500\n",
      "2/2 [==============================] - 0s 6ms/step - loss: 2.6143 - mse: 2.6143\n",
      "Epoch 179/500\n",
      "2/2 [==============================] - 0s 6ms/step - loss: 2.8104 - mse: 2.8104\n",
      "Epoch 180/500\n",
      "2/2 [==============================] - 0s 6ms/step - loss: 3.5130 - mse: 3.5130\n",
      "Epoch 181/500\n",
      "2/2 [==============================] - 0s 7ms/step - loss: 2.5694 - mse: 2.5694\n",
      "Epoch 182/500\n",
      "2/2 [==============================] - 0s 10ms/step - loss: 2.3419 - mse: 2.3419\n",
      "Epoch 183/500\n",
      "2/2 [==============================] - 0s 6ms/step - loss: 1.9443 - mse: 1.9443\n",
      "Epoch 184/500\n",
      "2/2 [==============================] - 0s 38ms/step - loss: 1.8181 - mse: 1.8181\n",
      "Epoch 185/500\n",
      "2/2 [==============================] - 0s 7ms/step - loss: 1.8885 - mse: 1.8885\n",
      "Epoch 186/500\n",
      "2/2 [==============================] - 0s 6ms/step - loss: 2.3124 - mse: 2.3124\n",
      "Epoch 187/500\n",
      "2/2 [==============================] - 0s 7ms/step - loss: 5.5986 - mse: 5.5986\n",
      "Epoch 188/500\n",
      "2/2 [==============================] - 0s 7ms/step - loss: 8.3075 - mse: 8.3075\n",
      "Epoch 189/500\n",
      "2/2 [==============================] - 0s 10ms/step - loss: 2.7493 - mse: 2.7493\n",
      "Epoch 190/500\n",
      "2/2 [==============================] - 0s 7ms/step - loss: 1.9153 - mse: 1.9153\n",
      "Epoch 191/500\n",
      "2/2 [==============================] - 0s 5ms/step - loss: 3.1416 - mse: 3.1416\n",
      "Epoch 192/500\n",
      "2/2 [==============================] - 0s 6ms/step - loss: 3.7469 - mse: 3.7469\n",
      "Epoch 193/500\n",
      "2/2 [==============================] - 0s 5ms/step - loss: 4.3284 - mse: 4.3284\n",
      "Epoch 194/500\n",
      "2/2 [==============================] - 0s 5ms/step - loss: 6.4715 - mse: 6.4715\n",
      "Epoch 195/500\n",
      "2/2 [==============================] - 0s 6ms/step - loss: 2.8859 - mse: 2.8859\n",
      "Epoch 196/500\n",
      "2/2 [==============================] - 0s 8ms/step - loss: 1.9381 - mse: 1.9381\n",
      "Epoch 197/500\n",
      "2/2 [==============================] - 0s 6ms/step - loss: 5.5307 - mse: 5.5307\n",
      "Epoch 198/500\n",
      "2/2 [==============================] - 0s 8ms/step - loss: 6.3693 - mse: 6.3693\n",
      "Epoch 199/500\n",
      "2/2 [==============================] - 0s 6ms/step - loss: 4.0125 - mse: 4.0125\n",
      "Epoch 200/500\n",
      "2/2 [==============================] - 0s 7ms/step - loss: 2.4608 - mse: 2.4608\n",
      "Epoch 201/500\n",
      "2/2 [==============================] - 0s 6ms/step - loss: 2.4298 - mse: 2.4298\n",
      "Epoch 202/500\n",
      "2/2 [==============================] - 0s 5ms/step - loss: 1.7772 - mse: 1.7772\n",
      "Epoch 203/500\n",
      "2/2 [==============================] - 0s 5ms/step - loss: 1.8326 - mse: 1.8326\n",
      "Epoch 204/500\n",
      "2/2 [==============================] - 0s 6ms/step - loss: 2.0875 - mse: 2.0875\n",
      "Epoch 205/500\n",
      "2/2 [==============================] - 0s 5ms/step - loss: 5.4876 - mse: 5.4876\n",
      "Epoch 206/500\n",
      "2/2 [==============================] - 0s 5ms/step - loss: 8.3052 - mse: 8.3052\n",
      "Epoch 207/500\n",
      "2/2 [==============================] - 0s 5ms/step - loss: 2.9527 - mse: 2.9527\n",
      "Epoch 208/500\n",
      "2/2 [==============================] - 0s 6ms/step - loss: 2.0292 - mse: 2.0292\n",
      "Epoch 209/500\n",
      "2/2 [==============================] - 0s 5ms/step - loss: 1.8725 - mse: 1.8725\n",
      "Epoch 210/500\n",
      "2/2 [==============================] - 0s 6ms/step - loss: 3.0394 - mse: 3.0394\n",
      "Epoch 211/500\n",
      "2/2 [==============================] - 0s 5ms/step - loss: 4.7888 - mse: 4.7888\n",
      "Epoch 212/500\n",
      "2/2 [==============================] - 0s 6ms/step - loss: 6.2562 - mse: 6.2562\n",
      "Epoch 213/500\n",
      "2/2 [==============================] - 0s 6ms/step - loss: 4.5567 - mse: 4.5567\n",
      "Epoch 214/500\n",
      "2/2 [==============================] - 0s 5ms/step - loss: 2.7384 - mse: 2.7384\n",
      "Epoch 215/500\n",
      "2/2 [==============================] - 0s 5ms/step - loss: 2.8627 - mse: 2.8627\n",
      "Epoch 216/500\n",
      "2/2 [==============================] - 0s 6ms/step - loss: 3.0537 - mse: 3.0537\n",
      "Epoch 217/500\n",
      "2/2 [==============================] - 0s 7ms/step - loss: 2.2705 - mse: 2.2705\n",
      "Epoch 218/500\n",
      "2/2 [==============================] - 0s 5ms/step - loss: 2.3376 - mse: 2.3376\n",
      "Epoch 219/500\n",
      "2/2 [==============================] - 0s 5ms/step - loss: 4.1350 - mse: 4.1350\n",
      "Epoch 220/500\n",
      "2/2 [==============================] - 0s 6ms/step - loss: 6.3865 - mse: 6.3865\n",
      "Epoch 221/500\n",
      "2/2 [==============================] - 0s 6ms/step - loss: 5.0309 - mse: 5.0309\n",
      "Epoch 222/500\n",
      "2/2 [==============================] - 0s 8ms/step - loss: 2.4624 - mse: 2.4624\n",
      "Epoch 223/500\n",
      "2/2 [==============================] - 0s 7ms/step - loss: 1.6143 - mse: 1.6143\n",
      "Epoch 224/500\n",
      "2/2 [==============================] - 0s 6ms/step - loss: 2.6062 - mse: 2.6062\n",
      "Epoch 225/500\n",
      "2/2 [==============================] - 0s 7ms/step - loss: 3.5383 - mse: 3.5383\n",
      "Epoch 226/500\n",
      "2/2 [==============================] - 0s 6ms/step - loss: 5.3213 - mse: 5.3213\n",
      "Epoch 227/500\n",
      "2/2 [==============================] - 0s 7ms/step - loss: 3.2063 - mse: 3.2063\n",
      "Epoch 228/500\n",
      "2/2 [==============================] - 0s 5ms/step - loss: 4.2801 - mse: 4.2801\n",
      "Epoch 229/500\n",
      "2/2 [==============================] - 0s 6ms/step - loss: 5.7567 - mse: 5.7567\n",
      "Epoch 230/500\n",
      "2/2 [==============================] - 0s 5ms/step - loss: 3.4829 - mse: 3.4829\n",
      "Epoch 231/500\n",
      "2/2 [==============================] - 0s 8ms/step - loss: 2.2830 - mse: 2.2830\n",
      "Epoch 232/500\n",
      "2/2 [==============================] - 0s 5ms/step - loss: 1.9813 - mse: 1.9813\n",
      "Epoch 233/500\n",
      "2/2 [==============================] - 0s 6ms/step - loss: 2.1999 - mse: 2.1999\n",
      "Epoch 234/500\n",
      "2/2 [==============================] - 0s 6ms/step - loss: 2.5502 - mse: 2.5502\n",
      "Epoch 235/500\n",
      "2/2 [==============================] - 0s 5ms/step - loss: 5.3275 - mse: 5.3275\n",
      "Epoch 236/500\n",
      "2/2 [==============================] - 0s 6ms/step - loss: 6.2861 - mse: 6.2861\n",
      "Epoch 237/500\n",
      "2/2 [==============================] - 0s 8ms/step - loss: 3.1243 - mse: 3.1243\n",
      "Epoch 238/500\n",
      "2/2 [==============================] - 0s 6ms/step - loss: 1.9234 - mse: 1.9234\n",
      "Epoch 239/500\n",
      "2/2 [==============================] - 0s 6ms/step - loss: 1.5549 - mse: 1.5549\n",
      "Epoch 240/500\n",
      "2/2 [==============================] - 0s 7ms/step - loss: 1.5815 - mse: 1.5815\n",
      "Epoch 241/500\n",
      "2/2 [==============================] - 0s 6ms/step - loss: 3.1207 - mse: 3.1207\n",
      "Epoch 242/500\n",
      "2/2 [==============================] - 0s 7ms/step - loss: 9.2729 - mse: 9.2729\n",
      "Epoch 243/500\n",
      "2/2 [==============================] - 0s 8ms/step - loss: 3.4617 - mse: 3.4617\n",
      "Epoch 244/500\n",
      "2/2 [==============================] - 0s 13ms/step - loss: 1.5489 - mse: 1.5489\n",
      "Epoch 245/500\n",
      "2/2 [==============================] - 0s 7ms/step - loss: 1.5316 - mse: 1.5316\n",
      "Epoch 246/500\n",
      "2/2 [==============================] - 0s 6ms/step - loss: 1.9964 - mse: 1.9964\n",
      "Epoch 247/500\n",
      "2/2 [==============================] - 0s 6ms/step - loss: 2.8572 - mse: 2.8572\n",
      "Epoch 248/500\n",
      "2/2 [==============================] - 0s 8ms/step - loss: 1.6248 - mse: 1.6248\n",
      "Epoch 249/500\n",
      "2/2 [==============================] - 0s 7ms/step - loss: 1.5188 - mse: 1.5188\n",
      "Epoch 250/500\n",
      "2/2 [==============================] - 0s 5ms/step - loss: 1.5859 - mse: 1.5859\n",
      "Epoch 251/500\n",
      "2/2 [==============================] - 0s 7ms/step - loss: 1.7683 - mse: 1.7683\n",
      "Epoch 252/500\n",
      "2/2 [==============================] - 0s 5ms/step - loss: 6.6355 - mse: 6.6355\n",
      "Epoch 253/500\n",
      "2/2 [==============================] - 0s 9ms/step - loss: 10.8184 - mse: 10.8184\n",
      "Epoch 254/500\n",
      "2/2 [==============================] - 0s 6ms/step - loss: 2.1640 - mse: 2.1640\n",
      "Epoch 255/500\n",
      "2/2 [==============================] - 0s 6ms/step - loss: 1.6646 - mse: 1.6646\n",
      "Epoch 256/500\n",
      "2/2 [==============================] - 0s 6ms/step - loss: 2.4099 - mse: 2.4099\n",
      "Epoch 257/500\n",
      "2/2 [==============================] - 0s 5ms/step - loss: 5.3717 - mse: 5.3717\n",
      "Epoch 258/500\n",
      "2/2 [==============================] - 0s 5ms/step - loss: 5.1533 - mse: 5.1533\n",
      "Epoch 259/500\n",
      "2/2 [==============================] - 0s 5ms/step - loss: 3.4842 - mse: 3.4842\n",
      "Epoch 260/500\n",
      "2/2 [==============================] - 0s 6ms/step - loss: 1.8973 - mse: 1.8973\n",
      "Epoch 261/500\n",
      "2/2 [==============================] - 0s 6ms/step - loss: 1.4858 - mse: 1.4858\n",
      "Epoch 262/500\n",
      "2/2 [==============================] - 0s 6ms/step - loss: 1.7451 - mse: 1.7451\n",
      "Epoch 263/500\n",
      "2/2 [==============================] - 0s 5ms/step - loss: 5.1463 - mse: 5.1463\n",
      "Epoch 264/500\n",
      "2/2 [==============================] - 0s 5ms/step - loss: 7.7919 - mse: 7.7919\n",
      "Epoch 265/500\n",
      "2/2 [==============================] - 0s 8ms/step - loss: 1.8617 - mse: 1.8617\n",
      "Epoch 266/500\n",
      "2/2 [==============================] - 0s 5ms/step - loss: 1.5328 - mse: 1.5328\n",
      "Epoch 267/500\n",
      "2/2 [==============================] - 0s 8ms/step - loss: 1.5218 - mse: 1.5218\n",
      "Epoch 268/500\n",
      "2/2 [==============================] - 0s 6ms/step - loss: 1.5407 - mse: 1.5407\n",
      "Epoch 269/500\n",
      "2/2 [==============================] - 0s 9ms/step - loss: 1.6381 - mse: 1.6381\n",
      "Epoch 270/500\n",
      "2/2 [==============================] - 0s 6ms/step - loss: 3.1248 - mse: 3.1248\n",
      "Epoch 271/500\n",
      "2/2 [==============================] - 0s 5ms/step - loss: 10.0773 - mse: 10.0773\n",
      "Epoch 272/500\n",
      "2/2 [==============================] - 0s 5ms/step - loss: 5.3258 - mse: 5.3258\n",
      "Epoch 273/500\n",
      "2/2 [==============================] - 0s 5ms/step - loss: 3.0336 - mse: 3.0336\n",
      "Epoch 274/500\n",
      "2/2 [==============================] - 0s 5ms/step - loss: 2.2091 - mse: 2.2091\n",
      "Epoch 275/500\n",
      "2/2 [==============================] - 0s 5ms/step - loss: 1.6984 - mse: 1.6984\n",
      "Epoch 276/500\n",
      "2/2 [==============================] - 0s 6ms/step - loss: 1.4630 - mse: 1.4630\n",
      "Epoch 277/500\n",
      "2/2 [==============================] - 0s 5ms/step - loss: 1.4753 - mse: 1.4753\n",
      "Epoch 278/500\n",
      "2/2 [==============================] - 0s 5ms/step - loss: 1.4928 - mse: 1.4928\n",
      "Epoch 279/500\n",
      "2/2 [==============================] - 0s 6ms/step - loss: 2.7349 - mse: 2.7349\n",
      "Epoch 280/500\n",
      "2/2 [==============================] - 0s 5ms/step - loss: 9.9508 - mse: 9.9508\n",
      "Epoch 281/500\n",
      "2/2 [==============================] - 0s 6ms/step - loss: 6.5322 - mse: 6.5322\n",
      "Epoch 282/500\n",
      "2/2 [==============================] - 0s 5ms/step - loss: 4.0776 - mse: 4.0776\n",
      "Epoch 283/500\n",
      "2/2 [==============================] - 0s 8ms/step - loss: 1.6762 - mse: 1.6762\n",
      "Epoch 284/500\n",
      "2/2 [==============================] - 0s 5ms/step - loss: 1.4418 - mse: 1.4418\n",
      "Epoch 285/500\n",
      "2/2 [==============================] - 0s 6ms/step - loss: 1.4435 - mse: 1.4435\n",
      "Epoch 286/500\n",
      "2/2 [==============================] - 0s 6ms/step - loss: 1.6556 - mse: 1.6556\n",
      "Epoch 287/500\n",
      "2/2 [==============================] - 0s 5ms/step - loss: 3.8942 - mse: 3.8942\n",
      "Epoch 288/500\n",
      "2/2 [==============================] - 0s 6ms/step - loss: 7.1841 - mse: 7.1841\n",
      "Epoch 289/500\n",
      "2/2 [==============================] - 0s 6ms/step - loss: 5.3528 - mse: 5.3528\n",
      "Epoch 290/500\n",
      "2/2 [==============================] - 0s 7ms/step - loss: 2.3676 - mse: 2.3676\n",
      "Epoch 291/500\n",
      "2/2 [==============================] - 0s 7ms/step - loss: 2.1233 - mse: 2.1233\n",
      "Epoch 292/500\n",
      "2/2 [==============================] - 0s 8ms/step - loss: 2.8984 - mse: 2.8984\n",
      "Epoch 293/500\n",
      "2/2 [==============================] - 0s 7ms/step - loss: 4.2960 - mse: 4.2960\n",
      "Epoch 294/500\n",
      "2/2 [==============================] - 0s 7ms/step - loss: 2.8879 - mse: 2.8879\n",
      "Epoch 295/500\n",
      "2/2 [==============================] - 0s 6ms/step - loss: 1.5699 - mse: 1.5699\n",
      "Epoch 296/500\n",
      "2/2 [==============================] - 0s 6ms/step - loss: 1.7317 - mse: 1.7317\n",
      "Epoch 297/500\n",
      "2/2 [==============================] - 0s 5ms/step - loss: 3.0309 - mse: 3.0309\n",
      "Epoch 298/500\n",
      "2/2 [==============================] - 0s 6ms/step - loss: 6.0090 - mse: 6.0090\n",
      "Epoch 299/500\n",
      "2/2 [==============================] - 0s 5ms/step - loss: 5.9085 - mse: 5.9085\n",
      "Epoch 300/500\n",
      "2/2 [==============================] - 0s 5ms/step - loss: 3.0421 - mse: 3.0421\n",
      "Epoch 301/500\n",
      "2/2 [==============================] - 0s 5ms/step - loss: 2.3518 - mse: 2.3518\n",
      "Epoch 302/500\n",
      "2/2 [==============================] - 0s 6ms/step - loss: 1.4337 - mse: 1.4337\n",
      "Epoch 303/500\n",
      "2/2 [==============================] - 0s 6ms/step - loss: 1.3970 - mse: 1.3970\n",
      "Epoch 304/500\n",
      "2/2 [==============================] - 0s 6ms/step - loss: 1.4249 - mse: 1.4249\n",
      "Epoch 305/500\n",
      "2/2 [==============================] - 0s 5ms/step - loss: 1.4132 - mse: 1.4132\n",
      "Epoch 306/500\n",
      "2/2 [==============================] - 0s 5ms/step - loss: 4.0669 - mse: 4.0669\n",
      "Epoch 307/500\n",
      "2/2 [==============================] - 0s 5ms/step - loss: 11.1820 - mse: 11.1820\n",
      "Epoch 308/500\n",
      "2/2 [==============================] - 0s 5ms/step - loss: 3.5797 - mse: 3.5797\n",
      "Epoch 309/500\n",
      "2/2 [==============================] - 0s 6ms/step - loss: 1.5020 - mse: 1.5020\n",
      "Epoch 310/500\n",
      "2/2 [==============================] - 0s 5ms/step - loss: 1.7969 - mse: 1.7969\n",
      "Epoch 311/500\n",
      "2/2 [==============================] - 0s 5ms/step - loss: 2.5957 - mse: 2.5957\n",
      "Epoch 312/500\n",
      "2/2 [==============================] - 0s 5ms/step - loss: 1.7670 - mse: 1.7670\n",
      "Epoch 313/500\n",
      "2/2 [==============================] - 0s 5ms/step - loss: 2.2356 - mse: 2.2356\n",
      "Epoch 314/500\n",
      "2/2 [==============================] - 0s 5ms/step - loss: 3.1293 - mse: 3.1293\n",
      "Epoch 315/500\n",
      "2/2 [==============================] - 0s 5ms/step - loss: 4.3582 - mse: 4.3582\n",
      "Epoch 316/500\n",
      "2/2 [==============================] - 0s 6ms/step - loss: 3.0894 - mse: 3.0894\n",
      "Epoch 317/500\n",
      "2/2 [==============================] - 0s 5ms/step - loss: 1.8572 - mse: 1.8572\n",
      "Epoch 318/500\n",
      "2/2 [==============================] - 0s 6ms/step - loss: 2.2665 - mse: 2.2665\n",
      "Epoch 319/500\n",
      "2/2 [==============================] - 0s 6ms/step - loss: 8.7438 - mse: 8.7438\n",
      "Epoch 320/500\n",
      "2/2 [==============================] - 0s 7ms/step - loss: 5.7417 - mse: 5.7417\n",
      "Epoch 321/500\n",
      "2/2 [==============================] - 0s 8ms/step - loss: 1.4518 - mse: 1.4518\n",
      "Epoch 322/500\n",
      "2/2 [==============================] - 0s 8ms/step - loss: 1.4779 - mse: 1.4779\n",
      "Epoch 323/500\n",
      "2/2 [==============================] - 0s 12ms/step - loss: 1.3785 - mse: 1.3785\n",
      "Epoch 324/500\n",
      "2/2 [==============================] - 0s 7ms/step - loss: 1.3745 - mse: 1.3745\n",
      "Epoch 325/500\n",
      "2/2 [==============================] - 0s 6ms/step - loss: 1.3392 - mse: 1.3392\n",
      "Epoch 326/500\n",
      "2/2 [==============================] - 0s 7ms/step - loss: 1.5156 - mse: 1.5156\n",
      "Epoch 327/500\n",
      "2/2 [==============================] - 0s 6ms/step - loss: 1.9419 - mse: 1.9419\n",
      "Epoch 328/500\n",
      "2/2 [==============================] - 0s 7ms/step - loss: 7.3956 - mse: 7.3956\n",
      "Epoch 329/500\n",
      "2/2 [==============================] - 0s 7ms/step - loss: 9.0758 - mse: 9.0758\n",
      "Epoch 330/500\n",
      "2/2 [==============================] - 0s 5ms/step - loss: 4.0919 - mse: 4.0919\n",
      "Epoch 331/500\n",
      "2/2 [==============================] - 0s 5ms/step - loss: 1.6055 - mse: 1.6055\n",
      "Epoch 332/500\n",
      "2/2 [==============================] - 0s 6ms/step - loss: 1.3452 - mse: 1.3452\n",
      "Epoch 333/500\n",
      "2/2 [==============================] - 0s 7ms/step - loss: 1.4790 - mse: 1.4790\n",
      "Epoch 334/500\n",
      "2/2 [==============================] - 0s 6ms/step - loss: 2.0571 - mse: 2.0571\n",
      "Epoch 335/500\n",
      "2/2 [==============================] - 0s 6ms/step - loss: 3.6441 - mse: 3.6441\n",
      "Epoch 336/500\n",
      "2/2 [==============================] - 0s 6ms/step - loss: 5.1520 - mse: 5.1520\n",
      "Epoch 337/500\n",
      "2/2 [==============================] - 0s 6ms/step - loss: 2.9676 - mse: 2.9676\n",
      "Epoch 338/500\n",
      "2/2 [==============================] - 0s 5ms/step - loss: 3.0957 - mse: 3.0957\n",
      "Epoch 339/500\n",
      "2/2 [==============================] - 0s 5ms/step - loss: 4.2022 - mse: 4.2022\n",
      "Epoch 340/500\n",
      "2/2 [==============================] - 0s 5ms/step - loss: 3.5498 - mse: 3.5498\n",
      "Epoch 341/500\n",
      "2/2 [==============================] - 0s 6ms/step - loss: 2.9690 - mse: 2.9690\n",
      "Epoch 342/500\n",
      "2/2 [==============================] - 0s 5ms/step - loss: 1.9410 - mse: 1.9410\n",
      "Epoch 343/500\n",
      "2/2 [==============================] - 0s 6ms/step - loss: 1.3162 - mse: 1.3162\n",
      "Epoch 344/500\n",
      "2/2 [==============================] - 0s 5ms/step - loss: 3.6247 - mse: 3.6247\n",
      "Epoch 345/500\n",
      "2/2 [==============================] - 0s 5ms/step - loss: 3.4388 - mse: 3.4388\n",
      "Epoch 346/500\n",
      "2/2 [==============================] - 0s 5ms/step - loss: 1.5054 - mse: 1.5054\n",
      "Epoch 347/500\n",
      "2/2 [==============================] - 0s 5ms/step - loss: 1.5212 - mse: 1.5212\n",
      "Epoch 348/500\n",
      "2/2 [==============================] - 0s 7ms/step - loss: 2.2791 - mse: 2.2791\n",
      "Epoch 349/500\n",
      "2/2 [==============================] - 0s 5ms/step - loss: 9.1448 - mse: 9.1448\n",
      "Epoch 350/500\n",
      "2/2 [==============================] - 0s 6ms/step - loss: 4.3238 - mse: 4.3238\n",
      "Epoch 351/500\n",
      "2/2 [==============================] - 0s 5ms/step - loss: 1.5451 - mse: 1.5451\n",
      "Epoch 352/500\n",
      "2/2 [==============================] - 0s 8ms/step - loss: 2.4277 - mse: 2.4277\n",
      "Epoch 353/500\n",
      "2/2 [==============================] - 0s 5ms/step - loss: 3.0562 - mse: 3.0562\n",
      "Epoch 354/500\n",
      "2/2 [==============================] - 0s 5ms/step - loss: 1.7069 - mse: 1.7069\n",
      "Epoch 355/500\n",
      "2/2 [==============================] - 0s 6ms/step - loss: 2.1677 - mse: 2.1677\n",
      "Epoch 356/500\n",
      "2/2 [==============================] - 0s 5ms/step - loss: 1.4075 - mse: 1.4075\n",
      "Epoch 357/500\n",
      "2/2 [==============================] - 0s 6ms/step - loss: 1.6860 - mse: 1.6860\n",
      "Epoch 358/500\n",
      "2/2 [==============================] - 0s 7ms/step - loss: 2.1420 - mse: 2.1420\n",
      "Epoch 359/500\n",
      "2/2 [==============================] - 0s 6ms/step - loss: 6.9518 - mse: 6.9518\n",
      "Epoch 360/500\n",
      "2/2 [==============================] - 0s 5ms/step - loss: 6.9134 - mse: 6.9134\n",
      "Epoch 361/500\n",
      "2/2 [==============================] - 0s 5ms/step - loss: 2.2379 - mse: 2.2379\n",
      "Epoch 362/500\n",
      "2/2 [==============================] - 0s 6ms/step - loss: 1.3151 - mse: 1.3151\n",
      "Epoch 363/500\n",
      "2/2 [==============================] - 0s 6ms/step - loss: 1.4354 - mse: 1.4354\n",
      "Epoch 364/500\n",
      "2/2 [==============================] - 0s 7ms/step - loss: 1.6513 - mse: 1.6513\n",
      "Epoch 365/500\n",
      "2/2 [==============================] - 0s 8ms/step - loss: 3.7946 - mse: 3.7946\n",
      "Epoch 366/500\n",
      "2/2 [==============================] - 0s 5ms/step - loss: 6.6507 - mse: 6.6507\n",
      "Epoch 367/500\n",
      "2/2 [==============================] - 0s 12ms/step - loss: 4.7999 - mse: 4.7999\n",
      "Epoch 368/500\n",
      "2/2 [==============================] - 0s 5ms/step - loss: 1.9559 - mse: 1.9559\n",
      "Epoch 369/500\n",
      "2/2 [==============================] - 0s 5ms/step - loss: 1.3978 - mse: 1.3978\n",
      "Epoch 370/500\n",
      "2/2 [==============================] - 0s 7ms/step - loss: 1.4348 - mse: 1.4348\n",
      "Epoch 371/500\n",
      "2/2 [==============================] - 0s 6ms/step - loss: 1.6437 - mse: 1.6437\n",
      "Epoch 372/500\n",
      "2/2 [==============================] - 0s 6ms/step - loss: 1.9395 - mse: 1.9395\n",
      "Epoch 373/500\n",
      "2/2 [==============================] - 0s 5ms/step - loss: 2.6102 - mse: 2.6102\n",
      "Epoch 374/500\n",
      "2/2 [==============================] - 0s 6ms/step - loss: 5.4464 - mse: 5.4464\n",
      "Epoch 375/500\n",
      "2/2 [==============================] - 0s 5ms/step - loss: 7.4654 - mse: 7.4654\n",
      "Epoch 376/500\n",
      "2/2 [==============================] - 0s 5ms/step - loss: 4.4946 - mse: 4.4946\n",
      "Epoch 377/500\n",
      "2/2 [==============================] - 0s 6ms/step - loss: 1.9630 - mse: 1.9630\n",
      "Epoch 378/500\n",
      "2/2 [==============================] - 0s 11ms/step - loss: 1.8395 - mse: 1.8395\n",
      "Epoch 379/500\n",
      "2/2 [==============================] - 0s 6ms/step - loss: 2.4236 - mse: 2.4236\n",
      "Epoch 380/500\n",
      "2/2 [==============================] - 0s 6ms/step - loss: 4.4098 - mse: 4.4098\n",
      "Epoch 381/500\n",
      "2/2 [==============================] - 0s 5ms/step - loss: 2.1828 - mse: 2.1828\n",
      "Epoch 382/500\n",
      "2/2 [==============================] - 0s 6ms/step - loss: 1.7703 - mse: 1.7703\n",
      "Epoch 383/500\n",
      "2/2 [==============================] - 0s 7ms/step - loss: 3.0370 - mse: 3.0370\n",
      "Epoch 384/500\n",
      "2/2 [==============================] - 0s 5ms/step - loss: 4.3390 - mse: 4.3390\n",
      "Epoch 385/500\n",
      "2/2 [==============================] - 0s 5ms/step - loss: 2.9577 - mse: 2.9577\n",
      "Epoch 386/500\n",
      "2/2 [==============================] - 0s 5ms/step - loss: 1.7978 - mse: 1.7978\n",
      "Epoch 387/500\n",
      "2/2 [==============================] - 0s 8ms/step - loss: 1.9949 - mse: 1.9949\n",
      "Epoch 388/500\n",
      "2/2 [==============================] - 0s 5ms/step - loss: 6.2402 - mse: 6.2402\n",
      "Epoch 389/500\n",
      "2/2 [==============================] - 0s 6ms/step - loss: 4.8088 - mse: 4.8088\n",
      "Epoch 390/500\n",
      "2/2 [==============================] - 0s 5ms/step - loss: 1.8898 - mse: 1.8898\n",
      "Epoch 391/500\n",
      "2/2 [==============================] - 0s 5ms/step - loss: 1.6447 - mse: 1.6447\n",
      "Epoch 392/500\n",
      "2/2 [==============================] - 0s 5ms/step - loss: 2.1285 - mse: 2.1285\n",
      "Epoch 393/500\n",
      "2/2 [==============================] - 0s 6ms/step - loss: 5.1079 - mse: 5.1079\n",
      "Epoch 394/500\n",
      "2/2 [==============================] - 0s 5ms/step - loss: 3.4899 - mse: 3.4899\n",
      "Epoch 395/500\n",
      "2/2 [==============================] - 0s 9ms/step - loss: 2.1076 - mse: 2.1076\n",
      "Epoch 396/500\n",
      "2/2 [==============================] - 0s 7ms/step - loss: 2.7600 - mse: 2.7600\n",
      "Epoch 397/500\n",
      "2/2 [==============================] - 0s 11ms/step - loss: 1.7760 - mse: 1.7760\n",
      "Epoch 398/500\n",
      "2/2 [==============================] - 0s 5ms/step - loss: 3.6021 - mse: 3.6021\n",
      "Epoch 399/500\n",
      "2/2 [==============================] - 0s 5ms/step - loss: 4.6293 - mse: 4.6293\n",
      "Epoch 400/500\n",
      "2/2 [==============================] - 0s 5ms/step - loss: 4.6259 - mse: 4.6259\n",
      "Epoch 401/500\n",
      "2/2 [==============================] - 0s 5ms/step - loss: 3.2269 - mse: 3.2269\n",
      "Epoch 402/500\n",
      "2/2 [==============================] - 0s 5ms/step - loss: 2.0616 - mse: 2.0616\n",
      "Epoch 403/500\n",
      "2/2 [==============================] - 0s 6ms/step - loss: 1.7927 - mse: 1.7927\n",
      "Epoch 404/500\n",
      "2/2 [==============================] - 0s 5ms/step - loss: 1.7202 - mse: 1.7202\n",
      "Epoch 405/500\n",
      "2/2 [==============================] - 0s 5ms/step - loss: 1.9596 - mse: 1.9596\n",
      "Epoch 406/500\n",
      "2/2 [==============================] - 0s 5ms/step - loss: 1.9163 - mse: 1.9163\n",
      "Epoch 407/500\n",
      "2/2 [==============================] - 0s 5ms/step - loss: 3.3822 - mse: 3.3822\n",
      "Epoch 408/500\n",
      "2/2 [==============================] - 0s 6ms/step - loss: 9.5570 - mse: 9.5570\n",
      "Epoch 409/500\n",
      "2/2 [==============================] - 0s 6ms/step - loss: 4.8313 - mse: 4.8313\n",
      "Epoch 410/500\n",
      "2/2 [==============================] - 0s 6ms/step - loss: 1.4147 - mse: 1.4147\n",
      "Epoch 411/500\n",
      "2/2 [==============================] - 0s 6ms/step - loss: 1.4147 - mse: 1.4147\n",
      "Epoch 412/500\n",
      "2/2 [==============================] - 0s 9ms/step - loss: 1.5971 - mse: 1.5971\n",
      "Epoch 413/500\n",
      "2/2 [==============================] - 0s 5ms/step - loss: 3.0899 - mse: 3.0899\n",
      "Epoch 414/500\n",
      "2/2 [==============================] - 0s 5ms/step - loss: 4.9932 - mse: 4.9932\n",
      "Epoch 415/500\n",
      "2/2 [==============================] - 0s 5ms/step - loss: 1.6354 - mse: 1.6354\n",
      "Epoch 416/500\n",
      "2/2 [==============================] - 0s 5ms/step - loss: 2.1020 - mse: 2.1020\n",
      "Epoch 417/500\n",
      "2/2 [==============================] - 0s 6ms/step - loss: 2.9803 - mse: 2.9803\n",
      "Epoch 418/500\n",
      "2/2 [==============================] - 0s 7ms/step - loss: 4.5938 - mse: 4.5938\n",
      "Epoch 419/500\n",
      "2/2 [==============================] - 0s 5ms/step - loss: 5.1688 - mse: 5.1688\n",
      "Epoch 420/500\n",
      "2/2 [==============================] - 0s 6ms/step - loss: 3.5173 - mse: 3.5173\n",
      "Epoch 421/500\n",
      "2/2 [==============================] - 0s 7ms/step - loss: 2.3070 - mse: 2.3070\n",
      "Epoch 422/500\n",
      "2/2 [==============================] - 0s 5ms/step - loss: 3.0372 - mse: 3.0372\n",
      "Epoch 423/500\n",
      "2/2 [==============================] - 0s 5ms/step - loss: 2.2945 - mse: 2.2945\n",
      "Epoch 424/500\n",
      "2/2 [==============================] - 0s 7ms/step - loss: 1.7448 - mse: 1.7448\n",
      "Epoch 425/500\n",
      "2/2 [==============================] - 0s 6ms/step - loss: 1.3150 - mse: 1.3150\n",
      "Epoch 426/500\n",
      "2/2 [==============================] - 0s 5ms/step - loss: 1.9368 - mse: 1.9368\n",
      "Epoch 427/500\n",
      "2/2 [==============================] - 0s 5ms/step - loss: 3.9245 - mse: 3.9245\n",
      "Epoch 428/500\n",
      "2/2 [==============================] - 0s 10ms/step - loss: 5.6097 - mse: 5.6097\n",
      "Epoch 429/500\n",
      "2/2 [==============================] - 0s 8ms/step - loss: 2.3713 - mse: 2.3713\n",
      "Epoch 430/500\n",
      "2/2 [==============================] - 0s 6ms/step - loss: 1.8856 - mse: 1.8856\n",
      "Epoch 431/500\n",
      "2/2 [==============================] - 0s 6ms/step - loss: 4.0364 - mse: 4.0364\n",
      "Epoch 432/500\n",
      "2/2 [==============================] - 0s 6ms/step - loss: 5.4113 - mse: 5.4113\n",
      "Epoch 433/500\n",
      "2/2 [==============================] - 0s 6ms/step - loss: 2.9805 - mse: 2.9805\n",
      "Epoch 434/500\n",
      "2/2 [==============================] - 0s 5ms/step - loss: 2.3342 - mse: 2.3342\n",
      "Epoch 435/500\n",
      "2/2 [==============================] - 0s 6ms/step - loss: 1.6830 - mse: 1.6830\n",
      "Epoch 436/500\n",
      "2/2 [==============================] - 0s 6ms/step - loss: 1.3904 - mse: 1.3904\n",
      "Epoch 437/500\n",
      "2/2 [==============================] - 0s 5ms/step - loss: 1.2416 - mse: 1.2416\n",
      "Epoch 438/500\n",
      "2/2 [==============================] - 0s 5ms/step - loss: 1.3413 - mse: 1.3413\n",
      "Epoch 439/500\n",
      "2/2 [==============================] - 0s 6ms/step - loss: 1.7493 - mse: 1.7493\n",
      "Epoch 440/500\n",
      "2/2 [==============================] - 0s 5ms/step - loss: 4.3602 - mse: 4.3602\n",
      "Epoch 441/500\n",
      "2/2 [==============================] - 0s 5ms/step - loss: 7.8876 - mse: 7.8876\n",
      "Epoch 442/500\n",
      "2/2 [==============================] - 0s 5ms/step - loss: 3.6816 - mse: 3.6816\n",
      "Epoch 443/500\n",
      "2/2 [==============================] - 0s 6ms/step - loss: 2.0676 - mse: 2.0676\n",
      "Epoch 444/500\n",
      "2/2 [==============================] - 0s 6ms/step - loss: 1.6249 - mse: 1.6249\n",
      "Epoch 445/500\n",
      "2/2 [==============================] - 0s 5ms/step - loss: 1.2674 - mse: 1.2674\n",
      "Epoch 446/500\n",
      "2/2 [==============================] - 0s 6ms/step - loss: 1.1958 - mse: 1.1958\n",
      "Epoch 447/500\n",
      "2/2 [==============================] - 0s 5ms/step - loss: 2.0773 - mse: 2.0773\n",
      "Epoch 448/500\n",
      "2/2 [==============================] - 0s 6ms/step - loss: 3.4619 - mse: 3.4619\n",
      "Epoch 449/500\n",
      "2/2 [==============================] - 0s 5ms/step - loss: 5.7152 - mse: 5.7152\n",
      "Epoch 450/500\n",
      "2/2 [==============================] - 0s 5ms/step - loss: 4.8728 - mse: 4.8728\n",
      "Epoch 451/500\n",
      "2/2 [==============================] - 0s 5ms/step - loss: 2.5378 - mse: 2.5378\n",
      "Epoch 452/500\n",
      "2/2 [==============================] - 0s 5ms/step - loss: 2.0554 - mse: 2.0554\n",
      "Epoch 453/500\n",
      "2/2 [==============================] - 0s 6ms/step - loss: 3.5894 - mse: 3.5894\n",
      "Epoch 454/500\n",
      "2/2 [==============================] - 0s 6ms/step - loss: 2.9515 - mse: 2.9515\n",
      "Epoch 455/500\n",
      "2/2 [==============================] - 0s 7ms/step - loss: 2.8756 - mse: 2.8756\n",
      "Epoch 456/500\n",
      "2/2 [==============================] - 0s 6ms/step - loss: 4.0576 - mse: 4.0576\n",
      "Epoch 457/500\n",
      "2/2 [==============================] - 0s 6ms/step - loss: 5.2095 - mse: 5.2095\n",
      "Epoch 458/500\n",
      "2/2 [==============================] - 0s 6ms/step - loss: 2.7259 - mse: 2.7259\n",
      "Epoch 459/500\n",
      "2/2 [==============================] - 0s 6ms/step - loss: 1.7909 - mse: 1.7909\n",
      "Epoch 460/500\n",
      "2/2 [==============================] - 0s 5ms/step - loss: 1.1953 - mse: 1.1953\n",
      "Epoch 461/500\n",
      "2/2 [==============================] - 0s 5ms/step - loss: 1.1750 - mse: 1.1750\n",
      "Epoch 462/500\n",
      "2/2 [==============================] - 0s 5ms/step - loss: 1.8559 - mse: 1.8559\n",
      "Epoch 463/500\n",
      "2/2 [==============================] - 0s 6ms/step - loss: 5.2943 - mse: 5.2943\n",
      "Epoch 464/500\n",
      "2/2 [==============================] - 0s 6ms/step - loss: 7.3391 - mse: 7.3391\n",
      "Epoch 465/500\n",
      "2/2 [==============================] - 0s 7ms/step - loss: 3.3825 - mse: 3.3825\n",
      "Epoch 466/500\n",
      "2/2 [==============================] - 0s 6ms/step - loss: 1.7243 - mse: 1.7243\n",
      "Epoch 467/500\n",
      "2/2 [==============================] - 0s 5ms/step - loss: 1.3241 - mse: 1.3241\n",
      "Epoch 468/500\n",
      "2/2 [==============================] - 0s 5ms/step - loss: 2.0477 - mse: 2.0477\n",
      "Epoch 469/500\n",
      "2/2 [==============================] - 0s 5ms/step - loss: 3.0795 - mse: 3.0795\n",
      "Epoch 470/500\n",
      "2/2 [==============================] - 0s 6ms/step - loss: 3.5982 - mse: 3.5982\n",
      "Epoch 471/500\n",
      "2/2 [==============================] - 0s 6ms/step - loss: 3.8514 - mse: 3.8514\n",
      "Epoch 472/500\n",
      "2/2 [==============================] - 0s 5ms/step - loss: 3.2209 - mse: 3.2209\n",
      "Epoch 473/500\n",
      "2/2 [==============================] - 0s 6ms/step - loss: 3.9232 - mse: 3.9232\n",
      "Epoch 474/500\n",
      "2/2 [==============================] - 0s 6ms/step - loss: 1.9593 - mse: 1.9593\n",
      "Epoch 475/500\n",
      "2/2 [==============================] - 0s 8ms/step - loss: 1.2289 - mse: 1.2289\n",
      "Epoch 476/500\n",
      "2/2 [==============================] - 0s 9ms/step - loss: 1.4353 - mse: 1.4353\n",
      "Epoch 477/500\n",
      "2/2 [==============================] - 0s 5ms/step - loss: 3.3807 - mse: 3.3807\n",
      "Epoch 478/500\n",
      "2/2 [==============================] - 0s 6ms/step - loss: 6.4745 - mse: 6.4745\n",
      "Epoch 479/500\n",
      "2/2 [==============================] - 0s 5ms/step - loss: 2.7813 - mse: 2.7813\n",
      "Epoch 480/500\n",
      "2/2 [==============================] - 0s 5ms/step - loss: 2.0329 - mse: 2.0329\n",
      "Epoch 481/500\n",
      "2/2 [==============================] - 0s 5ms/step - loss: 2.2206 - mse: 2.2206\n",
      "Epoch 482/500\n",
      "2/2 [==============================] - 0s 5ms/step - loss: 4.8700 - mse: 4.8700\n",
      "Epoch 483/500\n",
      "2/2 [==============================] - 0s 5ms/step - loss: 3.9054 - mse: 3.9054\n",
      "Epoch 484/500\n",
      "2/2 [==============================] - 0s 5ms/step - loss: 1.7621 - mse: 1.7621\n",
      "Epoch 485/500\n",
      "2/2 [==============================] - 0s 5ms/step - loss: 1.2954 - mse: 1.2954\n",
      "Epoch 486/500\n",
      "2/2 [==============================] - 0s 5ms/step - loss: 2.2133 - mse: 2.2133\n",
      "Epoch 487/500\n",
      "2/2 [==============================] - 0s 5ms/step - loss: 2.6992 - mse: 2.6992\n",
      "Epoch 488/500\n",
      "2/2 [==============================] - 0s 6ms/step - loss: 2.9628 - mse: 2.9628\n",
      "Epoch 489/500\n",
      "2/2 [==============================] - 0s 5ms/step - loss: 3.5248 - mse: 3.5248\n",
      "Epoch 490/500\n",
      "2/2 [==============================] - 0s 5ms/step - loss: 3.3313 - mse: 3.3313\n",
      "Epoch 491/500\n",
      "2/2 [==============================] - 0s 5ms/step - loss: 1.5641 - mse: 1.5641\n",
      "Epoch 492/500\n",
      "2/2 [==============================] - 0s 5ms/step - loss: 1.1461 - mse: 1.1461\n",
      "Epoch 493/500\n",
      "2/2 [==============================] - 0s 5ms/step - loss: 2.1042 - mse: 2.1042\n",
      "Epoch 494/500\n",
      "2/2 [==============================] - 0s 5ms/step - loss: 6.3053 - mse: 6.3053\n",
      "Epoch 495/500\n",
      "2/2 [==============================] - 0s 6ms/step - loss: 6.5292 - mse: 6.5292\n",
      "Epoch 496/500\n",
      "2/2 [==============================] - 0s 5ms/step - loss: 2.0567 - mse: 2.0567\n",
      "Epoch 497/500\n",
      "2/2 [==============================] - 0s 8ms/step - loss: 1.2123 - mse: 1.2123\n",
      "Epoch 498/500\n",
      "2/2 [==============================] - 0s 6ms/step - loss: 1.1445 - mse: 1.1445\n",
      "Epoch 499/500\n",
      "2/2 [==============================] - 0s 6ms/step - loss: 1.9207 - mse: 1.9207\n",
      "Epoch 500/500\n",
      "2/2 [==============================] - 0s 5ms/step - loss: 4.2095 - mse: 4.2095\n"
     ]
    },
    {
     "data": {
      "text/plain": [
       "<keras.callbacks.History at 0x17d5b3820>"
      ]
     },
     "execution_count": 16,
     "metadata": {},
     "output_type": "execute_result"
    }
   ],
   "source": [
    "model.fit(X, y, epochs=500, verbose=1)"
   ]
  },
  {
   "cell_type": "markdown",
   "metadata": {},
   "source": [
    "##### Observe the numbers for the `weights`"
   ]
  },
  {
   "cell_type": "code",
   "execution_count": 17,
   "metadata": {},
   "outputs": [
    {
     "data": {
      "text/plain": [
       "[array([[ 0.08033577, -0.08027708, -0.08017094],\n",
       "        [ 0.18046328, -0.18041956, -0.18034191],\n",
       "        [ 0.12752363, -0.1274721 , -0.12737985],\n",
       "        [ 0.19833955, -0.19828773, -0.19819395],\n",
       "        [-0.0012752 ,  0.00144162,  0.00175974],\n",
       "        [ 0.00646656, -0.00631522, -0.00602694]], dtype=float32),\n",
       " array([ 0.07535968, -0.07523661, -0.07500333], dtype=float32),\n",
       " array([[ 1.1742748 ],\n",
       "        [-0.7864253 ],\n",
       "        [-0.47821173]], dtype=float32),\n",
       " array([0.0756167], dtype=float32)]"
      ]
     },
     "execution_count": 17,
     "metadata": {},
     "output_type": "execute_result"
    }
   ],
   "source": [
    "model.get_weights()"
   ]
  },
  {
   "cell_type": "markdown",
   "metadata": {
    "tags": []
   },
   "source": [
    "##### Predictions vs Reality"
   ]
  },
  {
   "cell_type": "markdown",
   "metadata": {},
   "source": [
    "> 1. Calculate the Predicted Accidents and\n",
    "> 2. Compare it with the Real Total Accidents"
   ]
  },
  {
   "cell_type": "code",
   "execution_count": 18,
   "metadata": {},
   "outputs": [
    {
     "name": "stderr",
     "output_type": "stream",
     "text": [
      "2022-01-05 09:59:29.374264: I tensorflow/core/grappler/optimizers/custom_graph_optimizer_registry.cc:112] Plugin optimizer for device_type GPU is enabled.\n"
     ]
    }
   ],
   "source": [
    "y_pred = model.predict(X)"
   ]
  },
  {
   "cell_type": "code",
   "execution_count": 19,
   "metadata": {},
   "outputs": [
    {
     "data": {
      "text/html": [
       "<div>\n",
       "<style scoped>\n",
       "    .dataframe tbody tr th:only-of-type {\n",
       "        vertical-align: middle;\n",
       "    }\n",
       "\n",
       "    .dataframe tbody tr th {\n",
       "        vertical-align: top;\n",
       "    }\n",
       "\n",
       "    .dataframe thead th {\n",
       "        text-align: right;\n",
       "    }\n",
       "</style>\n",
       "<table border=\"1\" class=\"dataframe\">\n",
       "  <thead>\n",
       "    <tr style=\"text-align: right;\">\n",
       "      <th></th>\n",
       "      <th>total</th>\n",
       "      <th>pred_zeros_after_fit</th>\n",
       "    </tr>\n",
       "    <tr>\n",
       "      <th>abbrev</th>\n",
       "      <th></th>\n",
       "      <th></th>\n",
       "    </tr>\n",
       "  </thead>\n",
       "  <tbody>\n",
       "    <tr>\n",
       "      <th>AL</th>\n",
       "      <td>18.8</td>\n",
       "      <td>16.577456</td>\n",
       "    </tr>\n",
       "    <tr>\n",
       "      <th>AK</th>\n",
       "      <td>18.1</td>\n",
       "      <td>15.406240</td>\n",
       "    </tr>\n",
       "    <tr>\n",
       "      <th>AZ</th>\n",
       "      <td>18.6</td>\n",
       "      <td>15.899257</td>\n",
       "    </tr>\n",
       "    <tr>\n",
       "      <th>AR</th>\n",
       "      <td>22.4</td>\n",
       "      <td>19.775145</td>\n",
       "    </tr>\n",
       "    <tr>\n",
       "      <th>CA</th>\n",
       "      <td>12.0</td>\n",
       "      <td>10.627527</td>\n",
       "    </tr>\n",
       "  </tbody>\n",
       "</table>\n",
       "</div>"
      ],
      "text/plain": [
       "        total  pred_zeros_after_fit\n",
       "abbrev                             \n",
       "AL       18.8             16.577456\n",
       "AK       18.1             15.406240\n",
       "AZ       18.6             15.899257\n",
       "AR       22.4             19.775145\n",
       "CA       12.0             10.627527"
      ]
     },
     "execution_count": 19,
     "metadata": {},
     "output_type": "execute_result"
    }
   ],
   "source": [
    "dfsel = df[['total']].copy()\n",
    "dfsel['pred_zeros_after_fit'] = y_pred\n",
    "dfsel.head()"
   ]
  },
  {
   "cell_type": "code",
   "execution_count": 20,
   "metadata": {},
   "outputs": [
    {
     "data": {
      "text/plain": [
       "6.979793654666075"
      ]
     },
     "execution_count": 20,
     "metadata": {},
     "output_type": "execute_result"
    }
   ],
   "source": [
    "mse = ((dfsel.total - dfsel.pred_zeros_after_fit)**2).mean()\n",
    "mse"
   ]
  },
  {
   "cell_type": "markdown",
   "metadata": {},
   "source": [
    "### How to `kernel_initializer` the weights to 1?"
   ]
  },
  {
   "cell_type": "code",
   "execution_count": null,
   "metadata": {},
   "outputs": [],
   "source": []
  },
  {
   "cell_type": "code",
   "execution_count": 15,
   "metadata": {},
   "outputs": [
    {
     "data": {
      "text/html": [
       "<div>\n",
       "<style scoped>\n",
       "    .dataframe tbody tr th:only-of-type {\n",
       "        vertical-align: middle;\n",
       "    }\n",
       "\n",
       "    .dataframe tbody tr th {\n",
       "        vertical-align: top;\n",
       "    }\n",
       "\n",
       "    .dataframe thead th {\n",
       "        text-align: right;\n",
       "    }\n",
       "</style>\n",
       "<table border=\"1\" class=\"dataframe\">\n",
       "  <thead>\n",
       "    <tr style=\"text-align: right;\">\n",
       "      <th></th>\n",
       "      <th>total</th>\n",
       "      <th>pred_zeros_after_fit</th>\n",
       "      <th>pred_ones_after_fit</th>\n",
       "    </tr>\n",
       "    <tr>\n",
       "      <th>abbrev</th>\n",
       "      <th></th>\n",
       "      <th></th>\n",
       "      <th></th>\n",
       "    </tr>\n",
       "  </thead>\n",
       "  <tbody>\n",
       "    <tr>\n",
       "      <th>AL</th>\n",
       "      <td>18.8</td>\n",
       "      <td>18.841764</td>\n",
       "      <td>18.841764</td>\n",
       "    </tr>\n",
       "    <tr>\n",
       "      <th>AK</th>\n",
       "      <td>18.1</td>\n",
       "      <td>18.193848</td>\n",
       "      <td>18.193848</td>\n",
       "    </tr>\n",
       "    <tr>\n",
       "      <th>AZ</th>\n",
       "      <td>18.6</td>\n",
       "      <td>18.252439</td>\n",
       "      <td>18.252439</td>\n",
       "    </tr>\n",
       "    <tr>\n",
       "      <th>AR</th>\n",
       "      <td>22.4</td>\n",
       "      <td>22.013790</td>\n",
       "      <td>22.013790</td>\n",
       "    </tr>\n",
       "    <tr>\n",
       "      <th>CA</th>\n",
       "      <td>12.0</td>\n",
       "      <td>13.098405</td>\n",
       "      <td>13.098405</td>\n",
       "    </tr>\n",
       "  </tbody>\n",
       "</table>\n",
       "</div>"
      ],
      "text/plain": [
       "        total  pred_zeros_after_fit  pred_ones_after_fit\n",
       "abbrev                                                  \n",
       "AL       18.8             18.841764            18.841764\n",
       "AK       18.1             18.193848            18.193848\n",
       "AZ       18.6             18.252439            18.252439\n",
       "AR       22.4             22.013790            22.013790\n",
       "CA       12.0             13.098405            13.098405"
      ]
     },
     "execution_count": 15,
     "metadata": {},
     "output_type": "execute_result"
    }
   ],
   "source": [
    "dfsel['pred_ones_after_fit'] = y_pred\n",
    "dfsel.head()"
   ]
  },
  {
   "cell_type": "code",
   "execution_count": 16,
   "metadata": {},
   "outputs": [
    {
     "data": {
      "text/plain": [
       "1.19102670622752"
      ]
     },
     "execution_count": 16,
     "metadata": {},
     "output_type": "execute_result"
    }
   ],
   "source": [
    "mse = ((dfsel.total - dfsel.pred_ones_after_fit)**2).mean()\n",
    "mse"
   ]
  },
  {
   "cell_type": "markdown",
   "metadata": {},
   "source": [
    "### How to `kernel_initializer` the weights to `glorot_uniform` (default)?"
   ]
  },
  {
   "cell_type": "code",
   "execution_count": null,
   "metadata": {},
   "outputs": [],
   "source": []
  },
  {
   "cell_type": "markdown",
   "metadata": {},
   "source": [
    "## Play with the Activation Function"
   ]
  },
  {
   "cell_type": "markdown",
   "metadata": {},
   "source": [
    "> - https://keras.io/api/layers/activations/"
   ]
  },
  {
   "cell_type": "code",
   "execution_count": null,
   "metadata": {},
   "outputs": [],
   "source": [
    "%%HTML\n",
    "<iframe width=\"560\" height=\"315\" src=\"https://www.youtube.com/embed/IHZwWFHWa-w?start=558\" title=\"YouTube video player\" frameborder=\"0\" allow=\"accelerometer; autoplay; clipboard-write; encrypted-media; gyroscope; picture-in-picture\" allowfullscreen></iframe>"
   ]
  },
  {
   "cell_type": "markdown",
   "metadata": {},
   "source": [
    "### Use `sigmoid` activation in last layer"
   ]
  },
  {
   "cell_type": "code",
   "execution_count": 17,
   "metadata": {},
   "outputs": [],
   "source": [
    "model = Sequential()\n",
    "model.add(layer=Input(shape=(6,)))\n",
    "model.add(layer=Dense(units=3, kernel_initializer='glorot_uniform'))\n",
    "model.add(layer=Dense(units=1, activation='sigmoid'))"
   ]
  },
  {
   "cell_type": "code",
   "execution_count": 18,
   "metadata": {},
   "outputs": [],
   "source": [
    "model.compile(loss='mse', metrics=['mse'])"
   ]
  },
  {
   "cell_type": "markdown",
   "metadata": {},
   "source": [
    "#### `fit()` the Model"
   ]
  },
  {
   "cell_type": "code",
   "execution_count": 19,
   "metadata": {},
   "outputs": [
    {
     "data": {
      "text/plain": [
       "<keras.callbacks.History at 0x28d4a0120d0>"
      ]
     },
     "execution_count": 19,
     "metadata": {},
     "output_type": "execute_result"
    }
   ],
   "source": [
    "model.fit(X, y, epochs=500, verbose=0)"
   ]
  },
  {
   "cell_type": "markdown",
   "metadata": {},
   "source": [
    "#### Predictions vs Reality"
   ]
  },
  {
   "cell_type": "markdown",
   "metadata": {},
   "source": [
    "> 1. Calculate the Predicted Accidents and\n",
    "> 2. Compare it with the Real Total Accidents"
   ]
  },
  {
   "cell_type": "code",
   "execution_count": 20,
   "metadata": {},
   "outputs": [],
   "source": [
    "y_pred = model.predict(X)"
   ]
  },
  {
   "cell_type": "code",
   "execution_count": 21,
   "metadata": {},
   "outputs": [
    {
     "data": {
      "text/html": [
       "<div>\n",
       "<style scoped>\n",
       "    .dataframe tbody tr th:only-of-type {\n",
       "        vertical-align: middle;\n",
       "    }\n",
       "\n",
       "    .dataframe tbody tr th {\n",
       "        vertical-align: top;\n",
       "    }\n",
       "\n",
       "    .dataframe thead th {\n",
       "        text-align: right;\n",
       "    }\n",
       "</style>\n",
       "<table border=\"1\" class=\"dataframe\">\n",
       "  <thead>\n",
       "    <tr style=\"text-align: right;\">\n",
       "      <th></th>\n",
       "      <th>total</th>\n",
       "      <th>pred_zeros_after_fit</th>\n",
       "      <th>pred_ones_after_fit</th>\n",
       "      <th>pred_sigmoid</th>\n",
       "    </tr>\n",
       "    <tr>\n",
       "      <th>abbrev</th>\n",
       "      <th></th>\n",
       "      <th></th>\n",
       "      <th></th>\n",
       "      <th></th>\n",
       "    </tr>\n",
       "  </thead>\n",
       "  <tbody>\n",
       "    <tr>\n",
       "      <th>AL</th>\n",
       "      <td>18.8</td>\n",
       "      <td>18.841764</td>\n",
       "      <td>18.841764</td>\n",
       "      <td>1.0</td>\n",
       "    </tr>\n",
       "    <tr>\n",
       "      <th>AK</th>\n",
       "      <td>18.1</td>\n",
       "      <td>18.193848</td>\n",
       "      <td>18.193848</td>\n",
       "      <td>1.0</td>\n",
       "    </tr>\n",
       "    <tr>\n",
       "      <th>AZ</th>\n",
       "      <td>18.6</td>\n",
       "      <td>18.252439</td>\n",
       "      <td>18.252439</td>\n",
       "      <td>1.0</td>\n",
       "    </tr>\n",
       "    <tr>\n",
       "      <th>AR</th>\n",
       "      <td>22.4</td>\n",
       "      <td>22.013790</td>\n",
       "      <td>22.013790</td>\n",
       "      <td>1.0</td>\n",
       "    </tr>\n",
       "    <tr>\n",
       "      <th>CA</th>\n",
       "      <td>12.0</td>\n",
       "      <td>13.098405</td>\n",
       "      <td>13.098405</td>\n",
       "      <td>1.0</td>\n",
       "    </tr>\n",
       "  </tbody>\n",
       "</table>\n",
       "</div>"
      ],
      "text/plain": [
       "        total  pred_zeros_after_fit  pred_ones_after_fit  pred_sigmoid\n",
       "abbrev                                                                \n",
       "AL       18.8             18.841764            18.841764           1.0\n",
       "AK       18.1             18.193848            18.193848           1.0\n",
       "AZ       18.6             18.252439            18.252439           1.0\n",
       "AR       22.4             22.013790            22.013790           1.0\n",
       "CA       12.0             13.098405            13.098405           1.0"
      ]
     },
     "execution_count": 21,
     "metadata": {},
     "output_type": "execute_result"
    }
   ],
   "source": [
    "dfsel['pred_sigmoid'] = y_pred\n",
    "dfsel.head()"
   ]
  },
  {
   "cell_type": "code",
   "execution_count": 22,
   "metadata": {},
   "outputs": [
    {
     "data": {
      "text/plain": [
       "235.40764705882347"
      ]
     },
     "execution_count": 22,
     "metadata": {},
     "output_type": "execute_result"
    }
   ],
   "source": [
    "mse = ((dfsel.total - dfsel.pred_sigmoid)**2).mean()\n",
    "mse"
   ]
  },
  {
   "cell_type": "markdown",
   "metadata": {},
   "source": [
    "#### Observe the numbers for the `weights`\n",
    "\n",
    "> - Have they changed?"
   ]
  },
  {
   "cell_type": "code",
   "execution_count": null,
   "metadata": {},
   "outputs": [],
   "source": [
    "model.get_weights()"
   ]
  },
  {
   "cell_type": "markdown",
   "metadata": {},
   "source": [
    "### Use `linear` activation in last layer"
   ]
  },
  {
   "cell_type": "code",
   "execution_count": null,
   "metadata": {},
   "outputs": [],
   "source": []
  },
  {
   "cell_type": "markdown",
   "metadata": {},
   "source": [
    "### Use `tanh` activation in last layer"
   ]
  },
  {
   "cell_type": "code",
   "execution_count": null,
   "metadata": {},
   "outputs": [],
   "source": []
  },
  {
   "cell_type": "markdown",
   "metadata": {},
   "source": [
    "### Use `relu` activation in last layer"
   ]
  },
  {
   "cell_type": "code",
   "execution_count": null,
   "metadata": {},
   "outputs": [],
   "source": []
  },
  {
   "cell_type": "markdown",
   "metadata": {},
   "source": [
    "### How are the predictions changing? Why?"
   ]
  },
  {
   "cell_type": "code",
   "execution_count": null,
   "metadata": {},
   "outputs": [],
   "source": []
  },
  {
   "cell_type": "markdown",
   "metadata": {},
   "source": [
    "## Optimizer"
   ]
  },
  {
   "cell_type": "markdown",
   "metadata": {},
   "source": [
    "> - https://keras.io/api/optimizers/#available-optimizers"
   ]
  },
  {
   "cell_type": "markdown",
   "metadata": {},
   "source": [
    "Optimizers comparison in GIF → https://mlfromscratch.com/optimizers-explained/#adam"
   ]
  },
  {
   "cell_type": "markdown",
   "metadata": {},
   "source": [
    "Tesla's Neural Network Models is composed of 48 models trainned in 70.000 hours of GPU → https://tesla.com/ai"
   ]
  },
  {
   "cell_type": "markdown",
   "metadata": {},
   "source": [
    "1 Year with a 8 GPU Computer → https://twitter.com/thirdrowtesla/status/1252723358342377472"
   ]
  },
  {
   "cell_type": "markdown",
   "metadata": {},
   "source": [
    "### Use Gradient Descent `SGD`"
   ]
  },
  {
   "cell_type": "code",
   "execution_count": null,
   "metadata": {},
   "outputs": [],
   "source": [
    "model = Sequential()\n",
    "model.add(layer=Input(shape=(6,)))\n",
    "model.add(layer=Dense(units=3, kernel_initializer='glorot_uniform'))\n",
    "model.add(layer=Dense(units=1, activation='sigmoid'))"
   ]
  },
  {
   "cell_type": "markdown",
   "metadata": {},
   "source": [
    "#### `compile()` the model"
   ]
  },
  {
   "cell_type": "code",
   "execution_count": null,
   "metadata": {},
   "outputs": [],
   "source": [
    "model.compile(optimizer='sgd', loss='mse', metrics=['mse'])"
   ]
  },
  {
   "cell_type": "markdown",
   "metadata": {},
   "source": [
    "#### `fit()` the Model"
   ]
  },
  {
   "cell_type": "code",
   "execution_count": null,
   "metadata": {},
   "outputs": [],
   "source": [
    "history = model.fit(X, y, epochs=500, verbose=0)"
   ]
  },
  {
   "cell_type": "markdown",
   "metadata": {},
   "source": [
    "#### Predictions vs Reality"
   ]
  },
  {
   "cell_type": "markdown",
   "metadata": {},
   "source": [
    "> 1. Calculate the Predicted Accidents and\n",
    "> 2. Compare it with the Real Total Accidents"
   ]
  },
  {
   "cell_type": "code",
   "execution_count": null,
   "metadata": {},
   "outputs": [],
   "source": [
    "y_pred = model.predict(X)"
   ]
  },
  {
   "cell_type": "code",
   "execution_count": null,
   "metadata": {},
   "outputs": [],
   "source": [
    "dfsel['pred_gsd'] = y_pred\n",
    "dfsel.head()"
   ]
  },
  {
   "cell_type": "code",
   "execution_count": null,
   "metadata": {},
   "outputs": [],
   "source": [
    "mse = ((dfsel.total - dfsel.pred_sgd)**2).mean()\n",
    "mse"
   ]
  },
  {
   "cell_type": "markdown",
   "metadata": {},
   "source": [
    "#### Observe the numbers for the `weights`\n",
    "\n",
    "> - Have they changed?"
   ]
  },
  {
   "cell_type": "code",
   "execution_count": null,
   "metadata": {},
   "outputs": [],
   "source": [
    "model.get_weights()"
   ]
  },
  {
   "cell_type": "markdown",
   "metadata": {},
   "source": [
    "\n",
    "#### View History"
   ]
  },
  {
   "cell_type": "code",
   "execution_count": null,
   "metadata": {},
   "outputs": [],
   "source": [
    "import matplotlib.pyplot as plt"
   ]
  },
  {
   "cell_type": "code",
   "execution_count": null,
   "metadata": {},
   "outputs": [],
   "source": [
    "plt.plot(history.history['loss'])\n",
    "plt.plot(history.history['val_loss'])\n",
    "plt.title('model loss')\n",
    "plt.ylabel('loss')\n",
    "plt.xlabel('epoch')\n",
    "plt.legend(['train', 'val'], loc='upper left')\n",
    "plt.show()"
   ]
  },
  {
   "cell_type": "markdown",
   "metadata": {},
   "source": [
    "### Use `ADAM`"
   ]
  },
  {
   "cell_type": "code",
   "execution_count": null,
   "metadata": {},
   "outputs": [],
   "source": []
  },
  {
   "cell_type": "markdown",
   "metadata": {},
   "source": [
    "### Use `RMSPROP`"
   ]
  },
  {
   "cell_type": "code",
   "execution_count": null,
   "metadata": {},
   "outputs": [],
   "source": []
  },
  {
   "cell_type": "markdown",
   "metadata": {},
   "source": [
    "### Does it take different times to get the best accuracy? Why?"
   ]
  },
  {
   "cell_type": "code",
   "execution_count": null,
   "metadata": {},
   "outputs": [],
   "source": []
  },
  {
   "cell_type": "markdown",
   "metadata": {},
   "source": [
    "## Loss Functions"
   ]
  },
  {
   "cell_type": "markdown",
   "metadata": {},
   "source": [
    "> - https://keras.io/api/losses/"
   ]
  },
  {
   "cell_type": "markdown",
   "metadata": {},
   "source": [
    "### `binary_crossentropy`"
   ]
  },
  {
   "cell_type": "code",
   "execution_count": null,
   "metadata": {},
   "outputs": [],
   "source": []
  },
  {
   "cell_type": "markdown",
   "metadata": {},
   "source": [
    "### `sparse_categorical_crossentropy`"
   ]
  },
  {
   "cell_type": "code",
   "execution_count": null,
   "metadata": {},
   "outputs": [],
   "source": []
  },
  {
   "cell_type": "markdown",
   "metadata": {},
   "source": [
    "### `mean_absolute_error`"
   ]
  },
  {
   "cell_type": "code",
   "execution_count": null,
   "metadata": {},
   "outputs": [],
   "source": []
  },
  {
   "cell_type": "markdown",
   "metadata": {},
   "source": [
    "### `mean_squared_error`"
   ]
  },
  {
   "cell_type": "code",
   "execution_count": null,
   "metadata": {},
   "outputs": [],
   "source": []
  },
  {
   "cell_type": "markdown",
   "metadata": {},
   "source": [
    "## In the end, what should be a feasible configuration of the Neural Network for this data?"
   ]
  },
  {
   "cell_type": "code",
   "execution_count": null,
   "metadata": {},
   "outputs": [],
   "source": []
  },
  {
   "cell_type": "markdown",
   "metadata": {},
   "source": [
    "# Common Errors"
   ]
  },
  {
   "cell_type": "markdown",
   "metadata": {},
   "source": [
    "## The `kernel_initializer` Matters"
   ]
  },
  {
   "cell_type": "code",
   "execution_count": null,
   "metadata": {},
   "outputs": [],
   "source": []
  },
  {
   "cell_type": "markdown",
   "metadata": {},
   "source": [
    "## The `activation` Function Matters"
   ]
  },
  {
   "cell_type": "code",
   "execution_count": null,
   "metadata": {},
   "outputs": [],
   "source": []
  },
  {
   "cell_type": "markdown",
   "metadata": {},
   "source": [
    "## The `optimizer` Matters"
   ]
  },
  {
   "cell_type": "code",
   "execution_count": null,
   "metadata": {},
   "outputs": [],
   "source": []
  },
  {
   "cell_type": "markdown",
   "metadata": {},
   "source": [
    "## The Number of `epochs` Matters"
   ]
  },
  {
   "cell_type": "code",
   "execution_count": null,
   "metadata": {},
   "outputs": [],
   "source": []
  },
  {
   "cell_type": "markdown",
   "metadata": {},
   "source": [
    "## The `loss` Function Matters"
   ]
  },
  {
   "cell_type": "code",
   "execution_count": null,
   "metadata": {},
   "outputs": [],
   "source": []
  },
  {
   "cell_type": "markdown",
   "metadata": {},
   "source": [
    "## The Number of `epochs` Matters"
   ]
  },
  {
   "cell_type": "code",
   "execution_count": null,
   "metadata": {},
   "outputs": [],
   "source": []
  },
  {
   "cell_type": "markdown",
   "metadata": {},
   "source": [
    "# Neural Network's importance to find **Non-Linear Patterns** in the Data\n",
    "\n",
    "> - The number of Neurons & Hidden Layers"
   ]
  },
  {
   "cell_type": "markdown",
   "metadata": {},
   "source": [
    "https://towardsdatascience.com/beginners-ask-how-many-hidden-layers-neurons-to-use-in-artificial-neural-networks-51466afa0d3e"
   ]
  },
  {
   "cell_type": "markdown",
   "metadata": {},
   "source": [
    "https://playground.tensorflow.org/#activation=tanh&batchSize=10&dataset=circle&regDataset=reg-plane&learningRate=0.03&regularizationRate=0&noise=0&networkShape=4,2&seed=0.87287&showTestData=false&discretize=false&percTrainData=50&x=true&y=true&xTimesY=false&xSquared=false&ySquared=false&cosX=false&sinX=false&cosY=false&sinY=false&collectStats=false&problem=classification&initZero=false&hideText=false"
   ]
  },
  {
   "cell_type": "code",
   "execution_count": null,
   "metadata": {},
   "outputs": [],
   "source": []
  },
  {
   "cell_type": "markdown",
   "metadata": {},
   "source": [
    "## Summary\n",
    "\n",
    "- Mathematical Formula\n",
    "- Weights / Kernel Initializer\n",
    "- Loss Function\n",
    "- Activation Function\n",
    "- Optimizers"
   ]
  },
  {
   "cell_type": "markdown",
   "metadata": {},
   "source": [
    "## What cannot you change arbitrarily of a Neural Network?\n",
    "\n",
    "- Input Neurons\n",
    "- Output Neurons\n",
    "- Loss Functions\n",
    "- Activation Functions"
   ]
  }
 ],
 "metadata": {
  "authors": [
   {
    "name": "Jesús López @sotastica"
   }
  ],
  "interpreter": {
   "hash": "a2b8701b642343483c5f5e717bcb0768c6b951acf38d76a6fc8ea01492bda71d"
  },
  "kernelspec": {
   "display_name": "DeepLearning Python",
   "language": "python",
   "name": "dl"
  },
  "language_info": {
   "codemirror_mode": {
    "name": "ipython",
    "version": 3
   },
   "file_extension": ".py",
   "mimetype": "text/x-python",
   "name": "python",
   "nbconvert_exporter": "python",
   "pygments_lexer": "ipython3",
   "version": "3.9.7"
  },
  "toc-autonumbering": true
 },
 "nbformat": 4,
 "nbformat_minor": 4
}
