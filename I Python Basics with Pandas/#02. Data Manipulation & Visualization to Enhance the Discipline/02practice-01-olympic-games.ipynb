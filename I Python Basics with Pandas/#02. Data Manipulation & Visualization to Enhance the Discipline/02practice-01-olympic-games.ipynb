{
 "cells": [
  {
   "cell_type": "markdown",
   "id": "bb4c5597",
   "metadata": {},
   "source": [
    "<font size=\"+5\">#02. Data Manipulation & Visualization to Enhance the Discipline</font>"
   ]
  },
  {
   "cell_type": "markdown",
   "id": "cbdde803-d915-4854-91b9-75822f2ed881",
   "metadata": {},
   "source": [
    "- Book + Private Lessons [Here ↗](https://sotastica.com/reservar)\n",
    "- Subscribe to my [Blog ↗](https://blog.pythonassembly.com/)\n",
    "- Let's keep in touch on [LinkedIn ↗](www.linkedin.com/in/jsulopz) 😄"
   ]
  },
  {
   "cell_type": "markdown",
   "id": "feaf1386",
   "metadata": {},
   "source": [
    "# Discipline to Search Solutions in Google"
   ]
  },
  {
   "cell_type": "markdown",
   "id": "9783d309",
   "metadata": {},
   "source": [
    "> Apply the following steps when **looking for solutions in Google**:\n",
    ">\n",
    "> 1. **Necesity**: How to load an Excel in Python?\n",
    "> 2. **Search in Google**: by keywords\n",
    ">   - `load excel python`\n",
    ">   - ~~how to load excel in python~~\n",
    "> 3. **Solution**: What's the `function()` that loads an Excel in Python?\n",
    ">   - A Function to Programming is what the Atom to Phisics.\n",
    ">   - Every time you want to do something in programming\n",
    ">   - **You will need a `function()`** to make it\n",
    ">   - Theferore, you must **detect parenthesis `()`**\n",
    ">   - Out of all the words that you see in a website\n",
    ">   - Because they indicate the presence of a `function()`."
   ]
  },
  {
   "cell_type": "markdown",
   "id": "600c6792",
   "metadata": {},
   "source": [
    "# Load the Data"
   ]
  },
  {
   "cell_type": "markdown",
   "id": "5fca18c0-9354-4283-8177-25f5ecf72b8b",
   "metadata": {},
   "source": [
    "> - Visit this [link ↗](https://www.kaggle.com/heesoo37/120-years-of-olympic-history-athletes-and-results)  to download the `csv` file\n",
    "> - The dataset contains 120 years of **Olympic Games** athletes (rows) from all countries\n",
    "> - With characteristics such as `Country, Sport, Age, Weight`..."
   ]
  },
  {
   "cell_type": "code",
   "execution_count": 1,
   "id": "24bd9616-b32f-4ae0-8853-815b51497126",
   "metadata": {},
   "outputs": [
    {
     "data": {
      "text/html": [
       "<div>\n",
       "<style scoped>\n",
       "    .dataframe tbody tr th:only-of-type {\n",
       "        vertical-align: middle;\n",
       "    }\n",
       "\n",
       "    .dataframe tbody tr th {\n",
       "        vertical-align: top;\n",
       "    }\n",
       "\n",
       "    .dataframe thead th {\n",
       "        text-align: right;\n",
       "    }\n",
       "</style>\n",
       "<table border=\"1\" class=\"dataframe\">\n",
       "  <thead>\n",
       "    <tr style=\"text-align: right;\">\n",
       "      <th></th>\n",
       "      <th>Name</th>\n",
       "      <th>Sex</th>\n",
       "      <th>Age</th>\n",
       "      <th>Height</th>\n",
       "      <th>Weight</th>\n",
       "      <th>Team</th>\n",
       "      <th>NOC</th>\n",
       "      <th>Games</th>\n",
       "      <th>Year</th>\n",
       "      <th>Season</th>\n",
       "      <th>City</th>\n",
       "      <th>Sport</th>\n",
       "      <th>Event</th>\n",
       "      <th>Medal</th>\n",
       "    </tr>\n",
       "    <tr>\n",
       "      <th>ID</th>\n",
       "      <th></th>\n",
       "      <th></th>\n",
       "      <th></th>\n",
       "      <th></th>\n",
       "      <th></th>\n",
       "      <th></th>\n",
       "      <th></th>\n",
       "      <th></th>\n",
       "      <th></th>\n",
       "      <th></th>\n",
       "      <th></th>\n",
       "      <th></th>\n",
       "      <th></th>\n",
       "      <th></th>\n",
       "    </tr>\n",
       "  </thead>\n",
       "  <tbody>\n",
       "    <tr>\n",
       "      <th>1</th>\n",
       "      <td>A Dijiang</td>\n",
       "      <td>M</td>\n",
       "      <td>24.0</td>\n",
       "      <td>180.0</td>\n",
       "      <td>80.0</td>\n",
       "      <td>China</td>\n",
       "      <td>CHN</td>\n",
       "      <td>1992 Summer</td>\n",
       "      <td>1992</td>\n",
       "      <td>Summer</td>\n",
       "      <td>Barcelona</td>\n",
       "      <td>Basketball</td>\n",
       "      <td>Basketball Men's Basketball</td>\n",
       "      <td>NaN</td>\n",
       "    </tr>\n",
       "    <tr>\n",
       "      <th>2</th>\n",
       "      <td>A Lamusi</td>\n",
       "      <td>M</td>\n",
       "      <td>23.0</td>\n",
       "      <td>170.0</td>\n",
       "      <td>60.0</td>\n",
       "      <td>China</td>\n",
       "      <td>CHN</td>\n",
       "      <td>2012 Summer</td>\n",
       "      <td>2012</td>\n",
       "      <td>Summer</td>\n",
       "      <td>London</td>\n",
       "      <td>Judo</td>\n",
       "      <td>Judo Men's Extra-Lightweight</td>\n",
       "      <td>NaN</td>\n",
       "    </tr>\n",
       "    <tr>\n",
       "      <th>3</th>\n",
       "      <td>Gunnar Nielsen Aaby</td>\n",
       "      <td>M</td>\n",
       "      <td>24.0</td>\n",
       "      <td>NaN</td>\n",
       "      <td>NaN</td>\n",
       "      <td>Denmark</td>\n",
       "      <td>DEN</td>\n",
       "      <td>1920 Summer</td>\n",
       "      <td>1920</td>\n",
       "      <td>Summer</td>\n",
       "      <td>Antwerpen</td>\n",
       "      <td>Football</td>\n",
       "      <td>Football Men's Football</td>\n",
       "      <td>NaN</td>\n",
       "    </tr>\n",
       "    <tr>\n",
       "      <th>4</th>\n",
       "      <td>Edgar Lindenau Aabye</td>\n",
       "      <td>M</td>\n",
       "      <td>34.0</td>\n",
       "      <td>NaN</td>\n",
       "      <td>NaN</td>\n",
       "      <td>Denmark/Sweden</td>\n",
       "      <td>DEN</td>\n",
       "      <td>1900 Summer</td>\n",
       "      <td>1900</td>\n",
       "      <td>Summer</td>\n",
       "      <td>Paris</td>\n",
       "      <td>Tug-Of-War</td>\n",
       "      <td>Tug-Of-War Men's Tug-Of-War</td>\n",
       "      <td>Gold</td>\n",
       "    </tr>\n",
       "    <tr>\n",
       "      <th>5</th>\n",
       "      <td>Christine Jacoba Aaftink</td>\n",
       "      <td>F</td>\n",
       "      <td>21.0</td>\n",
       "      <td>185.0</td>\n",
       "      <td>82.0</td>\n",
       "      <td>Netherlands</td>\n",
       "      <td>NED</td>\n",
       "      <td>1988 Winter</td>\n",
       "      <td>1988</td>\n",
       "      <td>Winter</td>\n",
       "      <td>Calgary</td>\n",
       "      <td>Speed Skating</td>\n",
       "      <td>Speed Skating Women's 500 metres</td>\n",
       "      <td>NaN</td>\n",
       "    </tr>\n",
       "  </tbody>\n",
       "</table>\n",
       "</div>"
      ],
      "text/plain": [
       "                        Name Sex   Age  Height  Weight            Team  NOC  \\\n",
       "ID                                                                            \n",
       "1                  A Dijiang   M  24.0   180.0    80.0           China  CHN   \n",
       "2                   A Lamusi   M  23.0   170.0    60.0           China  CHN   \n",
       "3        Gunnar Nielsen Aaby   M  24.0     NaN     NaN         Denmark  DEN   \n",
       "4       Edgar Lindenau Aabye   M  34.0     NaN     NaN  Denmark/Sweden  DEN   \n",
       "5   Christine Jacoba Aaftink   F  21.0   185.0    82.0     Netherlands  NED   \n",
       "\n",
       "          Games  Year  Season       City          Sport  \\\n",
       "ID                                                        \n",
       "1   1992 Summer  1992  Summer  Barcelona     Basketball   \n",
       "2   2012 Summer  2012  Summer     London           Judo   \n",
       "3   1920 Summer  1920  Summer  Antwerpen       Football   \n",
       "4   1900 Summer  1900  Summer      Paris     Tug-Of-War   \n",
       "5   1988 Winter  1988  Winter    Calgary  Speed Skating   \n",
       "\n",
       "                               Event Medal  \n",
       "ID                                          \n",
       "1        Basketball Men's Basketball   NaN  \n",
       "2       Judo Men's Extra-Lightweight   NaN  \n",
       "3            Football Men's Football   NaN  \n",
       "4        Tug-Of-War Men's Tug-Of-War  Gold  \n",
       "5   Speed Skating Women's 500 metres   NaN  "
      ]
     },
     "execution_count": 1,
     "metadata": {},
     "output_type": "execute_result"
    }
   ],
   "source": [
    "import pandas as pd\n",
    "\n",
    "df = pd.read_csv(filepath_or_buffer='athlete_events.csv', index_col=0)\n",
    "df.head()"
   ]
  },
  {
   "cell_type": "markdown",
   "id": "ef6e1cfd-1b8f-4ea1-a074-34ae8745cc5e",
   "metadata": {},
   "source": [
    "# Exploratory Data Analysis (EDA)\n",
    "\n",
    "> - Think about 10 aggregated information you'd like to have\n",
    ">\n",
    "> - For exapmle, let's begin with 3 ↓\n"
   ]
  },
  {
   "cell_type": "markdown",
   "id": "66ef601f-ecf2-4d55-b064-f840b3563c2d",
   "metadata": {},
   "source": [
    "## How many Medals Spain has won in total?"
   ]
  },
  {
   "cell_type": "markdown",
   "id": "d52b4c04-3146-4779-82b9-0a6ba22955a8",
   "metadata": {},
   "source": [
    "### Create a `mask` to filter"
   ]
  },
  {
   "cell_type": "code",
   "execution_count": 2,
   "id": "a6e26316-889c-4111-a466-b024e45e7864",
   "metadata": {},
   "outputs": [
    {
     "data": {
      "text/plain": [
       "ID\n",
       "1         False\n",
       "2         False\n",
       "3         False\n",
       "4         False\n",
       "5         False\n",
       "          ...  \n",
       "135569    False\n",
       "135570    False\n",
       "135570    False\n",
       "135571    False\n",
       "135571    False\n",
       "Name: Team, Length: 271116, dtype: bool"
      ]
     },
     "execution_count": 2,
     "metadata": {},
     "output_type": "execute_result"
    }
   ],
   "source": [
    "df.Team == 'Spain'"
   ]
  },
  {
   "cell_type": "markdown",
   "id": "d3a95fde-a5cd-4358-a010-d1ee4948a04c",
   "metadata": {},
   "source": [
    "### Store it into a variable"
   ]
  },
  {
   "cell_type": "code",
   "execution_count": 3,
   "id": "6b25786f-588b-41ef-b268-2dbcef726d08",
   "metadata": {},
   "outputs": [],
   "source": [
    "mask = df.Team == 'Spain'"
   ]
  },
  {
   "cell_type": "code",
   "execution_count": 4,
   "id": "3edc66f6-fa06-4e1a-a45a-50bc89709f0a",
   "metadata": {},
   "outputs": [
    {
     "data": {
      "text/plain": [
       "ID\n",
       "1         False\n",
       "2         False\n",
       "3         False\n",
       "4         False\n",
       "5         False\n",
       "          ...  \n",
       "135569    False\n",
       "135570    False\n",
       "135570    False\n",
       "135571    False\n",
       "135571    False\n",
       "Name: Team, Length: 271116, dtype: bool"
      ]
     },
     "execution_count": 4,
     "metadata": {},
     "output_type": "execute_result"
    }
   ],
   "source": [
    "mask"
   ]
  },
  {
   "cell_type": "markdown",
   "id": "94a97ed4-ff05-44c1-9454-6d3563fd7f95",
   "metadata": {},
   "source": [
    "### Apply it to the `DataFrame`"
   ]
  },
  {
   "cell_type": "markdown",
   "id": "7541d49a-dc3f-43dc-ad3f-6a6a8a3493cb",
   "metadata": {},
   "source": [
    "> - `loc[rows, columns` is used to filter"
   ]
  },
  {
   "cell_type": "code",
   "execution_count": 5,
   "id": "02ba50ed-5c59-4974-a8b0-1434b9f8c2af",
   "metadata": {},
   "outputs": [
    {
     "data": {
      "text/plain": [
       "ID\n",
       "51        NaN\n",
       "51        NaN\n",
       "51        NaN\n",
       "51        NaN\n",
       "51        NaN\n",
       "         ... \n",
       "135443    NaN\n",
       "135444    NaN\n",
       "135444    NaN\n",
       "135471    NaN\n",
       "135471    NaN\n",
       "Name: Medal, Length: 5224, dtype: object"
      ]
     },
     "execution_count": 5,
     "metadata": {},
     "output_type": "execute_result"
    }
   ],
   "source": [
    "df.loc[mask,'Medal']"
   ]
  },
  {
   "cell_type": "markdown",
   "id": "0a2d12a0-263a-44fc-8535-55bbc74cbd22",
   "metadata": {},
   "source": [
    "### Use `value_counts()` to see Medal Frequency by category"
   ]
  },
  {
   "cell_type": "code",
   "execution_count": 6,
   "id": "bc115ab4-0d91-48ea-a1ea-782d4e42fce8",
   "metadata": {},
   "outputs": [
    {
     "data": {
      "text/plain": [
       "Silver    239\n",
       "Bronze    136\n",
       "Gold      108\n",
       "Name: Medal, dtype: int64"
      ]
     },
     "execution_count": 6,
     "metadata": {},
     "output_type": "execute_result"
    }
   ],
   "source": [
    "df.loc[mask,'Medal'].value_counts()"
   ]
  },
  {
   "cell_type": "markdown",
   "id": "f4e6ab56-56e1-4bf7-9136-cdcd1a9eb682",
   "metadata": {},
   "source": [
    "### `sum()` the numbers"
   ]
  },
  {
   "cell_type": "markdown",
   "id": "545e7a74-c07e-48ec-b77f-4b81a3d4dca2",
   "metadata": {},
   "source": [
    "> - To see how many medals has Spain won in total"
   ]
  },
  {
   "cell_type": "code",
   "execution_count": 7,
   "id": "c88f93f3-3c38-40c6-8984-5f8630aa6c4b",
   "metadata": {},
   "outputs": [
    {
     "data": {
      "text/plain": [
       "483"
      ]
     },
     "execution_count": 7,
     "metadata": {},
     "output_type": "execute_result"
    }
   ],
   "source": [
    "df.loc[mask,'Medal'].value_counts().sum()"
   ]
  },
  {
   "cell_type": "markdown",
   "id": "7e65a127-e2dd-4df5-a9f1-0537f9bcd254",
   "metadata": {},
   "source": [
    "## Which is the sport where Spain has won more Medals?"
   ]
  },
  {
   "cell_type": "code",
   "execution_count": null,
   "id": "b5becb5a",
   "metadata": {},
   "outputs": [
    {
     "data": {
      "text/plain": [
       "Sport                  Medal \n",
       "Handball               Bronze    60\n",
       "Basketball             Silver    48\n",
       "Hockey                 Silver    48\n",
       "Football               Silver    35\n",
       "Sailing                Gold      24\n",
       "Water Polo             Silver    24\n",
       "Football               Gold      17\n",
       "Hockey                 Gold      15\n",
       "                       Bronze    14\n",
       "Basketball             Bronze    12\n",
       "Water Polo             Gold      12\n",
       "Synchronized Swimming  Silver    12\n",
       "Canoeing               Silver    11\n",
       "Sailing                Silver     8\n",
       "Cycling                Bronze     8\n",
       "Synchronized Swimming  Bronze     8\n",
       "Equestrianism          Silver     7\n",
       "Canoeing               Gold       7\n",
       "Tennis                 Silver     7\n",
       "Athletics              Bronze     6\n",
       "Rhythmic Gymnastics    Silver     6\n",
       "Canoeing               Bronze     6\n",
       "Cycling                Silver     6\n",
       "Rhythmic Gymnastics    Gold       6\n",
       "Polo                   Silver     5\n",
       "Athletics              Silver     5\n",
       "Tennis                 Bronze     5\n",
       "Cycling                Gold       5\n",
       "Taekwondo              Silver     4\n",
       "Swimming               Bronze     4\n",
       "Archery                Gold       3\n",
       "Judo                   Gold       3\n",
       "Equestrianism          Gold       3\n",
       "Athletics              Gold       3\n",
       "Shooting               Silver     2\n",
       "Rowing                 Silver     2\n",
       "Swimming               Gold       2\n",
       "                       Silver     2\n",
       "Boxing                 Silver     2\n",
       "Judo                   Bronze     2\n",
       "Beach Volleyball       Silver     2\n",
       "Basque Pelota          Gold       2\n",
       "Gymnastics             Gold       2\n",
       "Boxing                 Bronze     2\n",
       "Taekwondo              Gold       1\n",
       "Triathlon              Silver     1\n",
       "Taekwondo              Bronze     1\n",
       "Weightlifting          Bronze     1\n",
       "Tennis                 Gold       1\n",
       "Alpine Skiing          Bronze     1\n",
       "Shooting               Bronze     1\n",
       "Sailing                Bronze     1\n",
       "Judo                   Silver     1\n",
       "Alpine Skiing          Gold       1\n",
       "Gymnastics             Silver     1\n",
       "                       Bronze     1\n",
       "Fencing                Bronze     1\n",
       "Equestrianism          Bronze     1\n",
       "Badminton              Gold       1\n",
       "Wrestling              Bronze     1\n",
       "dtype: int64"
      ]
     },
     "execution_count": 8,
     "metadata": {},
     "output_type": "execute_result"
    }
   ],
   "source": [
    "df.loc[mask, ['Sport', 'Medal']].value_counts()"
   ]
  },
  {
   "cell_type": "code",
   "execution_count": 10,
   "id": "a21457f7-b6d5-4229-ac11-ba784ff91d11",
   "metadata": {},
   "outputs": [
    {
     "data": {
      "text/plain": [
       "Sport                  Medal \n",
       "Alpine Skiing          Bronze     1\n",
       "                       Gold       1\n",
       "Archery                Gold       3\n",
       "Athletics              Bronze     6\n",
       "                       Gold       3\n",
       "                       Silver     5\n",
       "Badminton              Gold       1\n",
       "Basketball             Bronze    12\n",
       "                       Silver    48\n",
       "Basque Pelota          Gold       2\n",
       "Beach Volleyball       Silver     2\n",
       "Boxing                 Bronze     2\n",
       "                       Silver     2\n",
       "Canoeing               Bronze     6\n",
       "                       Gold       7\n",
       "                       Silver    11\n",
       "Cycling                Bronze     8\n",
       "                       Gold       5\n",
       "                       Silver     6\n",
       "Equestrianism          Bronze     1\n",
       "                       Gold       3\n",
       "                       Silver     7\n",
       "Fencing                Bronze     1\n",
       "Football               Gold      17\n",
       "                       Silver    35\n",
       "Gymnastics             Bronze     1\n",
       "                       Gold       2\n",
       "                       Silver     1\n",
       "Handball               Bronze    60\n",
       "Hockey                 Bronze    14\n",
       "                       Gold      15\n",
       "                       Silver    48\n",
       "Judo                   Bronze     2\n",
       "                       Gold       3\n",
       "                       Silver     1\n",
       "Polo                   Silver     5\n",
       "Rhythmic Gymnastics    Gold       6\n",
       "                       Silver     6\n",
       "Rowing                 Silver     2\n",
       "Sailing                Bronze     1\n",
       "                       Gold      24\n",
       "                       Silver     8\n",
       "Shooting               Bronze     1\n",
       "                       Silver     2\n",
       "Swimming               Bronze     4\n",
       "                       Gold       2\n",
       "                       Silver     2\n",
       "Synchronized Swimming  Bronze     8\n",
       "                       Silver    12\n",
       "Taekwondo              Bronze     1\n",
       "                       Gold       1\n",
       "                       Silver     4\n",
       "Tennis                 Bronze     5\n",
       "                       Gold       1\n",
       "                       Silver     7\n",
       "Triathlon              Silver     1\n",
       "Water Polo             Gold      12\n",
       "                       Silver    24\n",
       "Weightlifting          Bronze     1\n",
       "Wrestling              Bronze     1\n",
       "dtype: int64"
      ]
     },
     "execution_count": 10,
     "metadata": {},
     "output_type": "execute_result"
    }
   ],
   "source": [
    "df[mask].groupby(by=['Sport', 'Medal']).size()"
   ]
  },
  {
   "cell_type": "code",
   "execution_count": 11,
   "id": "ce10e708-9b74-4b6b-ac1e-e8d22cdb505b",
   "metadata": {},
   "outputs": [
    {
     "data": {
      "text/plain": [
       "Sport                  Medal \n",
       "Alpine Skiing          Bronze     1\n",
       "Triathlon              Silver     1\n",
       "Tennis                 Gold       1\n",
       "Taekwondo              Gold       1\n",
       "                       Bronze     1\n",
       "Shooting               Bronze     1\n",
       "Sailing                Bronze     1\n",
       "Judo                   Silver     1\n",
       "Weightlifting          Bronze     1\n",
       "Gymnastics             Silver     1\n",
       "                       Bronze     1\n",
       "Fencing                Bronze     1\n",
       "Equestrianism          Bronze     1\n",
       "Wrestling              Bronze     1\n",
       "Alpine Skiing          Gold       1\n",
       "Badminton              Gold       1\n",
       "Basque Pelota          Gold       2\n",
       "Swimming               Silver     2\n",
       "Shooting               Silver     2\n",
       "Gymnastics             Gold       2\n",
       "Beach Volleyball       Silver     2\n",
       "Swimming               Gold       2\n",
       "Judo                   Bronze     2\n",
       "Boxing                 Silver     2\n",
       "Rowing                 Silver     2\n",
       "Boxing                 Bronze     2\n",
       "Archery                Gold       3\n",
       "Equestrianism          Gold       3\n",
       "Judo                   Gold       3\n",
       "Athletics              Gold       3\n",
       "Taekwondo              Silver     4\n",
       "Swimming               Bronze     4\n",
       "Polo                   Silver     5\n",
       "Athletics              Silver     5\n",
       "Tennis                 Bronze     5\n",
       "Cycling                Gold       5\n",
       "                       Silver     6\n",
       "Canoeing               Bronze     6\n",
       "Rhythmic Gymnastics    Silver     6\n",
       "Athletics              Bronze     6\n",
       "Rhythmic Gymnastics    Gold       6\n",
       "Tennis                 Silver     7\n",
       "Canoeing               Gold       7\n",
       "Equestrianism          Silver     7\n",
       "Synchronized Swimming  Bronze     8\n",
       "Sailing                Silver     8\n",
       "Cycling                Bronze     8\n",
       "Canoeing               Silver    11\n",
       "Basketball             Bronze    12\n",
       "Synchronized Swimming  Silver    12\n",
       "Water Polo             Gold      12\n",
       "Hockey                 Bronze    14\n",
       "                       Gold      15\n",
       "Football               Gold      17\n",
       "Water Polo             Silver    24\n",
       "Sailing                Gold      24\n",
       "Football               Silver    35\n",
       "Basketball             Silver    48\n",
       "Hockey                 Silver    48\n",
       "Handball               Bronze    60\n",
       "dtype: int64"
      ]
     },
     "execution_count": 11,
     "metadata": {},
     "output_type": "execute_result"
    }
   ],
   "source": [
    "df[mask].groupby(by=['Sport', 'Medal']).size().sort_values()"
   ]
  },
  {
   "cell_type": "code",
   "execution_count": 12,
   "id": "cc498e23-0323-41c0-98a9-fb0e2a584673",
   "metadata": {},
   "outputs": [
    {
     "data": {
      "text/plain": [
       "Sport                  Medal \n",
       "Handball               Bronze    60\n",
       "Basketball             Silver    48\n",
       "Hockey                 Silver    48\n",
       "Football               Silver    35\n",
       "Sailing                Gold      24\n",
       "Water Polo             Silver    24\n",
       "Football               Gold      17\n",
       "Hockey                 Gold      15\n",
       "                       Bronze    14\n",
       "Basketball             Bronze    12\n",
       "Water Polo             Gold      12\n",
       "Synchronized Swimming  Silver    12\n",
       "Canoeing               Silver    11\n",
       "Sailing                Silver     8\n",
       "Cycling                Bronze     8\n",
       "Synchronized Swimming  Bronze     8\n",
       "Equestrianism          Silver     7\n",
       "Canoeing               Gold       7\n",
       "Tennis                 Silver     7\n",
       "Athletics              Bronze     6\n",
       "Rhythmic Gymnastics    Silver     6\n",
       "Canoeing               Bronze     6\n",
       "Cycling                Silver     6\n",
       "Rhythmic Gymnastics    Gold       6\n",
       "Polo                   Silver     5\n",
       "Athletics              Silver     5\n",
       "Tennis                 Bronze     5\n",
       "Cycling                Gold       5\n",
       "Taekwondo              Silver     4\n",
       "Swimming               Bronze     4\n",
       "Archery                Gold       3\n",
       "Judo                   Gold       3\n",
       "Equestrianism          Gold       3\n",
       "Athletics              Gold       3\n",
       "Shooting               Silver     2\n",
       "Rowing                 Silver     2\n",
       "Swimming               Gold       2\n",
       "                       Silver     2\n",
       "Boxing                 Silver     2\n",
       "Judo                   Bronze     2\n",
       "Beach Volleyball       Silver     2\n",
       "Basque Pelota          Gold       2\n",
       "Gymnastics             Gold       2\n",
       "Boxing                 Bronze     2\n",
       "Taekwondo              Gold       1\n",
       "Triathlon              Silver     1\n",
       "Taekwondo              Bronze     1\n",
       "Weightlifting          Bronze     1\n",
       "Tennis                 Gold       1\n",
       "Alpine Skiing          Bronze     1\n",
       "Shooting               Bronze     1\n",
       "Sailing                Bronze     1\n",
       "Judo                   Silver     1\n",
       "Alpine Skiing          Gold       1\n",
       "Gymnastics             Silver     1\n",
       "                       Bronze     1\n",
       "Fencing                Bronze     1\n",
       "Equestrianism          Bronze     1\n",
       "Badminton              Gold       1\n",
       "Wrestling              Bronze     1\n",
       "dtype: int64"
      ]
     },
     "execution_count": 12,
     "metadata": {},
     "output_type": "execute_result"
    }
   ],
   "source": [
    "df[mask].groupby(by=['Sport', 'Medal']).size().sort_values(ascending=False)"
   ]
  },
  {
   "cell_type": "markdown",
   "id": "6968eb9f-e6e2-4ad4-a6e7-6b9f1225895b",
   "metadata": {},
   "source": [
    "## Spain's growth in Medals over the Years"
   ]
  },
  {
   "cell_type": "code",
   "execution_count": null,
   "id": "14a7307e-1aac-4a69-b122-313666e9ab13",
   "metadata": {},
   "outputs": [],
   "source": []
  },
  {
   "cell_type": "markdown",
   "id": "96f83a54-5716-4eed-a360-01441e3ebe6f",
   "metadata": {},
   "source": [
    "> - Now it's time for you to think about **new insight from data**\n",
    "> - Which **questions** you may **create about the Olympic Games**?\n",
    "> - Can you answer them to yourself with `pandas`?\n",
    "> - Keep it going ↓ 🔥"
   ]
  },
  {
   "cell_type": "markdown",
   "id": "38aaf416-e395-4b17-b71f-75f1b834726a",
   "metadata": {},
   "source": [
    "## **4**"
   ]
  },
  {
   "cell_type": "code",
   "execution_count": null,
   "id": "d864236e-cc36-4174-86f6-b47f4c82b8e4",
   "metadata": {},
   "outputs": [],
   "source": []
  },
  {
   "cell_type": "markdown",
   "id": "6a51ff1f-42b5-49b8-be5a-2a19bdce7117",
   "metadata": {},
   "source": [
    "## **5**"
   ]
  },
  {
   "cell_type": "code",
   "execution_count": null,
   "id": "64520cab-8b1f-4e90-abc9-54a9a4495d1d",
   "metadata": {},
   "outputs": [],
   "source": []
  },
  {
   "cell_type": "markdown",
   "id": "76dc2a4a-3652-4b71-bbb1-66c7faf8a066",
   "metadata": {},
   "source": [
    "## **6**"
   ]
  },
  {
   "cell_type": "code",
   "execution_count": null,
   "id": "62d79f42-eec0-4685-a51d-0ea0485c573b",
   "metadata": {},
   "outputs": [],
   "source": []
  },
  {
   "cell_type": "markdown",
   "id": "a789ca89-cccf-45e1-b66b-34f602004fa4",
   "metadata": {},
   "source": [
    "## **7**"
   ]
  },
  {
   "cell_type": "code",
   "execution_count": null,
   "id": "80342fc8-3c18-429e-8cc4-54f03f80d34d",
   "metadata": {},
   "outputs": [],
   "source": []
  },
  {
   "cell_type": "markdown",
   "id": "770f7bd1-aa65-4817-8824-e0e9c4472fb9",
   "metadata": {},
   "source": [
    "## **8**"
   ]
  },
  {
   "cell_type": "code",
   "execution_count": null,
   "id": "3ff24edf-3850-4635-a0e4-48554bb8459d",
   "metadata": {},
   "outputs": [],
   "source": []
  },
  {
   "cell_type": "markdown",
   "id": "2d607615-7e14-477e-a2e7-cb42585ffe47",
   "metadata": {},
   "source": [
    "## **9**"
   ]
  },
  {
   "cell_type": "code",
   "execution_count": null,
   "id": "0c2c4652-fd3a-47d4-86ff-f391e7a94155",
   "metadata": {},
   "outputs": [],
   "source": []
  },
  {
   "cell_type": "markdown",
   "id": "a03d2941-17a9-4f03-9433-2c0cd85444cb",
   "metadata": {},
   "source": [
    "## **10**"
   ]
  },
  {
   "cell_type": "code",
   "execution_count": null,
   "id": "72522cd7-ce04-46a7-9879-987832359fd9",
   "metadata": {},
   "outputs": [],
   "source": []
  },
  {
   "cell_type": "markdown",
   "id": "94ce41c5-f660-4185-b76f-a5c78c9c7ab7",
   "metadata": {},
   "source": [
    "# Copy Paste 5 results from above and make a Plot for each"
   ]
  },
  {
   "cell_type": "markdown",
   "id": "541ff2f6-ba61-4dfb-b686-60c410ce79a7",
   "metadata": {},
   "source": [
    "## How many Medals Spain has won in total?"
   ]
  },
  {
   "cell_type": "markdown",
   "id": "daa3eaa1-61bc-4089-b9d3-de6db9ba2e86",
   "metadata": {},
   "source": [
    "> - You may do a `barplot` to better visualize the **medal frequency by type**"
   ]
  },
  {
   "cell_type": "code",
   "execution_count": 19,
   "id": "dfc4ec38-6495-4673-9530-41d4e84412eb",
   "metadata": {},
   "outputs": [
    {
     "data": {
      "image/png": "[encoded data removed]",
      "text/plain": [
       "<Figure size 432x288 with 1 Axes>"
      ]
     },
     "metadata": {
      "needs_background": "light"
     },
     "output_type": "display_data"
    }
   ],
   "source": [
    "df.loc[mask,'Medal'].value_counts().plot(kind='bar');"
   ]
  },
  {
   "cell_type": "markdown",
   "id": "389cd701-8b48-459b-9c46-44f99e99361b",
   "metadata": {},
   "source": [
    "> - Or a `pie()` plot"
   ]
  },
  {
   "cell_type": "code",
   "execution_count": 25,
   "id": "f4b0d971-5000-4aa3-9963-e1c07dec76bc",
   "metadata": {},
   "outputs": [
    {
     "data": {
      "text/plain": [
       "Silver    239\n",
       "Bronze    136\n",
       "Gold      108\n",
       "Name: Medal, dtype: int64"
      ]
     },
     "execution_count": 25,
     "metadata": {},
     "output_type": "execute_result"
    }
   ],
   "source": [
    "freq = df.loc[mask,'Medal'].value_counts()\n",
    "freq"
   ]
  },
  {
   "cell_type": "code",
   "execution_count": 26,
   "id": "105cb2be-8c9b-4901-9b3c-dd3f7e564e05",
   "metadata": {},
   "outputs": [
    {
     "data": {
      "text/plain": [
       "Index(['Silver', 'Bronze', 'Gold'], dtype='object')"
      ]
     },
     "execution_count": 26,
     "metadata": {},
     "output_type": "execute_result"
    }
   ],
   "source": [
    "freq.index"
   ]
  },
  {
   "cell_type": "code",
   "execution_count": 27,
   "id": "ec7ba434-ef97-4009-8045-1bd80f967922",
   "metadata": {},
   "outputs": [
    {
     "data": {
      "text/plain": [
       "array([239, 136, 108])"
      ]
     },
     "execution_count": 27,
     "metadata": {},
     "output_type": "execute_result"
    }
   ],
   "source": [
    "freq.values"
   ]
  },
  {
   "cell_type": "code",
   "execution_count": 41,
   "id": "d7e485f0-7b2a-4640-93dc-8c2a79507773",
   "metadata": {},
   "outputs": [
    {
     "data": {
      "image/png": "[encoded data removed]",
      "text/plain": [
       "<Figure size 432x288 with 1 Axes>"
      ]
     },
     "metadata": {},
     "output_type": "display_data"
    }
   ],
   "source": [
    "import matplotlib.pyplot as plt\n",
    "\n",
    "plt.pie(x=freq.values, labels=freq.index);"
   ]
  },
  {
   "cell_type": "code",
   "execution_count": 40,
   "id": "54d986a1-5f50-4f37-be1f-e04c60d4bd7c",
   "metadata": {},
   "outputs": [
    {
     "data": {
      "application/vnd.plotly.v1+json": {
       "config": {
        "plotlyServerURL": "https://plotly.com"
       },
       "data": [
        {
         "domain": {
          "x": [
           0,
           1
          ],
          "y": [
           0,
           1
          ]
         },
         "hovertemplate": "label=%{label}<br>value=%{value}<extra></extra>",
         "labels": [
          "Silver",
          "Bronze",
          "Gold"
         ],
         "legendgroup": "",
         "name": "",
         "showlegend": true,
         "type": "pie",
         "values": [
          239,
          136,
          108
         ]
        }
       ],
       "layout": {
        "autosize": true,
        "legend": {
         "tracegroupgap": 0
        },
        "margin": {
         "t": 60
        },
        "template": {
         "data": {
          "bar": [
           {
            "error_x": {
             "color": "#2a3f5f"
            },
            "error_y": {
             "color": "#2a3f5f"
            },
            "marker": {
             "line": {
              "color": "#E5ECF6",
              "width": 0.5
             },
             "pattern": {
              "fillmode": "overlay",
              "size": 10,
              "solidity": 0.2
             }
            },
            "type": "bar"
           }
          ],
          "barpolar": [
           {
            "marker": {
             "line": {
              "color": "#E5ECF6",
              "width": 0.5
             },
             "pattern": {
              "fillmode": "overlay",
              "size": 10,
              "solidity": 0.2
             }
            },
            "type": "barpolar"
           }
          ],
          "carpet": [
           {
            "aaxis": {
             "endlinecolor": "#2a3f5f",
             "gridcolor": "white",
             "linecolor": "white",
             "minorgridcolor": "white",
             "startlinecolor": "#2a3f5f"
            },
            "baxis": {
             "endlinecolor": "#2a3f5f",
             "gridcolor": "white",
             "linecolor": "white",
             "minorgridcolor": "white",
             "startlinecolor": "#2a3f5f"
            },
            "type": "carpet"
           }
          ],
          "choropleth": [
           {
            "colorbar": {
             "outlinewidth": 0,
             "ticks": ""
            },
            "type": "choropleth"
           }
          ],
          "contour": [
           {
            "colorbar": {
             "outlinewidth": 0,
             "ticks": ""
            },
            "colorscale": [
             [
              0,
              "#0d0887"
             ],
             [
              0.1111111111111111,
              "#46039f"
             ],
             [
              0.2222222222222222,
              "#7201a8"
             ],
             [
              0.3333333333333333,
              "#9c179e"
             ],
             [
              0.4444444444444444,
              "#bd3786"
             ],
             [
              0.5555555555555556,
              "#d8576b"
             ],
             [
              0.6666666666666666,
              "#ed7953"
             ],
             [
              0.7777777777777778,
              "#fb9f3a"
             ],
             [
              0.8888888888888888,
              "#fdca26"
             ],
             [
              1,
              "#f0f921"
             ]
            ],
            "type": "contour"
           }
          ],
          "contourcarpet": [
           {
            "colorbar": {
             "outlinewidth": 0,
             "ticks": ""
            },
            "type": "contourcarpet"
           }
          ],
          "heatmap": [
           {
            "colorbar": {
             "outlinewidth": 0,
             "ticks": ""
            },
            "colorscale": [
             [
              0,
              "#0d0887"
             ],
             [
              0.1111111111111111,
              "#46039f"
             ],
             [
              0.2222222222222222,
              "#7201a8"
             ],
             [
              0.3333333333333333,
              "#9c179e"
             ],
             [
              0.4444444444444444,
              "#bd3786"
             ],
             [
              0.5555555555555556,
              "#d8576b"
             ],
             [
              0.6666666666666666,
              "#ed7953"
             ],
             [
              0.7777777777777778,
              "#fb9f3a"
             ],
             [
              0.8888888888888888,
              "#fdca26"
             ],
             [
              1,
              "#f0f921"
             ]
            ],
            "type": "heatmap"
           }
          ],
          "heatmapgl": [
           {
            "colorbar": {
             "outlinewidth": 0,
             "ticks": ""
            },
            "colorscale": [
             [
              0,
              "#0d0887"
             ],
             [
              0.1111111111111111,
              "#46039f"
             ],
             [
              0.2222222222222222,
              "#7201a8"
             ],
             [
              0.3333333333333333,
              "#9c179e"
             ],
             [
              0.4444444444444444,
              "#bd3786"
             ],
             [
              0.5555555555555556,
              "#d8576b"
             ],
             [
              0.6666666666666666,
              "#ed7953"
             ],
             [
              0.7777777777777778,
              "#fb9f3a"
             ],
             [
              0.8888888888888888,
              "#fdca26"
             ],
             [
              1,
              "#f0f921"
             ]
            ],
            "type": "heatmapgl"
           }
          ],
          "histogram": [
           {
            "marker": {
             "pattern": {
              "fillmode": "overlay",
              "size": 10,
              "solidity": 0.2
             }
            },
            "type": "histogram"
           }
          ],
          "histogram2d": [
           {
            "colorbar": {
             "outlinewidth": 0,
             "ticks": ""
            },
            "colorscale": [
             [
              0,
              "#0d0887"
             ],
             [
              0.1111111111111111,
              "#46039f"
             ],
             [
              0.2222222222222222,
              "#7201a8"
             ],
             [
              0.3333333333333333,
              "#9c179e"
             ],
             [
              0.4444444444444444,
              "#bd3786"
             ],
             [
              0.5555555555555556,
              "#d8576b"
             ],
             [
              0.6666666666666666,
              "#ed7953"
             ],
             [
              0.7777777777777778,
              "#fb9f3a"
             ],
             [
              0.8888888888888888,
              "#fdca26"
             ],
             [
              1,
              "#f0f921"
             ]
            ],
            "type": "histogram2d"
           }
          ],
          "histogram2dcontour": [
           {
            "colorbar": {
             "outlinewidth": 0,
             "ticks": ""
            },
            "colorscale": [
             [
              0,
              "#0d0887"
             ],
             [
              0.1111111111111111,
              "#46039f"
             ],
             [
              0.2222222222222222,
              "#7201a8"
             ],
             [
              0.3333333333333333,
              "#9c179e"
             ],
             [
              0.4444444444444444,
              "#bd3786"
             ],
             [
              0.5555555555555556,
              "#d8576b"
             ],
             [
              0.6666666666666666,
              "#ed7953"
             ],
             [
              0.7777777777777778,
              "#fb9f3a"
             ],
             [
              0.8888888888888888,
              "#fdca26"
             ],
             [
              1,
              "#f0f921"
             ]
            ],
            "type": "histogram2dcontour"
           }
          ],
          "mesh3d": [
           {
            "colorbar": {
             "outlinewidth": 0,
             "ticks": ""
            },
            "type": "mesh3d"
           }
          ],
          "parcoords": [
           {
            "line": {
             "colorbar": {
              "outlinewidth": 0,
              "ticks": ""
             }
            },
            "type": "parcoords"
           }
          ],
          "pie": [
           {
            "automargin": true,
            "type": "pie"
           }
          ],
          "scatter": [
           {
            "marker": {
             "colorbar": {
              "outlinewidth": 0,
              "ticks": ""
             }
            },
            "type": "scatter"
           }
          ],
          "scatter3d": [
           {
            "line": {
             "colorbar": {
              "outlinewidth": 0,
              "ticks": ""
             }
            },
            "marker": {
             "colorbar": {
              "outlinewidth": 0,
              "ticks": ""
             }
            },
            "type": "scatter3d"
           }
          ],
          "scattercarpet": [
           {
            "marker": {
             "colorbar": {
              "outlinewidth": 0,
              "ticks": ""
             }
            },
            "type": "scattercarpet"
           }
          ],
          "scattergeo": [
           {
            "marker": {
             "colorbar": {
              "outlinewidth": 0,
              "ticks": ""
             }
            },
            "type": "scattergeo"
           }
          ],
          "scattergl": [
           {
            "marker": {
             "colorbar": {
              "outlinewidth": 0,
              "ticks": ""
             }
            },
            "type": "scattergl"
           }
          ],
          "scattermapbox": [
           {
            "marker": {
             "colorbar": {
              "outlinewidth": 0,
              "ticks": ""
             }
            },
            "type": "scattermapbox"
           }
          ],
          "scatterpolar": [
           {
            "marker": {
             "colorbar": {
              "outlinewidth": 0,
              "ticks": ""
             }
            },
            "type": "scatterpolar"
           }
          ],
          "scatterpolargl": [
           {
            "marker": {
             "colorbar": {
              "outlinewidth": 0,
              "ticks": ""
             }
            },
            "type": "scatterpolargl"
           }
          ],
          "scatterternary": [
           {
            "marker": {
             "colorbar": {
              "outlinewidth": 0,
              "ticks": ""
             }
            },
            "type": "scatterternary"
           }
          ],
          "surface": [
           {
            "colorbar": {
             "outlinewidth": 0,
             "ticks": ""
            },
            "colorscale": [
             [
              0,
              "#0d0887"
             ],
             [
              0.1111111111111111,
              "#46039f"
             ],
             [
              0.2222222222222222,
              "#7201a8"
             ],
             [
              0.3333333333333333,
              "#9c179e"
             ],
             [
              0.4444444444444444,
              "#bd3786"
             ],
             [
              0.5555555555555556,
              "#d8576b"
             ],
             [
              0.6666666666666666,
              "#ed7953"
             ],
             [
              0.7777777777777778,
              "#fb9f3a"
             ],
             [
              0.8888888888888888,
              "#fdca26"
             ],
             [
              1,
              "#f0f921"
             ]
            ],
            "type": "surface"
           }
          ],
          "table": [
           {
            "cells": {
             "fill": {
              "color": "#EBF0F8"
             },
             "line": {
              "color": "white"
             }
            },
            "header": {
             "fill": {
              "color": "#C8D4E3"
             },
             "line": {
              "color": "white"
             }
            },
            "type": "table"
           }
          ]
         },
         "layout": {
          "annotationdefaults": {
           "arrowcolor": "#2a3f5f",
           "arrowhead": 0,
           "arrowwidth": 1
          },
          "autotypenumbers": "strict",
          "coloraxis": {
           "colorbar": {
            "outlinewidth": 0,
            "ticks": ""
           }
          },
          "colorscale": {
           "diverging": [
            [
             0,
             "#8e0152"
            ],
            [
             0.1,
             "#c51b7d"
            ],
            [
             0.2,
             "#de77ae"
            ],
            [
             0.3,
             "#f1b6da"
            ],
            [
             0.4,
             "#fde0ef"
            ],
            [
             0.5,
             "#f7f7f7"
            ],
            [
             0.6,
             "#e6f5d0"
            ],
            [
             0.7,
             "#b8e186"
            ],
            [
             0.8,
             "#7fbc41"
            ],
            [
             0.9,
             "#4d9221"
            ],
            [
             1,
             "#276419"
            ]
           ],
           "sequential": [
            [
             0,
             "#0d0887"
            ],
            [
             0.1111111111111111,
             "#46039f"
            ],
            [
             0.2222222222222222,
             "#7201a8"
            ],
            [
             0.3333333333333333,
             "#9c179e"
            ],
            [
             0.4444444444444444,
             "#bd3786"
            ],
            [
             0.5555555555555556,
             "#d8576b"
            ],
            [
             0.6666666666666666,
             "#ed7953"
            ],
            [
             0.7777777777777778,
             "#fb9f3a"
            ],
            [
             0.8888888888888888,
             "#fdca26"
            ],
            [
             1,
             "#f0f921"
            ]
           ],
           "sequentialminus": [
            [
             0,
             "#0d0887"
            ],
            [
             0.1111111111111111,
             "#46039f"
            ],
            [
             0.2222222222222222,
             "#7201a8"
            ],
            [
             0.3333333333333333,
             "#9c179e"
            ],
            [
             0.4444444444444444,
             "#bd3786"
            ],
            [
             0.5555555555555556,
             "#d8576b"
            ],
            [
             0.6666666666666666,
             "#ed7953"
            ],
            [
             0.7777777777777778,
             "#fb9f3a"
            ],
            [
             0.8888888888888888,
             "#fdca26"
            ],
            [
             1,
             "#f0f921"
            ]
           ]
          },
          "colorway": [
           "#636efa",
           "#EF553B",
           "#00cc96",
           "#ab63fa",
           "#FFA15A",
           "#19d3f3",
           "#FF6692",
           "#B6E880",
           "#FF97FF",
           "#FECB52"
          ],
          "font": {
           "color": "#2a3f5f"
          },
          "geo": {
           "bgcolor": "white",
           "lakecolor": "white",
           "landcolor": "#E5ECF6",
           "showlakes": true,
           "showland": true,
           "subunitcolor": "white"
          },
          "hoverlabel": {
           "align": "left"
          },
          "hovermode": "closest",
          "mapbox": {
           "style": "light"
          },
          "paper_bgcolor": "white",
          "plot_bgcolor": "#E5ECF6",
          "polar": {
           "angularaxis": {
            "gridcolor": "white",
            "linecolor": "white",
            "ticks": ""
           },
           "bgcolor": "#E5ECF6",
           "radialaxis": {
            "gridcolor": "white",
            "linecolor": "white",
            "ticks": ""
           }
          },
          "scene": {
           "xaxis": {
            "backgroundcolor": "#E5ECF6",
            "gridcolor": "white",
            "gridwidth": 2,
            "linecolor": "white",
            "showbackground": true,
            "ticks": "",
            "zerolinecolor": "white"
           },
           "yaxis": {
            "backgroundcolor": "#E5ECF6",
            "gridcolor": "white",
            "gridwidth": 2,
            "linecolor": "white",
            "showbackground": true,
            "ticks": "",
            "zerolinecolor": "white"
           },
           "zaxis": {
            "backgroundcolor": "#E5ECF6",
            "gridcolor": "white",
            "gridwidth": 2,
            "linecolor": "white",
            "showbackground": true,
            "ticks": "",
            "zerolinecolor": "white"
           }
          },
          "shapedefaults": {
           "line": {
            "color": "#2a3f5f"
           }
          },
          "ternary": {
           "aaxis": {
            "gridcolor": "white",
            "linecolor": "white",
            "ticks": ""
           },
           "baxis": {
            "gridcolor": "white",
            "linecolor": "white",
            "ticks": ""
           },
           "bgcolor": "#E5ECF6",
           "caxis": {
            "gridcolor": "white",
            "linecolor": "white",
            "ticks": ""
           }
          },
          "title": {
           "x": 0.05
          },
          "xaxis": {
           "automargin": true,
           "gridcolor": "white",
           "linecolor": "white",
           "ticks": "",
           "title": {
            "standoff": 15
           },
           "zerolinecolor": "white",
           "zerolinewidth": 2
          },
          "yaxis": {
           "automargin": true,
           "gridcolor": "white",
           "linecolor": "white",
           "ticks": "",
           "title": {
            "standoff": 15
           },
           "zerolinecolor": "white",
           "zerolinewidth": 2
          }
         }
        }
       }
      },
      "image/png": "[encoded data removed]",
      "text/html": [
       "<div>                            <div id=\"e169c531-9193-48b0-9c90-c94866871971\" class=\"plotly-graph-div\" style=\"height:525px; width:100%;\"></div>            <script type=\"text/javascript\">                require([\"plotly\"], function(Plotly) {                    window.PLOTLYENV=window.PLOTLYENV || {};                                    if (document.getElementById(\"e169c531-9193-48b0-9c90-c94866871971\")) {                    Plotly.newPlot(                        \"e169c531-9193-48b0-9c90-c94866871971\",                        [{\"domain\":{\"x\":[0.0,1.0],\"y\":[0.0,1.0]},\"hovertemplate\":\"label=%{label}<br>value=%{value}<extra></extra>\",\"labels\":[\"Silver\",\"Bronze\",\"Gold\"],\"legendgroup\":\"\",\"name\":\"\",\"showlegend\":true,\"type\":\"pie\",\"values\":[239,136,108]}],                        {\"legend\":{\"tracegroupgap\":0},\"margin\":{\"t\":60},\"template\":{\"data\":{\"bar\":[{\"error_x\":{\"color\":\"#2a3f5f\"},\"error_y\":{\"color\":\"#2a3f5f\"},\"marker\":{\"line\":{\"color\":\"#E5ECF6\",\"width\":0.5},\"pattern\":{\"fillmode\":\"overlay\",\"size\":10,\"solidity\":0.2}},\"type\":\"bar\"}],\"barpolar\":[{\"marker\":{\"line\":{\"color\":\"#E5ECF6\",\"width\":0.5},\"pattern\":{\"fillmode\":\"overlay\",\"size\":10,\"solidity\":0.2}},\"type\":\"barpolar\"}],\"carpet\":[{\"aaxis\":{\"endlinecolor\":\"#2a3f5f\",\"gridcolor\":\"white\",\"linecolor\":\"white\",\"minorgridcolor\":\"white\",\"startlinecolor\":\"#2a3f5f\"},\"baxis\":{\"endlinecolor\":\"#2a3f5f\",\"gridcolor\":\"white\",\"linecolor\":\"white\",\"minorgridcolor\":\"white\",\"startlinecolor\":\"#2a3f5f\"},\"type\":\"carpet\"}],\"choropleth\":[{\"colorbar\":{\"outlinewidth\":0,\"ticks\":\"\"},\"type\":\"choropleth\"}],\"contour\":[{\"colorbar\":{\"outlinewidth\":0,\"ticks\":\"\"},\"colorscale\":[[0.0,\"#0d0887\"],[0.1111111111111111,\"#46039f\"],[0.2222222222222222,\"#7201a8\"],[0.3333333333333333,\"#9c179e\"],[0.4444444444444444,\"#bd3786\"],[0.5555555555555556,\"#d8576b\"],[0.6666666666666666,\"#ed7953\"],[0.7777777777777778,\"#fb9f3a\"],[0.8888888888888888,\"#fdca26\"],[1.0,\"#f0f921\"]],\"type\":\"contour\"}],\"contourcarpet\":[{\"colorbar\":{\"outlinewidth\":0,\"ticks\":\"\"},\"type\":\"contourcarpet\"}],\"heatmap\":[{\"colorbar\":{\"outlinewidth\":0,\"ticks\":\"\"},\"colorscale\":[[0.0,\"#0d0887\"],[0.1111111111111111,\"#46039f\"],[0.2222222222222222,\"#7201a8\"],[0.3333333333333333,\"#9c179e\"],[0.4444444444444444,\"#bd3786\"],[0.5555555555555556,\"#d8576b\"],[0.6666666666666666,\"#ed7953\"],[0.7777777777777778,\"#fb9f3a\"],[0.8888888888888888,\"#fdca26\"],[1.0,\"#f0f921\"]],\"type\":\"heatmap\"}],\"heatmapgl\":[{\"colorbar\":{\"outlinewidth\":0,\"ticks\":\"\"},\"colorscale\":[[0.0,\"#0d0887\"],[0.1111111111111111,\"#46039f\"],[0.2222222222222222,\"#7201a8\"],[0.3333333333333333,\"#9c179e\"],[0.4444444444444444,\"#bd3786\"],[0.5555555555555556,\"#d8576b\"],[0.6666666666666666,\"#ed7953\"],[0.7777777777777778,\"#fb9f3a\"],[0.8888888888888888,\"#fdca26\"],[1.0,\"#f0f921\"]],\"type\":\"heatmapgl\"}],\"histogram\":[{\"marker\":{\"pattern\":{\"fillmode\":\"overlay\",\"size\":10,\"solidity\":0.2}},\"type\":\"histogram\"}],\"histogram2d\":[{\"colorbar\":{\"outlinewidth\":0,\"ticks\":\"\"},\"colorscale\":[[0.0,\"#0d0887\"],[0.1111111111111111,\"#46039f\"],[0.2222222222222222,\"#7201a8\"],[0.3333333333333333,\"#9c179e\"],[0.4444444444444444,\"#bd3786\"],[0.5555555555555556,\"#d8576b\"],[0.6666666666666666,\"#ed7953\"],[0.7777777777777778,\"#fb9f3a\"],[0.8888888888888888,\"#fdca26\"],[1.0,\"#f0f921\"]],\"type\":\"histogram2d\"}],\"histogram2dcontour\":[{\"colorbar\":{\"outlinewidth\":0,\"ticks\":\"\"},\"colorscale\":[[0.0,\"#0d0887\"],[0.1111111111111111,\"#46039f\"],[0.2222222222222222,\"#7201a8\"],[0.3333333333333333,\"#9c179e\"],[0.4444444444444444,\"#bd3786\"],[0.5555555555555556,\"#d8576b\"],[0.6666666666666666,\"#ed7953\"],[0.7777777777777778,\"#fb9f3a\"],[0.8888888888888888,\"#fdca26\"],[1.0,\"#f0f921\"]],\"type\":\"histogram2dcontour\"}],\"mesh3d\":[{\"colorbar\":{\"outlinewidth\":0,\"ticks\":\"\"},\"type\":\"mesh3d\"}],\"parcoords\":[{\"line\":{\"colorbar\":{\"outlinewidth\":0,\"ticks\":\"\"}},\"type\":\"parcoords\"}],\"pie\":[{\"automargin\":true,\"type\":\"pie\"}],\"scatter\":[{\"marker\":{\"colorbar\":{\"outlinewidth\":0,\"ticks\":\"\"}},\"type\":\"scatter\"}],\"scatter3d\":[{\"line\":{\"colorbar\":{\"outlinewidth\":0,\"ticks\":\"\"}},\"marker\":{\"colorbar\":{\"outlinewidth\":0,\"ticks\":\"\"}},\"type\":\"scatter3d\"}],\"scattercarpet\":[{\"marker\":{\"colorbar\":{\"outlinewidth\":0,\"ticks\":\"\"}},\"type\":\"scattercarpet\"}],\"scattergeo\":[{\"marker\":{\"colorbar\":{\"outlinewidth\":0,\"ticks\":\"\"}},\"type\":\"scattergeo\"}],\"scattergl\":[{\"marker\":{\"colorbar\":{\"outlinewidth\":0,\"ticks\":\"\"}},\"type\":\"scattergl\"}],\"scattermapbox\":[{\"marker\":{\"colorbar\":{\"outlinewidth\":0,\"ticks\":\"\"}},\"type\":\"scattermapbox\"}],\"scatterpolar\":[{\"marker\":{\"colorbar\":{\"outlinewidth\":0,\"ticks\":\"\"}},\"type\":\"scatterpolar\"}],\"scatterpolargl\":[{\"marker\":{\"colorbar\":{\"outlinewidth\":0,\"ticks\":\"\"}},\"type\":\"scatterpolargl\"}],\"scatterternary\":[{\"marker\":{\"colorbar\":{\"outlinewidth\":0,\"ticks\":\"\"}},\"type\":\"scatterternary\"}],\"surface\":[{\"colorbar\":{\"outlinewidth\":0,\"ticks\":\"\"},\"colorscale\":[[0.0,\"#0d0887\"],[0.1111111111111111,\"#46039f\"],[0.2222222222222222,\"#7201a8\"],[0.3333333333333333,\"#9c179e\"],[0.4444444444444444,\"#bd3786\"],[0.5555555555555556,\"#d8576b\"],[0.6666666666666666,\"#ed7953\"],[0.7777777777777778,\"#fb9f3a\"],[0.8888888888888888,\"#fdca26\"],[1.0,\"#f0f921\"]],\"type\":\"surface\"}],\"table\":[{\"cells\":{\"fill\":{\"color\":\"#EBF0F8\"},\"line\":{\"color\":\"white\"}},\"header\":{\"fill\":{\"color\":\"#C8D4E3\"},\"line\":{\"color\":\"white\"}},\"type\":\"table\"}]},\"layout\":{\"annotationdefaults\":{\"arrowcolor\":\"#2a3f5f\",\"arrowhead\":0,\"arrowwidth\":1},\"autotypenumbers\":\"strict\",\"coloraxis\":{\"colorbar\":{\"outlinewidth\":0,\"ticks\":\"\"}},\"colorscale\":{\"diverging\":[[0,\"#8e0152\"],[0.1,\"#c51b7d\"],[0.2,\"#de77ae\"],[0.3,\"#f1b6da\"],[0.4,\"#fde0ef\"],[0.5,\"#f7f7f7\"],[0.6,\"#e6f5d0\"],[0.7,\"#b8e186\"],[0.8,\"#7fbc41\"],[0.9,\"#4d9221\"],[1,\"#276419\"]],\"sequential\":[[0.0,\"#0d0887\"],[0.1111111111111111,\"#46039f\"],[0.2222222222222222,\"#7201a8\"],[0.3333333333333333,\"#9c179e\"],[0.4444444444444444,\"#bd3786\"],[0.5555555555555556,\"#d8576b\"],[0.6666666666666666,\"#ed7953\"],[0.7777777777777778,\"#fb9f3a\"],[0.8888888888888888,\"#fdca26\"],[1.0,\"#f0f921\"]],\"sequentialminus\":[[0.0,\"#0d0887\"],[0.1111111111111111,\"#46039f\"],[0.2222222222222222,\"#7201a8\"],[0.3333333333333333,\"#9c179e\"],[0.4444444444444444,\"#bd3786\"],[0.5555555555555556,\"#d8576b\"],[0.6666666666666666,\"#ed7953\"],[0.7777777777777778,\"#fb9f3a\"],[0.8888888888888888,\"#fdca26\"],[1.0,\"#f0f921\"]]},\"colorway\":[\"#636efa\",\"#EF553B\",\"#00cc96\",\"#ab63fa\",\"#FFA15A\",\"#19d3f3\",\"#FF6692\",\"#B6E880\",\"#FF97FF\",\"#FECB52\"],\"font\":{\"color\":\"#2a3f5f\"},\"geo\":{\"bgcolor\":\"white\",\"lakecolor\":\"white\",\"landcolor\":\"#E5ECF6\",\"showlakes\":true,\"showland\":true,\"subunitcolor\":\"white\"},\"hoverlabel\":{\"align\":\"left\"},\"hovermode\":\"closest\",\"mapbox\":{\"style\":\"light\"},\"paper_bgcolor\":\"white\",\"plot_bgcolor\":\"#E5ECF6\",\"polar\":{\"angularaxis\":{\"gridcolor\":\"white\",\"linecolor\":\"white\",\"ticks\":\"\"},\"bgcolor\":\"#E5ECF6\",\"radialaxis\":{\"gridcolor\":\"white\",\"linecolor\":\"white\",\"ticks\":\"\"}},\"scene\":{\"xaxis\":{\"backgroundcolor\":\"#E5ECF6\",\"gridcolor\":\"white\",\"gridwidth\":2,\"linecolor\":\"white\",\"showbackground\":true,\"ticks\":\"\",\"zerolinecolor\":\"white\"},\"yaxis\":{\"backgroundcolor\":\"#E5ECF6\",\"gridcolor\":\"white\",\"gridwidth\":2,\"linecolor\":\"white\",\"showbackground\":true,\"ticks\":\"\",\"zerolinecolor\":\"white\"},\"zaxis\":{\"backgroundcolor\":\"#E5ECF6\",\"gridcolor\":\"white\",\"gridwidth\":2,\"linecolor\":\"white\",\"showbackground\":true,\"ticks\":\"\",\"zerolinecolor\":\"white\"}},\"shapedefaults\":{\"line\":{\"color\":\"#2a3f5f\"}},\"ternary\":{\"aaxis\":{\"gridcolor\":\"white\",\"linecolor\":\"white\",\"ticks\":\"\"},\"baxis\":{\"gridcolor\":\"white\",\"linecolor\":\"white\",\"ticks\":\"\"},\"bgcolor\":\"#E5ECF6\",\"caxis\":{\"gridcolor\":\"white\",\"linecolor\":\"white\",\"ticks\":\"\"}},\"title\":{\"x\":0.05},\"xaxis\":{\"automargin\":true,\"gridcolor\":\"white\",\"linecolor\":\"white\",\"ticks\":\"\",\"title\":{\"standoff\":15},\"zerolinecolor\":\"white\",\"zerolinewidth\":2},\"yaxis\":{\"automargin\":true,\"gridcolor\":\"white\",\"linecolor\":\"white\",\"ticks\":\"\",\"title\":{\"standoff\":15},\"zerolinecolor\":\"white\",\"zerolinewidth\":2}}}},                        {\"responsive\": true}                    ).then(function(){\n",
       "                            \n",
       "var gd = document.getElementById('e169c531-9193-48b0-9c90-c94866871971');\n",
       "var x = new MutationObserver(function (mutations, observer) {{\n",
       "        var display = window.getComputedStyle(gd).display;\n",
       "        if (!display || display === 'none') {{\n",
       "            console.log([gd, 'removed!']);\n",
       "            Plotly.purge(gd);\n",
       "            observer.disconnect();\n",
       "        }}\n",
       "}});\n",
       "\n",
       "// Listen for the removal of the full notebook cells\n",
       "var notebookContainer = gd.closest('#notebook-container');\n",
       "if (notebookContainer) {{\n",
       "    x.observe(notebookContainer, {childList: true});\n",
       "}}\n",
       "\n",
       "// Listen for the clearing of the current output cell\n",
       "var outputEl = gd.closest('.output');\n",
       "if (outputEl) {{\n",
       "    x.observe(outputEl, {childList: true});\n",
       "}}\n",
       "\n",
       "                        })                };                });            </script>        </div>"
      ]
     },
     "metadata": {},
     "output_type": "display_data"
    }
   ],
   "source": [
    "import plotly.express as px\n",
    "\n",
    "px.pie(values=freq.values, names=freq.index)"
   ]
  },
  {
   "cell_type": "markdown",
   "id": "b369cac1-3ccb-4503-a6a0-ab897cb8e114",
   "metadata": {},
   "source": [
    "> - Now your turn ↓ ⛏"
   ]
  },
  {
   "cell_type": "markdown",
   "id": "aae33630-20ba-4a5e-8f48-c7835906c58a",
   "metadata": {},
   "source": [
    "## **2**"
   ]
  },
  {
   "cell_type": "code",
   "execution_count": null,
   "id": "88130e2f-7fac-4727-9d05-00c6d63caea7",
   "metadata": {},
   "outputs": [],
   "source": []
  },
  {
   "cell_type": "markdown",
   "id": "3d6e9094-8705-43e6-80b5-e485cd63922e",
   "metadata": {},
   "source": [
    "## **3**"
   ]
  },
  {
   "cell_type": "code",
   "execution_count": null,
   "id": "b64f943b-fa89-467f-b5cc-067f21b3be70",
   "metadata": {},
   "outputs": [],
   "source": []
  },
  {
   "cell_type": "markdown",
   "id": "7018557a-1f8e-477a-af8f-d5f9ad6c5b86",
   "metadata": {},
   "source": [
    "## **4**"
   ]
  },
  {
   "cell_type": "code",
   "execution_count": null,
   "id": "b57bcb7d-ceeb-4a89-8673-fada6b8d177d",
   "metadata": {},
   "outputs": [],
   "source": []
  },
  {
   "cell_type": "markdown",
   "id": "e088dd24-b403-4285-a670-08c2790aa6de",
   "metadata": {},
   "source": [
    "## **5**"
   ]
  },
  {
   "cell_type": "code",
   "execution_count": null,
   "id": "25a9122f-c40c-4fa6-a4ea-0627df913413",
   "metadata": {},
   "outputs": [],
   "source": []
  },
  {
   "cell_type": "markdown",
   "id": "6e7ba005",
   "metadata": {},
   "source": [
    "# Achieved Goals"
   ]
  },
  {
   "cell_type": "markdown",
   "id": "1272bf75",
   "metadata": {},
   "source": [
    "_Double click on **this cell** and place an `X` inside the square brackets (i.e., [X]) if you think you understand the goal:_\n",
    "\n",
    "- [ ] Identify the **Elements of Programming** thanks to the syntax.\n",
    "- [ ] Use `functions` that belongs to external `libraries`.\n",
    "- [ ] Get _the machine to work for you, not against you_.\n",
    "  - [ ] `shift + tab` to ask help to Python.\n",
    "  - [ ] `tab` to ask Python for suggestions.\n",
    "- [ ] Understand that a `dog` doesn't make `miau()`. But, rather `guau()`... the same way a `DataFrame` cannot `fly()` (i.e., `DataFrame.fly()`?).\n",
    "- [ ] All roads lead to Rome; We can achieve the **the same result with different lines of code**.\n",
    "  - We reproduced a scatterplot using 3 different lines of code."
   ]
  }
 ],
 "metadata": {
  "authors": [
   {
    "name": "Jesús López @sotastica"
   }
  ],
  "interpreter": {
   "hash": "414fd6d7c0f0aefb3d4e2db41edbeb0df03134e10d94a689550561b640a17652"
  },
  "kernelspec": {
   "display_name": "Python 3 (ipykernel)",
   "language": "python",
   "name": "python3"
  },
  "language_info": {
   "codemirror_mode": {
    "name": "ipython",
    "version": 3
   },
   "file_extension": ".py",
   "mimetype": "text/x-python",
   "name": "python",
   "nbconvert_exporter": "python",
   "pygments_lexer": "ipython3",
   "version": "3.9.7"
  },
  "toc-autonumbering": true
 },
 "nbformat": 4,
 "nbformat_minor": 5
}
