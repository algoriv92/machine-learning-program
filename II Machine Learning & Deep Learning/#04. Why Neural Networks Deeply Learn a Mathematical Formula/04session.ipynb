{
 "cells": [
  {
   "cell_type": "markdown",
   "metadata": {},
   "source": [
    "<font size=\"+5\">#04. Why Neural Networks Deeply Learn a Mathematical Formula?</font>"
   ]
  },
  {
   "cell_type": "markdown",
   "metadata": {},
   "source": [
    "- Book + Private Lessons [Here ↗](https://sotastica.com/reservar)\n",
    "- Subscribe to my [Blog ↗](https://blog.pythonassembly.com/)\n",
    "- Let's keep in touch on [LinkedIn ↗](www.linkedin.com/in/jsulopz) 😄"
   ]
  },
  {
   "cell_type": "markdown",
   "metadata": {
    "tags": []
   },
   "source": [
    "# Machine Learning, what does it mean?"
   ]
  },
  {
   "cell_type": "markdown",
   "metadata": {},
   "source": [
    "> - The Machine Learns...\n",
    ">\n",
    "> But, **what does it learn?**"
   ]
  },
  {
   "cell_type": "code",
   "execution_count": 2,
   "metadata": {},
   "outputs": [
    {
     "data": {
      "text/html": [
       "<blockquote class=\"twitter-tweet\" data-lang=\"en\"><p lang=\"en\" dir=\"ltr\">Machine Learning, what does it mean? ⏯<br><br>· The machine learns...<br><br>Ha ha, not funny! 🤨 What does it learn?<br><br>· A mathematical equation. For example: <a href=\"https://t.co/sjtq9F2pq7\">pic.twitter.com/sjtq9F2pq7</a></p>&mdash; Jesús López (@sotastica) <a href=\"https://twitter.com/sotastica/status/1449735653328031745?ref_src=twsrc%5Etfw\">October 17, 2021</a></blockquote> <script async src=\"https://platform.twitter.com/widgets.js\" charset=\"utf-8\"></script>\n"
      ],
      "text/plain": [
       "<IPython.core.display.HTML object>"
      ]
     },
     "metadata": {},
     "output_type": "display_data"
    }
   ],
   "source": [
    "%%HTML\n",
    "<blockquote class=\"twitter-tweet\" data-lang=\"en\"><p lang=\"en\" dir=\"ltr\">Machine Learning, what does it mean? ⏯<br><br>· The machine learns...<br><br>Ha ha, not funny! 🤨 What does it learn?<br><br>· A mathematical equation. For example: <a href=\"https://t.co/sjtq9F2pq7\">pic.twitter.com/sjtq9F2pq7</a></p>&mdash; Jesús López (@sotastica) <a href=\"https://twitter.com/sotastica/status/1449735653328031745?ref_src=twsrc%5Etfw\">October 17, 2021</a></blockquote> <script async src=\"https://platform.twitter.com/widgets.js\" charset=\"utf-8\"></script>"
   ]
  },
  {
   "cell_type": "markdown",
   "metadata": {},
   "source": [
    "# How does the Machine Learn?"
   ]
  },
  {
   "cell_type": "markdown",
   "metadata": {},
   "source": [
    "## In a Linear Regression"
   ]
  },
  {
   "cell_type": "code",
   "execution_count": 1,
   "metadata": {},
   "outputs": [
    {
     "data": {
      "text/html": [
       "<iframe width=\"560\" height=\"315\" src=\"https://www.youtube.com/embed/Ht3rYS-JilE\" title=\"YouTube video player\" frameborder=\"0\" allow=\"accelerometer; autoplay; clipboard-write; encrypted-media; gyroscope; picture-in-picture\" allowfullscreen></iframe>\n"
      ],
      "text/plain": [
       "<IPython.core.display.HTML object>"
      ]
     },
     "metadata": {},
     "output_type": "display_data"
    }
   ],
   "source": [
    "%%HTML\n",
    "<iframe width=\"560\" height=\"315\" src=\"https://www.youtube.com/embed/Ht3rYS-JilE\" title=\"YouTube video player\" frameborder=\"0\" allow=\"accelerometer; autoplay; clipboard-write; encrypted-media; gyroscope; picture-in-picture\" allowfullscreen></iframe>"
   ]
  },
  {
   "cell_type": "markdown",
   "metadata": {},
   "source": [
    "## In a Neural Network"
   ]
  },
  {
   "cell_type": "code",
   "execution_count": 2,
   "metadata": {},
   "outputs": [
    {
     "data": {
      "text/html": [
       "<iframe width=\"560\" height=\"315\" src=\"https://www.youtube.com/embed/IHZwWFHWa-w?start=329\" title=\"YouTube video player\" frameborder=\"0\" allow=\"accelerometer; autoplay; clipboard-write; encrypted-media; gyroscope; picture-in-picture\" allowfullscreen></iframe>\n"
      ],
      "text/plain": [
       "<IPython.core.display.HTML object>"
      ]
     },
     "metadata": {},
     "output_type": "display_data"
    }
   ],
   "source": [
    "%%HTML\n",
    "<iframe width=\"560\" height=\"315\" src=\"https://www.youtube.com/embed/IHZwWFHWa-w?start=329\" title=\"YouTube video player\" frameborder=\"0\" allow=\"accelerometer; autoplay; clipboard-write; encrypted-media; gyroscope; picture-in-picture\" allowfullscreen></iframe>"
   ]
  },
  {
   "cell_type": "markdown",
   "metadata": {},
   "source": [
    "A Practical Example → [Tesla Autopilot](https://www.tesla.com/AI)"
   ]
  },
  {
   "cell_type": "markdown",
   "metadata": {},
   "source": [
    "An Example where It Fails → [Tesla Confuses Moon with Semaphore](https://twitter.com/Carnage4Life/status/1418920100086784000?s=20)"
   ]
  },
  {
   "cell_type": "markdown",
   "metadata": {},
   "source": [
    "# Load the Data"
   ]
  },
  {
   "cell_type": "markdown",
   "metadata": {},
   "source": [
    "> - Simply execute the following lines of code to load the data.\n",
    "> - This dataset contains **statistics about Car Accidents** (columns)\n",
    "> - In each one of **USA States** (rows)"
   ]
  },
  {
   "cell_type": "markdown",
   "metadata": {},
   "source": [
    "https://www.kaggle.com/fivethirtyeight/fivethirtyeight-bad-drivers-dataset/"
   ]
  },
  {
   "cell_type": "code",
   "execution_count": 3,
   "metadata": {},
   "outputs": [
    {
     "data": {
      "text/html": [
       "<div>\n",
       "<style scoped>\n",
       "    .dataframe tbody tr th:only-of-type {\n",
       "        vertical-align: middle;\n",
       "    }\n",
       "\n",
       "    .dataframe tbody tr th {\n",
       "        vertical-align: top;\n",
       "    }\n",
       "\n",
       "    .dataframe thead th {\n",
       "        text-align: right;\n",
       "    }\n",
       "</style>\n",
       "<table border=\"1\" class=\"dataframe\">\n",
       "  <thead>\n",
       "    <tr style=\"text-align: right;\">\n",
       "      <th></th>\n",
       "      <th>total</th>\n",
       "      <th>speeding</th>\n",
       "      <th>alcohol</th>\n",
       "      <th>not_distracted</th>\n",
       "      <th>no_previous</th>\n",
       "      <th>ins_premium</th>\n",
       "      <th>ins_losses</th>\n",
       "    </tr>\n",
       "    <tr>\n",
       "      <th>abbrev</th>\n",
       "      <th></th>\n",
       "      <th></th>\n",
       "      <th></th>\n",
       "      <th></th>\n",
       "      <th></th>\n",
       "      <th></th>\n",
       "      <th></th>\n",
       "    </tr>\n",
       "  </thead>\n",
       "  <tbody>\n",
       "    <tr>\n",
       "      <th>MO</th>\n",
       "      <td>16.1</td>\n",
       "      <td>6.923</td>\n",
       "      <td>5.474</td>\n",
       "      <td>14.812</td>\n",
       "      <td>13.524</td>\n",
       "      <td>790.32</td>\n",
       "      <td>144.45</td>\n",
       "    </tr>\n",
       "    <tr>\n",
       "      <th>NE</th>\n",
       "      <td>14.9</td>\n",
       "      <td>1.937</td>\n",
       "      <td>5.215</td>\n",
       "      <td>13.857</td>\n",
       "      <td>13.410</td>\n",
       "      <td>732.28</td>\n",
       "      <td>114.82</td>\n",
       "    </tr>\n",
       "    <tr>\n",
       "      <th>RI</th>\n",
       "      <td>11.1</td>\n",
       "      <td>3.774</td>\n",
       "      <td>4.218</td>\n",
       "      <td>10.212</td>\n",
       "      <td>8.769</td>\n",
       "      <td>1148.99</td>\n",
       "      <td>148.58</td>\n",
       "    </tr>\n",
       "    <tr>\n",
       "      <th>AR</th>\n",
       "      <td>22.4</td>\n",
       "      <td>4.032</td>\n",
       "      <td>5.824</td>\n",
       "      <td>21.056</td>\n",
       "      <td>21.280</td>\n",
       "      <td>827.34</td>\n",
       "      <td>142.39</td>\n",
       "    </tr>\n",
       "    <tr>\n",
       "      <th>WY</th>\n",
       "      <td>17.4</td>\n",
       "      <td>7.308</td>\n",
       "      <td>5.568</td>\n",
       "      <td>14.094</td>\n",
       "      <td>15.660</td>\n",
       "      <td>791.14</td>\n",
       "      <td>122.04</td>\n",
       "    </tr>\n",
       "  </tbody>\n",
       "</table>\n",
       "</div>"
      ],
      "text/plain": [
       "        total  speeding  alcohol  not_distracted  no_previous  ins_premium  \\\n",
       "abbrev                                                                       \n",
       "MO       16.1     6.923    5.474          14.812       13.524       790.32   \n",
       "NE       14.9     1.937    5.215          13.857       13.410       732.28   \n",
       "RI       11.1     3.774    4.218          10.212        8.769      1148.99   \n",
       "AR       22.4     4.032    5.824          21.056       21.280       827.34   \n",
       "WY       17.4     7.308    5.568          14.094       15.660       791.14   \n",
       "\n",
       "        ins_losses  \n",
       "abbrev              \n",
       "MO          144.45  \n",
       "NE          114.82  \n",
       "RI          148.58  \n",
       "AR          142.39  \n",
       "WY          122.04  "
      ]
     },
     "execution_count": 3,
     "metadata": {},
     "output_type": "execute_result"
    }
   ],
   "source": [
    "import seaborn as sns\n",
    "\n",
    "df = sns.load_dataset(name='car_crashes', index_col='abbrev')\n",
    "df.sample(5)"
   ]
  },
  {
   "cell_type": "markdown",
   "metadata": {},
   "source": [
    "# Neural Network Concepts in Python"
   ]
  },
  {
   "cell_type": "markdown",
   "metadata": {},
   "source": [
    "## Initializing the `Weights`"
   ]
  },
  {
   "cell_type": "markdown",
   "metadata": {},
   "source": [
    "> - https://keras.io/api/layers/initializers/"
   ]
  },
  {
   "cell_type": "markdown",
   "metadata": {},
   "source": [
    "### How to `kernel_initializer` the weights?"
   ]
  },
  {
   "cell_type": "markdown",
   "metadata": {},
   "source": [
    "$$\n",
    "accidents = speeding \\cdot w_1 + alcohol \\cdot w_2 \\ + ... + \\ ins\\_losses \\cdot w_7\n",
    "$$"
   ]
  },
  {
   "cell_type": "code",
   "execution_count": 4,
   "metadata": {},
   "outputs": [],
   "source": [
    "from tensorflow.keras import Sequential, Input\n",
    "from tensorflow.keras.layers import Dense"
   ]
  },
  {
   "cell_type": "code",
   "execution_count": 5,
   "metadata": {},
   "outputs": [
    {
     "data": {
      "text/plain": [
       "(51, 7)"
      ]
     },
     "execution_count": 5,
     "metadata": {},
     "output_type": "execute_result"
    }
   ],
   "source": [
    "df.shape"
   ]
  },
  {
   "cell_type": "code",
   "execution_count": 6,
   "metadata": {},
   "outputs": [],
   "source": [
    "model = Sequential()\n",
    "model.add(layer=Input(shape=(6,)))\n",
    "model.add(layer=Dense(units=3, kernel_initializer='zeros'))\n",
    "model.add(layer=Dense(units=1))"
   ]
  },
  {
   "cell_type": "markdown",
   "metadata": {},
   "source": [
    "#### Make a Prediction with the Neural Network"
   ]
  },
  {
   "cell_type": "markdown",
   "metadata": {},
   "source": [
    "> - Can we make a prediction for for `Washington DC` accidents\n",
    "> - With the already initialized Mathematical Equation?"
   ]
  },
  {
   "cell_type": "code",
   "execution_count": 7,
   "metadata": {},
   "outputs": [],
   "source": [
    "X = df.drop(columns='total')\n",
    "y = df.total"
   ]
  },
  {
   "cell_type": "code",
   "execution_count": 8,
   "metadata": {},
   "outputs": [],
   "source": [
    "AL = X[:1]"
   ]
  },
  {
   "cell_type": "code",
   "execution_count": 9,
   "metadata": {},
   "outputs": [
    {
     "data": {
      "text/html": [
       "<div>\n",
       "<style scoped>\n",
       "    .dataframe tbody tr th:only-of-type {\n",
       "        vertical-align: middle;\n",
       "    }\n",
       "\n",
       "    .dataframe tbody tr th {\n",
       "        vertical-align: top;\n",
       "    }\n",
       "\n",
       "    .dataframe thead th {\n",
       "        text-align: right;\n",
       "    }\n",
       "</style>\n",
       "<table border=\"1\" class=\"dataframe\">\n",
       "  <thead>\n",
       "    <tr style=\"text-align: right;\">\n",
       "      <th></th>\n",
       "      <th>speeding</th>\n",
       "      <th>alcohol</th>\n",
       "      <th>not_distracted</th>\n",
       "      <th>no_previous</th>\n",
       "      <th>ins_premium</th>\n",
       "      <th>ins_losses</th>\n",
       "    </tr>\n",
       "    <tr>\n",
       "      <th>abbrev</th>\n",
       "      <th></th>\n",
       "      <th></th>\n",
       "      <th></th>\n",
       "      <th></th>\n",
       "      <th></th>\n",
       "      <th></th>\n",
       "    </tr>\n",
       "  </thead>\n",
       "  <tbody>\n",
       "    <tr>\n",
       "      <th>AL</th>\n",
       "      <td>7.332</td>\n",
       "      <td>5.64</td>\n",
       "      <td>18.048</td>\n",
       "      <td>15.04</td>\n",
       "      <td>784.55</td>\n",
       "      <td>145.08</td>\n",
       "    </tr>\n",
       "  </tbody>\n",
       "</table>\n",
       "</div>"
      ],
      "text/plain": [
       "        speeding  alcohol  not_distracted  no_previous  ins_premium  \\\n",
       "abbrev                                                                \n",
       "AL         7.332     5.64          18.048        15.04       784.55   \n",
       "\n",
       "        ins_losses  \n",
       "abbrev              \n",
       "AL          145.08  "
      ]
     },
     "execution_count": 9,
     "metadata": {},
     "output_type": "execute_result"
    }
   ],
   "source": [
    "AL"
   ]
  },
  {
   "cell_type": "code",
   "execution_count": null,
   "metadata": {},
   "outputs": [],
   "source": []
  },
  {
   "cell_type": "markdown",
   "metadata": {},
   "source": [
    "#### Observe the numbers for the `weights`"
   ]
  },
  {
   "cell_type": "code",
   "execution_count": 12,
   "metadata": {},
   "outputs": [
    {
     "data": {
      "text/plain": [
       "[array([[0., 0., 0.],\n",
       "        [0., 0., 0.],\n",
       "        [0., 0., 0.],\n",
       "        [0., 0., 0.],\n",
       "        [0., 0., 0.],\n",
       "        [0., 0., 0.]], dtype=float32),\n",
       " array([0., 0., 0.], dtype=float32),\n",
       " array([[-1.198971 ],\n",
       "        [-0.8542514],\n",
       "        [-0.5962893]], dtype=float32),\n",
       " array([0.], dtype=float32)]"
      ]
     },
     "execution_count": 12,
     "metadata": {},
     "output_type": "execute_result"
    }
   ],
   "source": [
    "model.get_weights()"
   ]
  },
  {
   "cell_type": "markdown",
   "metadata": {},
   "source": [
    "#### Predictions vs Reality"
   ]
  },
  {
   "cell_type": "markdown",
   "metadata": {},
   "source": [
    "> 1. Calculate the Predicted Accidents and\n",
    "> 2. Compare it with the Real Total Accidents"
   ]
  },
  {
   "cell_type": "code",
   "execution_count": null,
   "metadata": {},
   "outputs": [],
   "source": []
  },
  {
   "cell_type": "markdown",
   "metadata": {},
   "source": [
    "#### `fit()` the `model` and compare again"
   ]
  },
  {
   "cell_type": "code",
   "execution_count": 10,
   "metadata": {},
   "outputs": [],
   "source": [
    "model.compile(loss='mse', metrics=['mse'])"
   ]
  },
  {
   "cell_type": "code",
   "execution_count": 11,
   "metadata": {
    "tags": []
   },
   "outputs": [
    {
     "name": "stdout",
     "output_type": "stream",
     "text": [
      "Epoch 1/500\n",
      "2/2 [==============================] - 0s 2ms/step - loss: 214.0405 - mse: 214.0405\n",
      "Epoch 2/500\n",
      "2/2 [==============================] - 0s 2ms/step - loss: 67.7488 - mse: 67.7488\n",
      "Epoch 3/500\n",
      "2/2 [==============================] - 0s 2ms/step - loss: 36.8738 - mse: 36.8738\n",
      "Epoch 4/500\n",
      "2/2 [==============================] - 0s 994us/step - loss: 29.5522 - mse: 29.5522\n",
      "Epoch 5/500\n",
      "2/2 [==============================] - 0s 2ms/step - loss: 27.5107 - mse: 27.5107\n",
      "Epoch 6/500\n",
      "2/2 [==============================] - 0s 2ms/step - loss: 27.1687 - mse: 27.1687\n",
      "Epoch 7/500\n",
      "2/2 [==============================] - 0s 2ms/step - loss: 27.0841 - mse: 27.0841\n",
      "Epoch 8/500\n",
      "2/2 [==============================] - 0s 2ms/step - loss: 26.8107 - mse: 26.8107\n",
      "Epoch 9/500\n",
      "2/2 [==============================] - 0s 1ms/step - loss: 26.6202 - mse: 26.6202\n",
      "Epoch 10/500\n",
      "2/2 [==============================] - 0s 2ms/step - loss: 26.4995 - mse: 26.4995\n",
      "Epoch 11/500\n",
      "2/2 [==============================] - 0s 1ms/step - loss: 26.3040 - mse: 26.3040\n",
      "Epoch 12/500\n",
      "2/2 [==============================] - 0s 2ms/step - loss: 26.0458 - mse: 26.0458\n",
      "Epoch 13/500\n",
      "2/2 [==============================] - 0s 1ms/step - loss: 26.3431 - mse: 26.3431\n",
      "Epoch 14/500\n",
      "2/2 [==============================] - 0s 3ms/step - loss: 26.1995 - mse: 26.1995\n",
      "Epoch 15/500\n",
      "2/2 [==============================] - 0s 1ms/step - loss: 25.7951 - mse: 25.7951\n",
      "Epoch 16/500\n",
      "2/2 [==============================] - 0s 2ms/step - loss: 26.4310 - mse: 26.4310\n",
      "Epoch 17/500\n",
      "2/2 [==============================] - 0s 2ms/step - loss: 25.1422 - mse: 25.1422\n",
      "Epoch 18/500\n",
      "2/2 [==============================] - 0s 3ms/step - loss: 26.5821 - mse: 26.5821\n",
      "Epoch 19/500\n",
      "2/2 [==============================] - 0s 1ms/step - loss: 24.3721 - mse: 24.3721\n",
      "Epoch 20/500\n",
      "2/2 [==============================] - 0s 2ms/step - loss: 26.7553 - mse: 26.7553\n",
      "Epoch 21/500\n",
      "2/2 [==============================] - 0s 998us/step - loss: 25.4827 - mse: 25.4827\n",
      "Epoch 22/500\n",
      "2/2 [==============================] - 0s 3ms/step - loss: 26.0789 - mse: 26.0789\n",
      "Epoch 23/500\n",
      "2/2 [==============================] - 0s 1ms/step - loss: 24.7344 - mse: 24.7344\n",
      "Epoch 24/500\n",
      "2/2 [==============================] - 0s 2ms/step - loss: 22.5619 - mse: 22.5619\n",
      "Epoch 25/500\n",
      "2/2 [==============================] - 0s 2ms/step - loss: 22.2148 - mse: 22.2148\n",
      "Epoch 26/500\n",
      "2/2 [==============================] - 0s 2ms/step - loss: 22.3115 - mse: 22.3115\n",
      "Epoch 27/500\n",
      "2/2 [==============================] - 0s 2ms/step - loss: 21.9901 - mse: 21.9901\n",
      "Epoch 28/500\n",
      "2/2 [==============================] - 0s 1ms/step - loss: 23.3526 - mse: 23.3526\n",
      "Epoch 29/500\n",
      "2/2 [==============================] - 0s 2ms/step - loss: 21.2542 - mse: 21.2542\n",
      "Epoch 30/500\n",
      "2/2 [==============================] - 0s 2ms/step - loss: 21.2916 - mse: 21.2916\n",
      "Epoch 31/500\n",
      "2/2 [==============================] - 0s 1ms/step - loss: 22.7685 - mse: 22.7685\n",
      "Epoch 32/500\n",
      "2/2 [==============================] - 0s 1ms/step - loss: 20.1002 - mse: 20.1002\n",
      "Epoch 33/500\n",
      "2/2 [==============================] - 0s 1ms/step - loss: 19.6917 - mse: 19.6917\n",
      "Epoch 34/500\n",
      "2/2 [==============================] - 0s 3ms/step - loss: 20.1644 - mse: 20.1644\n",
      "Epoch 35/500\n",
      "2/2 [==============================] - 0s 2ms/step - loss: 20.6550 - mse: 20.6550\n",
      "Epoch 36/500\n",
      "2/2 [==============================] - 0s 2ms/step - loss: 21.1986 - mse: 21.1986\n",
      "Epoch 37/500\n",
      "2/2 [==============================] - 0s 1ms/step - loss: 20.0703 - mse: 20.0703\n",
      "Epoch 38/500\n",
      "2/2 [==============================] - 0s 2ms/step - loss: 18.3500 - mse: 18.3500\n",
      "Epoch 39/500\n",
      "2/2 [==============================] - 0s 2ms/step - loss: 18.3291 - mse: 18.3291\n",
      "Epoch 40/500\n",
      "2/2 [==============================] - 0s 2ms/step - loss: 18.5521 - mse: 18.5521\n",
      "Epoch 41/500\n",
      "2/2 [==============================] - 0s 1ms/step - loss: 17.8933 - mse: 17.8933\n",
      "Epoch 42/500\n",
      "2/2 [==============================] - 0s 1ms/step - loss: 17.7085 - mse: 17.7085\n",
      "Epoch 43/500\n",
      "2/2 [==============================] - 0s 1ms/step - loss: 18.9713 - mse: 18.9713\n",
      "Epoch 44/500\n",
      "2/2 [==============================] - 0s 999us/step - loss: 20.5612 - mse: 20.5612\n",
      "Epoch 45/500\n",
      "2/2 [==============================] - 0s 2ms/step - loss: 18.7227 - mse: 18.7227\n",
      "Epoch 46/500\n",
      "2/2 [==============================] - 0s 972us/step - loss: 18.7236 - mse: 18.7236\n",
      "Epoch 47/500\n",
      "2/2 [==============================] - 0s 2ms/step - loss: 16.7220 - mse: 16.7220\n",
      "Epoch 48/500\n",
      "2/2 [==============================] - 0s 2ms/step - loss: 17.5617 - mse: 17.5617\n",
      "Epoch 49/500\n",
      "2/2 [==============================] - 0s 2ms/step - loss: 15.7681 - mse: 15.7681\n",
      "Epoch 50/500\n",
      "2/2 [==============================] - 0s 2ms/step - loss: 15.3094 - mse: 15.3094\n",
      "Epoch 51/500\n",
      "2/2 [==============================] - 0s 2ms/step - loss: 14.9940 - mse: 14.9940\n",
      "Epoch 52/500\n",
      "2/2 [==============================] - 0s 2ms/step - loss: 15.4332 - mse: 15.4332\n",
      "Epoch 53/500\n",
      "2/2 [==============================] - 0s 2ms/step - loss: 15.9413 - mse: 15.9413\n",
      "Epoch 54/500\n",
      "2/2 [==============================] - 0s 2ms/step - loss: 14.4110 - mse: 14.4110\n",
      "Epoch 55/500\n",
      "2/2 [==============================] - 0s 2ms/step - loss: 14.2872 - mse: 14.2872\n",
      "Epoch 56/500\n",
      "2/2 [==============================] - 0s 2ms/step - loss: 14.7070 - mse: 14.7070\n",
      "Epoch 57/500\n",
      "2/2 [==============================] - 0s 2ms/step - loss: 13.7965 - mse: 13.7965\n",
      "Epoch 58/500\n",
      "2/2 [==============================] - 0s 2ms/step - loss: 13.8200 - mse: 13.8200\n",
      "Epoch 59/500\n",
      "2/2 [==============================] - 0s 3ms/step - loss: 13.2534 - mse: 13.2534\n",
      "Epoch 60/500\n",
      "2/2 [==============================] - 0s 2ms/step - loss: 14.4611 - mse: 14.4611\n",
      "Epoch 61/500\n",
      "2/2 [==============================] - 0s 2ms/step - loss: 14.8077 - mse: 14.8077\n",
      "Epoch 62/500\n",
      "2/2 [==============================] - 0s 2ms/step - loss: 13.4292 - mse: 13.4292\n",
      "Epoch 63/500\n",
      "2/2 [==============================] - 0s 2ms/step - loss: 15.5556 - mse: 15.5556\n",
      "Epoch 64/500\n",
      "2/2 [==============================] - 0s 2ms/step - loss: 12.0566 - mse: 12.0566\n",
      "Epoch 65/500\n",
      "2/2 [==============================] - 0s 2ms/step - loss: 11.6722 - mse: 11.6722\n",
      "Epoch 66/500\n",
      "2/2 [==============================] - 0s 2ms/step - loss: 11.4837 - mse: 11.4837\n",
      "Epoch 67/500\n",
      "2/2 [==============================] - 0s 1ms/step - loss: 11.4054 - mse: 11.4054\n",
      "Epoch 68/500\n",
      "2/2 [==============================] - 0s 1ms/step - loss: 11.7909 - mse: 11.7909\n",
      "Epoch 69/500\n",
      "2/2 [==============================] - 0s 2ms/step - loss: 11.8729 - mse: 11.8729\n",
      "Epoch 70/500\n",
      "2/2 [==============================] - 0s 1ms/step - loss: 12.2527 - mse: 12.2527\n",
      "Epoch 71/500\n",
      "2/2 [==============================] - 0s 2ms/step - loss: 10.7072 - mse: 10.7072\n",
      "Epoch 72/500\n",
      "2/2 [==============================] - 0s 2ms/step - loss: 12.6118 - mse: 12.6118\n",
      "Epoch 73/500\n",
      "2/2 [==============================] - 0s 1ms/step - loss: 10.4152 - mse: 10.4152\n",
      "Epoch 74/500\n",
      "2/2 [==============================] - 0s 2ms/step - loss: 10.7882 - mse: 10.7882\n",
      "Epoch 75/500\n",
      "2/2 [==============================] - 0s 2ms/step - loss: 10.8233 - mse: 10.8233\n",
      "Epoch 76/500\n",
      "2/2 [==============================] - 0s 2ms/step - loss: 9.7014 - mse: 9.7014\n",
      "Epoch 77/500\n",
      "2/2 [==============================] - 0s 999us/step - loss: 9.4907 - mse: 9.4907\n",
      "Epoch 78/500\n",
      "2/2 [==============================] - 0s 3ms/step - loss: 10.8971 - mse: 10.8971\n",
      "Epoch 79/500\n",
      "2/2 [==============================] - 0s 1ms/step - loss: 11.8711 - mse: 11.8711\n",
      "Epoch 80/500\n",
      "2/2 [==============================] - 0s 2ms/step - loss: 11.5568 - mse: 11.5568\n",
      "Epoch 81/500\n",
      "2/2 [==============================] - 0s 997us/step - loss: 8.6734 - mse: 8.6734\n",
      "Epoch 82/500\n",
      "2/2 [==============================] - 0s 2ms/step - loss: 8.4717 - mse: 8.4717\n",
      "Epoch 83/500\n",
      "2/2 [==============================] - 0s 2ms/step - loss: 11.9561 - mse: 11.9561\n",
      "Epoch 84/500\n",
      "2/2 [==============================] - 0s 993us/step - loss: 14.6624 - mse: 14.6624\n",
      "Epoch 85/500\n",
      "2/2 [==============================] - 0s 2ms/step - loss: 9.5786 - mse: 9.5786\n",
      "Epoch 86/500\n",
      "2/2 [==============================] - 0s 2ms/step - loss: 7.9244 - mse: 7.9244\n",
      "Epoch 87/500\n"
     ]
    },
    {
     "name": "stdout",
     "output_type": "stream",
     "text": [
      "2/2 [==============================] - 0s 2ms/step - loss: 7.8142 - mse: 7.8142\n",
      "Epoch 88/500\n",
      "2/2 [==============================] - 0s 1ms/step - loss: 7.7418 - mse: 7.7418\n",
      "Epoch 89/500\n",
      "2/2 [==============================] - 0s 2ms/step - loss: 7.4851 - mse: 7.4851\n",
      "Epoch 90/500\n",
      "2/2 [==============================] - 0s 2ms/step - loss: 7.3396 - mse: 7.3396\n",
      "Epoch 91/500\n",
      "2/2 [==============================] - 0s 999us/step - loss: 7.6579 - mse: 7.6579\n",
      "Epoch 92/500\n",
      "2/2 [==============================] - 0s 1ms/step - loss: 7.0666 - mse: 7.0666\n",
      "Epoch 93/500\n",
      "2/2 [==============================] - 0s 959us/step - loss: 8.2852 - mse: 8.2852\n",
      "Epoch 94/500\n",
      "2/2 [==============================] - 0s 2ms/step - loss: 6.9569 - mse: 6.9569\n",
      "Epoch 95/500\n",
      "2/2 [==============================] - 0s 2ms/step - loss: 7.5869 - mse: 7.5869\n",
      "Epoch 96/500\n",
      "2/2 [==============================] - 0s 2ms/step - loss: 7.9582 - mse: 7.9582\n",
      "Epoch 97/500\n",
      "2/2 [==============================] - 0s 2ms/step - loss: 6.7500 - mse: 6.7500\n",
      "Epoch 98/500\n",
      "2/2 [==============================] - 0s 2ms/step - loss: 6.2769 - mse: 6.2769\n",
      "Epoch 99/500\n",
      "2/2 [==============================] - 0s 2ms/step - loss: 6.3254 - mse: 6.3254\n",
      "Epoch 100/500\n",
      "2/2 [==============================] - 0s 2ms/step - loss: 9.8166 - mse: 9.8166\n",
      "Epoch 101/500\n",
      "2/2 [==============================] - 0s 2ms/step - loss: 6.2492 - mse: 6.2492\n",
      "Epoch 102/500\n",
      "2/2 [==============================] - 0s 2ms/step - loss: 5.9199 - mse: 5.9199\n",
      "Epoch 103/500\n",
      "2/2 [==============================] - 0s 1000us/step - loss: 6.2031 - mse: 6.2031\n",
      "Epoch 104/500\n",
      "2/2 [==============================] - 0s 2ms/step - loss: 5.9282 - mse: 5.9282\n",
      "Epoch 105/500\n",
      "2/2 [==============================] - 0s 2ms/step - loss: 6.8268 - mse: 6.8268\n",
      "Epoch 106/500\n",
      "2/2 [==============================] - 0s 2ms/step - loss: 8.0550 - mse: 8.0550\n",
      "Epoch 107/500\n",
      "2/2 [==============================] - 0s 1000us/step - loss: 5.5093 - mse: 5.5093\n",
      "Epoch 108/500\n",
      "2/2 [==============================] - 0s 1ms/step - loss: 5.1252 - mse: 5.1252\n",
      "Epoch 109/500\n",
      "2/2 [==============================] - 0s 3ms/step - loss: 5.0451 - mse: 5.0451\n",
      "Epoch 110/500\n",
      "2/2 [==============================] - 0s 998us/step - loss: 7.7932 - mse: 7.7932\n",
      "Epoch 111/500\n",
      "2/2 [==============================] - 0s 2ms/step - loss: 5.4476 - mse: 5.4476\n",
      "Epoch 112/500\n",
      "2/2 [==============================] - 0s 1ms/step - loss: 6.1041 - mse: 6.1041\n",
      "Epoch 113/500\n",
      "2/2 [==============================] - 0s 1ms/step - loss: 6.6698 - mse: 6.6698\n",
      "Epoch 114/500\n",
      "2/2 [==============================] - 0s 999us/step - loss: 5.0384 - mse: 5.0384\n",
      "Epoch 115/500\n",
      "2/2 [==============================] - 0s 987us/step - loss: 5.6131 - mse: 5.6131\n",
      "Epoch 116/500\n",
      "2/2 [==============================] - 0s 2ms/step - loss: 5.2753 - mse: 5.2753\n",
      "Epoch 117/500\n",
      "2/2 [==============================] - 0s 2ms/step - loss: 5.5026 - mse: 5.5026\n",
      "Epoch 118/500\n",
      "2/2 [==============================] - 0s 2ms/step - loss: 5.5778 - mse: 5.5778\n",
      "Epoch 119/500\n",
      "2/2 [==============================] - 0s 2ms/step - loss: 6.9952 - mse: 6.9952\n",
      "Epoch 120/500\n",
      "2/2 [==============================] - 0s 1ms/step - loss: 5.9741 - mse: 5.9741\n",
      "Epoch 121/500\n",
      "2/2 [==============================] - 0s 2ms/step - loss: 4.2244 - mse: 4.2244\n",
      "Epoch 122/500\n",
      "2/2 [==============================] - 0s 1ms/step - loss: 4.7117 - mse: 4.7117\n",
      "Epoch 123/500\n",
      "2/2 [==============================] - 0s 993us/step - loss: 4.0852 - mse: 4.0852\n",
      "Epoch 124/500\n",
      "2/2 [==============================] - 0s 1ms/step - loss: 4.3026 - mse: 4.3026\n",
      "Epoch 125/500\n",
      "2/2 [==============================] - 0s 1ms/step - loss: 4.0228 - mse: 4.0228\n",
      "Epoch 126/500\n",
      "2/2 [==============================] - 0s 1ms/step - loss: 3.9389 - mse: 3.9389\n",
      "Epoch 127/500\n",
      "2/2 [==============================] - 0s 999us/step - loss: 4.8447 - mse: 4.8447\n",
      "Epoch 128/500\n",
      "2/2 [==============================] - 0s 2ms/step - loss: 4.1432 - mse: 4.1432\n",
      "Epoch 129/500\n",
      "2/2 [==============================] - 0s 2ms/step - loss: 3.6278 - mse: 3.6278\n",
      "Epoch 130/500\n",
      "2/2 [==============================] - 0s 2ms/step - loss: 4.5294 - mse: 4.5294\n",
      "Epoch 131/500\n",
      "2/2 [==============================] - 0s 1ms/step - loss: 5.7463 - mse: 5.7463\n",
      "Epoch 132/500\n",
      "2/2 [==============================] - 0s 2ms/step - loss: 5.8869 - mse: 5.8869\n",
      "Epoch 133/500\n",
      "2/2 [==============================] - 0s 3ms/step - loss: 4.0343 - mse: 4.0343\n",
      "Epoch 134/500\n",
      "2/2 [==============================] - 0s 3ms/step - loss: 3.5777 - mse: 3.5777\n",
      "Epoch 135/500\n",
      "2/2 [==============================] - 0s 2ms/step - loss: 3.3650 - mse: 3.3650\n",
      "Epoch 136/500\n",
      "2/2 [==============================] - 0s 2ms/step - loss: 5.0693 - mse: 5.0693\n",
      "Epoch 137/500\n",
      "2/2 [==============================] - 0s 2ms/step - loss: 3.7575 - mse: 3.7575\n",
      "Epoch 138/500\n",
      "2/2 [==============================] - 0s 2ms/step - loss: 3.8546 - mse: 3.8546\n",
      "Epoch 139/500\n",
      "2/2 [==============================] - 0s 2ms/step - loss: 3.0898 - mse: 3.0898\n",
      "Epoch 140/500\n",
      "2/2 [==============================] - 0s 1000us/step - loss: 3.1188 - mse: 3.1188\n",
      "Epoch 141/500\n",
      "2/2 [==============================] - 0s 2ms/step - loss: 5.3235 - mse: 5.3235\n",
      "Epoch 142/500\n",
      "2/2 [==============================] - 0s 2ms/step - loss: 4.9200 - mse: 4.9200\n",
      "Epoch 143/500\n",
      "2/2 [==============================] - 0s 2ms/step - loss: 3.3615 - mse: 3.3615\n",
      "Epoch 144/500\n",
      "2/2 [==============================] - 0s 2ms/step - loss: 4.3593 - mse: 4.3593\n",
      "Epoch 145/500\n",
      "2/2 [==============================] - 0s 2ms/step - loss: 2.8779 - mse: 2.8779\n",
      "Epoch 146/500\n",
      "2/2 [==============================] - 0s 3ms/step - loss: 3.2511 - mse: 3.2511\n",
      "Epoch 147/500\n",
      "2/2 [==============================] - 0s 2ms/step - loss: 2.8111 - mse: 2.8111\n",
      "Epoch 148/500\n",
      "2/2 [==============================] - 0s 2ms/step - loss: 3.1696 - mse: 3.1696\n",
      "Epoch 149/500\n",
      "2/2 [==============================] - 0s 2ms/step - loss: 4.3760 - mse: 4.3760\n",
      "Epoch 150/500\n",
      "2/2 [==============================] - 0s 2ms/step - loss: 3.6993 - mse: 3.6993\n",
      "Epoch 151/500\n",
      "2/2 [==============================] - 0s 2ms/step - loss: 4.2676 - mse: 4.2676\n",
      "Epoch 152/500\n",
      "2/2 [==============================] - 0s 989us/step - loss: 3.8596 - mse: 3.8596\n",
      "Epoch 153/500\n",
      "2/2 [==============================] - 0s 1ms/step - loss: 2.6025 - mse: 2.6025\n",
      "Epoch 154/500\n",
      "2/2 [==============================] - 0s 1ms/step - loss: 2.6900 - mse: 2.6900\n",
      "Epoch 155/500\n",
      "2/2 [==============================] - 0s 2ms/step - loss: 2.6381 - mse: 2.6381\n",
      "Epoch 156/500\n",
      "2/2 [==============================] - 0s 1ms/step - loss: 2.5978 - mse: 2.5978\n",
      "Epoch 157/500\n",
      "2/2 [==============================] - 0s 2ms/step - loss: 2.8590 - mse: 2.8590\n",
      "Epoch 158/500\n",
      "2/2 [==============================] - 0s 1ms/step - loss: 6.4696 - mse: 6.4696\n",
      "Epoch 159/500\n",
      "2/2 [==============================] - 0s 2ms/step - loss: 4.4114 - mse: 4.4114\n",
      "Epoch 160/500\n",
      "2/2 [==============================] - 0s 1ms/step - loss: 2.9566 - mse: 2.9566\n",
      "Epoch 161/500\n",
      "2/2 [==============================] - 0s 1ms/step - loss: 2.9183 - mse: 2.9183\n",
      "Epoch 162/500\n",
      "2/2 [==============================] - 0s 2ms/step - loss: 5.0684 - mse: 5.0684\n",
      "Epoch 163/500\n",
      "2/2 [==============================] - 0s 2ms/step - loss: 2.4624 - mse: 2.4624\n",
      "Epoch 164/500\n",
      "2/2 [==============================] - 0s 1000us/step - loss: 2.3670 - mse: 2.3670\n",
      "Epoch 165/500\n",
      "2/2 [==============================] - 0s 1ms/step - loss: 2.3222 - mse: 2.3222\n",
      "Epoch 166/500\n",
      "2/2 [==============================] - 0s 1ms/step - loss: 2.5052 - mse: 2.5052\n",
      "Epoch 167/500\n",
      "2/2 [==============================] - 0s 1ms/step - loss: 3.0585 - mse: 3.0585\n",
      "Epoch 168/500\n",
      "2/2 [==============================] - 0s 2ms/step - loss: 2.9226 - mse: 2.9226\n",
      "Epoch 169/500\n",
      "2/2 [==============================] - 0s 1ms/step - loss: 2.7102 - mse: 2.7102\n",
      "Epoch 170/500\n",
      "2/2 [==============================] - 0s 2ms/step - loss: 2.4030 - mse: 2.4030\n",
      "Epoch 171/500\n",
      "2/2 [==============================] - 0s 992us/step - loss: 3.0296 - mse: 3.0296\n",
      "Epoch 172/500\n",
      "2/2 [==============================] - 0s 2ms/step - loss: 3.9823 - mse: 3.9823\n",
      "Epoch 173/500\n",
      "2/2 [==============================] - 0s 2ms/step - loss: 4.1266 - mse: 4.1266\n",
      "Epoch 174/500\n"
     ]
    },
    {
     "name": "stdout",
     "output_type": "stream",
     "text": [
      "2/2 [==============================] - 0s 2ms/step - loss: 4.2909 - mse: 4.2909\n",
      "Epoch 175/500\n",
      "2/2 [==============================] - 0s 2ms/step - loss: 4.5429 - mse: 4.5429\n",
      "Epoch 176/500\n",
      "2/2 [==============================] - 0s 2ms/step - loss: 3.3735 - mse: 3.3735\n",
      "Epoch 177/500\n",
      "2/2 [==============================] - 0s 2ms/step - loss: 2.6573 - mse: 2.6573\n",
      "Epoch 178/500\n",
      "2/2 [==============================] - 0s 2ms/step - loss: 2.7758 - mse: 2.7758\n",
      "Epoch 179/500\n",
      "2/2 [==============================] - 0s 1ms/step - loss: 2.1563 - mse: 2.1563\n",
      "Epoch 180/500\n",
      "2/2 [==============================] - 0s 998us/step - loss: 2.3997 - mse: 2.3997\n",
      "Epoch 181/500\n",
      "2/2 [==============================] - 0s 2ms/step - loss: 3.1209 - mse: 3.1209\n",
      "Epoch 182/500\n",
      "2/2 [==============================] - 0s 2ms/step - loss: 3.0530 - mse: 3.0530\n",
      "Epoch 183/500\n",
      "2/2 [==============================] - 0s 2ms/step - loss: 2.1532 - mse: 2.1532\n",
      "Epoch 184/500\n",
      "2/2 [==============================] - 0s 2ms/step - loss: 3.1713 - mse: 3.1713\n",
      "Epoch 185/500\n",
      "2/2 [==============================] - 0s 1ms/step - loss: 4.5690 - mse: 4.5690\n",
      "Epoch 186/500\n",
      "2/2 [==============================] - 0s 2ms/step - loss: 5.3304 - mse: 5.3304\n",
      "Epoch 187/500\n",
      "2/2 [==============================] - 0s 1ms/step - loss: 3.1026 - mse: 3.1026\n",
      "Epoch 188/500\n",
      "2/2 [==============================] - 0s 999us/step - loss: 2.1776 - mse: 2.1776\n",
      "Epoch 189/500\n",
      "2/2 [==============================] - 0s 2ms/step - loss: 1.9757 - mse: 1.9757\n",
      "Epoch 190/500\n",
      "2/2 [==============================] - 0s 2ms/step - loss: 1.9714 - mse: 1.9714\n",
      "Epoch 191/500\n",
      "2/2 [==============================] - 0s 2ms/step - loss: 2.0701 - mse: 2.0701\n",
      "Epoch 192/500\n",
      "2/2 [==============================] - 0s 2ms/step - loss: 2.6362 - mse: 2.6362\n",
      "Epoch 193/500\n",
      "2/2 [==============================] - 0s 2ms/step - loss: 2.2944 - mse: 2.2944\n",
      "Epoch 194/500\n",
      "2/2 [==============================] - 0s 2ms/step - loss: 3.6005 - mse: 3.6004\n",
      "Epoch 195/500\n",
      "2/2 [==============================] - 0s 2ms/step - loss: 5.6849 - mse: 5.6849\n",
      "Epoch 196/500\n",
      "2/2 [==============================] - 0s 2ms/step - loss: 2.5309 - mse: 2.5309\n",
      "Epoch 197/500\n",
      "2/2 [==============================] - 0s 2ms/step - loss: 1.9782 - mse: 1.9782\n",
      "Epoch 198/500\n",
      "2/2 [==============================] - 0s 2ms/step - loss: 2.0367 - mse: 2.0367\n",
      "Epoch 199/500\n",
      "2/2 [==============================] - 0s 2ms/step - loss: 2.0117 - mse: 2.0117\n",
      "Epoch 200/500\n",
      "2/2 [==============================] - 0s 2ms/step - loss: 2.2854 - mse: 2.2854\n",
      "Epoch 201/500\n",
      "2/2 [==============================] - 0s 1ms/step - loss: 2.6227 - mse: 2.6227\n",
      "Epoch 202/500\n",
      "2/2 [==============================] - 0s 1ms/step - loss: 2.5912 - mse: 2.5912\n",
      "Epoch 203/500\n",
      "2/2 [==============================] - 0s 1ms/step - loss: 2.3430 - mse: 2.3430\n",
      "Epoch 204/500\n",
      "2/2 [==============================] - 0s 2ms/step - loss: 3.9903 - mse: 3.9903\n",
      "Epoch 205/500\n",
      "2/2 [==============================] - 0s 1ms/step - loss: 6.7206 - mse: 6.7206\n",
      "Epoch 206/500\n",
      "2/2 [==============================] - 0s 1ms/step - loss: 4.2437 - mse: 4.2437\n",
      "Epoch 207/500\n",
      "2/2 [==============================] - 0s 2ms/step - loss: 2.8920 - mse: 2.8920\n",
      "Epoch 208/500\n",
      "2/2 [==============================] - 0s 1ms/step - loss: 2.9911 - mse: 2.9911\n",
      "Epoch 209/500\n",
      "2/2 [==============================] - 0s 2ms/step - loss: 2.3803 - mse: 2.3803\n",
      "Epoch 210/500\n",
      "2/2 [==============================] - 0s 2ms/step - loss: 2.1985 - mse: 2.1985\n",
      "Epoch 211/500\n",
      "2/2 [==============================] - 0s 2ms/step - loss: 2.0782 - mse: 2.0782\n",
      "Epoch 212/500\n",
      "2/2 [==============================] - 0s 2ms/step - loss: 1.8164 - mse: 1.8164\n",
      "Epoch 213/500\n",
      "2/2 [==============================] - 0s 2ms/step - loss: 1.8674 - mse: 1.8674\n",
      "Epoch 214/500\n",
      "2/2 [==============================] - 0s 2ms/step - loss: 3.2827 - mse: 3.2827\n",
      "Epoch 215/500\n",
      "2/2 [==============================] - 0s 2ms/step - loss: 2.5313 - mse: 2.5313\n",
      "Epoch 216/500\n",
      "2/2 [==============================] - 0s 2ms/step - loss: 2.3046 - mse: 2.3046\n",
      "Epoch 217/500\n",
      "2/2 [==============================] - 0s 1ms/step - loss: 1.7454 - mse: 1.7454\n",
      "Epoch 218/500\n",
      "2/2 [==============================] - 0s 2ms/step - loss: 4.8400 - mse: 4.8400\n",
      "Epoch 219/500\n",
      "2/2 [==============================] - 0s 1ms/step - loss: 3.7950 - mse: 3.7950\n",
      "Epoch 220/500\n",
      "2/2 [==============================] - 0s 1ms/step - loss: 3.2146 - mse: 3.2146\n",
      "Epoch 221/500\n",
      "2/2 [==============================] - 0s 1ms/step - loss: 2.1802 - mse: 2.1802\n",
      "Epoch 222/500\n",
      "2/2 [==============================] - 0s 2ms/step - loss: 1.7522 - mse: 1.7522\n",
      "Epoch 223/500\n",
      "2/2 [==============================] - 0s 992us/step - loss: 3.0160 - mse: 3.0160\n",
      "Epoch 224/500\n",
      "2/2 [==============================] - 0s 2ms/step - loss: 3.3984 - mse: 3.3984\n",
      "Epoch 225/500\n",
      "2/2 [==============================] - 0s 1ms/step - loss: 1.7703 - mse: 1.7703\n",
      "Epoch 226/500\n",
      "2/2 [==============================] - 0s 2ms/step - loss: 1.8203 - mse: 1.8203\n",
      "Epoch 227/500\n",
      "2/2 [==============================] - 0s 2ms/step - loss: 1.7063 - mse: 1.7063\n",
      "Epoch 228/500\n",
      "2/2 [==============================] - 0s 1ms/step - loss: 1.6985 - mse: 1.6985\n",
      "Epoch 229/500\n",
      "2/2 [==============================] - 0s 987us/step - loss: 1.7375 - mse: 1.7375\n",
      "Epoch 230/500\n",
      "2/2 [==============================] - 0s 2ms/step - loss: 4.8522 - mse: 4.8522\n",
      "Epoch 231/500\n",
      "2/2 [==============================] - 0s 2ms/step - loss: 6.3242 - mse: 6.3242\n",
      "Epoch 232/500\n",
      "2/2 [==============================] - 0s 2ms/step - loss: 2.4043 - mse: 2.4043\n",
      "Epoch 233/500\n",
      "2/2 [==============================] - 0s 2ms/step - loss: 1.9984 - mse: 1.9984\n",
      "Epoch 234/500\n",
      "2/2 [==============================] - 0s 1ms/step - loss: 1.7130 - mse: 1.7130\n",
      "Epoch 235/500\n",
      "2/2 [==============================] - 0s 2ms/step - loss: 1.8036 - mse: 1.8036\n",
      "Epoch 236/500\n",
      "2/2 [==============================] - 0s 2ms/step - loss: 2.1427 - mse: 2.1427\n",
      "Epoch 237/500\n",
      "2/2 [==============================] - 0s 2ms/step - loss: 1.9542 - mse: 1.9542\n",
      "Epoch 238/500\n",
      "2/2 [==============================] - 0s 992us/step - loss: 2.4483 - mse: 2.4483\n",
      "Epoch 239/500\n",
      "2/2 [==============================] - 0s 2ms/step - loss: 3.2664 - mse: 3.2664\n",
      "Epoch 240/500\n",
      "2/2 [==============================] - 0s 2ms/step - loss: 4.1265 - mse: 4.1265\n",
      "Epoch 241/500\n",
      "2/2 [==============================] - 0s 1ms/step - loss: 2.5113 - mse: 2.5113\n",
      "Epoch 242/500\n",
      "2/2 [==============================] - 0s 1000us/step - loss: 1.6388 - mse: 1.6388\n",
      "Epoch 243/500\n",
      "2/2 [==============================] - 0s 2ms/step - loss: 1.6692 - mse: 1.6692\n",
      "Epoch 244/500\n",
      "2/2 [==============================] - 0s 2ms/step - loss: 1.9632 - mse: 1.9632\n",
      "Epoch 245/500\n",
      "2/2 [==============================] - 0s 2ms/step - loss: 2.0420 - mse: 2.0420\n",
      "Epoch 246/500\n",
      "2/2 [==============================] - 0s 2ms/step - loss: 2.9872 - mse: 2.9872\n",
      "Epoch 247/500\n",
      "2/2 [==============================] - 0s 2ms/step - loss: 4.1562 - mse: 4.1562\n",
      "Epoch 248/500\n",
      "2/2 [==============================] - 0s 1ms/step - loss: 2.4313 - mse: 2.4313\n",
      "Epoch 249/500\n",
      "2/2 [==============================] - 0s 987us/step - loss: 1.6285 - mse: 1.6285\n",
      "Epoch 250/500\n",
      "2/2 [==============================] - 0s 2ms/step - loss: 1.6087 - mse: 1.6087\n",
      "Epoch 251/500\n",
      "2/2 [==============================] - 0s 2ms/step - loss: 1.7138 - mse: 1.7138\n",
      "Epoch 252/500\n",
      "2/2 [==============================] - 0s 1ms/step - loss: 1.6294 - mse: 1.6294\n",
      "Epoch 253/500\n",
      "2/2 [==============================] - 0s 2ms/step - loss: 1.8718 - mse: 1.8718\n",
      "Epoch 254/500\n",
      "2/2 [==============================] - 0s 2ms/step - loss: 5.1621 - mse: 5.1621\n",
      "Epoch 255/500\n",
      "2/2 [==============================] - 0s 2ms/step - loss: 6.7752 - mse: 6.7752\n",
      "Epoch 256/500\n",
      "2/2 [==============================] - 0s 4ms/step - loss: 2.0333 - mse: 2.0333\n",
      "Epoch 257/500\n",
      "2/2 [==============================] - 0s 2ms/step - loss: 1.6245 - mse: 1.6245\n",
      "Epoch 258/500\n",
      "2/2 [==============================] - 0s 2ms/step - loss: 2.0264 - mse: 2.0264\n",
      "Epoch 259/500\n",
      "2/2 [==============================] - 0s 1ms/step - loss: 2.4560 - mse: 2.4560\n",
      "Epoch 260/500\n",
      "2/2 [==============================] - 0s 2ms/step - loss: 2.7548 - mse: 2.7548\n",
      "Epoch 261/500\n"
     ]
    },
    {
     "name": "stdout",
     "output_type": "stream",
     "text": [
      "2/2 [==============================] - 0s 2ms/step - loss: 1.5867 - mse: 1.5867\n",
      "Epoch 262/500\n",
      "2/2 [==============================] - 0s 2ms/step - loss: 2.5481 - mse: 2.5481\n",
      "Epoch 263/500\n",
      "2/2 [==============================] - 0s 2ms/step - loss: 2.1712 - mse: 2.1712\n",
      "Epoch 264/500\n",
      "2/2 [==============================] - 0s 1ms/step - loss: 1.7771 - mse: 1.7771\n",
      "Epoch 265/500\n",
      "2/2 [==============================] - 0s 2ms/step - loss: 2.3658 - mse: 2.3658\n",
      "Epoch 266/500\n",
      "2/2 [==============================] - 0s 3ms/step - loss: 3.4130 - mse: 3.4130\n",
      "Epoch 267/500\n",
      "2/2 [==============================] - 0s 2ms/step - loss: 1.7894 - mse: 1.7894\n",
      "Epoch 268/500\n",
      "2/2 [==============================] - 0s 3ms/step - loss: 1.5550 - mse: 1.5550\n",
      "Epoch 269/500\n",
      "2/2 [==============================] - 0s 2ms/step - loss: 2.2022 - mse: 2.2022\n",
      "Epoch 270/500\n",
      "2/2 [==============================] - 0s 2ms/step - loss: 2.9195 - mse: 2.9195\n",
      "Epoch 271/500\n",
      "2/2 [==============================] - 0s 2ms/step - loss: 3.7224 - mse: 3.7224\n",
      "Epoch 272/500\n",
      "2/2 [==============================] - 0s 2ms/step - loss: 4.4369 - mse: 4.4369\n",
      "Epoch 273/500\n",
      "2/2 [==============================] - 0s 587us/step - loss: 2.3591 - mse: 2.3591\n",
      "Epoch 274/500\n",
      "2/2 [==============================] - 0s 2ms/step - loss: 2.5887 - mse: 2.5887\n",
      "Epoch 275/500\n",
      "2/2 [==============================] - 0s 1ms/step - loss: 2.2349 - mse: 2.2349\n",
      "Epoch 276/500\n",
      "2/2 [==============================] - 0s 2ms/step - loss: 3.1030 - mse: 3.1030\n",
      "Epoch 277/500\n",
      "2/2 [==============================] - 0s 992us/step - loss: 4.3159 - mse: 4.3159\n",
      "Epoch 278/500\n",
      "2/2 [==============================] - 0s 2ms/step - loss: 2.3766 - mse: 2.3766\n",
      "Epoch 279/500\n",
      "2/2 [==============================] - 0s 993us/step - loss: 2.5714 - mse: 2.5714\n",
      "Epoch 280/500\n",
      "2/2 [==============================] - 0s 2ms/step - loss: 3.3362 - mse: 3.3362\n",
      "Epoch 281/500\n",
      "2/2 [==============================] - 0s 1ms/step - loss: 2.0142 - mse: 2.0142\n",
      "Epoch 282/500\n",
      "2/2 [==============================] - 0s 2ms/step - loss: 1.5231 - mse: 1.5231\n",
      "Epoch 283/500\n",
      "2/2 [==============================] - 0s 2ms/step - loss: 1.5251 - mse: 1.5251\n",
      "Epoch 284/500\n",
      "2/2 [==============================] - 0s 1ms/step - loss: 2.3649 - mse: 2.3649\n",
      "Epoch 285/500\n",
      "2/2 [==============================] - 0s 2ms/step - loss: 2.8212 - mse: 2.8212\n",
      "Epoch 286/500\n",
      "2/2 [==============================] - 0s 1ms/step - loss: 3.1367 - mse: 3.1367\n",
      "Epoch 287/500\n",
      "2/2 [==============================] - 0s 1ms/step - loss: 3.2458 - mse: 3.2458\n",
      "Epoch 288/500\n",
      "2/2 [==============================] - 0s 2ms/step - loss: 3.2754 - mse: 3.2754\n",
      "Epoch 289/500\n",
      "2/2 [==============================] - 0s 1ms/step - loss: 1.9597 - mse: 1.9597\n",
      "Epoch 290/500\n",
      "2/2 [==============================] - 0s 2ms/step - loss: 3.3942 - mse: 3.3942\n",
      "Epoch 291/500\n",
      "2/2 [==============================] - 0s 1ms/step - loss: 3.4743 - mse: 3.4743\n",
      "Epoch 292/500\n",
      "2/2 [==============================] - 0s 2ms/step - loss: 1.7249 - mse: 1.7249\n",
      "Epoch 293/500\n",
      "2/2 [==============================] - 0s 2ms/step - loss: 1.7382 - mse: 1.7382\n",
      "Epoch 294/500\n",
      "2/2 [==============================] - 0s 1ms/step - loss: 1.6080 - mse: 1.6080\n",
      "Epoch 295/500\n",
      "2/2 [==============================] - 0s 995us/step - loss: 1.5388 - mse: 1.5388\n",
      "Epoch 296/500\n",
      "2/2 [==============================] - 0s 3ms/step - loss: 2.6918 - mse: 2.6918\n",
      "Epoch 297/500\n",
      "2/2 [==============================] - 0s 8ms/step - loss: 3.6311 - mse: 3.6311\n",
      "Epoch 298/500\n",
      "2/2 [==============================] - 0s 6ms/step - loss: 2.6100 - mse: 2.6100\n",
      "Epoch 299/500\n",
      "2/2 [==============================] - 0s 3ms/step - loss: 1.8865 - mse: 1.8865\n",
      "Epoch 300/500\n",
      "2/2 [==============================] - 0s 4ms/step - loss: 1.4881 - mse: 1.4881\n",
      "Epoch 301/500\n",
      "2/2 [==============================] - 0s 3ms/step - loss: 1.4746 - mse: 1.4746\n",
      "Epoch 302/500\n",
      "2/2 [==============================] - 0s 2ms/step - loss: 1.8975 - mse: 1.8975\n",
      "Epoch 303/500\n",
      "2/2 [==============================] - 0s 2ms/step - loss: 2.7975 - mse: 2.7975\n",
      "Epoch 304/500\n",
      "2/2 [==============================] - 0s 9ms/step - loss: 2.8838 - mse: 2.8838\n",
      "Epoch 305/500\n",
      "2/2 [==============================] - 0s 2ms/step - loss: 3.6999 - mse: 3.6999\n",
      "Epoch 306/500\n",
      "2/2 [==============================] - 0s 3ms/step - loss: 5.0122 - mse: 5.0122\n",
      "Epoch 307/500\n",
      "2/2 [==============================] - 0s 2ms/step - loss: 2.0226 - mse: 2.0226\n",
      "Epoch 308/500\n",
      "2/2 [==============================] - 0s 1ms/step - loss: 1.6603 - mse: 1.6603\n",
      "Epoch 309/500\n",
      "2/2 [==============================] - 0s 1ms/step - loss: 1.4966 - mse: 1.4966\n",
      "Epoch 310/500\n",
      "2/2 [==============================] - 0s 2ms/step - loss: 2.4558 - mse: 2.4558\n",
      "Epoch 311/500\n",
      "2/2 [==============================] - 0s 2ms/step - loss: 2.5190 - mse: 2.5190\n",
      "Epoch 312/500\n",
      "2/2 [==============================] - 0s 994us/step - loss: 2.1105 - mse: 2.1105\n",
      "Epoch 313/500\n",
      "2/2 [==============================] - 0s 2ms/step - loss: 1.5317 - mse: 1.5317\n",
      "Epoch 314/500\n",
      "2/2 [==============================] - 0s 993us/step - loss: 1.5286 - mse: 1.5286\n",
      "Epoch 315/500\n",
      "2/2 [==============================] - 0s 2ms/step - loss: 1.4472 - mse: 1.4472\n",
      "Epoch 316/500\n",
      "2/2 [==============================] - 0s 2ms/step - loss: 1.6485 - mse: 1.6485\n",
      "Epoch 317/500\n",
      "2/2 [==============================] - 0s 2ms/step - loss: 5.3144 - mse: 5.3144\n",
      "Epoch 318/500\n",
      "2/2 [==============================] - 0s 2ms/step - loss: 3.1704 - mse: 3.1704\n",
      "Epoch 319/500\n",
      "2/2 [==============================] - 0s 2ms/step - loss: 1.8394 - mse: 1.8394\n",
      "Epoch 320/500\n",
      "2/2 [==============================] - 0s 2ms/step - loss: 2.1561 - mse: 2.1561\n",
      "Epoch 321/500\n",
      "2/2 [==============================] - 0s 1ms/step - loss: 3.4396 - mse: 3.4396\n",
      "Epoch 322/500\n",
      "2/2 [==============================] - 0s 993us/step - loss: 2.8791 - mse: 2.8791\n",
      "Epoch 323/500\n",
      "2/2 [==============================] - 0s 2ms/step - loss: 2.1810 - mse: 2.1810\n",
      "Epoch 324/500\n",
      "2/2 [==============================] - 0s 1ms/step - loss: 2.1931 - mse: 2.1931\n",
      "Epoch 325/500\n",
      "2/2 [==============================] - 0s 2ms/step - loss: 1.5991 - mse: 1.5991\n",
      "Epoch 326/500\n",
      "2/2 [==============================] - 0s 2ms/step - loss: 1.7655 - mse: 1.7655\n",
      "Epoch 327/500\n",
      "2/2 [==============================] - 0s 1000us/step - loss: 2.2769 - mse: 2.2769\n",
      "Epoch 328/500\n",
      "2/2 [==============================] - 0s 2ms/step - loss: 2.5422 - mse: 2.5422\n",
      "Epoch 329/500\n",
      "2/2 [==============================] - 0s 2ms/step - loss: 1.8631 - mse: 1.8631\n",
      "Epoch 330/500\n",
      "2/2 [==============================] - 0s 2ms/step - loss: 1.4371 - mse: 1.4371\n",
      "Epoch 331/500\n",
      "2/2 [==============================] - 0s 2ms/step - loss: 1.4352 - mse: 1.4352\n",
      "Epoch 332/500\n",
      "2/2 [==============================] - 0s 998us/step - loss: 1.5150 - mse: 1.5150\n",
      "Epoch 333/500\n",
      "2/2 [==============================] - 0s 1ms/step - loss: 2.3978 - mse: 2.3978\n",
      "Epoch 334/500\n",
      "2/2 [==============================] - 0s 2ms/step - loss: 4.8463 - mse: 4.8463\n",
      "Epoch 335/500\n",
      "2/2 [==============================] - 0s 2ms/step - loss: 3.8206 - mse: 3.8206\n",
      "Epoch 336/500\n",
      "2/2 [==============================] - 0s 2ms/step - loss: 2.1091 - mse: 2.1091\n",
      "Epoch 337/500\n",
      "2/2 [==============================] - 0s 1ms/step - loss: 1.9447 - mse: 1.9447\n",
      "Epoch 338/500\n",
      "2/2 [==============================] - 0s 2ms/step - loss: 2.6491 - mse: 2.6491\n",
      "Epoch 339/500\n",
      "2/2 [==============================] - 0s 1ms/step - loss: 1.5940 - mse: 1.5940\n",
      "Epoch 340/500\n",
      "2/2 [==============================] - 0s 1ms/step - loss: 1.4215 - mse: 1.4215\n",
      "Epoch 341/500\n",
      "2/2 [==============================] - 0s 1ms/step - loss: 2.5305 - mse: 2.5305\n",
      "Epoch 342/500\n",
      "2/2 [==============================] - 0s 2ms/step - loss: 3.5793 - mse: 3.5793\n",
      "Epoch 343/500\n",
      "2/2 [==============================] - 0s 1ms/step - loss: 2.3314 - mse: 2.3314\n",
      "Epoch 344/500\n",
      "2/2 [==============================] - 0s 1ms/step - loss: 2.4037 - mse: 2.4037\n",
      "Epoch 345/500\n",
      "2/2 [==============================] - 0s 1ms/step - loss: 1.4105 - mse: 1.4105\n",
      "Epoch 346/500\n",
      "2/2 [==============================] - 0s 2ms/step - loss: 2.1733 - mse: 2.1733\n",
      "Epoch 347/500\n",
      "2/2 [==============================] - 0s 1ms/step - loss: 2.7855 - mse: 2.7855\n",
      "Epoch 348/500\n"
     ]
    },
    {
     "name": "stdout",
     "output_type": "stream",
     "text": [
      "2/2 [==============================] - 0s 1ms/step - loss: 4.1589 - mse: 4.1589\n",
      "Epoch 349/500\n",
      "2/2 [==============================] - 0s 2ms/step - loss: 2.1980 - mse: 2.1980\n",
      "Epoch 350/500\n",
      "2/2 [==============================] - 0s 2ms/step - loss: 3.1773 - mse: 3.1773\n",
      "Epoch 351/500\n",
      "2/2 [==============================] - 0s 2ms/step - loss: 1.5362 - mse: 1.5362\n",
      "Epoch 352/500\n",
      "2/2 [==============================] - 0s 1ms/step - loss: 2.1522 - mse: 2.1522\n",
      "Epoch 353/500\n",
      "2/2 [==============================] - 0s 2ms/step - loss: 2.2395 - mse: 2.2395\n",
      "Epoch 354/500\n",
      "2/2 [==============================] - 0s 2ms/step - loss: 2.2488 - mse: 2.2488\n",
      "Epoch 355/500\n",
      "2/2 [==============================] - 0s 1ms/step - loss: 2.6640 - mse: 2.6640\n",
      "Epoch 356/500\n",
      "2/2 [==============================] - 0s 1ms/step - loss: 1.8171 - mse: 1.8171\n",
      "Epoch 357/500\n",
      "2/2 [==============================] - 0s 1ms/step - loss: 1.7456 - mse: 1.7456\n",
      "Epoch 358/500\n",
      "2/2 [==============================] - 0s 2ms/step - loss: 3.6948 - mse: 3.6948\n",
      "Epoch 359/500\n",
      "2/2 [==============================] - 0s 2ms/step - loss: 3.0051 - mse: 3.0051\n",
      "Epoch 360/500\n",
      "2/2 [==============================] - 0s 997us/step - loss: 1.6595 - mse: 1.6595\n",
      "Epoch 361/500\n",
      "2/2 [==============================] - 0s 2ms/step - loss: 1.7364 - mse: 1.7364\n",
      "Epoch 362/500\n",
      "2/2 [==============================] - 0s 2ms/step - loss: 2.2230 - mse: 2.2230\n",
      "Epoch 363/500\n",
      "2/2 [==============================] - 0s 2ms/step - loss: 1.4474 - mse: 1.4474\n",
      "Epoch 364/500\n",
      "2/2 [==============================] - 0s 2ms/step - loss: 1.4646 - mse: 1.4646\n",
      "Epoch 365/500\n",
      "2/2 [==============================] - 0s 1ms/step - loss: 3.6704 - mse: 3.6704\n",
      "Epoch 366/500\n",
      "2/2 [==============================] - 0s 2ms/step - loss: 5.3521 - mse: 5.3521\n",
      "Epoch 367/500\n",
      "2/2 [==============================] - 0s 2ms/step - loss: 3.6788 - mse: 3.6788\n",
      "Epoch 368/500\n",
      "2/2 [==============================] - 0s 2ms/step - loss: 1.7931 - mse: 1.7931\n",
      "Epoch 369/500\n",
      "2/2 [==============================] - 0s 994us/step - loss: 1.6566 - mse: 1.6566\n",
      "Epoch 370/500\n",
      "2/2 [==============================] - 0s 994us/step - loss: 2.2031 - mse: 2.2031\n",
      "Epoch 371/500\n",
      "2/2 [==============================] - 0s 2ms/step - loss: 2.6338 - mse: 2.6338\n",
      "Epoch 372/500\n",
      "2/2 [==============================] - 0s 2ms/step - loss: 3.3665 - mse: 3.3665\n",
      "Epoch 373/500\n",
      "2/2 [==============================] - 0s 2ms/step - loss: 1.8105 - mse: 1.8105\n",
      "Epoch 374/500\n",
      "2/2 [==============================] - 0s 1ms/step - loss: 1.3716 - mse: 1.3716\n",
      "Epoch 375/500\n",
      "2/2 [==============================] - 0s 2ms/step - loss: 1.3572 - mse: 1.3572\n",
      "Epoch 376/500\n",
      "2/2 [==============================] - 0s 2ms/step - loss: 1.3943 - mse: 1.3943\n",
      "Epoch 377/500\n",
      "2/2 [==============================] - 0s 1000us/step - loss: 1.3499 - mse: 1.3499\n",
      "Epoch 378/500\n",
      "2/2 [==============================] - 0s 2ms/step - loss: 1.3220 - mse: 1.3220\n",
      "Epoch 379/500\n",
      "2/2 [==============================] - 0s 2ms/step - loss: 2.6987 - mse: 2.6987\n",
      "Epoch 380/500\n",
      "2/2 [==============================] - 0s 2ms/step - loss: 7.4073 - mse: 7.4073\n",
      "Epoch 381/500\n",
      "2/2 [==============================] - 0s 2ms/step - loss: 2.4731 - mse: 2.4731\n",
      "Epoch 382/500\n",
      "2/2 [==============================] - 0s 999us/step - loss: 1.3527 - mse: 1.3527\n",
      "Epoch 383/500\n",
      "2/2 [==============================] - 0s 2ms/step - loss: 1.5912 - mse: 1.5912\n",
      "Epoch 384/500\n",
      "2/2 [==============================] - 0s 2ms/step - loss: 1.5328 - mse: 1.5328\n",
      "Epoch 385/500\n",
      "2/2 [==============================] - 0s 996us/step - loss: 1.5062 - mse: 1.5062\n",
      "Epoch 386/500\n",
      "2/2 [==============================] - 0s 2ms/step - loss: 1.9717 - mse: 1.9717\n",
      "Epoch 387/500\n",
      "2/2 [==============================] - 0s 997us/step - loss: 3.5742 - mse: 3.5742\n",
      "Epoch 388/500\n",
      "2/2 [==============================] - 0s 2ms/step - loss: 2.0098 - mse: 2.0098\n",
      "Epoch 389/500\n",
      "2/2 [==============================] - 0s 1ms/step - loss: 1.3218 - mse: 1.3218\n",
      "Epoch 390/500\n",
      "2/2 [==============================] - 0s 2ms/step - loss: 1.5485 - mse: 1.5485\n",
      "Epoch 391/500\n",
      "2/2 [==============================] - 0s 2ms/step - loss: 2.6151 - mse: 2.6151\n",
      "Epoch 392/500\n",
      "2/2 [==============================] - 0s 1ms/step - loss: 2.2645 - mse: 2.2645\n",
      "Epoch 393/500\n",
      "2/2 [==============================] - 0s 1ms/step - loss: 1.7229 - mse: 1.7229\n",
      "Epoch 394/500\n",
      "2/2 [==============================] - 0s 1ms/step - loss: 1.3089 - mse: 1.3089\n",
      "Epoch 395/500\n",
      "2/2 [==============================] - 0s 2ms/step - loss: 1.9181 - mse: 1.9181\n",
      "Epoch 396/500\n",
      "2/2 [==============================] - 0s 2ms/step - loss: 5.0838 - mse: 5.0838\n",
      "Epoch 397/500\n",
      "2/2 [==============================] - 0s 2ms/step - loss: 4.8852 - mse: 4.8852\n",
      "Epoch 398/500\n",
      "2/2 [==============================] - 0s 1ms/step - loss: 1.4331 - mse: 1.4331\n",
      "Epoch 399/500\n",
      "2/2 [==============================] - 0s 1000us/step - loss: 1.3901 - mse: 1.3901\n",
      "Epoch 400/500\n",
      "2/2 [==============================] - 0s 2ms/step - loss: 2.1583 - mse: 2.1583\n",
      "Epoch 401/500\n",
      "2/2 [==============================] - 0s 2ms/step - loss: 3.2610 - mse: 3.2610\n",
      "Epoch 402/500\n",
      "2/2 [==============================] - 0s 2ms/step - loss: 2.4425 - mse: 2.4425\n",
      "Epoch 403/500\n",
      "2/2 [==============================] - 0s 1ms/step - loss: 1.4738 - mse: 1.4738\n",
      "Epoch 404/500\n",
      "2/2 [==============================] - 0s 2ms/step - loss: 2.0969 - mse: 2.0969\n",
      "Epoch 405/500\n",
      "2/2 [==============================] - 0s 1ms/step - loss: 2.7370 - mse: 2.7370\n",
      "Epoch 406/500\n",
      "2/2 [==============================] - 0s 2ms/step - loss: 2.1452 - mse: 2.1452\n",
      "Epoch 407/500\n",
      "2/2 [==============================] - 0s 2ms/step - loss: 1.8885 - mse: 1.8885\n",
      "Epoch 408/500\n",
      "2/2 [==============================] - 0s 1ms/step - loss: 1.9035 - mse: 1.9035\n",
      "Epoch 409/500\n",
      "2/2 [==============================] - 0s 1ms/step - loss: 1.8415 - mse: 1.8415\n",
      "Epoch 410/500\n",
      "2/2 [==============================] - 0s 2ms/step - loss: 1.5770 - mse: 1.5770\n",
      "Epoch 411/500\n",
      "2/2 [==============================] - 0s 995us/step - loss: 2.0628 - mse: 2.0628\n",
      "Epoch 412/500\n",
      "2/2 [==============================] - 0s 998us/step - loss: 3.1693 - mse: 3.1693\n",
      "Epoch 413/500\n",
      "2/2 [==============================] - 0s 1ms/step - loss: 3.0837 - mse: 3.0837\n",
      "Epoch 414/500\n",
      "2/2 [==============================] - 0s 2ms/step - loss: 2.1736 - mse: 2.1736\n",
      "Epoch 415/500\n",
      "2/2 [==============================] - 0s 2ms/step - loss: 1.6591 - mse: 1.6591\n",
      "Epoch 416/500\n",
      "2/2 [==============================] - 0s 2ms/step - loss: 1.3879 - mse: 1.3879\n",
      "Epoch 417/500\n",
      "2/2 [==============================] - 0s 2ms/step - loss: 1.4620 - mse: 1.4620\n",
      "Epoch 418/500\n",
      "2/2 [==============================] - 0s 2ms/step - loss: 3.2216 - mse: 3.2216\n",
      "Epoch 419/500\n",
      "2/2 [==============================] - 0s 1000us/step - loss: 2.8103 - mse: 2.8103\n",
      "Epoch 420/500\n",
      "2/2 [==============================] - 0s 996us/step - loss: 2.3241 - mse: 2.3241\n",
      "Epoch 421/500\n",
      "2/2 [==============================] - 0s 2ms/step - loss: 2.3586 - mse: 2.3586\n",
      "Epoch 422/500\n",
      "2/2 [==============================] - 0s 2ms/step - loss: 3.0411 - mse: 3.0411\n",
      "Epoch 423/500\n",
      "2/2 [==============================] - 0s 2ms/step - loss: 2.0196 - mse: 2.0196\n",
      "Epoch 424/500\n",
      "2/2 [==============================] - 0s 2ms/step - loss: 1.4593 - mse: 1.4593\n",
      "Epoch 425/500\n",
      "2/2 [==============================] - 0s 2ms/step - loss: 1.7169 - mse: 1.7169\n",
      "Epoch 426/500\n",
      "2/2 [==============================] - 0s 1ms/step - loss: 2.4878 - mse: 2.4878\n",
      "Epoch 427/500\n",
      "2/2 [==============================] - 0s 3ms/step - loss: 3.7178 - mse: 3.7178\n",
      "Epoch 428/500\n",
      "2/2 [==============================] - 0s 1ms/step - loss: 1.7902 - mse: 1.7902\n",
      "Epoch 429/500\n",
      "2/2 [==============================] - 0s 2ms/step - loss: 2.1815 - mse: 2.1815\n",
      "Epoch 430/500\n",
      "2/2 [==============================] - 0s 1ms/step - loss: 3.1506 - mse: 3.1506\n",
      "Epoch 431/500\n",
      "2/2 [==============================] - 0s 2ms/step - loss: 2.8469 - mse: 2.8469\n",
      "Epoch 432/500\n",
      "2/2 [==============================] - 0s 2ms/step - loss: 1.9923 - mse: 1.9923\n",
      "Epoch 433/500\n",
      "2/2 [==============================] - 0s 1ms/step - loss: 2.2840 - mse: 2.2840\n",
      "Epoch 434/500\n",
      "2/2 [==============================] - 0s 2ms/step - loss: 1.6580 - mse: 1.6580\n",
      "Epoch 435/500\n"
     ]
    },
    {
     "name": "stdout",
     "output_type": "stream",
     "text": [
      "2/2 [==============================] - 0s 2ms/step - loss: 1.2807 - mse: 1.2807\n",
      "Epoch 436/500\n",
      "2/2 [==============================] - 0s 2ms/step - loss: 1.5934 - mse: 1.5934\n",
      "Epoch 437/500\n",
      "2/2 [==============================] - 0s 1ms/step - loss: 1.2549 - mse: 1.2549\n",
      "Epoch 438/500\n",
      "2/2 [==============================] - 0s 2ms/step - loss: 2.7199 - mse: 2.7199\n",
      "Epoch 439/500\n",
      "2/2 [==============================] - 0s 2ms/step - loss: 4.3574 - mse: 4.3574\n",
      "Epoch 440/500\n",
      "2/2 [==============================] - 0s 1ms/step - loss: 3.9578 - mse: 3.9578\n",
      "Epoch 441/500\n",
      "2/2 [==============================] - 0s 998us/step - loss: 2.5069 - mse: 2.5069\n",
      "Epoch 442/500\n",
      "2/2 [==============================] - 0s 2ms/step - loss: 2.2740 - mse: 2.2740\n",
      "Epoch 443/500\n",
      "2/2 [==============================] - 0s 2ms/step - loss: 1.6440 - mse: 1.6440\n",
      "Epoch 444/500\n",
      "2/2 [==============================] - 0s 3ms/step - loss: 1.2536 - mse: 1.2536\n",
      "Epoch 445/500\n",
      "2/2 [==============================] - 0s 2ms/step - loss: 1.2879 - mse: 1.2879\n",
      "Epoch 446/500\n",
      "2/2 [==============================] - 0s 1ms/step - loss: 1.4749 - mse: 1.4749\n",
      "Epoch 447/500\n",
      "2/2 [==============================] - 0s 2ms/step - loss: 2.5475 - mse: 2.5475\n",
      "Epoch 448/500\n",
      "2/2 [==============================] - 0s 2ms/step - loss: 4.0895 - mse: 4.0895\n",
      "Epoch 449/500\n",
      "2/2 [==============================] - 0s 2ms/step - loss: 2.2114 - mse: 2.2114\n",
      "Epoch 450/500\n",
      "2/2 [==============================] - 0s 3ms/step - loss: 1.2881 - mse: 1.2881\n",
      "Epoch 451/500\n",
      "2/2 [==============================] - 0s 2ms/step - loss: 1.6981 - mse: 1.6981\n",
      "Epoch 452/500\n",
      "2/2 [==============================] - 0s 992us/step - loss: 1.7972 - mse: 1.7972\n",
      "Epoch 453/500\n",
      "2/2 [==============================] - 0s 993us/step - loss: 1.9824 - mse: 1.9824\n",
      "Epoch 454/500\n",
      "2/2 [==============================] - 0s 2ms/step - loss: 2.4131 - mse: 2.4131\n",
      "Epoch 455/500\n",
      "2/2 [==============================] - 0s 998us/step - loss: 2.2846 - mse: 2.2846\n",
      "Epoch 456/500\n",
      "2/2 [==============================] - 0s 2ms/step - loss: 2.8715 - mse: 2.8715\n",
      "Epoch 457/500\n",
      "2/2 [==============================] - 0s 993us/step - loss: 2.9244 - mse: 2.9244\n",
      "Epoch 458/500\n",
      "2/2 [==============================] - 0s 2ms/step - loss: 2.4784 - mse: 2.4784\n",
      "Epoch 459/500\n",
      "2/2 [==============================] - 0s 2ms/step - loss: 1.4236 - mse: 1.4236\n",
      "Epoch 460/500\n",
      "2/2 [==============================] - 0s 2ms/step - loss: 1.7250 - mse: 1.7250\n",
      "Epoch 461/500\n",
      "2/2 [==============================] - 0s 2ms/step - loss: 2.1445 - mse: 2.1445\n",
      "Epoch 462/500\n",
      "2/2 [==============================] - 0s 2ms/step - loss: 2.0688 - mse: 2.0688\n",
      "Epoch 463/500\n",
      "2/2 [==============================] - 0s 2ms/step - loss: 1.5902 - mse: 1.5902\n",
      "Epoch 464/500\n",
      "2/2 [==============================] - 0s 2ms/step - loss: 1.5501 - mse: 1.5501\n",
      "Epoch 465/500\n",
      "2/2 [==============================] - 0s 993us/step - loss: 2.5397 - mse: 2.5397\n",
      "Epoch 466/500\n",
      "2/2 [==============================] - 0s 2ms/step - loss: 4.1147 - mse: 4.1147\n",
      "Epoch 467/500\n",
      "2/2 [==============================] - 0s 2ms/step - loss: 3.1134 - mse: 3.1134\n",
      "Epoch 468/500\n",
      "2/2 [==============================] - 0s 2ms/step - loss: 1.6902 - mse: 1.6902\n",
      "Epoch 469/500\n",
      "2/2 [==============================] - 0s 993us/step - loss: 1.2985 - mse: 1.2985\n",
      "Epoch 470/500\n",
      "2/2 [==============================] - 0s 1ms/step - loss: 1.2303 - mse: 1.2303\n",
      "Epoch 471/500\n",
      "2/2 [==============================] - 0s 1000us/step - loss: 1.3140 - mse: 1.3140\n",
      "Epoch 472/500\n",
      "2/2 [==============================] - 0s 1ms/step - loss: 1.9001 - mse: 1.9001\n",
      "Epoch 473/500\n",
      "2/2 [==============================] - 0s 1ms/step - loss: 3.6250 - mse: 3.6250\n",
      "Epoch 474/500\n",
      "2/2 [==============================] - 0s 2ms/step - loss: 3.5244 - mse: 3.5244\n",
      "Epoch 475/500\n",
      "2/2 [==============================] - 0s 2ms/step - loss: 1.4813 - mse: 1.4813\n",
      "Epoch 476/500\n",
      "2/2 [==============================] - 0s 2ms/step - loss: 1.2401 - mse: 1.2401\n",
      "Epoch 477/500\n",
      "2/2 [==============================] - 0s 1ms/step - loss: 1.3472 - mse: 1.3472\n",
      "Epoch 478/500\n",
      "2/2 [==============================] - 0s 2ms/step - loss: 1.4728 - mse: 1.4728\n",
      "Epoch 479/500\n",
      "2/2 [==============================] - 0s 2ms/step - loss: 1.9757 - mse: 1.9757\n",
      "Epoch 480/500\n",
      "2/2 [==============================] - 0s 2ms/step - loss: 2.5654 - mse: 2.5654\n",
      "Epoch 481/500\n",
      "2/2 [==============================] - 0s 1ms/step - loss: 2.7608 - mse: 2.7608\n",
      "Epoch 482/500\n",
      "2/2 [==============================] - 0s 1ms/step - loss: 2.8875 - mse: 2.8875\n",
      "Epoch 483/500\n",
      "2/2 [==============================] - 0s 2ms/step - loss: 2.0913 - mse: 2.0913\n",
      "Epoch 484/500\n",
      "2/2 [==============================] - 0s 2ms/step - loss: 2.8267 - mse: 2.8267\n",
      "Epoch 485/500\n",
      "2/2 [==============================] - 0s 2ms/step - loss: 2.8570 - mse: 2.8570\n",
      "Epoch 486/500\n",
      "2/2 [==============================] - 0s 1ms/step - loss: 1.4226 - mse: 1.4226\n",
      "Epoch 487/500\n",
      "2/2 [==============================] - 0s 2ms/step - loss: 1.3036 - mse: 1.3036\n",
      "Epoch 488/500\n",
      "2/2 [==============================] - 0s 2ms/step - loss: 2.1812 - mse: 2.1812\n",
      "Epoch 489/500\n",
      "2/2 [==============================] - 0s 1ms/step - loss: 2.9324 - mse: 2.9324\n",
      "Epoch 490/500\n",
      "2/2 [==============================] - 0s 2ms/step - loss: 2.5470 - mse: 2.5470\n",
      "Epoch 491/500\n",
      "2/2 [==============================] - 0s 1ms/step - loss: 3.3260 - mse: 3.3260\n",
      "Epoch 492/500\n",
      "2/2 [==============================] - 0s 1ms/step - loss: 2.5434 - mse: 2.5434\n",
      "Epoch 493/500\n",
      "2/2 [==============================] - 0s 2ms/step - loss: 1.3556 - mse: 1.3556\n",
      "Epoch 494/500\n",
      "2/2 [==============================] - 0s 1ms/step - loss: 1.2810 - mse: 1.2810\n",
      "Epoch 495/500\n",
      "2/2 [==============================] - 0s 1000us/step - loss: 1.7395 - mse: 1.7395\n",
      "Epoch 496/500\n",
      "2/2 [==============================] - 0s 2ms/step - loss: 1.2854 - mse: 1.2854\n",
      "Epoch 497/500\n",
      "2/2 [==============================] - 0s 1ms/step - loss: 1.3544 - mse: 1.3544\n",
      "Epoch 498/500\n",
      "2/2 [==============================] - 0s 2ms/step - loss: 3.2562 - mse: 3.2562\n",
      "Epoch 499/500\n",
      "2/2 [==============================] - 0s 998us/step - loss: 4.7887 - mse: 4.7887\n",
      "Epoch 500/500\n",
      "2/2 [==============================] - 0s 2ms/step - loss: 1.3877 - mse: 1.3877\n"
     ]
    },
    {
     "data": {
      "text/plain": [
       "<keras.callbacks.History at 0x28d48be86d0>"
      ]
     },
     "execution_count": 11,
     "metadata": {},
     "output_type": "execute_result"
    }
   ],
   "source": [
    "model.fit(X, y, epochs=500, verbose=1)"
   ]
  },
  {
   "cell_type": "markdown",
   "metadata": {},
   "source": [
    "##### Observe the numbers for the `weights`"
   ]
  },
  {
   "cell_type": "code",
   "execution_count": null,
   "metadata": {},
   "outputs": [],
   "source": []
  },
  {
   "cell_type": "markdown",
   "metadata": {
    "tags": []
   },
   "source": [
    "##### Predictions vs Reality"
   ]
  },
  {
   "cell_type": "markdown",
   "metadata": {},
   "source": [
    "> 1. Calculate the Predicted Accidents and\n",
    "> 2. Compare it with the Real Total Accidents"
   ]
  },
  {
   "cell_type": "code",
   "execution_count": 12,
   "metadata": {},
   "outputs": [],
   "source": [
    "y_pred = model.predict(X)"
   ]
  },
  {
   "cell_type": "code",
   "execution_count": 13,
   "metadata": {},
   "outputs": [
    {
     "data": {
      "text/html": [
       "<div>\n",
       "<style scoped>\n",
       "    .dataframe tbody tr th:only-of-type {\n",
       "        vertical-align: middle;\n",
       "    }\n",
       "\n",
       "    .dataframe tbody tr th {\n",
       "        vertical-align: top;\n",
       "    }\n",
       "\n",
       "    .dataframe thead th {\n",
       "        text-align: right;\n",
       "    }\n",
       "</style>\n",
       "<table border=\"1\" class=\"dataframe\">\n",
       "  <thead>\n",
       "    <tr style=\"text-align: right;\">\n",
       "      <th></th>\n",
       "      <th>total</th>\n",
       "      <th>pred_zeros_after_fit</th>\n",
       "    </tr>\n",
       "    <tr>\n",
       "      <th>abbrev</th>\n",
       "      <th></th>\n",
       "      <th></th>\n",
       "    </tr>\n",
       "  </thead>\n",
       "  <tbody>\n",
       "    <tr>\n",
       "      <th>AL</th>\n",
       "      <td>18.8</td>\n",
       "      <td>18.841764</td>\n",
       "    </tr>\n",
       "    <tr>\n",
       "      <th>AK</th>\n",
       "      <td>18.1</td>\n",
       "      <td>18.193848</td>\n",
       "    </tr>\n",
       "    <tr>\n",
       "      <th>AZ</th>\n",
       "      <td>18.6</td>\n",
       "      <td>18.252439</td>\n",
       "    </tr>\n",
       "    <tr>\n",
       "      <th>AR</th>\n",
       "      <td>22.4</td>\n",
       "      <td>22.013790</td>\n",
       "    </tr>\n",
       "    <tr>\n",
       "      <th>CA</th>\n",
       "      <td>12.0</td>\n",
       "      <td>13.098405</td>\n",
       "    </tr>\n",
       "  </tbody>\n",
       "</table>\n",
       "</div>"
      ],
      "text/plain": [
       "        total  pred_zeros_after_fit\n",
       "abbrev                             \n",
       "AL       18.8             18.841764\n",
       "AK       18.1             18.193848\n",
       "AZ       18.6             18.252439\n",
       "AR       22.4             22.013790\n",
       "CA       12.0             13.098405"
      ]
     },
     "execution_count": 13,
     "metadata": {},
     "output_type": "execute_result"
    }
   ],
   "source": [
    "dfsel = df[['total']].copy()\n",
    "dfsel['pred_zeros_after_fit'] = y_pred\n",
    "dfsel.head()"
   ]
  },
  {
   "cell_type": "code",
   "execution_count": 14,
   "metadata": {},
   "outputs": [
    {
     "data": {
      "text/plain": [
       "1.19102670622752"
      ]
     },
     "execution_count": 14,
     "metadata": {},
     "output_type": "execute_result"
    }
   ],
   "source": [
    "mse = ((dfsel.total - dfsel.pred_zeros_after_fit)**2).mean()\n",
    "mse"
   ]
  },
  {
   "cell_type": "markdown",
   "metadata": {},
   "source": [
    "### How to `kernel_initializer` the weights to 1?"
   ]
  },
  {
   "cell_type": "code",
   "execution_count": null,
   "metadata": {},
   "outputs": [],
   "source": []
  },
  {
   "cell_type": "code",
   "execution_count": 15,
   "metadata": {},
   "outputs": [
    {
     "data": {
      "text/html": [
       "<div>\n",
       "<style scoped>\n",
       "    .dataframe tbody tr th:only-of-type {\n",
       "        vertical-align: middle;\n",
       "    }\n",
       "\n",
       "    .dataframe tbody tr th {\n",
       "        vertical-align: top;\n",
       "    }\n",
       "\n",
       "    .dataframe thead th {\n",
       "        text-align: right;\n",
       "    }\n",
       "</style>\n",
       "<table border=\"1\" class=\"dataframe\">\n",
       "  <thead>\n",
       "    <tr style=\"text-align: right;\">\n",
       "      <th></th>\n",
       "      <th>total</th>\n",
       "      <th>pred_zeros_after_fit</th>\n",
       "      <th>pred_ones_after_fit</th>\n",
       "    </tr>\n",
       "    <tr>\n",
       "      <th>abbrev</th>\n",
       "      <th></th>\n",
       "      <th></th>\n",
       "      <th></th>\n",
       "    </tr>\n",
       "  </thead>\n",
       "  <tbody>\n",
       "    <tr>\n",
       "      <th>AL</th>\n",
       "      <td>18.8</td>\n",
       "      <td>18.841764</td>\n",
       "      <td>18.841764</td>\n",
       "    </tr>\n",
       "    <tr>\n",
       "      <th>AK</th>\n",
       "      <td>18.1</td>\n",
       "      <td>18.193848</td>\n",
       "      <td>18.193848</td>\n",
       "    </tr>\n",
       "    <tr>\n",
       "      <th>AZ</th>\n",
       "      <td>18.6</td>\n",
       "      <td>18.252439</td>\n",
       "      <td>18.252439</td>\n",
       "    </tr>\n",
       "    <tr>\n",
       "      <th>AR</th>\n",
       "      <td>22.4</td>\n",
       "      <td>22.013790</td>\n",
       "      <td>22.013790</td>\n",
       "    </tr>\n",
       "    <tr>\n",
       "      <th>CA</th>\n",
       "      <td>12.0</td>\n",
       "      <td>13.098405</td>\n",
       "      <td>13.098405</td>\n",
       "    </tr>\n",
       "  </tbody>\n",
       "</table>\n",
       "</div>"
      ],
      "text/plain": [
       "        total  pred_zeros_after_fit  pred_ones_after_fit\n",
       "abbrev                                                  \n",
       "AL       18.8             18.841764            18.841764\n",
       "AK       18.1             18.193848            18.193848\n",
       "AZ       18.6             18.252439            18.252439\n",
       "AR       22.4             22.013790            22.013790\n",
       "CA       12.0             13.098405            13.098405"
      ]
     },
     "execution_count": 15,
     "metadata": {},
     "output_type": "execute_result"
    }
   ],
   "source": [
    "dfsel['pred_ones_after_fit'] = y_pred\n",
    "dfsel.head()"
   ]
  },
  {
   "cell_type": "code",
   "execution_count": 16,
   "metadata": {},
   "outputs": [
    {
     "data": {
      "text/plain": [
       "1.19102670622752"
      ]
     },
     "execution_count": 16,
     "metadata": {},
     "output_type": "execute_result"
    }
   ],
   "source": [
    "mse = ((dfsel.total - dfsel.pred_ones_after_fit)**2).mean()\n",
    "mse"
   ]
  },
  {
   "cell_type": "markdown",
   "metadata": {},
   "source": [
    "### How to `kernel_initializer` the weights to `glorot_uniform` (default)?"
   ]
  },
  {
   "cell_type": "code",
   "execution_count": null,
   "metadata": {},
   "outputs": [],
   "source": []
  },
  {
   "cell_type": "markdown",
   "metadata": {},
   "source": [
    "## Play with the Activation Function"
   ]
  },
  {
   "cell_type": "markdown",
   "metadata": {},
   "source": [
    "> - https://keras.io/api/layers/activations/"
   ]
  },
  {
   "cell_type": "code",
   "execution_count": null,
   "metadata": {},
   "outputs": [],
   "source": [
    "%%HTML\n",
    "<iframe width=\"560\" height=\"315\" src=\"https://www.youtube.com/embed/IHZwWFHWa-w?start=558\" title=\"YouTube video player\" frameborder=\"0\" allow=\"accelerometer; autoplay; clipboard-write; encrypted-media; gyroscope; picture-in-picture\" allowfullscreen></iframe>"
   ]
  },
  {
   "cell_type": "markdown",
   "metadata": {},
   "source": [
    "### Use `sigmoid` activation in last layer"
   ]
  },
  {
   "cell_type": "code",
   "execution_count": 17,
   "metadata": {},
   "outputs": [],
   "source": [
    "model = Sequential()\n",
    "model.add(layer=Input(shape=(6,)))\n",
    "model.add(layer=Dense(units=3, kernel_initializer='glorot_uniform'))\n",
    "model.add(layer=Dense(units=1, activation='sigmoid'))"
   ]
  },
  {
   "cell_type": "code",
   "execution_count": 18,
   "metadata": {},
   "outputs": [],
   "source": [
    "model.compile(loss='mse', metrics=['mse'])"
   ]
  },
  {
   "cell_type": "markdown",
   "metadata": {},
   "source": [
    "#### `fit()` the Model"
   ]
  },
  {
   "cell_type": "code",
   "execution_count": 19,
   "metadata": {},
   "outputs": [
    {
     "data": {
      "text/plain": [
       "<keras.callbacks.History at 0x28d4a0120d0>"
      ]
     },
     "execution_count": 19,
     "metadata": {},
     "output_type": "execute_result"
    }
   ],
   "source": [
    "model.fit(X, y, epochs=500, verbose=0)"
   ]
  },
  {
   "cell_type": "markdown",
   "metadata": {},
   "source": [
    "#### Predictions vs Reality"
   ]
  },
  {
   "cell_type": "markdown",
   "metadata": {},
   "source": [
    "> 1. Calculate the Predicted Accidents and\n",
    "> 2. Compare it with the Real Total Accidents"
   ]
  },
  {
   "cell_type": "code",
   "execution_count": 20,
   "metadata": {},
   "outputs": [],
   "source": [
    "y_pred = model.predict(X)"
   ]
  },
  {
   "cell_type": "code",
   "execution_count": 21,
   "metadata": {},
   "outputs": [
    {
     "data": {
      "text/html": [
       "<div>\n",
       "<style scoped>\n",
       "    .dataframe tbody tr th:only-of-type {\n",
       "        vertical-align: middle;\n",
       "    }\n",
       "\n",
       "    .dataframe tbody tr th {\n",
       "        vertical-align: top;\n",
       "    }\n",
       "\n",
       "    .dataframe thead th {\n",
       "        text-align: right;\n",
       "    }\n",
       "</style>\n",
       "<table border=\"1\" class=\"dataframe\">\n",
       "  <thead>\n",
       "    <tr style=\"text-align: right;\">\n",
       "      <th></th>\n",
       "      <th>total</th>\n",
       "      <th>pred_zeros_after_fit</th>\n",
       "      <th>pred_ones_after_fit</th>\n",
       "      <th>pred_sigmoid</th>\n",
       "    </tr>\n",
       "    <tr>\n",
       "      <th>abbrev</th>\n",
       "      <th></th>\n",
       "      <th></th>\n",
       "      <th></th>\n",
       "      <th></th>\n",
       "    </tr>\n",
       "  </thead>\n",
       "  <tbody>\n",
       "    <tr>\n",
       "      <th>AL</th>\n",
       "      <td>18.8</td>\n",
       "      <td>18.841764</td>\n",
       "      <td>18.841764</td>\n",
       "      <td>1.0</td>\n",
       "    </tr>\n",
       "    <tr>\n",
       "      <th>AK</th>\n",
       "      <td>18.1</td>\n",
       "      <td>18.193848</td>\n",
       "      <td>18.193848</td>\n",
       "      <td>1.0</td>\n",
       "    </tr>\n",
       "    <tr>\n",
       "      <th>AZ</th>\n",
       "      <td>18.6</td>\n",
       "      <td>18.252439</td>\n",
       "      <td>18.252439</td>\n",
       "      <td>1.0</td>\n",
       "    </tr>\n",
       "    <tr>\n",
       "      <th>AR</th>\n",
       "      <td>22.4</td>\n",
       "      <td>22.013790</td>\n",
       "      <td>22.013790</td>\n",
       "      <td>1.0</td>\n",
       "    </tr>\n",
       "    <tr>\n",
       "      <th>CA</th>\n",
       "      <td>12.0</td>\n",
       "      <td>13.098405</td>\n",
       "      <td>13.098405</td>\n",
       "      <td>1.0</td>\n",
       "    </tr>\n",
       "  </tbody>\n",
       "</table>\n",
       "</div>"
      ],
      "text/plain": [
       "        total  pred_zeros_after_fit  pred_ones_after_fit  pred_sigmoid\n",
       "abbrev                                                                \n",
       "AL       18.8             18.841764            18.841764           1.0\n",
       "AK       18.1             18.193848            18.193848           1.0\n",
       "AZ       18.6             18.252439            18.252439           1.0\n",
       "AR       22.4             22.013790            22.013790           1.0\n",
       "CA       12.0             13.098405            13.098405           1.0"
      ]
     },
     "execution_count": 21,
     "metadata": {},
     "output_type": "execute_result"
    }
   ],
   "source": [
    "dfsel['pred_sigmoid'] = y_pred\n",
    "dfsel.head()"
   ]
  },
  {
   "cell_type": "code",
   "execution_count": 22,
   "metadata": {},
   "outputs": [
    {
     "data": {
      "text/plain": [
       "235.40764705882347"
      ]
     },
     "execution_count": 22,
     "metadata": {},
     "output_type": "execute_result"
    }
   ],
   "source": [
    "mse = ((dfsel.total - dfsel.pred_sigmoid)**2).mean()\n",
    "mse"
   ]
  },
  {
   "cell_type": "markdown",
   "metadata": {},
   "source": [
    "#### Observe the numbers for the `weights`\n",
    "\n",
    "> - Have they changed?"
   ]
  },
  {
   "cell_type": "code",
   "execution_count": null,
   "metadata": {},
   "outputs": [],
   "source": [
    "model.get_weights()"
   ]
  },
  {
   "cell_type": "markdown",
   "metadata": {},
   "source": [
    "### Use `linear` activation in last layer"
   ]
  },
  {
   "cell_type": "code",
   "execution_count": null,
   "metadata": {},
   "outputs": [],
   "source": []
  },
  {
   "cell_type": "markdown",
   "metadata": {},
   "source": [
    "### Use `tanh` activation in last layer"
   ]
  },
  {
   "cell_type": "code",
   "execution_count": null,
   "metadata": {},
   "outputs": [],
   "source": []
  },
  {
   "cell_type": "markdown",
   "metadata": {},
   "source": [
    "### Use `relu` activation in last layer"
   ]
  },
  {
   "cell_type": "code",
   "execution_count": null,
   "metadata": {},
   "outputs": [],
   "source": []
  },
  {
   "cell_type": "markdown",
   "metadata": {},
   "source": [
    "### How are the predictions changing? Why?"
   ]
  },
  {
   "cell_type": "code",
   "execution_count": null,
   "metadata": {},
   "outputs": [],
   "source": []
  },
  {
   "cell_type": "markdown",
   "metadata": {},
   "source": [
    "## Optimizer"
   ]
  },
  {
   "cell_type": "markdown",
   "metadata": {},
   "source": [
    "> - https://keras.io/api/optimizers/#available-optimizers"
   ]
  },
  {
   "cell_type": "markdown",
   "metadata": {},
   "source": [
    "Optimizers comparison in GIF → https://mlfromscratch.com/optimizers-explained/#adam"
   ]
  },
  {
   "cell_type": "markdown",
   "metadata": {},
   "source": [
    "Tesla's Neural Network Models is composed of 48 models trainned in 70.000 hours of GPU → https://tesla.com/ai"
   ]
  },
  {
   "cell_type": "markdown",
   "metadata": {},
   "source": [
    "1 Year with a 8 GPU Computer → https://twitter.com/thirdrowtesla/status/1252723358342377472"
   ]
  },
  {
   "cell_type": "markdown",
   "metadata": {},
   "source": [
    "### Use Gradient Descent `SGD`"
   ]
  },
  {
   "cell_type": "code",
   "execution_count": null,
   "metadata": {},
   "outputs": [],
   "source": [
    "model = Sequential()\n",
    "model.add(layer=Input(shape=(6,)))\n",
    "model.add(layer=Dense(units=3, kernel_initializer='glorot_uniform'))\n",
    "model.add(layer=Dense(units=1, activation='sigmoid'))"
   ]
  },
  {
   "cell_type": "markdown",
   "metadata": {},
   "source": [
    "#### `compile()` the model"
   ]
  },
  {
   "cell_type": "code",
   "execution_count": null,
   "metadata": {},
   "outputs": [],
   "source": [
    "model.compile(optimizer='sgd', loss='mse', metrics=['mse'])"
   ]
  },
  {
   "cell_type": "markdown",
   "metadata": {},
   "source": [
    "#### `fit()` the Model"
   ]
  },
  {
   "cell_type": "code",
   "execution_count": null,
   "metadata": {},
   "outputs": [],
   "source": [
    "history = model.fit(X, y, epochs=500, verbose=0)"
   ]
  },
  {
   "cell_type": "markdown",
   "metadata": {},
   "source": [
    "#### Predictions vs Reality"
   ]
  },
  {
   "cell_type": "markdown",
   "metadata": {},
   "source": [
    "> 1. Calculate the Predicted Accidents and\n",
    "> 2. Compare it with the Real Total Accidents"
   ]
  },
  {
   "cell_type": "code",
   "execution_count": null,
   "metadata": {},
   "outputs": [],
   "source": [
    "y_pred = model.predict(X)"
   ]
  },
  {
   "cell_type": "code",
   "execution_count": null,
   "metadata": {},
   "outputs": [],
   "source": [
    "dfsel['pred_gsd'] = y_pred\n",
    "dfsel.head()"
   ]
  },
  {
   "cell_type": "code",
   "execution_count": null,
   "metadata": {},
   "outputs": [],
   "source": [
    "mse = ((dfsel.total - dfsel.pred_sgd)**2).mean()\n",
    "mse"
   ]
  },
  {
   "cell_type": "markdown",
   "metadata": {},
   "source": [
    "#### Observe the numbers for the `weights`\n",
    "\n",
    "> - Have they changed?"
   ]
  },
  {
   "cell_type": "code",
   "execution_count": null,
   "metadata": {},
   "outputs": [],
   "source": [
    "model.get_weights()"
   ]
  },
  {
   "cell_type": "markdown",
   "metadata": {},
   "source": [
    "\n",
    "#### View History"
   ]
  },
  {
   "cell_type": "code",
   "execution_count": null,
   "metadata": {},
   "outputs": [],
   "source": [
    "import matplotlib.pyplot as plt"
   ]
  },
  {
   "cell_type": "code",
   "execution_count": null,
   "metadata": {},
   "outputs": [],
   "source": [
    "plt.plot(history.history['loss'])\n",
    "plt.plot(history.history['val_loss'])\n",
    "plt.title('model loss')\n",
    "plt.ylabel('loss')\n",
    "plt.xlabel('epoch')\n",
    "plt.legend(['train', 'val'], loc='upper left')\n",
    "plt.show()"
   ]
  },
  {
   "cell_type": "markdown",
   "metadata": {},
   "source": [
    "### Use `ADAM`"
   ]
  },
  {
   "cell_type": "code",
   "execution_count": null,
   "metadata": {},
   "outputs": [],
   "source": []
  },
  {
   "cell_type": "markdown",
   "metadata": {},
   "source": [
    "### Use `RMSPROP`"
   ]
  },
  {
   "cell_type": "code",
   "execution_count": null,
   "metadata": {},
   "outputs": [],
   "source": []
  },
  {
   "cell_type": "markdown",
   "metadata": {},
   "source": [
    "### Does it take different times to get the best accuracy? Why?"
   ]
  },
  {
   "cell_type": "code",
   "execution_count": null,
   "metadata": {},
   "outputs": [],
   "source": []
  },
  {
   "cell_type": "markdown",
   "metadata": {},
   "source": [
    "## Loss Functions"
   ]
  },
  {
   "cell_type": "markdown",
   "metadata": {},
   "source": [
    "> - https://keras.io/api/losses/"
   ]
  },
  {
   "cell_type": "markdown",
   "metadata": {},
   "source": [
    "### `binary_crossentropy`"
   ]
  },
  {
   "cell_type": "code",
   "execution_count": null,
   "metadata": {},
   "outputs": [],
   "source": []
  },
  {
   "cell_type": "markdown",
   "metadata": {},
   "source": [
    "### `sparse_categorical_crossentropy`"
   ]
  },
  {
   "cell_type": "code",
   "execution_count": null,
   "metadata": {},
   "outputs": [],
   "source": []
  },
  {
   "cell_type": "markdown",
   "metadata": {},
   "source": [
    "### `mean_absolute_error`"
   ]
  },
  {
   "cell_type": "code",
   "execution_count": null,
   "metadata": {},
   "outputs": [],
   "source": []
  },
  {
   "cell_type": "markdown",
   "metadata": {},
   "source": [
    "### `mean_squared_error`"
   ]
  },
  {
   "cell_type": "code",
   "execution_count": null,
   "metadata": {},
   "outputs": [],
   "source": []
  },
  {
   "cell_type": "markdown",
   "metadata": {},
   "source": [
    "## In the end, what should be a feasible configuration of the Neural Network for this data?"
   ]
  },
  {
   "cell_type": "code",
   "execution_count": null,
   "metadata": {},
   "outputs": [],
   "source": []
  },
  {
   "cell_type": "markdown",
   "metadata": {},
   "source": [
    "# Common Errors"
   ]
  },
  {
   "cell_type": "markdown",
   "metadata": {},
   "source": [
    "## The `kernel_initializer` Matters"
   ]
  },
  {
   "cell_type": "code",
   "execution_count": null,
   "metadata": {},
   "outputs": [],
   "source": []
  },
  {
   "cell_type": "markdown",
   "metadata": {},
   "source": [
    "## The `activation` Function Matters"
   ]
  },
  {
   "cell_type": "code",
   "execution_count": null,
   "metadata": {},
   "outputs": [],
   "source": []
  },
  {
   "cell_type": "markdown",
   "metadata": {},
   "source": [
    "## The `optimizer` Matters"
   ]
  },
  {
   "cell_type": "code",
   "execution_count": null,
   "metadata": {},
   "outputs": [],
   "source": []
  },
  {
   "cell_type": "markdown",
   "metadata": {},
   "source": [
    "## The Number of `epochs` Matters"
   ]
  },
  {
   "cell_type": "code",
   "execution_count": null,
   "metadata": {},
   "outputs": [],
   "source": []
  },
  {
   "cell_type": "markdown",
   "metadata": {},
   "source": [
    "## The `loss` Function Matters"
   ]
  },
  {
   "cell_type": "code",
   "execution_count": null,
   "metadata": {},
   "outputs": [],
   "source": []
  },
  {
   "cell_type": "markdown",
   "metadata": {},
   "source": [
    "## The Number of `epochs` Matters"
   ]
  },
  {
   "cell_type": "code",
   "execution_count": null,
   "metadata": {},
   "outputs": [],
   "source": []
  },
  {
   "cell_type": "markdown",
   "metadata": {},
   "source": [
    "# Neural Network's importance to find **Non-Linear Patterns** in the Data\n",
    "\n",
    "> - The number of Neurons & Hidden Layers"
   ]
  },
  {
   "cell_type": "markdown",
   "metadata": {},
   "source": [
    "https://towardsdatascience.com/beginners-ask-how-many-hidden-layers-neurons-to-use-in-artificial-neural-networks-51466afa0d3e"
   ]
  },
  {
   "cell_type": "markdown",
   "metadata": {},
   "source": [
    "https://playground.tensorflow.org/#activation=tanh&batchSize=10&dataset=circle&regDataset=reg-plane&learningRate=0.03&regularizationRate=0&noise=0&networkShape=4,2&seed=0.87287&showTestData=false&discretize=false&percTrainData=50&x=true&y=true&xTimesY=false&xSquared=false&ySquared=false&cosX=false&sinX=false&cosY=false&sinY=false&collectStats=false&problem=classification&initZero=false&hideText=false"
   ]
  },
  {
   "cell_type": "code",
   "execution_count": null,
   "metadata": {},
   "outputs": [],
   "source": []
  },
  {
   "cell_type": "markdown",
   "metadata": {},
   "source": [
    "## Summary\n",
    "\n",
    "- Mathematical Formula\n",
    "- Weights / Kernel Initializer\n",
    "- Loss Function\n",
    "- Activation Function\n",
    "- Optimizers"
   ]
  },
  {
   "cell_type": "markdown",
   "metadata": {},
   "source": [
    "## What cannot you change arbitrarily of a Neural Network?\n",
    "\n",
    "- Input Neurons\n",
    "- Output Neurons\n",
    "- Loss Functions\n",
    "- Activation Functions"
   ]
  }
 ],
 "metadata": {
  "authors": [
   {
    "name": "Jesús López @sotastica"
   }
  ],
  "interpreter": {
   "hash": "a2b8701b642343483c5f5e717bcb0768c6b951acf38d76a6fc8ea01492bda71d"
  },
  "kernelspec": {
   "display_name": "Python 3 (ipykernel)",
   "language": "python",
   "name": "python3"
  },
  "language_info": {
   "codemirror_mode": {
    "name": "ipython",
    "version": 3
   },
   "file_extension": ".py",
   "mimetype": "text/x-python",
   "name": "python",
   "nbconvert_exporter": "python",
   "pygments_lexer": "ipython3",
   "version": "3.9.7"
  },
  "toc-autonumbering": true
 },
 "nbformat": 4,
 "nbformat_minor": 4
}
